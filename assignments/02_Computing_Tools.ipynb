{
 "cells": [
  {
   "cell_type": "markdown",
   "metadata": {},
   "source": [
    "# Assignment 1"
   ]
  },
  {
   "cell_type": "markdown",
   "metadata": {},
   "source": [
    "<img src=\"figures/buffon.png\" alt=\"Tossing Needles\" width=\"600\" align=\"middle\">\n",
    "\n",
    "Buffon's Needle Problem was first proposed by Georges Buffon in 1737. By randomly throwing needles onto a hard floor marked with equally spaced lines, Buffon was able to derive a mathematial expression which could be used to calculate the value of pi. Specifically, the probability that a needle of length equal to the width of parallel boards overlaps with a board edge is $\\frac{2}{\\pi}$. \n",
    "\n",
    "One can estimate pi by dropping a large number of pins and using the ratio of overlaps to non-overlaps to estimate pi.\n",
    "The accuracy of this experimental value of pi increases with an increasing number of random throws. \n",
    "See [Wikipedia](https://en.wikipedia.org/wiki/Buffon%27s_needle) for a detailed problem description and background."
   ]
  },
  {
   "cell_type": "markdown",
   "metadata": {},
   "source": [
    "# Buffon's Needles Problem"
   ]
  },
  {
   "cell_type": "markdown",
   "metadata": {},
   "source": [
    "Your task is to develop an algorithm that estimates pi based on the above description, and write a program to implement this  algorithm.\n",
    "\n",
    "1.\tYour algorithm must be implemented from scratch in Julia.\n",
    "2.\tYour function should have the following signature: `buffon(n::Int)`.\n",
    "3.  Your function should return $\\hat{\\pi}$, your estimate for pi.\n",
    "4.  Plot how your algorithm converges as the sample count is increased using [Plots.jl](https://github.com/tbreloff/Plots.jl)\n",
    "5.\tAlthough you may discuss your algorithm with others, you must not share code."
   ]
  },
  {
   "cell_type": "markdown",
   "metadata": {},
   "source": [
    "## Milestone One: Implementing buffon(n::Int)"
   ]
  },
  {
   "cell_type": "markdown",
   "metadata": {},
   "source": [
    "Our goal is to implement a function, buffon(n::Int). Buffon(n::Int) takes in an integer parameter, n as the number of trials run, returning an estimate for pi based on the number of trials. We can divide the implementation of the function buffon(n::Int) into three parts: \n",
    "1. Throwing a needle\n",
    "2. Checking whether the needle overlaps with a floorboard line\n",
    "3. Use your result to estimate ${\\pi}$"
   ]
  },
  {
   "cell_type": "markdown",
   "metadata": {},
   "source": [
    "### Part 1: Throwing a Needle"
   ]
  },
  {
   "cell_type": "markdown",
   "metadata": {},
   "source": [
    "To throw a needle, we can keep track of where it lands and how it lands. To do so, choose random x and y to specify the location of the needle and an angle theta to specify in what orientation the needle lies once it lands. Since we are simulating throws, choose random values for x, y, and $\\theta$. Remember that the number of needles that you throw depends on the integer value that you pass in. You can use the `rand()` function to select a random number within a given range."
   ]
  },
  {
   "cell_type": "code",
   "execution_count": 1,
   "metadata": {},
   "outputs": [
    {
     "data": {
      "text/plain": [
       "0"
      ]
     },
     "execution_count": 1,
     "metadata": {},
     "output_type": "execute_result"
    }
   ],
   "source": [
    "#Example\n",
    "rand(0:10) "
   ]
  },
  {
   "cell_type": "markdown",
   "metadata": {},
   "source": [
    "Implement this function:"
   ]
  },
  {
   "cell_type": "code",
   "execution_count": 2,
   "metadata": {},
   "outputs": [
    {
     "data": {
      "text/plain": [
       "throw_needle (generic function with 1 method)"
      ]
     },
     "execution_count": 2,
     "metadata": {},
     "output_type": "execute_result"
    }
   ],
   "source": [
    "function throw_needle()\n",
    "    # Returns the x and θ value for a randomly thrown needle onto a board with w = l = 1\n",
    "    # It is up to you to decide on the domain for x and θ that you would like to use\n",
    "    \n",
    "    # STUDENT CODE START\n",
    "    # STUDENT CODE END\n",
    "    \n",
    "    return (x,θ) # returns values\n",
    "end"
   ]
  },
  {
   "cell_type": "markdown",
   "metadata": {},
   "source": [
    "### Part 2: Determine Overlap"
   ]
  },
  {
   "cell_type": "markdown",
   "metadata": {},
   "source": [
    "After you have implemented a means of throwing a needle, you will need to decide whether or not it overlaps with a board edge. Think about how you will want to define your floor, remembering that the width of each board on the floor is the same as the length of the needle. You will want to make use of conditionals such as if statements. (Think about which condition you really need to check within the if statement)"
   ]
  },
  {
   "cell_type": "code",
   "execution_count": 3,
   "metadata": {},
   "outputs": [
    {
     "name": "stdout",
     "output_type": "stream",
     "text": [
      "x is less than y\n"
     ]
    }
   ],
   "source": [
    "#Example:\n",
    "\n",
    "x=2\n",
    "y=5\n",
    "\n",
    "if x < y\n",
    "    println(\"x is less than y\")\n",
    "end\n",
    "\n",
    "#Also useful:\n",
    "if x < 2 || x > 5 \n",
    "    println(\"x is less than two or x is greater than five\")\n",
    "end\n",
    "    \n",
    "if x > 2 && x < 4\n",
    "    println(\"x is between two and four\")\n",
    "end\n",
    "        "
   ]
  },
  {
   "cell_type": "markdown",
   "metadata": {},
   "source": [
    "Implement this function:"
   ]
  },
  {
   "cell_type": "code",
   "execution_count": 4,
   "metadata": {},
   "outputs": [
    {
     "data": {
      "text/plain": [
       "needle_overlaps (generic function with 1 method)"
      ]
     },
     "execution_count": 4,
     "metadata": {},
     "output_type": "execute_result"
    }
   ],
   "source": [
    "function needle_overlaps(x::Float64, θ::Float64)\n",
    "    # check if the needle overlaps with a board edge and return true if so and false if not\n",
    "    # STUDENT CODE START \n",
    "    # STUDENT CODE END\n",
    "end"
   ]
  },
  {
   "cell_type": "markdown",
   "metadata": {},
   "source": [
    "### Part 3: Estimating for pi"
   ]
  },
  {
   "cell_type": "markdown",
   "metadata": {},
   "source": [
    "Recount that Buffon's Needles Problem tells us that the ratio of overlaps to nonoverlaps is $\\frac{2}{\\pi}$. Now that you are able to run the specified number of trials, you have an estimate for $\\frac{2}{\\pi}$ and with some algebra we can then get an estimate for ${\\pi}$."
   ]
  },
  {
   "cell_type": "markdown",
   "metadata": {},
   "source": [
    "### Starter Code: "
   ]
  },
  {
   "cell_type": "code",
   "execution_count": 5,
   "metadata": {},
   "outputs": [
    {
     "data": {
      "text/plain": [
       "buffon_calc (generic function with 1 method)"
      ]
     },
     "execution_count": 5,
     "metadata": {},
     "output_type": "execute_result"
    }
   ],
   "source": [
    "function buffon_calc(n::Int)\n",
    "    # Estimate pi using n thrown needles\n",
    "    \n",
    "    # STUDENT CODE START\n",
    "    # STUDENT CODE END\n",
    "    \n",
    "    return piapprox # returns your calculated estimate for pi\n",
    "end"
   ]
  },
  {
   "cell_type": "markdown",
   "metadata": {},
   "source": [
    "Your code should produce a value close to $\\pi$."
   ]
  },
  {
   "cell_type": "code",
   "execution_count": 6,
   "metadata": {},
   "outputs": [
    {
     "data": {
      "text/plain": [
       "3.1501023783272957"
      ]
     },
     "execution_count": 6,
     "metadata": {},
     "output_type": "execute_result"
    }
   ],
   "source": [
    "buffon_calc(20000) #test"
   ]
  },
  {
   "cell_type": "markdown",
   "metadata": {},
   "source": [
    "### Things to think about/remember:"
   ]
  },
  {
   "cell_type": "markdown",
   "metadata": {},
   "source": [
    "- How can you define a floor marked with equally spaced lines?\n",
    "- Which coordinate ultimately decides if the needle overlaps?\n",
    "- How will you check if a needle overlaps or not?\n",
    "- The width of each panel is the same as the length of each needle\n"
   ]
  },
  {
   "cell_type": "markdown",
   "metadata": {},
   "source": [
    "## Milestone Two: Create a convergence plot"
   ]
  },
  {
   "cell_type": "markdown",
   "metadata": {},
   "source": [
    "Now that you have the algorithm for estimating pi with the help of Buffon’s Needles Problem, we will use it to create a convergence plot for our data. The x-axis of the plot will be the number of samples and we will generate 15 different sample sizes using log space from 1 to 10000 samples, which is given by: \n",
    "\n",
    "                    nsamples = round.(Int, collect(exp10.(range(1, stop=5, length=15))))\n",
    "                    \n",
    "The y-axis will be the estimated value of pi we get from various sample sizes. \n",
    " \n",
    "We will then plot the mean estimate for pi for each of 100 trials of the 15 different sample sizes. Also be sure to include error bars with 1-standard deviation. "
   ]
  },
  {
   "cell_type": "markdown",
   "metadata": {},
   "source": [
    "### Run Trials, Calculate mean, and Find Standard Deviation "
   ]
  },
  {
   "cell_type": "markdown",
   "metadata": {},
   "source": [
    "First, we need to run the 100 trials for each of the 15 sample sizes. We want to store the results in some data structure -- a useful data structure might be an array. This all depends on how you would want to calculate the mean estimate for ${\\pi}$ for each of the 15 sample sizes. \n",
    "\n",
    "Now that you have your data stored in some structure, you will need to calculate the mean estimate for the mean estimate for ${\\pi}$ for each of the 15 sample sizes. There are many ways to do this depending on how you initialized your structure. \n",
    "\n",
    "**Useful functions:**\n",
    "mean (pass in an array of values)\n",
    "\n",
    "Finally, you will need to find the error. You could use the std function in Julia to find the standard deviation, ${\\sigma}$ for each of the 15 sample sizes. You would then need to divide by the square root of the sample size to calculate error. So for each sample size you would need to calculate $\\frac{\\sigma}{n}$, where ${\\sigma}$ is the standard devation for that sample and n is the size of that sample.\n",
    "\n",
    "**Useful functions:**\n",
    "std (pass in an array of values)"
   ]
  },
  {
   "cell_type": "code",
   "execution_count": 7,
   "metadata": {},
   "outputs": [
    {
     "data": {
      "text/plain": [
       "run_trials (generic function with 1 method)"
      ]
     },
     "execution_count": 7,
     "metadata": {},
     "output_type": "execute_result"
    }
   ],
   "source": [
    "function run_trials()\n",
    "    \n",
    "    # implement so that you run 100 trials for each of the 15 sample sizes\n",
    "    nsamples = round.(Int, collect(exp10.(range(1, stop=5, length=15))))\n",
    "    \n",
    "    # STUDENT CODE START\n",
    "    # STUDENT CODE END\n",
    "    \n",
    "    return mean_y, stdev_y # return the trials for each of the 15 sample sizes \n",
    "end"
   ]
  },
  {
   "cell_type": "markdown",
   "metadata": {},
   "source": [
    "### Optional"
   ]
  },
  {
   "cell_type": "markdown",
   "metadata": {},
   "source": [
    "For those of you who would like a bit more of a challenge, you can try to implement Jackknife. We have provided a description below:"
   ]
  },
  {
   "cell_type": "markdown",
   "metadata": {},
   "source": [
    "While calculating error by using the above method may be simpler, a more interesting and rigorous method is the [jackknife](https://en.wikipedia.org/wiki/Jackknife_resampling).\n",
    "\n",
    "To calculate the standard deviation, you can use the std function given by Julia for each set of estimates from the 15 different sample sizes. Another method would be to use jackknife. To implement the jackknife, say we have a sample of X1 . . . Xn. We generate n samples of size \n",
    "n - 1 by leaving out one observation at a time. For example we would have the sample X2…Xn, leaving out X1 and then the sample X1, X3…Xn, leaving out X2 and continue to remove one element at a time. \n",
    " \n",
    "We can then use the variance estimation: ${Var}_{jackknife}=\\frac{n-1}{n}\\sum_{i=1}^{n}\\left( \\bar{x_{i}}-\\bar{x_{.}}\\right )$ where $\\bar{x_{.}}=\\frac{1}{n}\\sum_{i=1}^{n}\\bar{x_{i}}$ is the estimator based on all of the subsamples.\n",
    "\n",
    "You would then square root the variance calculated and get the estimate for the standard deviation"
   ]
  },
  {
   "cell_type": "markdown",
   "metadata": {},
   "source": [
    "### Starter Code:"
   ]
  },
  {
   "cell_type": "code",
   "execution_count": 8,
   "metadata": {},
   "outputs": [
    {
     "data": {
      "text/plain": [
       "Plots.GRBackend()"
      ]
     },
     "execution_count": 8,
     "metadata": {},
     "output_type": "execute_result"
    }
   ],
   "source": [
    "using Pkg, Statistics\n",
    "using Plots; gr()"
   ]
  },
  {
   "cell_type": "code",
   "execution_count": 9,
   "metadata": {
    "scrolled": true
   },
   "outputs": [
    {
     "data": {
      "image/svg+xml": [
       "<?xml version=\"1.0\" encoding=\"utf-8\"?>\n",
       "<svg xmlns=\"http://www.w3.org/2000/svg\" xmlns:xlink=\"http://www.w3.org/1999/xlink\" width=\"600\" height=\"400\" viewBox=\"0 0 2400 1600\">\n",
       "<defs>\n",
       "  <clipPath id=\"clip2000\">\n",
       "    <rect x=\"0\" y=\"0\" width=\"2000\" height=\"2000\"/>\n",
       "  </clipPath>\n",
       "</defs>\n",
       "<defs>\n",
       "  <clipPath id=\"clip2001\">\n",
       "    <rect x=\"0\" y=\"0\" width=\"2400\" height=\"1600\"/>\n",
       "  </clipPath>\n",
       "</defs>\n",
       "<polygon clip-path=\"url(#clip2001)\" points=\"\n",
       "0,1600 2400,1600 2400,0 0,0 \n",
       "  \" fill=\"#ffffff\" fill-rule=\"evenodd\" fill-opacity=\"1\"/>\n",
       "<defs>\n",
       "  <clipPath id=\"clip2002\">\n",
       "    <rect x=\"480\" y=\"0\" width=\"1681\" height=\"1600\"/>\n",
       "  </clipPath>\n",
       "</defs>\n",
       "<polygon clip-path=\"url(#clip2001)\" points=\"\n",
       "184.243,1440.48 2321.26,1440.48 2321.26,47.2441 184.243,47.2441 \n",
       "  \" fill=\"#ffffff\" fill-rule=\"evenodd\" fill-opacity=\"1\"/>\n",
       "<defs>\n",
       "  <clipPath id=\"clip2003\">\n",
       "    <rect x=\"184\" y=\"47\" width=\"2138\" height=\"1394\"/>\n",
       "  </clipPath>\n",
       "</defs>\n",
       "<polyline clip-path=\"url(#clip2003)\" style=\"stroke:#000000; stroke-width:2; stroke-opacity:0.1; fill:none\" points=\"\n",
       "  244.724,1440.48 244.724,47.2441 \n",
       "  \"/>\n",
       "<polyline clip-path=\"url(#clip2003)\" style=\"stroke:#000000; stroke-width:2; stroke-opacity:0.1; fill:none\" points=\"\n",
       "  748.738,1440.48 748.738,47.2441 \n",
       "  \"/>\n",
       "<polyline clip-path=\"url(#clip2003)\" style=\"stroke:#000000; stroke-width:2; stroke-opacity:0.1; fill:none\" points=\"\n",
       "  1252.75,1440.48 1252.75,47.2441 \n",
       "  \"/>\n",
       "<polyline clip-path=\"url(#clip2003)\" style=\"stroke:#000000; stroke-width:2; stroke-opacity:0.1; fill:none\" points=\"\n",
       "  1756.76,1440.48 1756.76,47.2441 \n",
       "  \"/>\n",
       "<polyline clip-path=\"url(#clip2003)\" style=\"stroke:#000000; stroke-width:2; stroke-opacity:0.1; fill:none\" points=\"\n",
       "  2260.78,1440.48 2260.78,47.2441 \n",
       "  \"/>\n",
       "<polyline clip-path=\"url(#clip2003)\" style=\"stroke:#000000; stroke-width:2; stroke-opacity:0.1; fill:none\" points=\"\n",
       "  184.243,1250.91 2321.26,1250.91 \n",
       "  \"/>\n",
       "<polyline clip-path=\"url(#clip2003)\" style=\"stroke:#000000; stroke-width:2; stroke-opacity:0.1; fill:none\" points=\"\n",
       "  184.243,907.998 2321.26,907.998 \n",
       "  \"/>\n",
       "<polyline clip-path=\"url(#clip2003)\" style=\"stroke:#000000; stroke-width:2; stroke-opacity:0.1; fill:none\" points=\"\n",
       "  184.243,565.087 2321.26,565.087 \n",
       "  \"/>\n",
       "<polyline clip-path=\"url(#clip2003)\" style=\"stroke:#000000; stroke-width:2; stroke-opacity:0.1; fill:none\" points=\"\n",
       "  184.243,222.177 2321.26,222.177 \n",
       "  \"/>\n",
       "<polyline clip-path=\"url(#clip2001)\" style=\"stroke:#000000; stroke-width:4; stroke-opacity:1; fill:none\" points=\"\n",
       "  184.243,1440.48 2321.26,1440.48 \n",
       "  \"/>\n",
       "<polyline clip-path=\"url(#clip2001)\" style=\"stroke:#000000; stroke-width:4; stroke-opacity:1; fill:none\" points=\"\n",
       "  184.243,1440.48 184.243,47.2441 \n",
       "  \"/>\n",
       "<polyline clip-path=\"url(#clip2001)\" style=\"stroke:#000000; stroke-width:4; stroke-opacity:1; fill:none\" points=\"\n",
       "  244.724,1440.48 244.724,1419.58 \n",
       "  \"/>\n",
       "<polyline clip-path=\"url(#clip2001)\" style=\"stroke:#000000; stroke-width:4; stroke-opacity:1; fill:none\" points=\"\n",
       "  748.738,1440.48 748.738,1419.58 \n",
       "  \"/>\n",
       "<polyline clip-path=\"url(#clip2001)\" style=\"stroke:#000000; stroke-width:4; stroke-opacity:1; fill:none\" points=\"\n",
       "  1252.75,1440.48 1252.75,1419.58 \n",
       "  \"/>\n",
       "<polyline clip-path=\"url(#clip2001)\" style=\"stroke:#000000; stroke-width:4; stroke-opacity:1; fill:none\" points=\"\n",
       "  1756.76,1440.48 1756.76,1419.58 \n",
       "  \"/>\n",
       "<polyline clip-path=\"url(#clip2001)\" style=\"stroke:#000000; stroke-width:4; stroke-opacity:1; fill:none\" points=\"\n",
       "  2260.78,1440.48 2260.78,1419.58 \n",
       "  \"/>\n",
       "<polyline clip-path=\"url(#clip2001)\" style=\"stroke:#000000; stroke-width:4; stroke-opacity:1; fill:none\" points=\"\n",
       "  184.243,1250.91 216.298,1250.91 \n",
       "  \"/>\n",
       "<polyline clip-path=\"url(#clip2001)\" style=\"stroke:#000000; stroke-width:4; stroke-opacity:1; fill:none\" points=\"\n",
       "  184.243,907.998 216.298,907.998 \n",
       "  \"/>\n",
       "<polyline clip-path=\"url(#clip2001)\" style=\"stroke:#000000; stroke-width:4; stroke-opacity:1; fill:none\" points=\"\n",
       "  184.243,565.087 216.298,565.087 \n",
       "  \"/>\n",
       "<polyline clip-path=\"url(#clip2001)\" style=\"stroke:#000000; stroke-width:4; stroke-opacity:1; fill:none\" points=\"\n",
       "  184.243,222.177 216.298,222.177 \n",
       "  \"/>\n",
       "<g clip-path=\"url(#clip2001)\">\n",
       "<text style=\"fill:#000000; fill-opacity:1; font-family:Arial,Helvetica Neue,Helvetica,sans-serif; font-size:48px; text-anchor:start;\" transform=\"rotate(0, 201.654, 1515.49)\" x=\"201.654\" y=\"1515.49\">10</text>\n",
       "</g>\n",
       "<g clip-path=\"url(#clip2001)\">\n",
       "<text style=\"fill:#000000; fill-opacity:1; font-family:Arial,Helvetica Neue,Helvetica,sans-serif; font-size:38px; text-anchor:start;\" transform=\"rotate(0, 255.178, 1488.08)\" x=\"255.178\" y=\"1488.08\">1 </text>\n",
       "</g>\n",
       "<g clip-path=\"url(#clip2001)\">\n",
       "<text style=\"fill:#000000; fill-opacity:1; font-family:Arial,Helvetica Neue,Helvetica,sans-serif; font-size:48px; text-anchor:start;\" transform=\"rotate(0, 705.667, 1515.49)\" x=\"705.667\" y=\"1515.49\">10</text>\n",
       "</g>\n",
       "<g clip-path=\"url(#clip2001)\">\n",
       "<text style=\"fill:#000000; fill-opacity:1; font-family:Arial,Helvetica Neue,Helvetica,sans-serif; font-size:38px; text-anchor:start;\" transform=\"rotate(0, 759.192, 1488.08)\" x=\"759.192\" y=\"1488.08\">2 </text>\n",
       "</g>\n",
       "<g clip-path=\"url(#clip2001)\">\n",
       "<text style=\"fill:#000000; fill-opacity:1; font-family:Arial,Helvetica Neue,Helvetica,sans-serif; font-size:48px; text-anchor:start;\" transform=\"rotate(0, 1209.68, 1515.49)\" x=\"1209.68\" y=\"1515.49\">10</text>\n",
       "</g>\n",
       "<g clip-path=\"url(#clip2001)\">\n",
       "<text style=\"fill:#000000; fill-opacity:1; font-family:Arial,Helvetica Neue,Helvetica,sans-serif; font-size:38px; text-anchor:start;\" transform=\"rotate(0, 1263.21, 1488.08)\" x=\"1263.21\" y=\"1488.08\">3 </text>\n",
       "</g>\n",
       "<g clip-path=\"url(#clip2001)\">\n",
       "<text style=\"fill:#000000; fill-opacity:1; font-family:Arial,Helvetica Neue,Helvetica,sans-serif; font-size:48px; text-anchor:start;\" transform=\"rotate(0, 1713.69, 1515.49)\" x=\"1713.69\" y=\"1515.49\">10</text>\n",
       "</g>\n",
       "<g clip-path=\"url(#clip2001)\">\n",
       "<text style=\"fill:#000000; fill-opacity:1; font-family:Arial,Helvetica Neue,Helvetica,sans-serif; font-size:38px; text-anchor:start;\" transform=\"rotate(0, 1767.22, 1488.08)\" x=\"1767.22\" y=\"1488.08\">4 </text>\n",
       "</g>\n",
       "<g clip-path=\"url(#clip2001)\">\n",
       "<text style=\"fill:#000000; fill-opacity:1; font-family:Arial,Helvetica Neue,Helvetica,sans-serif; font-size:48px; text-anchor:start;\" transform=\"rotate(0, 2217.71, 1515.49)\" x=\"2217.71\" y=\"1515.49\">10</text>\n",
       "</g>\n",
       "<g clip-path=\"url(#clip2001)\">\n",
       "<text style=\"fill:#000000; fill-opacity:1; font-family:Arial,Helvetica Neue,Helvetica,sans-serif; font-size:38px; text-anchor:start;\" transform=\"rotate(0, 2271.23, 1488.08)\" x=\"2271.23\" y=\"1488.08\">5 </text>\n",
       "</g>\n",
       "<g clip-path=\"url(#clip2001)\">\n",
       "<text style=\"fill:#000000; fill-opacity:1; font-family:Arial,Helvetica Neue,Helvetica,sans-serif; font-size:48px; text-anchor:end;\" transform=\"rotate(0, 160.243, 1268.41)\" x=\"160.243\" y=\"1268.41\">2</text>\n",
       "</g>\n",
       "<g clip-path=\"url(#clip2001)\">\n",
       "<text style=\"fill:#000000; fill-opacity:1; font-family:Arial,Helvetica Neue,Helvetica,sans-serif; font-size:48px; text-anchor:end;\" transform=\"rotate(0, 160.243, 925.498)\" x=\"160.243\" y=\"925.498\">3</text>\n",
       "</g>\n",
       "<g clip-path=\"url(#clip2001)\">\n",
       "<text style=\"fill:#000000; fill-opacity:1; font-family:Arial,Helvetica Neue,Helvetica,sans-serif; font-size:48px; text-anchor:end;\" transform=\"rotate(0, 160.243, 582.587)\" x=\"160.243\" y=\"582.587\">4</text>\n",
       "</g>\n",
       "<g clip-path=\"url(#clip2001)\">\n",
       "<text style=\"fill:#000000; fill-opacity:1; font-family:Arial,Helvetica Neue,Helvetica,sans-serif; font-size:48px; text-anchor:end;\" transform=\"rotate(0, 160.243, 239.677)\" x=\"160.243\" y=\"239.677\">5</text>\n",
       "</g>\n",
       "<g clip-path=\"url(#clip2001)\">\n",
       "<text style=\"fill:#000000; fill-opacity:1; font-family:Arial,Helvetica Neue,Helvetica,sans-serif; font-size:66px; text-anchor:middle;\" transform=\"rotate(0, 1252.75, 1590.4)\" x=\"1252.75\" y=\"1590.4\">number of samples</text>\n",
       "</g>\n",
       "<g clip-path=\"url(#clip2001)\">\n",
       "<text style=\"fill:#000000; fill-opacity:1; font-family:Arial,Helvetica Neue,Helvetica,sans-serif; font-size:66px; text-anchor:middle;\" transform=\"rotate(-90, 57.6, 743.863)\" x=\"57.6\" y=\"743.863\">estimate of pi</text>\n",
       "</g>\n",
       "<polyline clip-path=\"url(#clip2003)\" style=\"stroke:#009af9; stroke-width:4; stroke-opacity:1; fill:none\" points=\"\n",
       "  244.724,743.863 385.22,821.458 531.106,841.971 676.831,845.445 820.819,849.425 964.523,856.951 1108.77,851.576 1252.75,857.028 1396.79,861.625 1540.78,859.384 \n",
       "  1684.77,858.999 1828.77,859.295 1972.77,859.344 2116.78,859.878 2260.78,859.265 \n",
       "  \"/>\n",
       "<polyline clip-path=\"url(#clip2003)\" style=\"stroke:#009af9; stroke-width:4; stroke-opacity:1; fill:none\" points=\"\n",
       "  244.724,1401.05 244.724,86.6754 \n",
       "  \"/>\n",
       "<polyline clip-path=\"url(#clip2003)\" style=\"stroke:#009af9; stroke-width:4; stroke-opacity:1; fill:none\" points=\"\n",
       "  385.22,1068.01 385.22,574.907 \n",
       "  \"/>\n",
       "<polyline clip-path=\"url(#clip2003)\" style=\"stroke:#009af9; stroke-width:4; stroke-opacity:1; fill:none\" points=\"\n",
       "  531.106,1007.15 531.106,676.792 \n",
       "  \"/>\n",
       "<polyline clip-path=\"url(#clip2003)\" style=\"stroke:#009af9; stroke-width:4; stroke-opacity:1; fill:none\" points=\"\n",
       "  676.831,955.76 676.831,735.131 \n",
       "  \"/>\n",
       "<polyline clip-path=\"url(#clip2003)\" style=\"stroke:#009af9; stroke-width:4; stroke-opacity:1; fill:none\" points=\"\n",
       "  820.819,918.653 820.819,780.197 \n",
       "  \"/>\n",
       "<polyline clip-path=\"url(#clip2003)\" style=\"stroke:#009af9; stroke-width:4; stroke-opacity:1; fill:none\" points=\"\n",
       "  964.523,902.613 964.523,811.288 \n",
       "  \"/>\n",
       "<polyline clip-path=\"url(#clip2003)\" style=\"stroke:#009af9; stroke-width:4; stroke-opacity:1; fill:none\" points=\"\n",
       "  1108.77,886.919 1108.77,816.233 \n",
       "  \"/>\n",
       "<polyline clip-path=\"url(#clip2003)\" style=\"stroke:#009af9; stroke-width:4; stroke-opacity:1; fill:none\" points=\"\n",
       "  1252.75,884.166 1252.75,829.889 \n",
       "  \"/>\n",
       "<polyline clip-path=\"url(#clip2003)\" style=\"stroke:#009af9; stroke-width:4; stroke-opacity:1; fill:none\" points=\"\n",
       "  1396.79,881.16 1396.79,842.09 \n",
       "  \"/>\n",
       "<polyline clip-path=\"url(#clip2003)\" style=\"stroke:#009af9; stroke-width:4; stroke-opacity:1; fill:none\" points=\"\n",
       "  1540.78,873.154 1540.78,845.615 \n",
       "  \"/>\n",
       "<polyline clip-path=\"url(#clip2003)\" style=\"stroke:#009af9; stroke-width:4; stroke-opacity:1; fill:none\" points=\"\n",
       "  1684.77,867.756 1684.77,850.241 \n",
       "  \"/>\n",
       "<polyline clip-path=\"url(#clip2003)\" style=\"stroke:#009af9; stroke-width:4; stroke-opacity:1; fill:none\" points=\"\n",
       "  1828.77,866.681 1828.77,851.91 \n",
       "  \"/>\n",
       "<polyline clip-path=\"url(#clip2003)\" style=\"stroke:#009af9; stroke-width:4; stroke-opacity:1; fill:none\" points=\"\n",
       "  1972.77,864.345 1972.77,854.342 \n",
       "  \"/>\n",
       "<polyline clip-path=\"url(#clip2003)\" style=\"stroke:#009af9; stroke-width:4; stroke-opacity:1; fill:none\" points=\"\n",
       "  2116.78,863.101 2116.78,856.655 \n",
       "  \"/>\n",
       "<polyline clip-path=\"url(#clip2003)\" style=\"stroke:#009af9; stroke-width:4; stroke-opacity:1; fill:none\" points=\"\n",
       "  2260.78,861.601 2260.78,856.93 \n",
       "  \"/>\n",
       "<line clip-path=\"url(#clip2003)\" x1=\"264.724\" y1=\"1401.05\" x2=\"224.724\" y2=\"1401.05\" style=\"stroke:#000000; stroke-width:4; stroke-opacity:1\"/>\n",
       "<line clip-path=\"url(#clip2003)\" x1=\"264.724\" y1=\"86.6754\" x2=\"224.724\" y2=\"86.6754\" style=\"stroke:#000000; stroke-width:4; stroke-opacity:1\"/>\n",
       "<line clip-path=\"url(#clip2003)\" x1=\"405.22\" y1=\"1068.01\" x2=\"365.22\" y2=\"1068.01\" style=\"stroke:#000000; stroke-width:4; stroke-opacity:1\"/>\n",
       "<line clip-path=\"url(#clip2003)\" x1=\"405.22\" y1=\"574.907\" x2=\"365.22\" y2=\"574.907\" style=\"stroke:#000000; stroke-width:4; stroke-opacity:1\"/>\n",
       "<line clip-path=\"url(#clip2003)\" x1=\"551.106\" y1=\"1007.15\" x2=\"511.106\" y2=\"1007.15\" style=\"stroke:#000000; stroke-width:4; stroke-opacity:1\"/>\n",
       "<line clip-path=\"url(#clip2003)\" x1=\"551.106\" y1=\"676.792\" x2=\"511.106\" y2=\"676.792\" style=\"stroke:#000000; stroke-width:4; stroke-opacity:1\"/>\n",
       "<line clip-path=\"url(#clip2003)\" x1=\"696.831\" y1=\"955.76\" x2=\"656.831\" y2=\"955.76\" style=\"stroke:#000000; stroke-width:4; stroke-opacity:1\"/>\n",
       "<line clip-path=\"url(#clip2003)\" x1=\"696.831\" y1=\"735.131\" x2=\"656.831\" y2=\"735.131\" style=\"stroke:#000000; stroke-width:4; stroke-opacity:1\"/>\n",
       "<line clip-path=\"url(#clip2003)\" x1=\"840.819\" y1=\"918.653\" x2=\"800.819\" y2=\"918.653\" style=\"stroke:#000000; stroke-width:4; stroke-opacity:1\"/>\n",
       "<line clip-path=\"url(#clip2003)\" x1=\"840.819\" y1=\"780.197\" x2=\"800.819\" y2=\"780.197\" style=\"stroke:#000000; stroke-width:4; stroke-opacity:1\"/>\n",
       "<line clip-path=\"url(#clip2003)\" x1=\"984.523\" y1=\"902.613\" x2=\"944.523\" y2=\"902.613\" style=\"stroke:#000000; stroke-width:4; stroke-opacity:1\"/>\n",
       "<line clip-path=\"url(#clip2003)\" x1=\"984.523\" y1=\"811.288\" x2=\"944.523\" y2=\"811.288\" style=\"stroke:#000000; stroke-width:4; stroke-opacity:1\"/>\n",
       "<line clip-path=\"url(#clip2003)\" x1=\"1128.77\" y1=\"886.919\" x2=\"1088.77\" y2=\"886.919\" style=\"stroke:#000000; stroke-width:4; stroke-opacity:1\"/>\n",
       "<line clip-path=\"url(#clip2003)\" x1=\"1128.77\" y1=\"816.233\" x2=\"1088.77\" y2=\"816.233\" style=\"stroke:#000000; stroke-width:4; stroke-opacity:1\"/>\n",
       "<line clip-path=\"url(#clip2003)\" x1=\"1272.75\" y1=\"884.166\" x2=\"1232.75\" y2=\"884.166\" style=\"stroke:#000000; stroke-width:4; stroke-opacity:1\"/>\n",
       "<line clip-path=\"url(#clip2003)\" x1=\"1272.75\" y1=\"829.889\" x2=\"1232.75\" y2=\"829.889\" style=\"stroke:#000000; stroke-width:4; stroke-opacity:1\"/>\n",
       "<line clip-path=\"url(#clip2003)\" x1=\"1416.79\" y1=\"881.16\" x2=\"1376.79\" y2=\"881.16\" style=\"stroke:#000000; stroke-width:4; stroke-opacity:1\"/>\n",
       "<line clip-path=\"url(#clip2003)\" x1=\"1416.79\" y1=\"842.09\" x2=\"1376.79\" y2=\"842.09\" style=\"stroke:#000000; stroke-width:4; stroke-opacity:1\"/>\n",
       "<line clip-path=\"url(#clip2003)\" x1=\"1560.78\" y1=\"873.154\" x2=\"1520.78\" y2=\"873.154\" style=\"stroke:#000000; stroke-width:4; stroke-opacity:1\"/>\n",
       "<line clip-path=\"url(#clip2003)\" x1=\"1560.78\" y1=\"845.615\" x2=\"1520.78\" y2=\"845.615\" style=\"stroke:#000000; stroke-width:4; stroke-opacity:1\"/>\n",
       "<line clip-path=\"url(#clip2003)\" x1=\"1704.77\" y1=\"867.756\" x2=\"1664.77\" y2=\"867.756\" style=\"stroke:#000000; stroke-width:4; stroke-opacity:1\"/>\n",
       "<line clip-path=\"url(#clip2003)\" x1=\"1704.77\" y1=\"850.241\" x2=\"1664.77\" y2=\"850.241\" style=\"stroke:#000000; stroke-width:4; stroke-opacity:1\"/>\n",
       "<line clip-path=\"url(#clip2003)\" x1=\"1848.77\" y1=\"866.681\" x2=\"1808.77\" y2=\"866.681\" style=\"stroke:#000000; stroke-width:4; stroke-opacity:1\"/>\n",
       "<line clip-path=\"url(#clip2003)\" x1=\"1848.77\" y1=\"851.91\" x2=\"1808.77\" y2=\"851.91\" style=\"stroke:#000000; stroke-width:4; stroke-opacity:1\"/>\n",
       "<line clip-path=\"url(#clip2003)\" x1=\"1992.77\" y1=\"864.345\" x2=\"1952.77\" y2=\"864.345\" style=\"stroke:#000000; stroke-width:4; stroke-opacity:1\"/>\n",
       "<line clip-path=\"url(#clip2003)\" x1=\"1992.77\" y1=\"854.342\" x2=\"1952.77\" y2=\"854.342\" style=\"stroke:#000000; stroke-width:4; stroke-opacity:1\"/>\n",
       "<line clip-path=\"url(#clip2003)\" x1=\"2136.78\" y1=\"863.101\" x2=\"2096.78\" y2=\"863.101\" style=\"stroke:#000000; stroke-width:4; stroke-opacity:1\"/>\n",
       "<line clip-path=\"url(#clip2003)\" x1=\"2136.78\" y1=\"856.655\" x2=\"2096.78\" y2=\"856.655\" style=\"stroke:#000000; stroke-width:4; stroke-opacity:1\"/>\n",
       "<line clip-path=\"url(#clip2003)\" x1=\"2280.78\" y1=\"861.601\" x2=\"2240.78\" y2=\"861.601\" style=\"stroke:#000000; stroke-width:4; stroke-opacity:1\"/>\n",
       "<line clip-path=\"url(#clip2003)\" x1=\"2280.78\" y1=\"856.93\" x2=\"2240.78\" y2=\"856.93\" style=\"stroke:#000000; stroke-width:4; stroke-opacity:1\"/>\n",
       "<polygon clip-path=\"url(#clip2001)\" points=\"\n",
       "1958.43,251.724 2249.26,251.724 2249.26,130.764 1958.43,130.764 \n",
       "  \" fill=\"#ffffff\" fill-rule=\"evenodd\" fill-opacity=\"1\"/>\n",
       "<polyline clip-path=\"url(#clip2001)\" style=\"stroke:#000000; stroke-width:4; stroke-opacity:1; fill:none\" points=\"\n",
       "  1958.43,251.724 2249.26,251.724 2249.26,130.764 1958.43,130.764 1958.43,251.724 \n",
       "  \"/>\n",
       "<polyline clip-path=\"url(#clip2001)\" style=\"stroke:#009af9; stroke-width:4; stroke-opacity:1; fill:none\" points=\"\n",
       "  1982.43,191.244 2126.43,191.244 \n",
       "  \"/>\n",
       "<g clip-path=\"url(#clip2001)\">\n",
       "<text style=\"fill:#000000; fill-opacity:1; font-family:Arial,Helvetica Neue,Helvetica,sans-serif; font-size:48px; text-anchor:start;\" transform=\"rotate(0, 2150.43, 208.744)\" x=\"2150.43\" y=\"208.744\">y1</text>\n",
       "</g>\n",
       "</svg>\n"
      ]
     },
     "execution_count": 9,
     "metadata": {},
     "output_type": "execute_result"
    }
   ],
   "source": [
    "nsamples = round.(Int, collect(exp10.(range(1,stop=5,length=15))))\n",
    "\n",
    "# This is served as an example, replace this with your own code\n",
    "fake_mean_y = map(x->pi + 1/x, nsamples)\n",
    "fake_stdev_y = map(x->0.1/log(x), nsamples)\n",
    "nsamples = round.(Int, collect(exp10.(range(1,stop=5,length=15))))\n",
    "mean_y, stdev_y = run_trials()\n",
    "\n",
    "Plots.plot(nsamples, mean_y, yerror=stdev_y, xaxis=(\"number of samples\", :log), \n",
    "                                       ylabel=\"estimate of pi\")"
   ]
  },
  {
   "cell_type": "markdown",
   "metadata": {},
   "source": [
    "### Things to think about/remember:"
   ]
  },
  {
   "cell_type": "markdown",
   "metadata": {
    "collapsed": true
   },
   "source": [
    "- How will you keep track of all the trials?  \n",
    "- How can you use the map function to help you with the mean and standard deviation?\n",
    "- Make sure you are comfortable with Arrays/Vectors/Matrices  \n"
   ]
  }
 ],
 "metadata": {
  "kernelspec": {
   "display_name": "Julia 1.0.3",
   "language": "julia",
   "name": "julia-1.0"
  },
  "language_info": {
   "file_extension": ".jl",
   "mimetype": "application/julia",
   "name": "julia",
   "version": "1.0.3"
  }
 },
 "nbformat": 4,
 "nbformat_minor": 1
}
