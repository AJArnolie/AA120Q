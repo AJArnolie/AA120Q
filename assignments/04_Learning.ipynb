{
 "cells": [
  {
   "cell_type": "markdown",
   "metadata": {},
   "source": [
    "# Assignment 4"
   ]
  },
  {
   "cell_type": "markdown",
   "metadata": {},
   "source": [
    "Your task is to write code for learning the parameters of an aircraft encounter model from data.\n",
    "Using the provided airplane trajectories you will:\n",
    "\n",
    "1.  Learn an initial scene model\n",
    "2.  Learn a dynamics model\n",
    "\n",
    "The file flights.csv (inside 'data' directory) is formatted identically to the previous assignment.\n",
    "Use the provided data to learn your models."
   ]
  },
  {
   "cell_type": "markdown",
   "metadata": {},
   "source": [
    "### **What is Turned In:**\n",
    "Edit the contents of this notebook and turn in our final Julia notebook file (.ipynb), and any associated code files you wrote to Coursework. Do not use any external code or Julia packages other than those used in the class materials."
   ]
  },
  {
   "cell_type": "markdown",
   "metadata": {},
   "source": [
    "### Set Up"
   ]
  },
  {
   "cell_type": "code",
   "execution_count": 17,
   "metadata": {},
   "outputs": [],
   "source": [
    "using CSV, DataFrames"
   ]
  },
  {
   "cell_type": "markdown",
   "metadata": {},
   "source": [
    "### Load the Dataset"
   ]
  },
  {
   "cell_type": "code",
   "execution_count": 18,
   "metadata": {},
   "outputs": [
    {
     "data": {
      "text/html": [
       "<table class=\"data-frame\"><thead><tr><th></th><th>id</th><th>x1</th><th>y1</th><th>u1</th><th>v1</th><th>x2</th><th>y2</th><th>u2</th><th>v2</th><th>t</th></tr><tr><th></th><th>Int64⍰</th><th>Float64⍰</th><th>Float64⍰</th><th>Float64⍰</th><th>Float64⍰</th><th>Float64⍰</th><th>Float64⍰</th><th>Float64⍰</th><th>Float64⍰</th><th>Int64⍰</th></tr></thead><tbody><p>3 rows × 10 columns</p><tr><th>1</th><td>1</td><td>0.0</td><td>10313.0</td><td>224.604</td><td>0.0213703</td><td>-897.73</td><td>10112.0</td><td>243.037</td><td>0.480057</td><td>0</td></tr><tr><th>2</th><td>1</td><td>224.638</td><td>10313.0</td><td>224.673</td><td>-0.0922206</td><td>-654.645</td><td>10112.5</td><td>243.131</td><td>0.458075</td><td>1</td></tr><tr><th>3</th><td>1</td><td>449.327</td><td>10312.9</td><td>224.705</td><td>-0.185167</td><td>-411.497</td><td>10113.0</td><td>243.165</td><td>0.448498</td><td>2</td></tr></tbody></table>"
      ],
      "text/latex": [
       "\\begin{tabular}{r|cccccccccc}\n",
       "\t& id & x1 & y1 & u1 & v1 & x2 & y2 & u2 & v2 & t\\\\\n",
       "\t\\hline\n",
       "\t1 & 1 & 0.0 & 10313.0 & 224.604 & 0.0213703 & -897.73 & 10112.0 & 243.037 & 0.480057 & 0 \\\\\n",
       "\t2 & 1 & 224.638 & 10313.0 & 224.673 & -0.0922206 & -654.645 & 10112.5 & 243.131 & 0.458075 & 1 \\\\\n",
       "\t3 & 1 & 449.327 & 10312.9 & 224.705 & -0.185167 & -411.497 & 10113.0 & 243.165 & 0.448498 & 2 \\\\\n",
       "\\end{tabular}\n"
      ],
      "text/plain": [
       "3×10 DataFrame. Omitted printing of 4 columns\n",
       "│ Row │ id     │ x1       │ y1       │ u1       │ v1         │ x2       │\n",
       "│     │ \u001b[90mInt64⍰\u001b[39m │ \u001b[90mFloat64⍰\u001b[39m │ \u001b[90mFloat64⍰\u001b[39m │ \u001b[90mFloat64⍰\u001b[39m │ \u001b[90mFloat64⍰\u001b[39m   │ \u001b[90mFloat64⍰\u001b[39m │\n",
       "├─────┼────────┼──────────┼──────────┼──────────┼────────────┼──────────┤\n",
       "│ 1   │ 1      │ 0.0      │ 10313.0  │ 224.604  │ 0.0213703  │ -897.73  │\n",
       "│ 2   │ 1      │ 224.638  │ 10313.0  │ 224.673  │ -0.0922206 │ -654.645 │\n",
       "│ 3   │ 1      │ 449.327  │ 10312.9  │ 224.705  │ -0.185167  │ -411.497 │"
      ]
     },
     "execution_count": 18,
     "metadata": {},
     "output_type": "execute_result"
    }
   ],
   "source": [
    "flights = CSV.read(joinpath(@__DIR__, \"..\", \"data\", \"flights.csv\"))\n",
    "flights[1:3,:] # first three rows"
   ]
  },
  {
   "cell_type": "markdown",
   "metadata": {},
   "source": [
    "## Milestone One: Initial Conditions Model"
   ]
  },
  {
   "cell_type": "markdown",
   "metadata": {},
   "source": [
    "First, we implement a simple initial conditions model. From the figure below, we see that aircraft 1 is always considered to be at x=0.0 and and moves with horizontal speed $u_1$ which affects how close aircraft 2, or $\\Delta x$ and vertical speed $v_1$, which affects $y_1$ and $\\Delta y$. In general, we see that the initial conditions can be defined by $y_1$, $u_1$, $v_1$, $\\Delta x$, and $\\Delta y$.\n",
    "\n",
    "You need to develop your own initial conditions model, then write your code here to implement the data structure for the probabilty distribution. We have provided the following starter code and would like you to use the speeds and positions of the aircraft at t=40s and go back linearly to determine intial positions at t=0s, using the given speeds for both aircraft at 40s. "
   ]
  },
  {
   "cell_type": "markdown",
   "metadata": {},
   "source": [
    "![Encounter](figures/encounter_def.png)"
   ]
  },
  {
   "cell_type": "markdown",
   "metadata": {},
   "source": [
    "Again, this simple model thus defines a probability distribution as follows:\n",
    "\n",
    "$$P(y_1, u_1, v_1, \\Delta x, \\Delta y, \\Delta u, \\Delta v)$$\n",
    "\n",
    "We have learned the probability distribution over the initial conditions model for you already. First, in **Pull Raw Data**, we create a categorical distrubution and then with **Discretize Dataset**, as the name states, we discretize the continuous variables into bins that we have defined for you below. Finally, we train a discrete Bayesian network over the discrete dataset in **Fit Distributions**.\n",
    "\n",
    "We have done this for the initial conditions model for you already. Please take the time to read through each step because you will be asked to go through this process for the Dynamics Model."
   ]
  },
  {
   "cell_type": "markdown",
   "metadata": {},
   "source": [
    "### Pulling the Raw Data"
   ]
  },
  {
   "cell_type": "code",
   "execution_count": 19,
   "metadata": {},
   "outputs": [
    {
     "data": {
      "text/html": [
       "<table class=\"data-frame\"><thead><tr><th></th><th>y1</th><th>u1</th><th>v1</th><th>Δx</th><th>Δy</th><th>Δu</th><th>Δv</th></tr><tr><th></th><th>Float64</th><th>Float64</th><th>Float64</th><th>Float64</th><th>Float64</th><th>Float64</th><th>Float64</th></tr></thead><tbody><p>3 rows × 7 columns</p><tr><th>1</th><td>10178.9</td><td>225.032</td><td>-5.69799</td><td>139.028</td><td>23.12</td><td>-19.0499</td><td>10.4739</td></tr><tr><th>2</th><td>11657.3</td><td>226.895</td><td>-4.47351</td><td>6.23307</td><td>-24.7549</td><td>3.82431</td><td>13.7632</td></tr><tr><th>3</th><td>10362.9</td><td>221.108</td><td>13.8988</td><td>92.8155</td><td>3.3539</td><td>7.47468</td><td>-14.5272</td></tr></tbody></table>"
      ],
      "text/latex": [
       "\\begin{tabular}{r|ccccccc}\n",
       "\t& y1 & u1 & v1 & Δx & Δy & Δu & Δv\\\\\n",
       "\t\\hline\n",
       "\t1 & 10178.9 & 225.032 & -5.69799 & 139.028 & 23.12 & -19.0499 & 10.4739 \\\\\n",
       "\t2 & 11657.3 & 226.895 & -4.47351 & 6.23307 & -24.7549 & 3.82431 & 13.7632 \\\\\n",
       "\t3 & 10362.9 & 221.108 & 13.8988 & 92.8155 & 3.3539 & 7.47468 & -14.5272 \\\\\n",
       "\\end{tabular}\n"
      ],
      "text/plain": [
       "3×7 DataFrame. Omitted printing of 1 columns\n",
       "│ Row │ y1      │ u1      │ v1       │ Δx      │ Δy       │ Δu       │\n",
       "│     │ \u001b[90mFloat64\u001b[39m │ \u001b[90mFloat64\u001b[39m │ \u001b[90mFloat64\u001b[39m  │ \u001b[90mFloat64\u001b[39m │ \u001b[90mFloat64\u001b[39m  │ \u001b[90mFloat64\u001b[39m  │\n",
       "├─────┼─────────┼─────────┼──────────┼─────────┼──────────┼──────────┤\n",
       "│ 1   │ 10178.9 │ 225.032 │ -5.69799 │ 139.028 │ 23.12    │ -19.0499 │\n",
       "│ 2   │ 11657.3 │ 226.895 │ -4.47351 │ 6.23307 │ -24.7549 │ 3.82431  │\n",
       "│ 3   │ 10362.9 │ 221.108 │ 13.8988  │ 92.8155 │ 3.3539   │ 7.47468  │"
      ]
     },
     "execution_count": 19,
     "metadata": {},
     "output_type": "execute_result"
    }
   ],
   "source": [
    "trajectories = pull_trajectories(flights, 100)\n",
    "\n",
    "#extract flights, length of array \n",
    "N = length(trajectories)\n",
    "\n",
    "#Initializes a data frame to store the inital conditions\n",
    "data_initial = DataFrame(\n",
    "    y1 = Float64[],\n",
    "    u1 = Float64[],\n",
    "    v1 = Float64[],\n",
    "    Δx = Float64[],\n",
    "    Δy = Float64[],\n",
    "    Δu = Float64[],\n",
    "    Δv = Float64[],\n",
    ")\n",
    "\n",
    "for traj in trajectories\n",
    "    P1 = traj[41].plane1\n",
    "    P2 = traj[41].plane2\n",
    "    \n",
    "    y1, u1, v1 = P1.y, P1.u, P1.v\n",
    "    Δx = P2.x - P1.x\n",
    "    Δy = P2.y - P1.y\n",
    "    Δu = P2.u - P1.u\n",
    "    Δv = P2.v - P1.v\n",
    "    if Δx < 0\n",
    "        Δx *= -1\n",
    "        Δu *= -1\n",
    "    end\n",
    "    \n",
    "    push!(data_initial, [y1,u1,v1,Δx,Δy,Δu,Δv])\n",
    "end\n",
    "\n",
    "data_initial[1:3,:] # first three rows"
   ]
  },
  {
   "cell_type": "markdown",
   "metadata": {},
   "source": [
    "### Discretize Dataset"
   ]
  },
  {
   "cell_type": "code",
   "execution_count": 20,
   "metadata": {},
   "outputs": [
    {
     "data": {
      "text/html": [
       "<table class=\"data-frame\"><thead><tr><th></th><th>y1</th><th>u1</th><th>v1</th><th>Δx</th><th>Δy</th><th>Δu</th><th>Δv</th></tr><tr><th></th><th>Int64</th><th>Int64</th><th>Int64</th><th>Int64</th><th>Int64</th><th>Int64</th><th>Int64</th></tr></thead><tbody><p>3 rows × 7 columns</p><tr><th>1</th><td>4</td><td>4</td><td>3</td><td>6</td><td>6</td><td>1</td><td>4</td></tr><tr><th>2</th><td>6</td><td>4</td><td>3</td><td>1</td><td>1</td><td>3</td><td>4</td></tr><tr><th>3</th><td>4</td><td>3</td><td>4</td><td>4</td><td>4</td><td>3</td><td>2</td></tr></tbody></table>"
      ],
      "text/latex": [
       "\\begin{tabular}{r|ccccccc}\n",
       "\t& y1 & u1 & v1 & Δx & Δy & Δu & Δv\\\\\n",
       "\t\\hline\n",
       "\t1 & 4 & 4 & 3 & 6 & 6 & 1 & 4 \\\\\n",
       "\t2 & 6 & 4 & 3 & 1 & 1 & 3 & 4 \\\\\n",
       "\t3 & 4 & 3 & 4 & 4 & 4 & 3 & 2 \\\\\n",
       "\\end{tabular}\n"
      ],
      "text/plain": [
       "3×7 DataFrame\n",
       "│ Row │ y1    │ u1    │ v1    │ Δx    │ Δy    │ Δu    │ Δv    │\n",
       "│     │ \u001b[90mInt64\u001b[39m │ \u001b[90mInt64\u001b[39m │ \u001b[90mInt64\u001b[39m │ \u001b[90mInt64\u001b[39m │ \u001b[90mInt64\u001b[39m │ \u001b[90mInt64\u001b[39m │ \u001b[90mInt64\u001b[39m │\n",
       "├─────┼───────┼───────┼───────┼───────┼───────┼───────┼───────┤\n",
       "│ 1   │ 4     │ 4     │ 3     │ 6     │ 6     │ 1     │ 4     │\n",
       "│ 2   │ 6     │ 4     │ 3     │ 1     │ 1     │ 3     │ 4     │\n",
       "│ 3   │ 4     │ 3     │ 4     │ 4     │ 4     │ 3     │ 2     │"
      ]
     },
     "execution_count": 20,
     "metadata": {},
     "output_type": "execute_result"
    }
   ],
   "source": [
    "using Discretizers\n",
    "\n",
    "D = Dict{Symbol,LinearDiscretizer}(\n",
    "    sym=>LinearDiscretizer(binedges(DiscretizeUniformWidth(6), data_initial[sym]))\n",
    "    for sym in names(data_initial)\n",
    ")\n",
    "\n",
    "for (sym, disc) in D\n",
    "    data_initial[sym] = encode(disc, data_initial[sym]) \n",
    "end\n",
    "\n",
    "ncategories = [nlabels(D[:y1]), nlabels(D[:u1]), nlabels(D[:v1]),\n",
    "               nlabels(D[:Δx]), nlabels(D[:Δy]), nlabels(D[:Δu]), nlabels(D[:Δv])]\n",
    "\n",
    "data_initial[1:3,:]"
   ]
  },
  {
   "cell_type": "markdown",
   "metadata": {},
   "source": [
    "###  Fit Distributions"
   ]
  },
  {
   "cell_type": "code",
   "execution_count": 21,
   "metadata": {},
   "outputs": [
    {
     "data": {
      "image/svg+xml": [
       "<?xml version=\"1.0\" encoding=\"UTF-8\"?>\n",
       "<svg xmlns=\"http://www.w3.org/2000/svg\" xmlns:xlink=\"http://www.w3.org/1999/xlink\" width=\"127.107pt\" height=\"72.26pt\" viewBox=\"0 0 127.107 72.26\" version=\"1.1\">\n",
       "<defs>\n",
       "<g>\n",
       "<symbol overflow=\"visible\" id=\"glyph-1545683281241003-0-0\">\n",
       "<path style=\"stroke:none;\" d=\"\"/>\n",
       "</symbol>\n",
       "<symbol overflow=\"visible\" id=\"glyph-1545683281241003-0-1\">\n",
       "<path style=\"stroke:none;\" d=\"M 7.96875 -0.125 C 7.96875 -0.125 7.96875 -0.34375 8.03125 -0.21875 L 4.703125 -6.890625 C 4.46875 -7.3125 4.3125 -7.40625 4.140625 -7.40625 C 3.984375 -7.40625 3.8125 -7.3125 3.75 -7.1875 L 3.6875 -7.15625 L 0.3125 -0.40625 L 0.375 -0.421875 C 0.328125 -0.34375 0.609375 -0.125 0.609375 -0.125 L 0.265625 -0.203125 C 0.265625 -0.125 0.53125 0 0.6875 0 L 7.609375 0 C 7.765625 0 8.03125 -0.125 8.03125 -0.203125 Z M 6.515625 -1.03125 L 1.390625 -1.03125 L 3.8125 -5.875 L 6.234375 -1.03125 Z \"/>\n",
       "</symbol>\n",
       "<symbol overflow=\"visible\" id=\"glyph-1545683281241003-0-2\">\n",
       "<path style=\"stroke:none;\" d=\"M 5.265625 -4.109375 L 5.265625 -4.578125 C 4.828125 -4.546875 4.546875 -4.53125 4.3125 -4.53125 L 3.25 -4.578125 L 3.25 -3.984375 C 3.8125 -3.984375 3.734375 -3.875 3.734375 -3.6875 C 3.734375 -3.59375 3.703125 -3.625 3.671875 -3.515625 L 2.65625 -0.984375 L 3.046875 -0.90625 L 1.9375 -3.6875 C 1.875 -3.8125 1.8125 -3.765625 1.8125 -3.765625 L 1.875 -3.859375 C 1.875 -4.109375 2.0625 -3.984375 2.4375 -3.984375 L 2.4375 -4.578125 L 1.15625 -4.53125 C 0.890625 -4.53125 0.484375 -4.546875 -0.015625 -4.578125 L -0.015625 -3.984375 C 0.8125 -3.984375 0.65625 -4.0625 0.78125 -3.75 L 2.21875 -0.203125 C 2.28125 -0.0625 2.5 0.109375 2.625 0.109375 C 2.765625 0.109375 3 -0.109375 3.046875 -0.203125 L 4.34375 -3.453125 C 4.4375 -3.671875 4.40625 -3.984375 5.265625 -3.984375 Z \"/>\n",
       "</symbol>\n",
       "<symbol overflow=\"visible\" id=\"glyph-1545683281241003-0-3\">\n",
       "<path style=\"stroke:none;\" d=\"M 5.53125 -0.125 L 5.53125 -0.578125 C 4.640625 -0.578125 4.75 -0.515625 4.75 -1 L 4.75 -4.6875 L 2.890625 -4.5625 L 2.890625 -3.984375 C 3.78125 -3.984375 3.671875 -4.046875 3.671875 -3.5625 L 3.671875 -1.78125 C 3.671875 -0.921875 3.390625 -0.375 2.65625 -0.375 C 1.828125 -0.375 1.984375 -0.703125 1.984375 -1.21875 L 1.984375 -4.6875 L 0.125 -4.5625 L 0.125 -3.984375 C 1.09375 -3.984375 0.890625 -4.09375 0.890625 -3.203125 L 0.890625 -1.703125 C 0.890625 -0.921875 1.09375 0.109375 2.609375 0.109375 C 3.171875 0.109375 3.8125 -0.296875 4.09375 -0.921875 L 3.703125 -0.921875 L 3.703125 0.125 L 5.53125 -0.015625 Z \"/>\n",
       "</symbol>\n",
       "<symbol overflow=\"visible\" id=\"glyph-1545683281241003-0-4\">\n",
       "<path style=\"stroke:none;\" d=\"M 5.265625 -4.109375 L 5.265625 -4.578125 C 4.828125 -4.546875 4.546875 -4.53125 4.3125 -4.53125 L 3.25 -4.578125 L 3.25 -3.984375 C 3.765625 -3.984375 3.71875 -3.9375 3.71875 -3.6875 C 3.71875 -3.59375 3.703125 -3.640625 3.65625 -3.515625 L 2.65625 -1.0625 L 3.046875 -1 L 1.9375 -3.671875 C 1.90625 -3.78125 1.890625 -3.8125 1.890625 -3.859375 C 1.890625 -4.109375 2.046875 -3.984375 2.4375 -3.984375 L 2.4375 -4.578125 L 1.15625 -4.53125 C 0.890625 -4.53125 0.484375 -4.546875 -0.015625 -4.578125 L -0.015625 -3.984375 C 0.671875 -3.984375 0.65625 -4.109375 0.796875 -3.765625 L 2.265625 -0.15625 L 2.046875 0.390625 C 1.828125 0.9375 1.75 1.5625 1.109375 1.5625 C 1.0625 1.5625 0.96875 1.59375 0.984375 1.609375 C 0.953125 1.609375 1.21875 1.25 1.21875 1.09375 C 1.21875 0.84375 0.84375 0.53125 0.609375 0.53125 C 0.40625 0.53125 -0.015625 0.8125 -0.015625 1.109375 C -0.015625 1.5625 0.609375 2.046875 1.109375 2.046875 C 1.734375 2.046875 2.34375 1.34375 2.578125 0.78125 L 4.34375 -3.484375 C 4.59375 -4.109375 4.90625 -3.984375 5.265625 -3.984375 Z \"/>\n",
       "</symbol>\n",
       "<symbol overflow=\"visible\" id=\"glyph-1545683281241003-0-5\">\n",
       "<path style=\"stroke:none;\" d=\"M 5.34375 -0.125 L 5.34375 -0.578125 C 4.609375 -0.578125 4.5625 -0.5625 4.34375 -0.84375 L 3.078125 -2.46875 C 3.296875 -2.765625 3.671875 -3.25 3.921875 -3.515625 C 4.234375 -3.875 4.5 -3.984375 5.15625 -3.984375 L 5.15625 -4.578125 C 4.703125 -4.546875 4.40625 -4.53125 4.140625 -4.53125 C 3.84375 -4.53125 3.3125 -4.5625 2.984375 -4.578125 L 2.984375 -4 C 3.40625 -3.96875 3.28125 -3.96875 3.28125 -3.8125 C 3.28125 -3.65625 3.234375 -3.625 3.1875 -3.5625 L 2.71875 -2.953125 L 2.078125 -3.78125 C 1.984375 -3.890625 2.046875 -3.8125 2.046875 -3.875 C 2.046875 -4.015625 2 -3.984375 2.390625 -4 L 2.390625 -4.578125 L 1.109375 -4.53125 C 0.90625 -4.53125 0.4375 -4.546875 -0.03125 -4.578125 L -0.03125 -3.984375 C 0.875 -3.984375 0.734375 -4.015625 1.203125 -3.421875 L 2.109375 -2.21875 C 1.71875 -1.71875 1.71875 -1.703125 1.25 -1.140625 C 0.78125 -0.5625 0.328125 -0.578125 -0.078125 -0.578125 L -0.078125 0.015625 C 0.375 -0.015625 0.6875 -0.03125 0.953125 -0.03125 L 2.09375 0.015625 L 2.09375 -0.546875 C 1.671875 -0.609375 1.796875 -0.59375 1.796875 -0.75 C 1.796875 -0.96875 2.03125 -1.203125 2.5 -1.75 L 3.125 -0.921875 C 3.203125 -0.8125 3.265625 -0.75 3.265625 -0.6875 C 3.265625 -0.59375 3.375 -0.59375 2.90625 -0.5625 L 2.90625 0.015625 L 4.1875 -0.03125 C 4.453125 -0.03125 4.84375 -0.015625 5.34375 0.015625 Z \"/>\n",
       "</symbol>\n",
       "<symbol overflow=\"visible\" id=\"glyph-1545683281241003-0-6\">\n",
       "<path style=\"stroke:none;\" d=\"M 4.375 -0.125 L 4.375 -0.578125 L 3.859375 -0.578125 C 2.953125 -0.578125 3.125 -0.546875 3.125 -0.921875 L 3.125 -6.515625 C 3.125 -6.75 2.9375 -6.90625 2.59375 -6.90625 C 1.9375 -6.234375 1.203125 -6.265625 0.6875 -6.265625 L 0.6875 -5.6875 C 1.09375 -5.6875 1.8125 -5.734375 2 -5.828125 L 2 -0.921875 C 2 -0.5625 2.15625 -0.578125 1.265625 -0.578125 L 0.75 -0.578125 L 0.75 0.015625 C 1.296875 -0.03125 2.15625 -0.03125 2.5625 -0.03125 C 2.953125 -0.03125 3.828125 -0.03125 4.375 0.015625 Z \"/>\n",
       "</symbol>\n",
       "</g>\n",
       "</defs>\n",
       "<g id=\"surface1\">\n",
       "<path style=\"fill:none;stroke-width:0.3985;stroke-linecap:butt;stroke-linejoin:miter;stroke:rgb(0%,0%,0%);stroke-opacity:1;stroke-miterlimit:10;\" d=\"M 0.0015625 -7.142781 L 0.0015625 -20.99825 \" transform=\"matrix(1,0,0,-1,10.1,7.908)\"/>\n",
       "<path style=\"fill:none;stroke-width:0.31879;stroke-linecap:round;stroke-linejoin:round;stroke:rgb(0%,0%,0%);stroke-opacity:1;stroke-miterlimit:10;\" d=\"M -1.197269 1.595313 C -1.095706 0.997656 0.00195 0.0992188 0.298825 0.0015625 C 0.00195 -0.1 -1.095706 -0.994531 -1.197269 -1.592187 \" transform=\"matrix(0,1,1,0,10.1,28.9043)\"/>\n",
       "<path style=\"fill:none;stroke-width:0.3985;stroke-linecap:butt;stroke-linejoin:miter;stroke:rgb(0%,0%,0%);stroke-opacity:1;stroke-miterlimit:10;\" d=\"M 35.68125 -7.142781 L 35.68125 -20.99825 \" transform=\"matrix(1,0,0,-1,10.1,7.908)\"/>\n",
       "<path style=\"fill:none;stroke-width:0.31879;stroke-linecap:round;stroke-linejoin:round;stroke:rgb(0%,0%,0%);stroke-opacity:1;stroke-miterlimit:10;\" d=\"M -1.197269 1.59243 C -1.095706 0.994774 0.00195 0.100242 0.298825 -0.00132 C 0.00195 -0.0989763 -1.095706 -0.997414 -1.197269 -1.59507 \" transform=\"matrix(0,1,1,0,45.78257,28.9043)\"/>\n",
       "<path style=\"fill:none;stroke-width:0.3985;stroke-linecap:butt;stroke-linejoin:miter;stroke:rgb(0%,0%,0%);stroke-opacity:1;stroke-miterlimit:10;\" d=\"M 35.68125 -35.240437 L 35.68125 -48.377156 \" transform=\"matrix(1,0,0,-1,10.1,7.908)\"/>\n",
       "<path style=\"fill:none;stroke-width:0.31879;stroke-linecap:round;stroke-linejoin:round;stroke:rgb(0%,0%,0%);stroke-opacity:1;stroke-miterlimit:10;\" d=\"M -1.194866 1.59243 C -1.09721 0.994774 0.00044625 0.100242 0.297321 -0.00132 C 0.00044625 -0.0989763 -1.09721 -0.997414 -1.194866 -1.59507 \" transform=\"matrix(0,1,1,0,45.78257,56.28471)\"/>\n",
       "<g style=\"fill:rgb(0%,0%,0%);fill-opacity:1;\">\n",
       "  <use xlink:href=\"#glyph-1545683281241003-0-1\" x=\"3.321\" y=\"11.42\"/>\n",
       "  <use xlink:href=\"#glyph-1545683281241003-0-2\" x=\"11.619879\" y=\"11.42\"/>\n",
       "</g>\n",
       "<g style=\"fill:rgb(0%,0%,0%);fill-opacity:1;\">\n",
       "  <use xlink:href=\"#glyph-1545683281241003-0-1\" x=\"38.863\" y=\"11.42\"/>\n",
       "  <use xlink:href=\"#glyph-1545683281241003-0-3\" x=\"47.161879\" y=\"11.42\"/>\n",
       "</g>\n",
       "<g style=\"fill:rgb(0%,0%,0%);fill-opacity:1;\">\n",
       "  <use xlink:href=\"#glyph-1545683281241003-0-1\" x=\"74.685\" y=\"10.453\"/>\n",
       "  <use xlink:href=\"#glyph-1545683281241003-0-4\" x=\"82.983879\" y=\"10.453\"/>\n",
       "</g>\n",
       "<g style=\"fill:rgb(0%,0%,0%);fill-opacity:1;\">\n",
       "  <use xlink:href=\"#glyph-1545683281241003-0-1\" x=\"110.227\" y=\"11.474\"/>\n",
       "  <use xlink:href=\"#glyph-1545683281241003-0-5\" x=\"118.525879\" y=\"11.474\"/>\n",
       "</g>\n",
       "<g style=\"fill:rgb(0%,0%,0%);fill-opacity:1;\">\n",
       "  <use xlink:href=\"#glyph-1545683281241003-0-2\" x=\"4.979\" y=\"39.517\"/>\n",
       "  <use xlink:href=\"#glyph-1545683281241003-0-6\" x=\"10.239274\" y=\"39.517\"/>\n",
       "</g>\n",
       "<g style=\"fill:rgb(0%,0%,0%);fill-opacity:1;\">\n",
       "  <use xlink:href=\"#glyph-1545683281241003-0-3\" x=\"40.522\" y=\"39.517\"/>\n",
       "  <use xlink:href=\"#glyph-1545683281241003-0-6\" x=\"46.061228\" y=\"39.517\"/>\n",
       "</g>\n",
       "<g style=\"fill:rgb(0%,0%,0%);fill-opacity:1;\">\n",
       "  <use xlink:href=\"#glyph-1545683281241003-0-4\" x=\"40.661\" y=\"66.897\"/>\n",
       "  <use xlink:href=\"#glyph-1545683281241003-0-6\" x=\"45.921274\" y=\"66.897\"/>\n",
       "</g>\n",
       "</g>\n",
       "</svg>\n",
       "\n"
      ],
      "text/plain": [
       "BayesNet{CategoricalCPD{Categorical{Float64}}}({7, 3} directed simple Int64 graph, CategoricalCPD{Categorical{Float64}}[6 instantiations:\n",
       "  Δv (6), 6 instantiations:\n",
       "  Δu (6), 6 instantiations:\n",
       "  Δy (6), 6 instantiations:\n",
       "  Δx (6), 36 instantiations:\n",
       "  v1 (6)\n",
       "  Δv (6), 36 instantiations:\n",
       "  u1 (6)\n",
       "  Δu (6), 36 instantiations:\n",
       "  y1 (6)\n",
       "  u1 (6)], Dict(:Δx=>4,:u1=>6,:y1=>7,:Δu=>2,:Δv=>1,:Δy=>3,:v1=>5))"
      ]
     },
     "execution_count": 21,
     "metadata": {},
     "output_type": "execute_result"
    }
   ],
   "source": [
    "using Random, BayesNets\n",
    "\n",
    "Random.seed!(0)\n",
    "params = GreedyHillClimbing(ScoreComponentCache(data_initial), max_n_parents=3, \n",
    "prior=UniformPrior())\n",
    "bn_initial = fit(DiscreteBayesNet, data_initial, params, ncategories=ncategories)"
   ]
  },
  {
   "cell_type": "markdown",
   "metadata": {},
   "source": [
    "### Sampling"
   ]
  },
  {
   "cell_type": "markdown",
   "metadata": {},
   "source": [
    "#### Sample from Initial to get Initial Scene\n",
    "\n",
    "We now have to implement `Base.rand(model)` which should generate random Encounters from our given initial conditions model.\n"
   ]
  },
  {
   "cell_type": "code",
   "execution_count": 22,
   "metadata": {},
   "outputs": [],
   "source": [
    "struct DiscretizedBayesNet\n",
    "    dbn::DiscreteBayesNet\n",
    "    discs::Dict{Symbol, LinearDiscretizer}\n",
    "end"
   ]
  },
  {
   "cell_type": "code",
   "execution_count": 23,
   "metadata": {},
   "outputs": [],
   "source": [
    "function Base.rand(bn::DiscretizedBayesNet)\n",
    "    sample = rand(model.dbn) # pull from discrete Bayes net\n",
    "    \n",
    "    # convert discrete samples to continuous samples\n",
    "    for (sym, disc) in bn.discs\n",
    "        sample[sym] = decode(disc, sample[sym]) \n",
    "    end\n",
    "\n",
    "    return sample\n",
    "end"
   ]
  },
  {
   "cell_type": "markdown",
   "metadata": {},
   "source": [
    "## Milestone Two: Dynamics Model"
   ]
  },
  {
   "cell_type": "markdown",
   "metadata": {},
   "source": [
    "Now that you are familiar with the implementation of the Initial Conditions Model, we would like you to train and learn over the probability distribution of a Dynamics Model. We can define the dynamics model by the horizontal and vertical accelerations given the change in distance and change in velocities. A simple uncorrelated dynamics model represents:\n",
    "\n",
    "$$P(\\Delta u_t, \\Delta v_t \\mid \\Delta x_{t-1}, \\Delta y_{t-1}, \\Delta u_{t-1}, \\Delta v_{t-1})$$\n",
    "\n",
    "We will train:\n",
    "\n",
    "$$P(\\Delta u_t, \\Delta v_t, \\Delta x_{t-1}, \\Delta y_{t-1}, \\Delta u_{t-1}, \\Delta v_{t-1})$$\n",
    "\n",
    "Again, we would like to improve the model like how we did with the intial conditions model. Here are a few ways of improving the given model:\n",
    "\n",
    "1. Add additional three conditional variables: acceleration, climbrate, and turnrate\n",
    "             \n",
    "2. Include other variables (current altitude, aircraft type, etc.)\n",
    "\n",
    "Develop your own dynamics model of probability dsitribution using a Discrete Bayesian.\n",
    "\n",
    "Use the following code as a starting point. You have until week 5 to work on it."
   ]
  },
  {
   "cell_type": "markdown",
   "metadata": {},
   "source": [
    "### Pull Raw Data"
   ]
  },
  {
   "cell_type": "markdown",
   "metadata": {},
   "source": [
    "We would now like you to pull the data from the flights dataset in order to fill the data_transition data array. You can use the code from the initial model as a reference. We want to load the both the horizontal and vertical acceleration for both aircraft. Think in terms of how we could do that given u1, v1, and u2, v2. (Remember that acceleration is $\\frac{\\Delta velocity}{\\Delta time}$. \n",
    "\n",
    "We have provided the size of the array below and the DataFrame, now you just need to load the data in below. (**Hint:** you will find the findnext() function useful in a for loop while loading data from flights into data_transition)"
   ]
  },
  {
   "cell_type": "code",
   "execution_count": 24,
   "metadata": {},
   "outputs": [
    {
     "data": {
      "text/html": [
       "<table class=\"data-frame\"><thead><tr><th></th><th>du2</th><th>dv2</th><th>dx1</th><th>dy1</th><th>du1</th><th>dv1</th></tr><tr><th></th><th>Float64</th><th>Float64</th><th>Float64</th><th>Float64</th><th>Float64</th><th>Float64</th></tr></thead><tbody><p>3 rows × 6 columns</p><tr><th>1</th><td>0.0316606</td><td>-0.0929461</td><td>224.638</td><td>-0.0439552</td><td>0.0692497</td><td>-0.113591</td></tr><tr><th>2</th><td>0.033982</td><td>-0.00957674</td><td>243.084</td><td>0.45891</td><td>0.0935041</td><td>-0.021982</td></tr><tr><th>3</th><td>-0.098043</td><td>-0.0528164</td><td>224.689</td><td>-0.133604</td><td>0.0316606</td><td>-0.0929461</td></tr></tbody></table>"
      ],
      "text/latex": [
       "\\begin{tabular}{r|cccccc}\n",
       "\t& du2 & dv2 & dx1 & dy1 & du1 & dv1\\\\\n",
       "\t\\hline\n",
       "\t1 & 0.0316606 & -0.0929461 & 224.638 & -0.0439552 & 0.0692497 & -0.113591 \\\\\n",
       "\t2 & 0.033982 & -0.00957674 & 243.084 & 0.45891 & 0.0935041 & -0.021982 \\\\\n",
       "\t3 & -0.098043 & -0.0528164 & 224.689 & -0.133604 & 0.0316606 & -0.0929461 \\\\\n",
       "\\end{tabular}\n"
      ],
      "text/plain": [
       "3×6 DataFrame. Omitted printing of 1 columns\n",
       "│ Row │ du2       │ dv2         │ dx1     │ dy1        │ du1       │\n",
       "│     │ \u001b[90mFloat64\u001b[39m   │ \u001b[90mFloat64\u001b[39m     │ \u001b[90mFloat64\u001b[39m │ \u001b[90mFloat64\u001b[39m    │ \u001b[90mFloat64\u001b[39m   │\n",
       "├─────┼───────────┼─────────────┼─────────┼────────────┼───────────┤\n",
       "│ 1   │ 0.0316606 │ -0.0929461  │ 224.638 │ -0.0439552 │ 0.0692497 │\n",
       "│ 2   │ 0.033982  │ -0.00957674 │ 243.084 │ 0.45891    │ 0.0935041 │\n",
       "│ 3   │ -0.098043 │ -0.0528164  │ 224.689 │ -0.133604  │ 0.0316606 │"
      ]
     },
     "execution_count": 24,
     "metadata": {},
     "output_type": "execute_result"
    }
   ],
   "source": [
    "#Define N : N = \n",
    "M = 2*51*N # 2 aircraft per run, 51 frame-deltas per run\n",
    "\n",
    "data_transition = DataFrame(\n",
    "    du2=Array{Float64}(undef, M), # current change in horizontal accel  [m/s2]\n",
    "    dv2=Array{Float64}(undef, M), # currenct change in vertical accel   [m/s2]\n",
    "    dx1=Array{Float64}(undef, M), # previous change in x                [m]\n",
    "    dy1=Array{Float64}(undef, M), # previous change in y                [m]\n",
    "    du1=Array{Float64}(undef, M), # previous change in hoizontal speed  [m/s2]\n",
    "    dv1=Array{Float64}(undef, M), # previous change in vertical speed   [m/s2]\n",
    ")\n",
    "\n",
    "j = 1\n",
    "i = 0\n",
    "flightids = flights[:id]\n",
    "\n",
    "# Use a for loop to fill the DataFrame above with the data from loaded flights.csv file\n",
    "\n",
    "# STUDENT CODE START\n",
    "# STUDENT CODE END\n",
    "\n",
    "data_transition[1:3,:] # first three rows"
   ]
  },
  {
   "cell_type": "markdown",
   "metadata": {},
   "source": [
    "### Discretize Data"
   ]
  },
  {
   "cell_type": "markdown",
   "metadata": {},
   "source": [
    "Think about how you might want to tune the discretization of the data"
   ]
  },
  {
   "cell_type": "code",
   "execution_count": 25,
   "metadata": {},
   "outputs": [
    {
     "data": {
      "text/html": [
       "<table class=\"data-frame\"><thead><tr><th></th><th>du2</th><th>dv2</th><th>dx1</th><th>dy1</th><th>du1</th><th>dv1</th></tr><tr><th></th><th>Int64</th><th>Int64</th><th>Int64</th><th>Int64</th><th>Int64</th><th>Int64</th></tr></thead><tbody><p>3 rows × 6 columns</p><tr><th>1</th><td>1</td><td>1</td><td>6</td><td>1</td><td>1</td><td>1</td></tr><tr><th>2</th><td>1</td><td>1</td><td>6</td><td>1</td><td>1</td><td>1</td></tr><tr><th>3</th><td>1</td><td>1</td><td>6</td><td>1</td><td>1</td><td>1</td></tr></tbody></table>"
      ],
      "text/latex": [
       "\\begin{tabular}{r|cccccc}\n",
       "\t& du2 & dv2 & dx1 & dy1 & du1 & dv1\\\\\n",
       "\t\\hline\n",
       "\t1 & 1 & 1 & 6 & 1 & 1 & 1 \\\\\n",
       "\t2 & 1 & 1 & 6 & 1 & 1 & 1 \\\\\n",
       "\t3 & 1 & 1 & 6 & 1 & 1 & 1 \\\\\n",
       "\\end{tabular}\n"
      ],
      "text/plain": [
       "3×6 DataFrame\n",
       "│ Row │ du2   │ dv2   │ dx1   │ dy1   │ du1   │ dv1   │\n",
       "│     │ \u001b[90mInt64\u001b[39m │ \u001b[90mInt64\u001b[39m │ \u001b[90mInt64\u001b[39m │ \u001b[90mInt64\u001b[39m │ \u001b[90mInt64\u001b[39m │ \u001b[90mInt64\u001b[39m │\n",
       "├─────┼───────┼───────┼───────┼───────┼───────┼───────┤\n",
       "│ 1   │ 1     │ 1     │ 6     │ 1     │ 1     │ 1     │\n",
       "│ 2   │ 1     │ 1     │ 6     │ 1     │ 1     │ 1     │\n",
       "│ 3   │ 1     │ 1     │ 6     │ 1     │ 1     │ 1     │"
      ]
     },
     "execution_count": 25,
     "metadata": {},
     "output_type": "execute_result"
    }
   ],
   "source": [
    "using Discretizers\n",
    "\n",
    "D_trans = Dict{Symbol,LinearDiscretizer}()\n",
    "D_trans[:du2] = LinearDiscretizer(Float64[0,30,60,90,120,150,180]) # [m/s2]\n",
    "D_trans[:dv2] = LinearDiscretizer(Float64[150,365,915,1520,3800])  # [m/s2]\n",
    "D_trans[:dx1] = LinearDiscretizer(Float64[0,30,60,90,120,150,180])   # [m]\n",
    "D_trans[:dy1] = LinearDiscretizer(Float64[150,365,915,1520,3800])   # [m]\n",
    "D_trans[:du1] = LinearDiscretizer(Float64[0,30,60,90,120,150,180]) # [m/s2]\n",
    "D_trans[:dv1] = LinearDiscretizer(Float64[150,365,915,1520,3800])  # [m/s2]\n",
    "\n",
    "for (sym, disc) in D_trans\n",
    "    data_transition[sym] = encode(disc, data_transition[sym]) \n",
    "end\n",
    "\n",
    "n_trans_categories = [nlabels(D_trans[:du2]), nlabels(D_trans[:dv2]),\n",
    "                      nlabels(D_trans[:dx1]), nlabels(D_trans[:dy1]),\n",
    "                      nlabels(D_trans[:du1]), nlabels(D_trans[:dv1])]\n",
    "\n",
    "data_transition[1:3,:]"
   ]
  },
  {
   "cell_type": "markdown",
   "metadata": {},
   "source": [
    "### Fit Distributions"
   ]
  },
  {
   "cell_type": "code",
   "execution_count": 26,
   "metadata": {},
   "outputs": [
    {
     "data": {
      "image/svg+xml": [
       "<?xml version=\"1.0\" encoding=\"UTF-8\"?>\n",
       "<svg xmlns=\"http://www.w3.org/2000/svg\" xmlns:xlink=\"http://www.w3.org/1999/xlink\" width=\"104.233pt\" height=\"99.67pt\" viewBox=\"0 0 104.233 99.67\" version=\"1.1\">\n",
       "<defs>\n",
       "<g>\n",
       "<symbol overflow=\"visible\" id=\"glyph-1545683281241004-0-0\">\n",
       "<path style=\"stroke:none;\" d=\"\"/>\n",
       "</symbol>\n",
       "<symbol overflow=\"visible\" id=\"glyph-1545683281241004-0-1\">\n",
       "<path style=\"stroke:none;\" d=\"M 5.453125 -0.125 L 5.453125 -0.578125 C 4.5625 -0.578125 4.671875 -0.515625 4.671875 -1 L 4.671875 -7.203125 L 2.84375 -7.0625 L 2.84375 -6.5 C 3.734375 -6.5 3.625 -6.5625 3.625 -6.078125 L 3.625 -3.921875 L 3.953125 -4.015625 C 3.671875 -4.375 3.09375 -4.671875 2.5625 -4.671875 C 1.390625 -4.671875 0.140625 -3.5625 0.140625 -2.265625 C 0.140625 -1 1.3125 0.109375 2.453125 0.109375 C 3.09375 0.109375 3.671875 -0.265625 3.921875 -0.59375 L 3.59375 -0.671875 L 3.59375 0.125 L 5.453125 -0.015625 Z M 3.59375 -1.3125 C 3.59375 -1.125 3.65625 -1.203125 3.53125 -1.03125 C 3.234375 -0.5625 2.9375 -0.375 2.5 -0.375 C 2.046875 -0.375 1.828125 -0.59375 1.59375 -0.984375 C 1.328125 -1.390625 1.359375 -1.859375 1.359375 -2.265625 C 1.359375 -2.625 1.328125 -3.140625 1.609375 -3.59375 C 1.828125 -3.890625 2.0625 -4.1875 2.609375 -4.1875 C 2.953125 -4.1875 3.234375 -4.078125 3.53125 -3.625 C 3.65625 -3.453125 3.59375 -3.53125 3.59375 -3.34375 Z \"/>\n",
       "</symbol>\n",
       "<symbol overflow=\"visible\" id=\"glyph-1545683281241004-0-2\">\n",
       "<path style=\"stroke:none;\" d=\"M 5.265625 -4.109375 L 5.265625 -4.578125 C 4.828125 -4.546875 4.546875 -4.53125 4.3125 -4.53125 L 3.25 -4.578125 L 3.25 -3.984375 C 3.8125 -3.984375 3.734375 -3.875 3.734375 -3.6875 C 3.734375 -3.59375 3.703125 -3.625 3.671875 -3.515625 L 2.65625 -0.984375 L 3.046875 -0.90625 L 1.9375 -3.6875 C 1.875 -3.8125 1.8125 -3.765625 1.8125 -3.765625 L 1.875 -3.859375 C 1.875 -4.109375 2.0625 -3.984375 2.4375 -3.984375 L 2.4375 -4.578125 L 1.15625 -4.53125 C 0.890625 -4.53125 0.484375 -4.546875 -0.015625 -4.578125 L -0.015625 -3.984375 C 0.8125 -3.984375 0.65625 -4.0625 0.78125 -3.75 L 2.21875 -0.203125 C 2.28125 -0.0625 2.5 0.109375 2.625 0.109375 C 2.765625 0.109375 3 -0.109375 3.046875 -0.203125 L 4.34375 -3.453125 C 4.4375 -3.671875 4.40625 -3.984375 5.265625 -3.984375 Z \"/>\n",
       "</symbol>\n",
       "<symbol overflow=\"visible\" id=\"glyph-1545683281241004-0-3\">\n",
       "<path style=\"stroke:none;\" d=\"M 4.375 -0.125 L 4.375 -0.578125 L 3.859375 -0.578125 C 2.953125 -0.578125 3.125 -0.546875 3.125 -0.921875 L 3.125 -6.515625 C 3.125 -6.75 2.9375 -6.90625 2.59375 -6.90625 C 1.9375 -6.234375 1.203125 -6.265625 0.6875 -6.265625 L 0.6875 -5.6875 C 1.09375 -5.6875 1.8125 -5.734375 2 -5.828125 L 2 -0.921875 C 2 -0.5625 2.15625 -0.578125 1.265625 -0.578125 L 0.75 -0.578125 L 0.75 0.015625 C 1.296875 -0.03125 2.15625 -0.03125 2.5625 -0.03125 C 2.953125 -0.03125 3.828125 -0.03125 4.375 0.015625 Z \"/>\n",
       "</symbol>\n",
       "<symbol overflow=\"visible\" id=\"glyph-1545683281241004-0-4\">\n",
       "<path style=\"stroke:none;\" d=\"M 5.53125 -0.125 L 5.53125 -0.578125 C 4.640625 -0.578125 4.75 -0.515625 4.75 -1 L 4.75 -4.6875 L 2.890625 -4.5625 L 2.890625 -3.984375 C 3.78125 -3.984375 3.671875 -4.046875 3.671875 -3.5625 L 3.671875 -1.78125 C 3.671875 -0.921875 3.390625 -0.375 2.65625 -0.375 C 1.828125 -0.375 1.984375 -0.703125 1.984375 -1.21875 L 1.984375 -4.6875 L 0.125 -4.5625 L 0.125 -3.984375 C 1.09375 -3.984375 0.890625 -4.09375 0.890625 -3.203125 L 0.890625 -1.703125 C 0.890625 -0.921875 1.09375 0.109375 2.609375 0.109375 C 3.171875 0.109375 3.8125 -0.296875 4.09375 -0.921875 L 3.703125 -0.921875 L 3.703125 0.125 L 5.53125 -0.015625 Z \"/>\n",
       "</symbol>\n",
       "<symbol overflow=\"visible\" id=\"glyph-1545683281241004-0-5\">\n",
       "<path style=\"stroke:none;\" d=\"M 4.46875 -2 L 4.03125 -2 C 3.984375 -1.640625 3.96875 -1.21875 3.875 -1.078125 C 3.796875 -1 3.28125 -1.03125 3.0625 -1.03125 L 1.640625 -1.03125 L 2.46875 -1.828125 C 4.015625 -3.203125 4.671875 -3.84375 4.671875 -4.828125 C 4.671875 -5.96875 3.578125 -6.90625 2.359375 -6.90625 C 1.234375 -6.90625 0.296875 -5.859375 0.296875 -4.96875 C 0.296875 -4.40625 1 -4.28125 1.03125 -4.28125 C 1.203125 -4.28125 1.75 -4.53125 1.75 -4.9375 C 1.75 -5.1875 1.359375 -5.59375 1.015625 -5.59375 C 0.9375 -5.59375 0.921875 -5.59375 1.171875 -5.671875 C 1.3125 -6.09375 1.65625 -6.328125 2.234375 -6.328125 C 3.140625 -6.328125 3.375 -5.65625 3.375 -4.828125 C 3.375 -4.03125 2.9375 -3.34375 2.375 -2.734375 L 0.46875 -0.59375 C 0.359375 -0.484375 0.296875 -0.375 0.296875 0 L 4.359375 0 L 4.6875 -2 Z \"/>\n",
       "</symbol>\n",
       "<symbol overflow=\"visible\" id=\"glyph-1545683281241004-0-6\">\n",
       "<path style=\"stroke:none;\" d=\"M 5.34375 -0.125 L 5.34375 -0.578125 C 4.609375 -0.578125 4.5625 -0.5625 4.34375 -0.84375 L 3.078125 -2.46875 C 3.296875 -2.765625 3.671875 -3.25 3.921875 -3.515625 C 4.234375 -3.875 4.5 -3.984375 5.15625 -3.984375 L 5.15625 -4.578125 C 4.703125 -4.546875 4.40625 -4.53125 4.140625 -4.53125 C 3.84375 -4.53125 3.3125 -4.5625 2.984375 -4.578125 L 2.984375 -4 C 3.40625 -3.96875 3.28125 -3.96875 3.28125 -3.8125 C 3.28125 -3.65625 3.234375 -3.625 3.1875 -3.5625 L 2.71875 -2.953125 L 2.078125 -3.78125 C 1.984375 -3.890625 2.046875 -3.8125 2.046875 -3.875 C 2.046875 -4.015625 2 -3.984375 2.390625 -4 L 2.390625 -4.578125 L 1.109375 -4.53125 C 0.90625 -4.53125 0.4375 -4.546875 -0.03125 -4.578125 L -0.03125 -3.984375 C 0.875 -3.984375 0.734375 -4.015625 1.203125 -3.421875 L 2.109375 -2.21875 C 1.71875 -1.71875 1.71875 -1.703125 1.25 -1.140625 C 0.78125 -0.5625 0.328125 -0.578125 -0.078125 -0.578125 L -0.078125 0.015625 C 0.375 -0.015625 0.6875 -0.03125 0.953125 -0.03125 L 2.09375 0.015625 L 2.09375 -0.546875 C 1.671875 -0.609375 1.796875 -0.59375 1.796875 -0.75 C 1.796875 -0.96875 2.03125 -1.203125 2.5 -1.75 L 3.125 -0.921875 C 3.203125 -0.8125 3.265625 -0.75 3.265625 -0.6875 C 3.265625 -0.59375 3.375 -0.59375 2.90625 -0.5625 L 2.90625 0.015625 L 4.1875 -0.03125 C 4.453125 -0.03125 4.84375 -0.015625 5.34375 0.015625 Z \"/>\n",
       "</symbol>\n",
       "<symbol overflow=\"visible\" id=\"glyph-1545683281241004-0-7\">\n",
       "<path style=\"stroke:none;\" d=\"M 5.265625 -4.109375 L 5.265625 -4.578125 C 4.828125 -4.546875 4.546875 -4.53125 4.3125 -4.53125 L 3.25 -4.578125 L 3.25 -3.984375 C 3.765625 -3.984375 3.71875 -3.9375 3.71875 -3.6875 C 3.71875 -3.59375 3.703125 -3.640625 3.65625 -3.515625 L 2.65625 -1.0625 L 3.046875 -1 L 1.9375 -3.671875 C 1.90625 -3.78125 1.890625 -3.8125 1.890625 -3.859375 C 1.890625 -4.109375 2.046875 -3.984375 2.4375 -3.984375 L 2.4375 -4.578125 L 1.15625 -4.53125 C 0.890625 -4.53125 0.484375 -4.546875 -0.015625 -4.578125 L -0.015625 -3.984375 C 0.671875 -3.984375 0.65625 -4.109375 0.796875 -3.765625 L 2.265625 -0.15625 L 2.046875 0.390625 C 1.828125 0.9375 1.75 1.5625 1.109375 1.5625 C 1.0625 1.5625 0.96875 1.59375 0.984375 1.609375 C 0.953125 1.609375 1.21875 1.25 1.21875 1.09375 C 1.21875 0.84375 0.84375 0.53125 0.609375 0.53125 C 0.40625 0.53125 -0.015625 0.8125 -0.015625 1.109375 C -0.015625 1.5625 0.609375 2.046875 1.109375 2.046875 C 1.734375 2.046875 2.34375 1.34375 2.578125 0.78125 L 4.34375 -3.484375 C 4.59375 -4.109375 4.90625 -3.984375 5.265625 -3.984375 Z \"/>\n",
       "</symbol>\n",
       "</g>\n",
       "</defs>\n",
       "<g id=\"surface1\">\n",
       "<path style=\"fill:none;stroke-width:0.3985;stroke-linecap:butt;stroke-linejoin:miter;stroke:rgb(0%,0%,0%);stroke-opacity:1;stroke-miterlimit:10;\" d=\"M 0.00146875 -7.031281 L 0.00146875 -20.8555 \" transform=\"matrix(1,0,0,-1,54.979,6.832)\"/>\n",
       "<path style=\"fill:none;stroke-width:0.31879;stroke-linecap:round;stroke-linejoin:round;stroke:rgb(0%,0%,0%);stroke-opacity:1;stroke-miterlimit:10;\" d=\"M -1.196642 1.595219 C -1.09508 0.997563 -0.00133 0.099125 0.299451 0.00146875 C -0.00133 -0.100094 -1.09508 -0.994625 -1.196642 -1.592281 \" transform=\"matrix(0,1,1,0,54.979,27.68883)\"/>\n",
       "<path style=\"fill:none;stroke-width:0.3985;stroke-linecap:butt;stroke-linejoin:miter;stroke:rgb(0%,0%,0%);stroke-opacity:1;stroke-miterlimit:10;\" d=\"M -33.111812 -35.378938 L -40.045406 -49.250031 \" transform=\"matrix(1,0,0,-1,54.979,6.832)\"/>\n",
       "<path style=\"fill:none;stroke-width:0.31879;stroke-linecap:round;stroke-linejoin:round;stroke:rgb(0%,0%,0%);stroke-opacity:1;stroke-miterlimit:10;\" d=\"M -1.196421 1.591804 C -1.095517 0.998461 0.00239967 0.0988515 0.299937 -0.000336528 C 0.000654411 -0.0977686 -1.09383 -0.99732 -1.196506 -1.592397 \" transform=\"matrix(-0.44897,0.898,0.898,0.44897,14.93184,56.08237)\"/>\n",
       "<path style=\"fill:none;stroke-width:0.3985;stroke-linecap:butt;stroke-linejoin:miter;stroke:rgb(0%,0%,0%);stroke-opacity:1;stroke-miterlimit:10;\" d=\"M -26.080562 -35.378938 L -15.420406 -56.695344 L -15.420406 -76.585969 \" transform=\"matrix(1,0,0,-1,54.979,6.832)\"/>\n",
       "<path style=\"fill:none;stroke-width:0.31879;stroke-linecap:round;stroke-linejoin:round;stroke:rgb(0%,0%,0%);stroke-opacity:1;stroke-miterlimit:10;\" d=\"M -1.1973 1.595284 C -1.095737 0.997628 0.00191875 0.09919 0.298794 0.00153375 C 0.00191875 -0.100029 -1.095737 -0.99456 -1.1973 -1.592216 \" transform=\"matrix(0,1,1,0,39.55706,83.41605)\"/>\n",
       "<path style=\"fill:none;stroke-width:0.3985;stroke-linecap:butt;stroke-linejoin:miter;stroke:rgb(0%,0%,0%);stroke-opacity:1;stroke-miterlimit:10;\" d=\"M -10.857906 -35.378938 L -32.525875 -49.410188 \" transform=\"matrix(1,0,0,-1,54.979,6.832)\"/>\n",
       "<path style=\"fill:none;stroke-width:0.31879;stroke-linecap:round;stroke-linejoin:round;stroke:rgb(0%,0%,0%);stroke-opacity:1;stroke-miterlimit:10;\" d=\"M -1.194319 1.592388 C -1.097887 0.996587 0.000186289 0.0998651 0.297348 0.00015143 C 0.000674152 -0.0998748 -1.094159 -0.995429 -1.194199 -1.593834 \" transform=\"matrix(-0.84227,0.54553,0.54553,0.84227,22.45349,56.24391)\"/>\n",
       "<path style=\"fill:none;stroke-width:0.3985;stroke-linecap:butt;stroke-linejoin:miter;stroke:rgb(0%,0%,0%);stroke-opacity:1;stroke-miterlimit:10;\" d=\"M -36.736812 -63.726594 L -23.744625 -76.718781 \" transform=\"matrix(1,0,0,-1,54.979,6.832)\"/>\n",
       "<path style=\"fill:none;stroke-width:0.31879;stroke-linecap:round;stroke-linejoin:round;stroke:rgb(0%,0%,0%);stroke-opacity:1;stroke-miterlimit:10;\" d=\"M -1.196061 1.593014 C -1.096624 0.996387 -0.0000450785 0.0986839 0.298268 -0.00075396 C -0.0000450785 -0.100192 -1.096624 -0.997895 -1.196061 -1.594522 \" transform=\"matrix(0.7071,0.7071,0.7071,-0.7071,31.23494,83.55028)\"/>\n",
       "<g style=\"fill:rgb(0%,0%,0%);fill-opacity:1;\">\n",
       "  <use xlink:href=\"#glyph-1545683281241004-0-1\" x=\"47.089\" y=\"10.234\"/>\n",
       "  <use xlink:href=\"#glyph-1545683281241004-0-2\" x=\"52.628228\" y=\"10.234\"/>\n",
       "  <use xlink:href=\"#glyph-1545683281241004-0-3\" x=\"57.888502\" y=\"10.234\"/>\n",
       "</g>\n",
       "<g style=\"fill:rgb(0%,0%,0%);fill-opacity:1;\">\n",
       "  <use xlink:href=\"#glyph-1545683281241004-0-1\" x=\"17.354\" y=\"38.581\"/>\n",
       "  <use xlink:href=\"#glyph-1545683281241004-0-4\" x=\"22.893228\" y=\"38.581\"/>\n",
       "  <use xlink:href=\"#glyph-1545683281241004-0-3\" x=\"28.432456\" y=\"38.581\"/>\n",
       "</g>\n",
       "<g style=\"fill:rgb(0%,0%,0%);fill-opacity:1;\">\n",
       "  <use xlink:href=\"#glyph-1545683281241004-0-1\" x=\"47.089\" y=\"38.581\"/>\n",
       "  <use xlink:href=\"#glyph-1545683281241004-0-2\" x=\"52.628228\" y=\"38.581\"/>\n",
       "  <use xlink:href=\"#glyph-1545683281241004-0-5\" x=\"57.888502\" y=\"38.581\"/>\n",
       "</g>\n",
       "<g style=\"fill:rgb(0%,0%,0%);fill-opacity:1;\">\n",
       "  <use xlink:href=\"#glyph-1545683281241004-0-1\" x=\"3.321\" y=\"66.927\"/>\n",
       "  <use xlink:href=\"#glyph-1545683281241004-0-6\" x=\"8.860228\" y=\"66.927\"/>\n",
       "  <use xlink:href=\"#glyph-1545683281241004-0-3\" x=\"14.120502\" y=\"66.927\"/>\n",
       "</g>\n",
       "<g style=\"fill:rgb(0%,0%,0%);fill-opacity:1;\">\n",
       "  <use xlink:href=\"#glyph-1545683281241004-0-1\" x=\"31.667\" y=\"94.307\"/>\n",
       "  <use xlink:href=\"#glyph-1545683281241004-0-7\" x=\"37.206228\" y=\"94.307\"/>\n",
       "  <use xlink:href=\"#glyph-1545683281241004-0-3\" x=\"42.466502\" y=\"94.307\"/>\n",
       "</g>\n",
       "<g style=\"fill:rgb(0%,0%,0%);fill-opacity:1;\">\n",
       "  <use xlink:href=\"#glyph-1545683281241004-0-1\" x=\"84.853\" y=\"10.234\"/>\n",
       "  <use xlink:href=\"#glyph-1545683281241004-0-4\" x=\"90.392228\" y=\"10.234\"/>\n",
       "  <use xlink:href=\"#glyph-1545683281241004-0-5\" x=\"95.931456\" y=\"10.234\"/>\n",
       "</g>\n",
       "</g>\n",
       "</svg>\n",
       "\n"
      ],
      "text/plain": [
       "BayesNet{CategoricalCPD{Categorical{Float64}}}({6, 5} directed simple Int64 graph, CategoricalCPD{Categorical{Float64}}[4 instantiations:\n",
       "  dv1 (4), 6 instantiations:\n",
       "  du1 (6), 16 instantiations:\n",
       "  dv2 (4)\n",
       "  dv1 (4), 144 instantiations:\n",
       "  dx1 (6)\n",
       "  dv2 (4)\n",
       "  du1 (6), 144 instantiations:\n",
       "  dy1 (4)\n",
       "  dx1 (6)\n",
       "  du1 (6), 6 instantiations:\n",
       "  du2 (6)], Dict(:du2=>6,:dx1=>4,:du1=>2,:dv2=>3,:dv1=>1,:dy1=>5))"
      ]
     },
     "execution_count": 26,
     "metadata": {},
     "output_type": "execute_result"
    }
   ],
   "source": [
    "params = GreedyHillClimbing(ScoreComponentCache(data_transition), max_n_parents=3, \n",
    "prior=UniformPrior())\n",
    "bn_transition = fit(DiscreteBayesNet, data_transition, params, ncategories=n_trans_categories)"
   ]
  },
  {
   "cell_type": "markdown",
   "metadata": {},
   "source": [
    "###  Sampling"
   ]
  },
  {
   "cell_type": "markdown",
   "metadata": {},
   "source": [
    "Finally, we would like to sample the data given. We have already implemented the discretize assignment and would like you to convert the discrete samples to continuous samples. Use the method in the initial model as a reference. "
   ]
  },
  {
   "cell_type": "code",
   "execution_count": 27,
   "metadata": {},
   "outputs": [],
   "source": [
    "function Base.rand(bn::DiscretizedBayesNet, evidence::Assignment)\n",
    "    \n",
    "    # discretize the assignment\n",
    "    for (sym, disc) in bn.discs\n",
    "        evidence[sym] = encode(disc, evidence[sym]) \n",
    "    end\n",
    "    \n",
    "    sample = rand(model.dbn, evidence) # pull from discrete Bayes net\n",
    "    \n",
    "    # convert discrete samples to continuous samples\n",
    "    \n",
    "    # STUDENT CODE START\n",
    "    # STUDENT CODE END\n",
    "    \n",
    "    return sample\n",
    "end"
   ]
  },
  {
   "cell_type": "markdown",
   "metadata": {},
   "source": [
    "### Saving"
   ]
  },
  {
   "cell_type": "code",
   "execution_count": 28,
   "metadata": {},
   "outputs": [],
   "source": [
    "using BSON\n",
    "using BSON: @save\n",
    "bson(\"myencountermodel.bson\", Dict(:initial => bn_initial, :initdisc => D, :transition => bn_transition, :transdisc => D_trans))"
   ]
  }
 ],
 "metadata": {
  "kernelspec": {
   "display_name": "Julia 1.0.3",
   "language": "julia",
   "name": "julia-1.0"
  },
  "language_info": {
   "file_extension": ".jl",
   "mimetype": "application/julia",
   "name": "julia",
   "version": "1.0.3"
  },
  "widgets": {
   "state": {},
   "version": "2.0.10"
  }
 },
 "nbformat": 4,
 "nbformat_minor": 1
}
