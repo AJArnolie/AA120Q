{
 "cells": [
  {
   "cell_type": "markdown",
   "metadata": {},
   "source": [
    "## TCAS Encounters"
   ]
  },
  {
   "cell_type": "markdown",
   "metadata": {},
   "source": [
    "![TCAS](figures/TCAS_Volume.png)"
   ]
  },
  {
   "cell_type": "markdown",
   "metadata": {},
   "source": [
    "# Week 3 Assignment - Encounter Plotting"
   ]
  },
  {
   "cell_type": "markdown",
   "metadata": {},
   "source": [
    "### **Your task is to:**\n",
    "\n",
    "1.  Load example aircraft tracks from a file and plot them.\n",
    "2.  Propose a statistical model for capturing features from the data.\n",
    "\n",
    "### **What is Turned In:**\n",
    "Edit the contents of this notebook and turn in our final Julia notebook file (.ipynb), and any associated code files you wrote to Coursework. Do not use any external code or Julia packages other than those used in the class materials. For the second part of this assignment, please submit a document describing your proposed statistical model. "
   ]
  },
  {
   "cell_type": "markdown",
   "metadata": {},
   "source": [
    "### Aircraft Tracks\n",
    "\n",
    "![Encounter](figures/encounter_plot.png)\n",
    "\n",
    "An airspace encounter consists of two components - the initial conditions and the transitions over time.\n",
    "One file is provided for each.\n",
    "\n",
    "The data file, [`flights.csv`](http://web.stanford.edu/class/aa120q/data/flights.txt), contains a table with the following columns:\n",
    "\n",
    "| Variable | Type | Description |\n",
    "| -------- |:----:| ----------- |\n",
    "| **id**                  | Int   | trace id, same as in `initial.txt`    |\n",
    "| **t**                   | Int   | time in 1s intervals from 0 to 50    |\n",
    "| **x1**       | Float  | position along x-axis |  **x2**       | Float  | position along x-axis |\n",
    "| **y1**      | Float  | position along y-axis |  **y2**      | Float  | position along y-axis |\n",
    "| **u1**                  | Float   | airplane 1 vertical speed [m/s] | **u2**                  | Float   | airplane 2 vertical speed [m/s]   |\n",
    "| **v1**                  | Float   | airplane 1 horizontal speed [m/s]  | **v2**                  | Float   | airplane 2 horizontal speed [m/s]    |"
   ]
  },
  {
   "cell_type": "markdown",
   "metadata": {},
   "source": [
    "Write a program to load these trajectories and plot them.\n",
    "\n",
    "1.  Your algorithm must be implemented from scratch in Julia.\n",
    "2.  Although you may discuss your algorithm with others, you must not share code.\n",
    "\n",
    "Directions\n",
    "\n",
    "* Implement `pull_trajectory` to load a specific `Trajectory` from flights\n",
    "* Modify `plot_trajectory` to indicate the location of minimim separation"
   ]
  },
  {
   "cell_type": "markdown",
   "metadata": {},
   "source": [
    "# Milestone One: Implement Pull_Trajectory"
   ]
  },
  {
   "cell_type": "markdown",
   "metadata": {},
   "source": [
    "Your task is to implement the **pull_trajectory(flights::DataFrame, id::Int)**. Pull_encounter is a function that takes in two parameters, the DataFrame that stores the transitions over time and the trace id. This function will prepare an \"Encounter\" data structure for plotting, by initializing an array of 51 EncounterStates that reveals the AircraftState of both airplanes at each second in the 51 second time interval. "
   ]
  },
  {
   "cell_type": "markdown",
   "metadata": {},
   "source": [
    "## Data Structures"
   ]
  },
  {
   "cell_type": "markdown",
   "metadata": {},
   "source": [
    "Below, we will first load the data from our \"flights.csv\" text file which stores information about the position and velocities of both aircraftat at each time step. We have also defined two types, AircraftState which describes the position and velocity of an aircraft and EncounterState, which defines the states of both aircraft at a given time step. We also have a constant called \"Trajectory\" which is a vector of EncounterStates. You will be using the data structure along with these two types to load the data into the Trajectory constant and analyze the trajectories of both aircraft."
   ]
  },
  {
   "cell_type": "markdown",
   "metadata": {},
   "source": [
    "### DataFrames"
   ]
  },
  {
   "cell_type": "markdown",
   "metadata": {},
   "source": [
    "Remember that an airplane encounter consists of the initial conditions and the transitions over time. To implement Pull_Encounter, you will be given one data frame EncounterState, that stores the states of both aircraft over each second of the time interval. You will need to load an array with the values of both aircraft states."
   ]
  },
  {
   "cell_type": "markdown",
   "metadata": {},
   "source": [
    "#### Inital Conditions DataFrame"
   ]
  },
  {
   "cell_type": "code",
   "execution_count": 1,
   "metadata": {
    "scrolled": true
   },
   "outputs": [
    {
     "data": {
      "text/html": [
       "<table class=\"data-frame\"><thead><tr><th></th><th>id</th><th>x1</th><th>y1</th><th>u1</th><th>v1</th><th>x2</th><th>y2</th><th>u2</th><th>v2</th><th>t</th></tr><tr><th></th><th>Int64⍰</th><th>Float64⍰</th><th>Float64⍰</th><th>Float64⍰</th><th>Float64⍰</th><th>Float64⍰</th><th>Float64⍰</th><th>Float64⍰</th><th>Float64⍰</th><th>Int64⍰</th></tr></thead><tbody><p>3 rows × 10 columns</p><tr><th>1</th><td>1</td><td>0.0</td><td>10313.0</td><td>224.604</td><td>0.0213703</td><td>-897.73</td><td>10112.0</td><td>243.037</td><td>0.480057</td><td>0</td></tr><tr><th>2</th><td>1</td><td>224.638</td><td>10313.0</td><td>224.673</td><td>-0.0922206</td><td>-654.645</td><td>10112.5</td><td>243.131</td><td>0.458075</td><td>1</td></tr><tr><th>3</th><td>1</td><td>449.327</td><td>10312.9</td><td>224.705</td><td>-0.185167</td><td>-411.497</td><td>10113.0</td><td>243.165</td><td>0.448498</td><td>2</td></tr></tbody></table>"
      ],
      "text/latex": [
       "\\begin{tabular}{r|cccccccccc}\n",
       "\t& id & x1 & y1 & u1 & v1 & x2 & y2 & u2 & v2 & t\\\\\n",
       "\t\\hline\n",
       "\t1 & 1 & 0.0 & 10313.0 & 224.604 & 0.0213703 & -897.73 & 10112.0 & 243.037 & 0.480057 & 0 \\\\\n",
       "\t2 & 1 & 224.638 & 10313.0 & 224.673 & -0.0922206 & -654.645 & 10112.5 & 243.131 & 0.458075 & 1 \\\\\n",
       "\t3 & 1 & 449.327 & 10312.9 & 224.705 & -0.185167 & -411.497 & 10113.0 & 243.165 & 0.448498 & 2 \\\\\n",
       "\\end{tabular}\n"
      ],
      "text/plain": [
       "3×10 DataFrame. Omitted printing of 4 columns\n",
       "│ Row │ id     │ x1       │ y1       │ u1       │ v1         │ x2       │\n",
       "│     │ \u001b[90mInt64⍰\u001b[39m │ \u001b[90mFloat64⍰\u001b[39m │ \u001b[90mFloat64⍰\u001b[39m │ \u001b[90mFloat64⍰\u001b[39m │ \u001b[90mFloat64⍰\u001b[39m   │ \u001b[90mFloat64⍰\u001b[39m │\n",
       "├─────┼────────┼──────────┼──────────┼──────────┼────────────┼──────────┤\n",
       "│ 1   │ 1      │ 0.0      │ 10313.0  │ 224.604  │ 0.0213703  │ -897.73  │\n",
       "│ 2   │ 1      │ 224.638  │ 10313.0  │ 224.673  │ -0.0922206 │ -654.645 │\n",
       "│ 3   │ 1      │ 449.327  │ 10312.9  │ 224.705  │ -0.185167  │ -411.497 │"
      ]
     },
     "execution_count": 1,
     "metadata": {},
     "output_type": "execute_result"
    }
   ],
   "source": [
    "# Load initial.txt as a DataFrame\n",
    "using DataFrames, CSV\n",
    "\n",
    "flights = CSV.read(joinpath(@__DIR__, \"..\", \"data\", \"flights.csv\"))\n",
    "flights[1:3,:]"
   ]
  },
  {
   "cell_type": "markdown",
   "metadata": {},
   "source": [
    "### Types"
   ]
  },
  {
   "cell_type": "markdown",
   "metadata": {},
   "source": [
    "#### `AircraftState`"
   ]
  },
  {
   "cell_type": "markdown",
   "metadata": {},
   "source": [
    "This is a type which describes the aircraft state. You will need to create air craft states for each time step given by the data set above. "
   ]
  },
  {
   "cell_type": "code",
   "execution_count": 2,
   "metadata": {},
   "outputs": [],
   "source": [
    "struct AircraftState\n",
    "    x::Float64  # horizontal position [m]\n",
    "    y::Float64  # veritcal position   [m]\n",
    "    u::Float64  # horizontal speed    [m/s]\n",
    "    v::Float64  # vertical speed      [m/s]\n",
    "end"
   ]
  },
  {
   "cell_type": "markdown",
   "metadata": {},
   "source": [
    "#### `EncounterState` "
   ]
  },
  {
   "cell_type": "markdown",
   "metadata": {},
   "source": [
    "This is a type which describes an encounter between two aircraft by defining the two aircrafts's current state at the given time interval. This is the data structure that you will need to initialize in pull_encoutner."
   ]
  },
  {
   "cell_type": "code",
   "execution_count": 3,
   "metadata": {},
   "outputs": [],
   "source": [
    "mutable struct EncounterState\n",
    "    plane1::AircraftState\n",
    "    plane2::AircraftState\n",
    "    t::Float64\n",
    "end"
   ]
  },
  {
   "cell_type": "markdown",
   "metadata": {},
   "source": [
    "#### `Trajectory` "
   ]
  },
  {
   "cell_type": "code",
   "execution_count": 4,
   "metadata": {},
   "outputs": [
    {
     "data": {
      "text/plain": [
       "Array{EncounterState,1}"
      ]
     },
     "execution_count": 4,
     "metadata": {},
     "output_type": "execute_result"
    }
   ],
   "source": [
    "const Trajectory = Vector{EncounterState}"
   ]
  },
  {
   "cell_type": "markdown",
   "metadata": {},
   "source": [
    "### Pull_trajectory:"
   ]
  },
  {
   "cell_type": "markdown",
   "metadata": {},
   "source": [
    "We have already loaded the data from \"flights.csv\" into a variable called flights above. Your task now is to get the data in flights, and store it into a Trajectory constant. This means that you will need to go through each time step and store the state of both aircraft into an EncounterState and load that into a vector. Your function should produce a vector of length 51 for each state of both your ego and intruder from time 0 to 50. \n",
    "\n",
    "This function will return a Trajectory, or a vector of EncounterStates. You will need to initialize the trajectory vector with the data from the flights.csv file that we loaded above. You will load them into a vector of 51 elements, one for each time step. "
   ]
  },
  {
   "cell_type": "markdown",
   "metadata": {},
   "source": [
    "### Starter Code:"
   ]
  },
  {
   "cell_type": "code",
   "execution_count": 5,
   "metadata": {},
   "outputs": [
    {
     "data": {
      "text/plain": [
       "pull_trajectory (generic function with 1 method)"
      ]
     },
     "execution_count": 5,
     "metadata": {},
     "output_type": "execute_result"
    }
   ],
   "source": [
    "function pull_trajectory(flights::DataFrame, id::Int)\n",
    "    \n",
    "    flightids = flights[:id] # Gets the data from the specific ID we pass in\n",
    "    \n",
    "    # STUDENT CODE START\n",
    "    #STUDENT CODE END\n",
    "    \n",
    "    return traj # returns the vector of EncounterStates\n",
    "end"
   ]
  },
  {
   "cell_type": "code",
   "execution_count": 6,
   "metadata": {},
   "outputs": [
    {
     "data": {
      "text/plain": [
       "51-element Array{EncounterState,1}:\n",
       " EncounterState(AircraftState(0.0, 10313.039622514178, 224.60362513262163, 0.02137033852293519), AircraftState(-897.7295246747952, 10112.049974300095, 243.0374695645999, 0.48005710759158504), 0.0)                  \n",
       " EncounterState(AircraftState(224.63824998885147, 10312.995667334792, 224.6728748450813, -0.09222064878809014), AircraftState(-654.6453030694042, 10112.508884732344, 243.13097364618216, 0.4580751372747758), 1.0)   \n",
       " EncounterState(AircraftState(449.326955120694, 10312.862062854987, 224.7045354186037, -0.1851667209451261), AircraftState(-411.4973384189747, 10112.970259650147, 243.16495565467687, 0.4484983934689455), 2.0)      \n",
       " EncounterState(AircraftState(673.9824690192593, 10312.638710451658, 224.60649237852678, -0.23798311683189233), AircraftState(-168.3248659384161, 10113.39791777062, 243.1799893064405, 0.41503040368617833), 3.0)    \n",
       " EncounterState(AircraftState(898.5993241678365, 10312.400949724311, 224.6272179186275, -0.2462402037537317), AircraftState(74.90068190210604, 10113.802947402042, 243.27110637460396, 0.3894432474716427), 4.0)      \n",
       " EncounterState(AircraftState(1123.1870323370163, 10312.124298519857, 224.54819841973196, -0.3202918635517386), AircraftState(318.1575115098732, 10114.145284114034, 243.2425528409304, 0.26929563666318007), 5.0)    \n",
       " EncounterState(AircraftState(1347.7160475886494, 10311.768539032417, 224.50983208353432, -0.3698244177180636), AircraftState(561.4238068120527, 10114.311867059094, 243.29003776342878, 0.06013317702566797), 6.0)   \n",
       " EncounterState(AircraftState(1572.3184016466737, 10311.407405797534, 224.69487603251403, -0.35108863254541295), AircraftState(804.7644146732172, 10114.292489097497, 243.39117795890053, -0.06821339437634844), 7.0) \n",
       " EncounterState(AircraftState(1797.0406263202042, 10311.096210249934, 224.74957331454692, -0.24280739955219888), AircraftState(1048.1226917682607, 10114.247977225767, 243.32537623118634, 0.021050900497991992), 8.0)\n",
       " EncounterState(AircraftState(2021.8120042177125, 10310.936080478643, 224.79318248046948, -0.09165772592044832), AircraftState(1291.469827017329, 10114.398266321188, 243.36889426695106, 0.3013414634584487), 9.0)   \n",
       " EncounterState(AircraftState(2246.5576808137375, 10310.868685415453, 224.69817071158013, -0.0731362002058799), AircraftState(1534.8950194759327, 10114.865090963367, 243.4814906502566, 0.6249244584751409), 10.0)   \n",
       " EncounterState(AircraftState(2471.1993274613824, 10310.730923807618, 224.58512258370973, -0.23126748633288843), AircraftState(1778.371286491462, 10115.6187753395, 243.47104338080166, 0.8604877575810138), 11.0)    \n",
       " EncounterState(AircraftState(2695.757604689265, 10310.36491632204, 224.5314318720559, -0.5131011347061848), AircraftState(2021.8682462896131, 10116.571484441607, 243.52287621550047, 1.0523049459214593), 12.0)     \n",
       " ⋮                                                                                                                                                                                                                    \n",
       " EncounterState(AircraftState(8765.19547758919, 10184.735096728298, 224.93313365857898, -6.007952890044298), AircraftState(8607.148821682877, 10197.207710915996, 243.92044147912813, 4.848049278558407), 39.0)       \n",
       " EncounterState(AircraftState(8990.17825265571, 10178.897694698717, 225.03241647446427, -5.697992720869612), AircraftState(8851.150205794227, 10202.017646301096, 244.08232674357586, 4.775941551507516), 40.0)       \n",
       " EncounterState(AircraftState(9215.243718711867, 10173.30750118696, 225.09851563784986, -5.482862850483354), AircraftState(9095.219110621132, 10206.807585888131, 244.05548291023644, 4.84780943181254), 41.0)        \n",
       " EncounterState(AircraftState(9440.33153647445, 10167.926438984481, 225.07711988731765, -5.284323019900688), AircraftState(9339.28620816895, 10211.760367092478, 244.0787121854013, 5.060983095389138), 42.0)         \n",
       " EncounterState(AircraftState(9665.39166175171, 10162.717443222373, 225.04313066720326, -5.150018963671146), AircraftState(9583.27490835661, 10216.94215415894, 243.89868818991755, 5.311962999062348), 43.0)         \n",
       " EncounterState(AircraftState(9890.449388538926, 10157.626423304502, 225.07232290722825, -5.01564816534461), AircraftState(9827.173733464959, 10222.377263069287, 243.89896202677778, 5.541852838794129), 44.0)       \n",
       " EncounterState(AircraftState(10115.50904341241, 10152.703310841853, 225.0469868397404, -4.829785516510308), AircraftState(10071.073244427793, 10228.019107261216, 243.90005989888823, 5.751484952589893), 45.0)      \n",
       " EncounterState(AircraftState(10340.50582746159, 10148.001561779269, 224.94658125861443, -4.5397943443145214), AircraftState(10314.973261883906, 10233.856005983129, 243.89997501333838, 5.888436092365252), 46.0)    \n",
       " EncounterState(AircraftState(10565.403295289992, 10143.651919638294, 224.84835439818963, -4.165210716908051), AircraftState(10558.882969324677, 10239.77206267683, 243.9194398682038, 5.953636924785779), 47.0)      \n",
       " EncounterState(AircraftState(10790.244827606311, 10139.650979111504, 224.83471023444977, -3.8511107913461995), AircraftState(10802.886026571587, 10245.762466556947, 244.08667462561593, 6.01639792994985), 48.0)    \n",
       " EncounterState(AircraftState(11015.090618052676, 10135.9021379173, 224.85687065827778, -3.6796912806929365), AircraftState(11046.935516942709, 10251.833348614657, 244.01230611662797, 6.164629168897233), 49.0)     \n",
       " EncounterState(AircraftState(11239.873125247797, 10132.256778761457, 224.70814373196433, -3.612725136025648), AircraftState(11290.92857179526, 10258.144848148138, 243.97380358847244, 6.472230168032315), 50.0)     "
      ]
     },
     "execution_count": 6,
     "metadata": {},
     "output_type": "execute_result"
    }
   ],
   "source": [
    "pull_trajectory(flights, 1) # Test if function works"
   ]
  },
  {
   "cell_type": "markdown",
   "metadata": {},
   "source": [
    "## Implement Plot_Separations"
   ]
  },
  {
   "cell_type": "markdown",
   "metadata": {},
   "source": [
    "Now that you have the aircraft states loaded into an array you can graphically display the trajectories of the two aircraft over a period of time. We have done this for you with the plot_trajectory function below have given you the code. We would now like you to implement plot_separations, which will display the horizontal, vertical, and total separations of the two aircraft on the same plot. \n",
    "\n",
    "Take time to step through the function yourself and see how it is implemented because in the next part you will be asked to implement plot_separations, which will display the distance between the two aircraft horizontally, vertically, and in total."
   ]
  },
  {
   "cell_type": "markdown",
   "metadata": {},
   "source": [
    "### Plot_Trajectory "
   ]
  },
  {
   "cell_type": "markdown",
   "metadata": {},
   "source": [
    "This is the plot for the trajectories of both aircraft. It displays the path that both aircraft follow on an x-y plane. \n",
    "\n",
    "(Use the code provided below as a reference for your implementation of plot_separations)"
   ]
  },
  {
   "cell_type": "code",
   "execution_count": 7,
   "metadata": {
    "scrolled": true
   },
   "outputs": [
    {
     "data": {
      "text/plain": [
       "plot_trajectory (generic function with 1 method)"
      ]
     },
     "execution_count": 7,
     "metadata": {},
     "output_type": "execute_result"
    }
   ],
   "source": [
    "using Plots; gr()\n",
    "\n",
    "# Finds the overall serparation between two aircraft\n",
    "get_separation(state::EncounterState) = hypot(state.plane1.x - state.plane2.x,\n",
    "                                              state.plane1.y - state.plane2.y)\n",
    "# Determines what is the minimum serparation between the two aircraft\n",
    "get_min_separation(traj::Trajectory) = minimum(get_separation(s) for s in traj) \n",
    "\n",
    "# Finds the index of the minimum serparation \n",
    "find_min_separation(traj::Trajectory) = argmin([get_separation(s) for s in traj])\n",
    "\n",
    "function plot_trajectory(traj::Trajectory) \n",
    "    d = get_min_separation(traj)  # closest dist \n",
    "    i = find_min_separation(traj) # index of closest dist\n",
    "\n",
    "    palette=[colorant\"0x52E3F6\", colorant\"0x79ABFF\", colorant\"0xFF007F\"]\n",
    "    t_arr = (collect(1:length(traj)).-1) # time interval\n",
    "    \n",
    "    # Gets the x and y values for both planes \n",
    "    x1_arr = map(s->s.plane1.x,traj)\n",
    "    y1_arr = map(s->s.plane1.y,traj)\n",
    "    x2_arr = map(s->s.plane2.x,traj)\n",
    "    y2_arr = map(s->s.plane2.y,traj)\n",
    "\n",
    "    # Plots the trajectories \n",
    "    p1 = plot(Vector{Float64}[x1_arr, x2_arr, [traj[i].plane1.x, traj[i].plane2.x]],\n",
    "              Vector{Float64}[y1_arr, y2_arr, [traj[i].plane1.y, traj[i].plane2.y]],\n",
    "              xlabel=\"x [m]\", ylabel=\"y [m]\", label=[\"Plane1\" \"Plane2\" \"Min Separation\"],\n",
    "              palette=palette, linewidth=4)\n",
    "    \n",
    "    # Plots the point where the minimum separation occurs \n",
    "    scatter!(p1, Vector{Float64}[Float64[traj[1].plane1.x], Float64[traj[1].plane2.x]],\n",
    "                 Vector{Float64}[Float64[traj[1].plane1.y], Float64[traj[1].plane2.y]],\n",
    "                 label=[\"Plane1 Initial\" \"Plane2 Initial\"])\n",
    "    \n",
    "    plot(p1, size=(800,400))\n",
    "end"
   ]
  },
  {
   "cell_type": "code",
   "execution_count": 8,
   "metadata": {},
   "outputs": [
    {
     "data": {
      "image/svg+xml": [
       "<?xml version=\"1.0\" encoding=\"utf-8\"?>\n",
       "<svg xmlns=\"http://www.w3.org/2000/svg\" xmlns:xlink=\"http://www.w3.org/1999/xlink\" width=\"800\" height=\"400\" viewBox=\"0 0 3200 1600\">\n",
       "<defs>\n",
       "  <clipPath id=\"clip1600\">\n",
       "    <rect x=\"0\" y=\"0\" width=\"2000\" height=\"2000\"/>\n",
       "  </clipPath>\n",
       "</defs>\n",
       "<defs>\n",
       "  <clipPath id=\"clip1601\">\n",
       "    <rect x=\"0\" y=\"0\" width=\"3200\" height=\"1600\"/>\n",
       "  </clipPath>\n",
       "</defs>\n",
       "<polygon clip-path=\"url(#clip1601)\" points=\"\n",
       "0,1600 3200,1600 3200,0 0,0 \n",
       "  \" fill=\"#ffffff\" fill-rule=\"evenodd\" fill-opacity=\"1\"/>\n",
       "<defs>\n",
       "  <clipPath id=\"clip1602\">\n",
       "    <rect x=\"640\" y=\"0\" width=\"2241\" height=\"1600\"/>\n",
       "  </clipPath>\n",
       "</defs>\n",
       "<polygon clip-path=\"url(#clip1601)\" points=\"\n",
       "291.292,1440.48 3121.26,1440.48 3121.26,47.2441 291.292,47.2441 \n",
       "  \" fill=\"#ffffff\" fill-rule=\"evenodd\" fill-opacity=\"1\"/>\n",
       "<defs>\n",
       "  <clipPath id=\"clip1603\">\n",
       "    <rect x=\"291\" y=\"47\" width=\"2831\" height=\"1394\"/>\n",
       "  </clipPath>\n",
       "</defs>\n",
       "<polyline clip-path=\"url(#clip1603)\" style=\"stroke:#000000; stroke-width:2; stroke-opacity:0.1; fill:none\" points=\"\n",
       "  568.022,1440.48 568.022,47.2441 \n",
       "  \"/>\n",
       "<polyline clip-path=\"url(#clip1603)\" style=\"stroke:#000000; stroke-width:2; stroke-opacity:0.1; fill:none\" points=\"\n",
       "  1115.62,1440.48 1115.62,47.2441 \n",
       "  \"/>\n",
       "<polyline clip-path=\"url(#clip1603)\" style=\"stroke:#000000; stroke-width:2; stroke-opacity:0.1; fill:none\" points=\"\n",
       "  1663.21,1440.48 1663.21,47.2441 \n",
       "  \"/>\n",
       "<polyline clip-path=\"url(#clip1603)\" style=\"stroke:#000000; stroke-width:2; stroke-opacity:0.1; fill:none\" points=\"\n",
       "  2210.81,1440.48 2210.81,47.2441 \n",
       "  \"/>\n",
       "<polyline clip-path=\"url(#clip1603)\" style=\"stroke:#000000; stroke-width:2; stroke-opacity:0.1; fill:none\" points=\"\n",
       "  2758.4,1440.48 2758.4,47.2441 \n",
       "  \"/>\n",
       "<polyline clip-path=\"url(#clip1603)\" style=\"stroke:#000000; stroke-width:2; stroke-opacity:0.1; fill:none\" points=\"\n",
       "  291.292,1152.88 3121.26,1152.88 \n",
       "  \"/>\n",
       "<polyline clip-path=\"url(#clip1603)\" style=\"stroke:#000000; stroke-width:2; stroke-opacity:0.1; fill:none\" points=\"\n",
       "  291.292,825.9 3121.26,825.9 \n",
       "  \"/>\n",
       "<polyline clip-path=\"url(#clip1603)\" style=\"stroke:#000000; stroke-width:2; stroke-opacity:0.1; fill:none\" points=\"\n",
       "  291.292,498.924 3121.26,498.924 \n",
       "  \"/>\n",
       "<polyline clip-path=\"url(#clip1603)\" style=\"stroke:#000000; stroke-width:2; stroke-opacity:0.1; fill:none\" points=\"\n",
       "  291.292,171.948 3121.26,171.948 \n",
       "  \"/>\n",
       "<polyline clip-path=\"url(#clip1601)\" style=\"stroke:#000000; stroke-width:4; stroke-opacity:1; fill:none\" points=\"\n",
       "  291.292,1440.48 3121.26,1440.48 \n",
       "  \"/>\n",
       "<polyline clip-path=\"url(#clip1601)\" style=\"stroke:#000000; stroke-width:4; stroke-opacity:1; fill:none\" points=\"\n",
       "  291.292,1440.48 291.292,47.2441 \n",
       "  \"/>\n",
       "<polyline clip-path=\"url(#clip1601)\" style=\"stroke:#000000; stroke-width:4; stroke-opacity:1; fill:none\" points=\"\n",
       "  568.022,1440.48 568.022,1419.58 \n",
       "  \"/>\n",
       "<polyline clip-path=\"url(#clip1601)\" style=\"stroke:#000000; stroke-width:4; stroke-opacity:1; fill:none\" points=\"\n",
       "  1115.62,1440.48 1115.62,1419.58 \n",
       "  \"/>\n",
       "<polyline clip-path=\"url(#clip1601)\" style=\"stroke:#000000; stroke-width:4; stroke-opacity:1; fill:none\" points=\"\n",
       "  1663.21,1440.48 1663.21,1419.58 \n",
       "  \"/>\n",
       "<polyline clip-path=\"url(#clip1601)\" style=\"stroke:#000000; stroke-width:4; stroke-opacity:1; fill:none\" points=\"\n",
       "  2210.81,1440.48 2210.81,1419.58 \n",
       "  \"/>\n",
       "<polyline clip-path=\"url(#clip1601)\" style=\"stroke:#000000; stroke-width:4; stroke-opacity:1; fill:none\" points=\"\n",
       "  2758.4,1440.48 2758.4,1419.58 \n",
       "  \"/>\n",
       "<polyline clip-path=\"url(#clip1601)\" style=\"stroke:#000000; stroke-width:4; stroke-opacity:1; fill:none\" points=\"\n",
       "  291.292,1152.88 333.742,1152.88 \n",
       "  \"/>\n",
       "<polyline clip-path=\"url(#clip1601)\" style=\"stroke:#000000; stroke-width:4; stroke-opacity:1; fill:none\" points=\"\n",
       "  291.292,825.9 333.742,825.9 \n",
       "  \"/>\n",
       "<polyline clip-path=\"url(#clip1601)\" style=\"stroke:#000000; stroke-width:4; stroke-opacity:1; fill:none\" points=\"\n",
       "  291.292,498.924 333.742,498.924 \n",
       "  \"/>\n",
       "<polyline clip-path=\"url(#clip1601)\" style=\"stroke:#000000; stroke-width:4; stroke-opacity:1; fill:none\" points=\"\n",
       "  291.292,171.948 333.742,171.948 \n",
       "  \"/>\n",
       "<g clip-path=\"url(#clip1601)\">\n",
       "<text style=\"fill:#000000; fill-opacity:1; font-family:Arial,Helvetica Neue,Helvetica,sans-serif; font-size:48px; text-anchor:middle;\" transform=\"rotate(0, 568.022, 1498.48)\" x=\"568.022\" y=\"1498.48\">0</text>\n",
       "</g>\n",
       "<g clip-path=\"url(#clip1601)\">\n",
       "<text style=\"fill:#000000; fill-opacity:1; font-family:Arial,Helvetica Neue,Helvetica,sans-serif; font-size:48px; text-anchor:middle;\" transform=\"rotate(0, 1115.62, 1498.48)\" x=\"1115.62\" y=\"1498.48\">2500</text>\n",
       "</g>\n",
       "<g clip-path=\"url(#clip1601)\">\n",
       "<text style=\"fill:#000000; fill-opacity:1; font-family:Arial,Helvetica Neue,Helvetica,sans-serif; font-size:48px; text-anchor:middle;\" transform=\"rotate(0, 1663.21, 1498.48)\" x=\"1663.21\" y=\"1498.48\">5000</text>\n",
       "</g>\n",
       "<g clip-path=\"url(#clip1601)\">\n",
       "<text style=\"fill:#000000; fill-opacity:1; font-family:Arial,Helvetica Neue,Helvetica,sans-serif; font-size:48px; text-anchor:middle;\" transform=\"rotate(0, 2210.81, 1498.48)\" x=\"2210.81\" y=\"1498.48\">7500</text>\n",
       "</g>\n",
       "<g clip-path=\"url(#clip1601)\">\n",
       "<text style=\"fill:#000000; fill-opacity:1; font-family:Arial,Helvetica Neue,Helvetica,sans-serif; font-size:48px; text-anchor:middle;\" transform=\"rotate(0, 2758.4, 1498.48)\" x=\"2758.4\" y=\"1498.48\">10000</text>\n",
       "</g>\n",
       "<g clip-path=\"url(#clip1601)\">\n",
       "<text style=\"fill:#000000; fill-opacity:1; font-family:Arial,Helvetica Neue,Helvetica,sans-serif; font-size:48px; text-anchor:end;\" transform=\"rotate(0, 259.292, 1170.38)\" x=\"259.292\" y=\"1170.38\">10150</text>\n",
       "</g>\n",
       "<g clip-path=\"url(#clip1601)\">\n",
       "<text style=\"fill:#000000; fill-opacity:1; font-family:Arial,Helvetica Neue,Helvetica,sans-serif; font-size:48px; text-anchor:end;\" transform=\"rotate(0, 259.292, 843.4)\" x=\"259.292\" y=\"843.4\">10200</text>\n",
       "</g>\n",
       "<g clip-path=\"url(#clip1601)\">\n",
       "<text style=\"fill:#000000; fill-opacity:1; font-family:Arial,Helvetica Neue,Helvetica,sans-serif; font-size:48px; text-anchor:end;\" transform=\"rotate(0, 259.292, 516.424)\" x=\"259.292\" y=\"516.424\">10250</text>\n",
       "</g>\n",
       "<g clip-path=\"url(#clip1601)\">\n",
       "<text style=\"fill:#000000; fill-opacity:1; font-family:Arial,Helvetica Neue,Helvetica,sans-serif; font-size:48px; text-anchor:end;\" transform=\"rotate(0, 259.292, 189.448)\" x=\"259.292\" y=\"189.448\">10300</text>\n",
       "</g>\n",
       "<g clip-path=\"url(#clip1601)\">\n",
       "<text style=\"fill:#000000; fill-opacity:1; font-family:Arial,Helvetica Neue,Helvetica,sans-serif; font-size:66px; text-anchor:middle;\" transform=\"rotate(0, 1706.28, 1590.4)\" x=\"1706.28\" y=\"1590.4\">x [m]</text>\n",
       "</g>\n",
       "<g clip-path=\"url(#clip1601)\">\n",
       "<text style=\"fill:#000000; fill-opacity:1; font-family:Arial,Helvetica Neue,Helvetica,sans-serif; font-size:66px; text-anchor:middle;\" transform=\"rotate(-90, 57.6, 743.863)\" x=\"57.6\" y=\"743.863\">y [m]</text>\n",
       "</g>\n",
       "<polyline clip-path=\"url(#clip1603)\" style=\"stroke:#51e3f6; stroke-width:16; stroke-opacity:1; fill:none\" points=\"\n",
       "  568.022,86.6754 617.227,86.9628 666.442,87.8365 715.65,89.2971 764.85,90.852 814.043,92.6612 863.224,94.9876 912.42,97.3493 961.643,99.3844 1010.88,100.432 \n",
       "  1060.1,100.872 1109.31,101.773 1158.5,104.167 1207.67,108.506 1256.87,114.559 1306.07,122.054 1355.26,131.349 1404.48,142.721 1453.71,156.781 1502.94,173.365 \n",
       "  1552.17,192.909 1601.4,215.417 1650.61,240.468 1699.82,267.856 1749.05,298.202 1798.3,331.274 1847.54,366.449 1896.75,403.353 1945.95,441.438 1995.16,480.698 \n",
       "  2044.37,521.525 2093.59,564.409 2142.83,609.21 2192.09,656.046 2241.37,703.756 2290.68,751.047 2340.01,797.474 2389.34,842.552 2438.65,885.236 2487.93,925.725 \n",
       "  2537.21,963.899 2586.51,1000.46 2635.82,1035.65 2685.11,1069.71 2734.41,1103 2783.7,1135.2 2832.99,1165.95 2882.25,1194.39 2931.5,1220.55 2980.75,1245.07 \n",
       "  3029.98,1268.91 \n",
       "  \"/>\n",
       "<polyline clip-path=\"url(#clip1603)\" style=\"stroke:#79abff; stroke-width:16; stroke-opacity:1; fill:none\" points=\"\n",
       "  371.385,1401.05 424.63,1398.05 477.889,1395.03 531.153,1392.24 584.429,1389.59 637.711,1387.35 690.996,1386.26 744.297,1386.39 797.601,1386.68 850.904,1385.69 \n",
       "  904.223,1382.64 957.554,1377.71 1010.89,1371.48 1064.22,1363.93 1117.55,1355.14 1170.9,1345.49 1224.29,1335.87 1277.71,1326.4 1331.16,1317.46 1384.6,1309.24 \n",
       "  1438,1300.97 1491.39,1291.8 1544.78,1281.22 1598.17,1268.67 1651.58,1253.98 1704.98,1237.15 1758.4,1218.06 1811.83,1196.99 1865.25,1174.19 1918.67,1149.51 \n",
       "  1972.1,1123.25 2025.55,1095.2 2079.02,1065.8 2132.51,1035.23 2185.99,1004.01 2239.48,972.452 2292.98,940.458 2346.46,908.314 2399.9,876.101 2453.32,844.161 \n",
       "  2506.76,812.706 2560.22,781.382 2613.68,748.993 2667.13,715.107 2720.55,679.564 2773.97,642.669 2827.39,604.498 2880.82,565.81 2934.27,526.636 2987.72,486.935 \n",
       "  3041.17,445.661 \n",
       "  \"/>\n",
       "<polyline clip-path=\"url(#clip1603)\" style=\"stroke:#ff007f; stroke-width:16; stroke-opacity:1; fill:none\" points=\"\n",
       "  2783.7,1135.2 2773.97,642.669 \n",
       "  \"/>\n",
       "<circle clip-path=\"url(#clip1603)\" style=\"fill:#000000; stroke:none; fill-opacity:1\" cx=\"568.022\" cy=\"86.6754\" r=\"18\"/>\n",
       "<circle clip-path=\"url(#clip1603)\" style=\"fill:#51e3f6; stroke:none; fill-opacity:1\" cx=\"568.022\" cy=\"86.6754\" r=\"14\"/>\n",
       "<circle clip-path=\"url(#clip1603)\" style=\"fill:#000000; stroke:none; fill-opacity:1\" cx=\"371.385\" cy=\"1401.05\" r=\"18\"/>\n",
       "<circle clip-path=\"url(#clip1603)\" style=\"fill:#79abff; stroke:none; fill-opacity:1\" cx=\"371.385\" cy=\"1401.05\" r=\"14\"/>\n",
       "<polygon clip-path=\"url(#clip1601)\" points=\"\n",
       "2381.56,541.644 3025.26,541.644 3025.26,178.764 2381.56,178.764 \n",
       "  \" fill=\"#ffffff\" fill-rule=\"evenodd\" fill-opacity=\"1\"/>\n",
       "<polyline clip-path=\"url(#clip1601)\" style=\"stroke:#000000; stroke-width:4; stroke-opacity:1; fill:none\" points=\"\n",
       "  2381.56,541.644 3025.26,541.644 3025.26,178.764 2381.56,178.764 2381.56,541.644 \n",
       "  \"/>\n",
       "<polyline clip-path=\"url(#clip1601)\" style=\"stroke:#51e3f6; stroke-width:16; stroke-opacity:1; fill:none\" points=\"\n",
       "  2413.56,239.244 2605.56,239.244 \n",
       "  \"/>\n",
       "<g clip-path=\"url(#clip1601)\">\n",
       "<text style=\"fill:#000000; fill-opacity:1; font-family:Arial,Helvetica Neue,Helvetica,sans-serif; font-size:48px; text-anchor:start;\" transform=\"rotate(0, 2637.56, 256.744)\" x=\"2637.56\" y=\"256.744\">Plane1</text>\n",
       "</g>\n",
       "<polyline clip-path=\"url(#clip1601)\" style=\"stroke:#79abff; stroke-width:16; stroke-opacity:1; fill:none\" points=\"\n",
       "  2413.56,299.724 2605.56,299.724 \n",
       "  \"/>\n",
       "<g clip-path=\"url(#clip1601)\">\n",
       "<text style=\"fill:#000000; fill-opacity:1; font-family:Arial,Helvetica Neue,Helvetica,sans-serif; font-size:48px; text-anchor:start;\" transform=\"rotate(0, 2637.56, 317.224)\" x=\"2637.56\" y=\"317.224\">Plane2</text>\n",
       "</g>\n",
       "<polyline clip-path=\"url(#clip1601)\" style=\"stroke:#ff007f; stroke-width:16; stroke-opacity:1; fill:none\" points=\"\n",
       "  2413.56,360.204 2605.56,360.204 \n",
       "  \"/>\n",
       "<g clip-path=\"url(#clip1601)\">\n",
       "<text style=\"fill:#000000; fill-opacity:1; font-family:Arial,Helvetica Neue,Helvetica,sans-serif; font-size:48px; text-anchor:start;\" transform=\"rotate(0, 2637.56, 377.704)\" x=\"2637.56\" y=\"377.704\">Min Separation</text>\n",
       "</g>\n",
       "<circle clip-path=\"url(#clip1601)\" style=\"fill:#000000; stroke:none; fill-opacity:1\" cx=\"2525.56\" cy=\"420.684\" r=\"25\"/>\n",
       "<circle clip-path=\"url(#clip1601)\" style=\"fill:#51e3f6; stroke:none; fill-opacity:1\" cx=\"2525.56\" cy=\"420.684\" r=\"21\"/>\n",
       "<g clip-path=\"url(#clip1601)\">\n",
       "<text style=\"fill:#000000; fill-opacity:1; font-family:Arial,Helvetica Neue,Helvetica,sans-serif; font-size:48px; text-anchor:start;\" transform=\"rotate(0, 2637.56, 438.184)\" x=\"2637.56\" y=\"438.184\">Plane1 Initial</text>\n",
       "</g>\n",
       "<circle clip-path=\"url(#clip1601)\" style=\"fill:#000000; stroke:none; fill-opacity:1\" cx=\"2525.56\" cy=\"481.164\" r=\"25\"/>\n",
       "<circle clip-path=\"url(#clip1601)\" style=\"fill:#79abff; stroke:none; fill-opacity:1\" cx=\"2525.56\" cy=\"481.164\" r=\"21\"/>\n",
       "<g clip-path=\"url(#clip1601)\">\n",
       "<text style=\"fill:#000000; fill-opacity:1; font-family:Arial,Helvetica Neue,Helvetica,sans-serif; font-size:48px; text-anchor:start;\" transform=\"rotate(0, 2637.56, 498.664)\" x=\"2637.56\" y=\"498.664\">Plane2 Initial</text>\n",
       "</g>\n",
       "</svg>\n"
      ]
     },
     "execution_count": 8,
     "metadata": {},
     "output_type": "execute_result"
    }
   ],
   "source": [
    "# To test function\n",
    "traj = pull_trajectory(flights,1)\n",
    "plot_trajectory(traj)"
   ]
  },
  {
   "cell_type": "markdown",
   "metadata": {},
   "source": [
    "Now that you are familiar with plot_trajectory, you will need to implement plot_separation, which plots the distance between the two aircraft over time time. To implement the separation vs. time graph, we would like you to plot three lines:\n",
    "\n",
    "1. The total seperation  ($\\sqrt{\\Delta x^2 + \\Delta y^2}$)\n",
    "2. X-position separation ($\\Delta x$)\n",
    "3. Y-position separation ($\\Delta y$)\n",
    "\n",
    "**Note:** You'll find hypot, abs, indmin, and norm useful in your implementation. If you're unfamiliar with these functions, look them up on the Julia documentation. "
   ]
  },
  {
   "cell_type": "markdown",
   "metadata": {},
   "source": [
    "### Starter Code:"
   ]
  },
  {
   "cell_type": "code",
   "execution_count": 9,
   "metadata": {},
   "outputs": [
    {
     "data": {
      "text/plain": [
       "plot_separations (generic function with 1 method)"
      ]
     },
     "execution_count": 9,
     "metadata": {},
     "output_type": "execute_result"
    }
   ],
   "source": [
    "using Plots; gr()\n",
    "\n",
    "# Make use of these functions in your implementation\n",
    "get_min_separation(traj::Trajectory) = minimum(get_separation(s) for s in traj)\n",
    "find_min_separation(traj::Trajectory) = argmin([get_separation(s) for s in traj])\n",
    "\n",
    "# STUDENT CODE START\n",
    "# STUDENT CODE END\n",
    "\n",
    "function plot_separations(traj::Trajectory)\n",
    "    \n",
    "    palette=[colorant\"0x52E3F6\", colorant\"0x79ABFF\", colorant\"0xFF007F\"]\n",
    "    t_arr = collect(1:length(traj)).-1\n",
    "    \n",
    "    # Replace the comments with your code\n",
    "    \n",
    "    # sep_arr =    #total separation for each time interval\n",
    "    # sep_x_arr =  #x-position separation for each time interval\n",
    "    # sep_y_arr =  #y-position separation for each time interval\n",
    "    \n",
    "    # STUDENT CODE START\n",
    "    # STUDENT CODE END\n",
    "    \n",
    "    # Plots the three separations\n",
    "    plot(t_arr, Vector{Float64}[sep_arr, sep_x_arr, sep_y_arr],\n",
    "         xlabel=\"Time [s]\", ylabel=\"Separation [m]\", \n",
    "         lab=[\"Total Separation [m]\" \"Horizontal Separation [m]\" \"Vertical Separation [m]\"],\n",
    "         palette=palette, linewidth=4,size=(800,400))\n",
    "end"
   ]
  },
  {
   "cell_type": "code",
   "execution_count": 10,
   "metadata": {},
   "outputs": [
    {
     "data": {
      "image/svg+xml": [
       "<?xml version=\"1.0\" encoding=\"utf-8\"?>\n",
       "<svg xmlns=\"http://www.w3.org/2000/svg\" xmlns:xlink=\"http://www.w3.org/1999/xlink\" width=\"800\" height=\"400\" viewBox=\"0 0 3200 1600\">\n",
       "<defs>\n",
       "  <clipPath id=\"clip1800\">\n",
       "    <rect x=\"0\" y=\"0\" width=\"2000\" height=\"2000\"/>\n",
       "  </clipPath>\n",
       "</defs>\n",
       "<defs>\n",
       "  <clipPath id=\"clip1801\">\n",
       "    <rect x=\"0\" y=\"0\" width=\"3200\" height=\"1600\"/>\n",
       "  </clipPath>\n",
       "</defs>\n",
       "<polygon clip-path=\"url(#clip1801)\" points=\"\n",
       "0,1600 3200,1600 3200,0 0,0 \n",
       "  \" fill=\"#ffffff\" fill-rule=\"evenodd\" fill-opacity=\"1\"/>\n",
       "<defs>\n",
       "  <clipPath id=\"clip1802\">\n",
       "    <rect x=\"640\" y=\"0\" width=\"2241\" height=\"1600\"/>\n",
       "  </clipPath>\n",
       "</defs>\n",
       "<polygon clip-path=\"url(#clip1801)\" points=\"\n",
       "237.767,1448.87 3121.26,1448.87 3121.26,47.2441 237.767,47.2441 \n",
       "  \" fill=\"#ffffff\" fill-rule=\"evenodd\" fill-opacity=\"1\"/>\n",
       "<defs>\n",
       "  <clipPath id=\"clip1803\">\n",
       "    <rect x=\"237\" y=\"47\" width=\"2884\" height=\"1403\"/>\n",
       "  </clipPath>\n",
       "</defs>\n",
       "<polyline clip-path=\"url(#clip1803)\" style=\"stroke:#000000; stroke-width:2; stroke-opacity:0.1; fill:none\" points=\"\n",
       "  319.376,1448.87 319.376,47.2441 \n",
       "  \"/>\n",
       "<polyline clip-path=\"url(#clip1803)\" style=\"stroke:#000000; stroke-width:2; stroke-opacity:0.1; fill:none\" points=\"\n",
       "  863.431,1448.87 863.431,47.2441 \n",
       "  \"/>\n",
       "<polyline clip-path=\"url(#clip1803)\" style=\"stroke:#000000; stroke-width:2; stroke-opacity:0.1; fill:none\" points=\"\n",
       "  1407.49,1448.87 1407.49,47.2441 \n",
       "  \"/>\n",
       "<polyline clip-path=\"url(#clip1803)\" style=\"stroke:#000000; stroke-width:2; stroke-opacity:0.1; fill:none\" points=\"\n",
       "  1951.54,1448.87 1951.54,47.2441 \n",
       "  \"/>\n",
       "<polyline clip-path=\"url(#clip1803)\" style=\"stroke:#000000; stroke-width:2; stroke-opacity:0.1; fill:none\" points=\"\n",
       "  2495.6,1448.87 2495.6,47.2441 \n",
       "  \"/>\n",
       "<polyline clip-path=\"url(#clip1803)\" style=\"stroke:#000000; stroke-width:2; stroke-opacity:0.1; fill:none\" points=\"\n",
       "  3039.65,1448.87 3039.65,47.2441 \n",
       "  \"/>\n",
       "<polyline clip-path=\"url(#clip1803)\" style=\"stroke:#000000; stroke-width:2; stroke-opacity:0.1; fill:none\" points=\"\n",
       "  237.767,1411.21 3121.26,1411.21 \n",
       "  \"/>\n",
       "<polyline clip-path=\"url(#clip1803)\" style=\"stroke:#000000; stroke-width:2; stroke-opacity:0.1; fill:none\" points=\"\n",
       "  237.767,1123.3 3121.26,1123.3 \n",
       "  \"/>\n",
       "<polyline clip-path=\"url(#clip1803)\" style=\"stroke:#000000; stroke-width:2; stroke-opacity:0.1; fill:none\" points=\"\n",
       "  237.767,835.399 3121.26,835.399 \n",
       "  \"/>\n",
       "<polyline clip-path=\"url(#clip1803)\" style=\"stroke:#000000; stroke-width:2; stroke-opacity:0.1; fill:none\" points=\"\n",
       "  237.767,547.494 3121.26,547.494 \n",
       "  \"/>\n",
       "<polyline clip-path=\"url(#clip1803)\" style=\"stroke:#000000; stroke-width:2; stroke-opacity:0.1; fill:none\" points=\"\n",
       "  237.767,259.589 3121.26,259.589 \n",
       "  \"/>\n",
       "<polyline clip-path=\"url(#clip1801)\" style=\"stroke:#000000; stroke-width:4; stroke-opacity:1; fill:none\" points=\"\n",
       "  237.767,1448.87 3121.26,1448.87 \n",
       "  \"/>\n",
       "<polyline clip-path=\"url(#clip1801)\" style=\"stroke:#000000; stroke-width:4; stroke-opacity:1; fill:none\" points=\"\n",
       "  237.767,1448.87 237.767,47.2441 \n",
       "  \"/>\n",
       "<polyline clip-path=\"url(#clip1801)\" style=\"stroke:#000000; stroke-width:4; stroke-opacity:1; fill:none\" points=\"\n",
       "  319.376,1448.87 319.376,1427.84 \n",
       "  \"/>\n",
       "<polyline clip-path=\"url(#clip1801)\" style=\"stroke:#000000; stroke-width:4; stroke-opacity:1; fill:none\" points=\"\n",
       "  863.431,1448.87 863.431,1427.84 \n",
       "  \"/>\n",
       "<polyline clip-path=\"url(#clip1801)\" style=\"stroke:#000000; stroke-width:4; stroke-opacity:1; fill:none\" points=\"\n",
       "  1407.49,1448.87 1407.49,1427.84 \n",
       "  \"/>\n",
       "<polyline clip-path=\"url(#clip1801)\" style=\"stroke:#000000; stroke-width:4; stroke-opacity:1; fill:none\" points=\"\n",
       "  1951.54,1448.87 1951.54,1427.84 \n",
       "  \"/>\n",
       "<polyline clip-path=\"url(#clip1801)\" style=\"stroke:#000000; stroke-width:4; stroke-opacity:1; fill:none\" points=\"\n",
       "  2495.6,1448.87 2495.6,1427.84 \n",
       "  \"/>\n",
       "<polyline clip-path=\"url(#clip1801)\" style=\"stroke:#000000; stroke-width:4; stroke-opacity:1; fill:none\" points=\"\n",
       "  3039.65,1448.87 3039.65,1427.84 \n",
       "  \"/>\n",
       "<polyline clip-path=\"url(#clip1801)\" style=\"stroke:#000000; stroke-width:4; stroke-opacity:1; fill:none\" points=\"\n",
       "  237.767,1411.21 281.02,1411.21 \n",
       "  \"/>\n",
       "<polyline clip-path=\"url(#clip1801)\" style=\"stroke:#000000; stroke-width:4; stroke-opacity:1; fill:none\" points=\"\n",
       "  237.767,1123.3 281.02,1123.3 \n",
       "  \"/>\n",
       "<polyline clip-path=\"url(#clip1801)\" style=\"stroke:#000000; stroke-width:4; stroke-opacity:1; fill:none\" points=\"\n",
       "  237.767,835.399 281.02,835.399 \n",
       "  \"/>\n",
       "<polyline clip-path=\"url(#clip1801)\" style=\"stroke:#000000; stroke-width:4; stroke-opacity:1; fill:none\" points=\"\n",
       "  237.767,547.494 281.02,547.494 \n",
       "  \"/>\n",
       "<polyline clip-path=\"url(#clip1801)\" style=\"stroke:#000000; stroke-width:4; stroke-opacity:1; fill:none\" points=\"\n",
       "  237.767,259.589 281.02,259.589 \n",
       "  \"/>\n",
       "<g clip-path=\"url(#clip1801)\">\n",
       "<text style=\"fill:#000000; fill-opacity:1; font-family:Arial,Helvetica Neue,Helvetica,sans-serif; font-size:48px; text-anchor:middle;\" transform=\"rotate(0, 319.376, 1506.87)\" x=\"319.376\" y=\"1506.87\">0</text>\n",
       "</g>\n",
       "<g clip-path=\"url(#clip1801)\">\n",
       "<text style=\"fill:#000000; fill-opacity:1; font-family:Arial,Helvetica Neue,Helvetica,sans-serif; font-size:48px; text-anchor:middle;\" transform=\"rotate(0, 863.431, 1506.87)\" x=\"863.431\" y=\"1506.87\">10</text>\n",
       "</g>\n",
       "<g clip-path=\"url(#clip1801)\">\n",
       "<text style=\"fill:#000000; fill-opacity:1; font-family:Arial,Helvetica Neue,Helvetica,sans-serif; font-size:48px; text-anchor:middle;\" transform=\"rotate(0, 1407.49, 1506.87)\" x=\"1407.49\" y=\"1506.87\">20</text>\n",
       "</g>\n",
       "<g clip-path=\"url(#clip1801)\">\n",
       "<text style=\"fill:#000000; fill-opacity:1; font-family:Arial,Helvetica Neue,Helvetica,sans-serif; font-size:48px; text-anchor:middle;\" transform=\"rotate(0, 1951.54, 1506.87)\" x=\"1951.54\" y=\"1506.87\">30</text>\n",
       "</g>\n",
       "<g clip-path=\"url(#clip1801)\">\n",
       "<text style=\"fill:#000000; fill-opacity:1; font-family:Arial,Helvetica Neue,Helvetica,sans-serif; font-size:48px; text-anchor:middle;\" transform=\"rotate(0, 2495.6, 1506.87)\" x=\"2495.6\" y=\"1506.87\">40</text>\n",
       "</g>\n",
       "<g clip-path=\"url(#clip1801)\">\n",
       "<text style=\"fill:#000000; fill-opacity:1; font-family:Arial,Helvetica Neue,Helvetica,sans-serif; font-size:48px; text-anchor:middle;\" transform=\"rotate(0, 3039.65, 1506.87)\" x=\"3039.65\" y=\"1506.87\">50</text>\n",
       "</g>\n",
       "<g clip-path=\"url(#clip1801)\">\n",
       "<text style=\"fill:#000000; fill-opacity:1; font-family:Arial,Helvetica Neue,Helvetica,sans-serif; font-size:48px; text-anchor:end;\" transform=\"rotate(0, 205.767, 1428.71)\" x=\"205.767\" y=\"1428.71\">0</text>\n",
       "</g>\n",
       "<g clip-path=\"url(#clip1801)\">\n",
       "<text style=\"fill:#000000; fill-opacity:1; font-family:Arial,Helvetica Neue,Helvetica,sans-serif; font-size:48px; text-anchor:end;\" transform=\"rotate(0, 205.767, 1140.8)\" x=\"205.767\" y=\"1140.8\">200</text>\n",
       "</g>\n",
       "<g clip-path=\"url(#clip1801)\">\n",
       "<text style=\"fill:#000000; fill-opacity:1; font-family:Arial,Helvetica Neue,Helvetica,sans-serif; font-size:48px; text-anchor:end;\" transform=\"rotate(0, 205.767, 852.899)\" x=\"205.767\" y=\"852.899\">400</text>\n",
       "</g>\n",
       "<g clip-path=\"url(#clip1801)\">\n",
       "<text style=\"fill:#000000; fill-opacity:1; font-family:Arial,Helvetica Neue,Helvetica,sans-serif; font-size:48px; text-anchor:end;\" transform=\"rotate(0, 205.767, 564.994)\" x=\"205.767\" y=\"564.994\">600</text>\n",
       "</g>\n",
       "<g clip-path=\"url(#clip1801)\">\n",
       "<text style=\"fill:#000000; fill-opacity:1; font-family:Arial,Helvetica Neue,Helvetica,sans-serif; font-size:48px; text-anchor:end;\" transform=\"rotate(0, 205.767, 277.089)\" x=\"205.767\" y=\"277.089\">800</text>\n",
       "</g>\n",
       "<g clip-path=\"url(#clip1801)\">\n",
       "<text style=\"fill:#000000; fill-opacity:1; font-family:Arial,Helvetica Neue,Helvetica,sans-serif; font-size:66px; text-anchor:middle;\" transform=\"rotate(0, 1679.51, 1590.4)\" x=\"1679.51\" y=\"1590.4\">Time [s]</text>\n",
       "</g>\n",
       "<g clip-path=\"url(#clip1801)\">\n",
       "<text style=\"fill:#000000; fill-opacity:1; font-family:Arial,Helvetica Neue,Helvetica,sans-serif; font-size:66px; text-anchor:middle;\" transform=\"rotate(-90, 57.6, 748.055)\" x=\"57.6\" y=\"748.055\">Separation [m]</text>\n",
       "</g>\n",
       "<polyline clip-path=\"url(#clip1803)\" style=\"stroke:#51e3f6; stroke-width:16; stroke-opacity:1; fill:none\" points=\"\n",
       "  319.376,86.9126 373.781,112.973 428.187,139.061 482.592,165.227 536.998,191.497 591.403,217.819 645.809,244.177 700.214,270.443 754.62,296.504 809.025,322.461 \n",
       "  863.431,348.608 917.836,375.072 972.242,401.813 1026.65,428.781 1081.05,455.766 1135.46,482.956 1189.86,510.527 1244.27,538.295 1298.67,566.262 1353.08,594.273 \n",
       "  1407.49,622.21 1461.89,650.374 1516.3,678.907 1570.7,707.81 1625.11,736.958 1679.51,766.31 1733.92,796.135 1788.32,826.408 1842.73,856.867 1897.14,887.396 \n",
       "  1951.54,918.118 2005.95,948.982 2060.35,979.943 2114.76,1010.84 2169.16,1041.26 2223.57,1071.19 2277.97,1100.55 2332.38,1129.06 2386.79,1156.53 2441.19,1182.99 \n",
       "  2495.6,1208.33 2550,1231.83 2604.41,1252.65 2658.81,1269.55 2713.22,1280.88 2767.62,1285.33 2822.03,1282.27 2876.44,1272.52 2930.84,1257.38 2985.25,1238.14 \n",
       "  3039.65,1215.65 \n",
       "  \"/>\n",
       "<polyline clip-path=\"url(#clip1803)\" style=\"stroke:#79abff; stroke-width:16; stroke-opacity:1; fill:none\" points=\"\n",
       "  319.376,118.905 373.781,145.459 428.187,172.031 482.592,198.687 536.998,225.474 591.403,252.349 645.809,279.322 700.214,306.296 754.62,333.123 809.025,359.863 \n",
       "  863.431,386.753 917.836,413.866 972.242,441.128 1026.65,468.45 1081.05,495.624 1135.46,522.882 1189.86,550.44 1244.27,578.089 1298.67,605.816 1353.08,633.478 \n",
       "  1407.49,660.859 1461.89,688.21 1516.3,715.666 1570.7,743.2 1625.11,770.624 1679.51,797.914 1733.92,825.399 1788.32,853.112 1842.73,880.853 1897.14,908.511 \n",
       "  1951.54,936.241 2005.95,963.994 2060.35,991.818 2114.76,1019.64 2169.16,1047.21 2223.57,1074.7 2277.97,1102.14 2332.38,1129.43 2386.79,1156.53 2441.19,1183.7 \n",
       "  2495.6,1211.07 2550,1238.43 2604.41,1265.75 2658.81,1293 2713.22,1320.12 2767.62,1347.24 2822.03,1374.45 2876.44,1401.82 2930.84,1393.01 2985.25,1365.37 \n",
       "  3039.65,1337.71 \n",
       "  \"/>\n",
       "<polyline clip-path=\"url(#clip1803)\" style=\"stroke:#ff007f; stroke-width:16; stroke-opacity:1; fill:none\" points=\"\n",
       "  319.376,1121.88 373.781,1122.6 428.187,1123.46 482.592,1124.4 536.998,1125.32 591.403,1126.21 645.809,1126.96 700.214,1127.46 754.62,1127.84 809.025,1128.29 \n",
       "  863.431,1129.06 917.836,1130.34 972.242,1132.24 1026.65,1134.86 1081.05,1138.12 1135.46,1141.9 1189.86,1146.06 1244.27,1150.65 1298.67,1155.71 1353.08,1161.17 \n",
       "  1407.49,1167.29 1461.89,1174.27 1516.3,1182.11 1570.7,1190.9 1625.11,1200.82 1679.51,1211.8 1733.92,1223.75 1788.32,1236.51 1842.73,1249.91 1897.14,1263.99 \n",
       "  1951.54,1278.75 2005.95,1294.37 2060.35,1310.7 2114.76,1327.74 2169.16,1345.11 2223.57,1362.47 2277.97,1379.73 2332.38,1396.73 2386.79,1409.2 2441.19,1393.25 \n",
       "  2495.6,1377.93 2550,1362.98 2604.41,1348.11 2658.81,1333.15 2713.22,1318 2767.62,1302.79 2822.03,1287.62 2876.44,1272.84 2930.84,1258.46 2985.25,1244.32 \n",
       "  3039.65,1229.99 \n",
       "  \"/>\n",
       "<polygon clip-path=\"url(#clip1801)\" points=\"\n",
       "2162.22,420.684 3025.26,420.684 3025.26,178.764 2162.22,178.764 \n",
       "  \" fill=\"#ffffff\" fill-rule=\"evenodd\" fill-opacity=\"1\"/>\n",
       "<polyline clip-path=\"url(#clip1801)\" style=\"stroke:#000000; stroke-width:4; stroke-opacity:1; fill:none\" points=\"\n",
       "  2162.22,420.684 3025.26,420.684 3025.26,178.764 2162.22,178.764 2162.22,420.684 \n",
       "  \"/>\n",
       "<polyline clip-path=\"url(#clip1801)\" style=\"stroke:#51e3f6; stroke-width:16; stroke-opacity:1; fill:none\" points=\"\n",
       "  2194.22,239.244 2386.22,239.244 \n",
       "  \"/>\n",
       "<g clip-path=\"url(#clip1801)\">\n",
       "<text style=\"fill:#000000; fill-opacity:1; font-family:Arial,Helvetica Neue,Helvetica,sans-serif; font-size:48px; text-anchor:start;\" transform=\"rotate(0, 2418.22, 256.744)\" x=\"2418.22\" y=\"256.744\">Total Separation [m]</text>\n",
       "</g>\n",
       "<polyline clip-path=\"url(#clip1801)\" style=\"stroke:#79abff; stroke-width:16; stroke-opacity:1; fill:none\" points=\"\n",
       "  2194.22,299.724 2386.22,299.724 \n",
       "  \"/>\n",
       "<g clip-path=\"url(#clip1801)\">\n",
       "<text style=\"fill:#000000; fill-opacity:1; font-family:Arial,Helvetica Neue,Helvetica,sans-serif; font-size:48px; text-anchor:start;\" transform=\"rotate(0, 2418.22, 317.224)\" x=\"2418.22\" y=\"317.224\">Horizontal Separation [m]</text>\n",
       "</g>\n",
       "<polyline clip-path=\"url(#clip1801)\" style=\"stroke:#ff007f; stroke-width:16; stroke-opacity:1; fill:none\" points=\"\n",
       "  2194.22,360.204 2386.22,360.204 \n",
       "  \"/>\n",
       "<g clip-path=\"url(#clip1801)\">\n",
       "<text style=\"fill:#000000; fill-opacity:1; font-family:Arial,Helvetica Neue,Helvetica,sans-serif; font-size:48px; text-anchor:start;\" transform=\"rotate(0, 2418.22, 377.704)\" x=\"2418.22\" y=\"377.704\">Vertical Separation [m]</text>\n",
       "</g>\n",
       "</svg>\n"
      ]
     },
     "execution_count": 10,
     "metadata": {},
     "output_type": "execute_result"
    }
   ],
   "source": [
    "traj = pull_trajectory(flights,1)\n",
    "plot_separations(traj) # test your function"
   ]
  },
  {
   "cell_type": "markdown",
   "metadata": {},
   "source": [
    "### Propose an Encounter Model\n",
    "\n",
    "Now that you are familiar with the Probabilistic Models discussed in class (and described in section 2.1 of DMU), you will propose an encounter model. Your model should be designed such that you can sample from it and produce initial positions for each aircraft. Your model should also support propagating the aircraft forward - ie, describe how the encounter changes over time from the initial setup.\n",
    "\n",
    "You must explain the reasoning behind your decision, how it captures the initial and transition distributions, and how it can be learned from large initial and transition data tables."
   ]
  }
 ],
 "metadata": {
  "anaconda-cloud": {},
  "kernelspec": {
   "display_name": "Julia 1.0.3",
   "language": "julia",
   "name": "julia-1.0"
  },
  "language_info": {
   "file_extension": ".jl",
   "mimetype": "application/julia",
   "name": "julia",
   "version": "1.0.3"
  }
 },
 "nbformat": 4,
 "nbformat_minor": 1
}
