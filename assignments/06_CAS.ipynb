{
 "cells": [
  {
   "cell_type": "markdown",
   "metadata": {},
   "source": [
    "# Assignment 6"
   ]
  },
  {
   "cell_type": "markdown",
   "metadata": {},
   "source": [
    "In this assignment, you are expected to write your own collision avoidance system (CAS).\n",
    "You are given a lot of freedom in order to accomplish this task. The implementation you see below is one way in which this can be done.\n",
    "\n",
    "Your objective is to find a CAS policy $\\pi(s) \\rightarrow a$ which minimizes collisions and alerts. We want a safe system (few collisions) but we also do not want to alert when we do not need to (few alerts).\n",
    "\n",
    "Collision avoidance systems will be judged according to a _cost function_ $J(\\text{encounter}) \\rightarrow \\mathbb{R}$. \n",
    "We want to minimize the average penalty accumulated by the collision avoidance system. Formally:\n",
    "\n",
    "$$\\min_{\\pi} \\frac{1}{m} \\sum_{i=1}^m \\text{penalty}(\\text{encounter}_i)$$\n",
    "\n",
    "What this means is that we want the policy $\\pi$ which on average produces encounters with minimum penalites.\n",
    "We can estimate the performance of a policy by running a large number of encounters with it and then taking the mean of the accumulated penalty."
   ]
  },
  {
   "cell_type": "markdown",
   "metadata": {},
   "source": [
    "Penalties in this assignment are computed according to:\n",
    "\n",
    "* a penalty of 10 for issuing an advisory - only issue advisories when you need to\n",
    "* a penality equal to the magnitude of the advised climb rate each time a new advisory is issued - weak climb rates are easier on the passengers\n",
    "* a penalty of 50 for a reversal - a change of sign in the advisory\n",
    "* a penalty of 1e5 for an near mid-air collision (NMAC) - being within 100 ft vertically or 500 ft horizontally of another plane\n",
    "\n",
    "### **What is Turned In:**\n",
    "Edit the contents of this notebook and turn in our final Julia notebook file (.ipynb), and any associated code files you wrote to Coursework. Do not use any external code or Julia packages other than those used in the class materials."
   ]
  },
  {
   "cell_type": "markdown",
   "metadata": {},
   "source": [
    "### One: Set Up"
   ]
  },
  {
   "cell_type": "code",
   "execution_count": 1,
   "metadata": {},
   "outputs": [
    {
     "data": {
      "text/plain": [
       "Plots.GRBackend()"
      ]
     },
     "execution_count": 1,
     "metadata": {},
     "output_type": "execute_result"
    }
   ],
   "source": [
    "using AA120Q, DataFrames, CSV\n",
    "using Plots; gr()"
   ]
  },
  {
   "cell_type": "markdown",
   "metadata": {},
   "source": [
    "Here is a dataset of fully-human encounters, which you can then use to collect your own set of encounters to evaluate your Collision Avoidance System (CAS)."
   ]
  },
  {
   "cell_type": "code",
   "execution_count": 2,
   "metadata": {},
   "outputs": [
    {
     "data": {
      "text/plain": [
       "500-element Array{Array{EncounterState,1},1}:\n",
       " [EncounterState(AircraftState(0.0, 10313.0, 224.604, 0.0213703), AircraftState(-897.73, 10112.0, 243.037, 0.480057), 0.0), EncounterState(AircraftState(224.638, 10313.0, 224.673, -0.0922206), AircraftState(-654.645, 10112.5, 243.131, 0.458075), 1.0), EncounterState(AircraftState(449.327, 10312.9, 224.705, -0.185167), AircraftState(-411.497, 10113.0, 243.165, 0.448498), 2.0), EncounterState(AircraftState(673.982, 10312.6, 224.606, -0.237983), AircraftState(-168.325, 10113.4, 243.18, 0.41503), 3.0), EncounterState(AircraftState(898.599, 10312.4, 224.627, -0.24624), AircraftState(74.9007, 10113.8, 243.271, 0.389443), 4.0), EncounterState(AircraftState(1123.19, 10312.1, 224.548, -0.320292), AircraftState(318.158, 10114.1, 243.243, 0.269296), 5.0), EncounterState(AircraftState(1347.72, 10311.8, 224.51, -0.369824), AircraftState(561.424, 10114.3, 243.29, 0.0601332), 6.0), EncounterState(AircraftState(1572.32, 10311.4, 224.695, -0.351089), AircraftState(804.764, 10114.3, 243.391, -0.0682134), 7.0), EncounterState(AircraftState(1797.04, 10311.1, 224.75, -0.242807), AircraftState(1048.12, 10114.2, 243.325, 0.0210509), 8.0), EncounterState(AircraftState(2021.81, 10310.9, 224.793, -0.0916577), AircraftState(1291.47, 10114.4, 243.369, 0.301341), 9.0)  …  EncounterState(AircraftState(9215.24, 10173.3, 225.099, -5.48286), AircraftState(9095.22, 10206.8, 244.055, 4.84781), 41.0), EncounterState(AircraftState(9440.33, 10167.9, 225.077, -5.28432), AircraftState(9339.29, 10211.8, 244.079, 5.06098), 42.0), EncounterState(AircraftState(9665.39, 10162.7, 225.043, -5.15002), AircraftState(9583.27, 10216.9, 243.899, 5.31196), 43.0), EncounterState(AircraftState(9890.45, 10157.6, 225.072, -5.01565), AircraftState(9827.17, 10222.4, 243.899, 5.54185), 44.0), EncounterState(AircraftState(10115.5, 10152.7, 225.047, -4.82979), AircraftState(10071.1, 10228.0, 243.9, 5.75148), 45.0), EncounterState(AircraftState(10340.5, 10148.0, 224.947, -4.53979), AircraftState(10315.0, 10233.9, 243.9, 5.88844), 46.0), EncounterState(AircraftState(10565.4, 10143.7, 224.848, -4.16521), AircraftState(10558.9, 10239.8, 243.919, 5.95364), 47.0), EncounterState(AircraftState(10790.2, 10139.7, 224.835, -3.85111), AircraftState(10802.9, 10245.8, 244.087, 6.0164), 48.0), EncounterState(AircraftState(11015.1, 10135.9, 224.857, -3.67969), AircraftState(11046.9, 10251.8, 244.012, 6.16463), 49.0), EncounterState(AircraftState(11239.9, 10132.3, 224.708, -3.61273), AircraftState(11290.9, 10258.1, 243.974, 6.47223), 50.0)]       \n",
       " [EncounterState(AircraftState(0.0, 11723.9, 227.096, 3.18118), AircraftState(-100.728, 11486.2, 229.138, 0.058482), 0.0), EncounterState(AircraftState(227.041, 11727.0, 226.987, 3.02551), AircraftState(128.445, 11486.3, 229.208, -0.000445172), 1.0), EncounterState(AircraftState(453.966, 11729.9, 226.862, 2.82021), AircraftState(357.66, 11486.3, 229.22, 0.0432375), 2.0), EncounterState(AircraftState(680.864, 11732.6, 226.936, 2.57553), AircraftState(586.893, 11486.4, 229.247, 0.145741), 3.0), EncounterState(AircraftState(907.786, 11735.1, 226.908, 2.31872), AircraftState(816.147, 11486.6, 229.261, 0.284334), 4.0), EncounterState(AircraftState(1134.71, 11737.3, 226.941, 2.11232), AircraftState(1045.5, 11487.0, 229.453, 0.497476), 5.0), EncounterState(AircraftState(1361.77, 11739.3, 227.173, 1.88884), AircraftState(1274.92, 11487.6, 229.384, 0.835428), 6.0), EncounterState(AircraftState(1588.94, 11741.0, 227.168, 1.53148), AircraftState(1504.35, 11488.6, 229.463, 1.23136), 7.0), EncounterState(AircraftState(1816.18, 11742.3, 227.313, 1.17917), AircraftState(1733.83, 11490.0, 229.506, 1.52917), 8.0), EncounterState(AircraftState(2043.5, 11743.4, 227.335, 0.925654), AircraftState(1963.43, 11491.7, 229.698, 1.70145), 9.0)  …  EncounterState(AircraftState(9318.8, 11652.6, 226.894, -4.90931), AircraftState(9328.86, 11641.7, 230.723, 9.16837), 41.0), EncounterState(AircraftState(9545.68, 11647.5, 226.88, -5.30081), AircraftState(9559.49, 11650.8, 230.552, 8.92198), 42.0), EncounterState(AircraftState(9772.53, 11642.0, 226.816, -5.66845), AircraftState(9790.06, 11659.6, 230.58, 8.56698), 43.0), EncounterState(AircraftState(9999.41, 11636.1, 226.942, -6.05527), AircraftState(10020.7, 11667.9, 230.794, 8.17056), 44.0), EncounterState(AircraftState(10226.3, 11629.9, 226.791, -6.31863), AircraftState(10251.5, 11675.9, 230.793, 7.69397), 45.0), EncounterState(AircraftState(10453.1, 11623.5, 226.822, -6.42708), AircraftState(10482.4, 11683.3, 230.84, 7.16025), 46.0), EncounterState(AircraftState(10680.1, 11617.1, 227.155, -6.5455), AircraftState(10713.2, 11690.2, 230.76, 6.65948), 47.0), EncounterState(AircraftState(10907.2, 11610.5, 227.064, -6.6426), AircraftState(10944.0, 11696.7, 230.999, 6.25709), 48.0), EncounterState(AircraftState(11134.2, 11603.8, 227.053, -6.70904), AircraftState(11175.0, 11702.8, 230.856, 5.9902), 49.0), EncounterState(AircraftState(11361.2, 11597.0, 226.958, -6.77596), AircraftState(11405.9, 11708.7, 230.949, 5.81614), 50.0)]                                 \n",
       " [EncounterState(AircraftState(0.0, 10241.6, 221.732, -0.114574), AircraftState(-165.518, 10524.4, 228.322, -0.210832), 0.0), EncounterState(AircraftState(221.697, 10241.4, 221.661, -0.168164), AircraftState(62.7717, 10524.2, 228.257, -0.196976), 1.0), EncounterState(AircraftState(443.395, 10241.3, 221.735, -0.155546), AircraftState(291.012, 10523.9, 228.224, -0.323125), 2.0), EncounterState(AircraftState(665.157, 10241.2, 221.789, -0.0839728), AircraftState(519.166, 10523.5, 228.084, -0.619212), 3.0), EncounterState(AircraftState(886.978, 10241.1, 221.853, 0.0146881), AircraftState(747.275, 10522.7, 228.134, -0.986742), 4.0), EncounterState(AircraftState(1108.77, 10241.2, 221.722, 0.114533), AircraftState(975.471, 10521.5, 228.258, -1.32648), 5.0), EncounterState(AircraftState(1330.57, 10241.3, 221.881, 0.178356), AircraftState(1203.73, 10520.0, 228.252, -1.7052), 6.0), EncounterState(AircraftState(1552.46, 10241.5, 221.907, 0.252082), AircraftState(1431.84, 10518.1, 227.978, -2.0272), 7.0), EncounterState(AircraftState(1774.36, 10241.9, 221.886, 0.401664), AircraftState(1659.78, 10516.0, 227.895, -2.2788), 8.0), EncounterState(AircraftState(1996.26, 10242.3, 221.92, 0.529123), AircraftState(1887.7, 10513.5, 227.952, -2.55448), 9.0)  …  EncounterState(AircraftState(9083.92, 10377.0, 220.999, 14.3046), AircraftState(9184.29, 10365.9, 228.629, 0.00345237), 41.0), EncounterState(AircraftState(9304.97, 10391.5, 221.092, 14.6367), AircraftState(9412.91, 10366.3, 228.623, 0.75623), 42.0), EncounterState(AircraftState(9526.11, 10406.3, 221.193, 15.0556), AircraftState(9641.59, 10367.5, 228.734, 1.50759), 43.0), EncounterState(AircraftState(9747.25, 10421.6, 221.092, 15.5236), AircraftState(9870.4, 10369.3, 228.874, 2.2102), 44.0), EncounterState(AircraftState(9968.37, 10437.4, 221.15, 15.9151), AircraftState(10099.4, 10371.9, 229.046, 2.94301), 45.0), EncounterState(AircraftState(10189.5, 10453.5, 221.104, 16.2966), AircraftState(10328.3, 10375.2, 228.92, 3.79098), 46.0), EncounterState(AircraftState(10410.7, 10470.0, 221.207, 16.7346), AircraftState(10557.2, 10379.5, 228.839, 4.77349), 47.0), EncounterState(AircraftState(10631.8, 10486.9, 221.186, 17.201), AircraftState(10786.2, 10384.8, 229.035, 5.74556), 48.0), EncounterState(AircraftState(10853.1, 10504.4, 221.307, 17.7036), AircraftState(11015.1, 10391.0, 228.808, 6.62792), 49.0), EncounterState(AircraftState(11074.4, 10522.3, 221.365, 18.1829), AircraftState(11243.9, 10398.0, 228.803, 7.46158), 50.0)]                    \n",
       " [EncounterState(AircraftState(0.0, 8784.48, 216.214, 0.45775), AircraftState(-389.723, 8489.81, 225.933, -0.0115413), 0.0), EncounterState(AircraftState(216.204, 8784.95, 216.193, 0.451322), AircraftState(-163.768, 8489.74, 225.977, -0.118546), 1.0), EncounterState(AircraftState(432.422, 8785.36, 216.244, 0.391885), AircraftState(62.2125, 8489.57, 225.985, -0.230218), 2.0), EncounterState(AircraftState(648.776, 8785.73, 216.464, 0.331114), AircraftState(288.191, 8489.26, 225.972, -0.386173), 3.0), EncounterState(AircraftState(865.252, 8786.02, 216.488, 0.257879), AircraftState(514.1, 8488.81, 225.846, -0.498083), 4.0), EncounterState(AircraftState(1081.7, 8786.23, 216.409, 0.142743), AircraftState(739.927, 8488.3, 225.808, -0.52552), 5.0), EncounterState(AircraftState(1298.09, 8786.26, 216.373, -0.112286), AircraftState(965.769, 8487.75, 225.876, -0.581283), 6.0), EncounterState(AircraftState(1514.43, 8785.99, 216.302, -0.41424), AircraftState(1191.64, 8487.15, 225.865, -0.578444), 7.0), EncounterState(AircraftState(1730.72, 8785.46, 216.273, -0.645749), AircraftState(1417.53, 8486.64, 225.913, -0.442503), 8.0), EncounterState(AircraftState(1947.06, 8784.71, 216.403, -0.856766), AircraftState(1643.47, 8486.25, 225.972, -0.372471), 9.0)  …  EncounterState(AircraftState(8880.4, 8609.59, 216.484, -9.24778), AircraftState(8877.93, 8659.68, 225.621, 19.0396), 41.0), EncounterState(AircraftState(9096.98, 8600.42, 216.673, -9.05858), AircraftState(9103.54, 8679.21, 225.611, 20.0108), 42.0), EncounterState(AircraftState(9313.73, 8591.5, 216.826, -8.78643), AircraftState(9329.15, 8699.71, 225.614, 21.0085), 43.0), EncounterState(AircraftState(9530.61, 8582.87, 216.934, -8.46778), AircraftState(9554.71, 8721.25, 225.5, 22.0837), 44.0), EncounterState(AircraftState(9747.5, 8574.59, 216.845, -8.07313), AircraftState(9780.18, 8743.85, 225.439, 23.0773), 45.0), EncounterState(AircraftState(9964.32, 8566.76, 216.798, -7.57132), AircraftState(10005.7, 8767.39, 225.527, 24.0254), 46.0), EncounterState(AircraftState(10181.1, 8559.45, 216.712, -7.05287), AircraftState(10231.2, 8791.9, 225.631, 24.9688), 47.0), EncounterState(AircraftState(10397.8, 8552.64, 216.642, -6.55854), AircraftState(10456.9, 8817.32, 225.72, 25.8825), 48.0), EncounterState(AircraftState(10614.4, 8546.32, 216.616, -6.11991), AircraftState(10682.6, 8843.68, 225.679, 26.8586), 49.0), EncounterState(AircraftState(10831.0, 8540.39, 216.618, -5.72515), AircraftState(10908.3, 8871.05, 225.637, 27.8652), 50.0)]            \n",
       " [EncounterState(AircraftState(0.0, 9214.13, 238.546, -3.06383), AircraftState(218.612, 9207.86, 235.021, 0.0229554), 0.0), EncounterState(AircraftState(238.539, 9211.02, 238.533, -3.15034), AircraftState(453.652, 9207.95, 235.057, 0.127634), 1.0), EncounterState(AircraftState(477.134, 9207.85, 238.656, -3.18289), AircraftState(688.722, 9208.1, 235.084, 0.178315), 2.0), EncounterState(AircraftState(715.763, 9204.68, 238.603, -3.13259), AircraftState(923.726, 9208.3, 234.924, 0.213158), 3.0), EncounterState(AircraftState(954.404, 9201.59, 238.678, -3.04592), AircraftState(1158.67, 9208.52, 234.969, 0.222435), 4.0), EncounterState(AircraftState(1193.03, 9198.6, 238.583, -2.92651), AircraftState(1393.58, 9208.75, 234.839, 0.270039), 5.0), EncounterState(AircraftState(1431.65, 9195.77, 238.638, -2.72487), AircraftState(1628.38, 9209.05, 234.773, 0.296576), 6.0), EncounterState(AircraftState(1670.27, 9193.16, 238.613, -2.48229), AircraftState(1863.19, 9209.32, 234.839, 0.23954), 7.0), EncounterState(AircraftState(1908.84, 9190.78, 238.535, -2.29646), AircraftState(2098.05, 9209.52, 234.889, 0.148321), 8.0), EncounterState(AircraftState(2147.46, 9188.55, 238.703, -2.17686), AircraftState(2333.0, 9209.62, 234.999, 0.0596139), 9.0)  …  EncounterState(AircraftState(9771.12, 9173.08, 237.971, -3.02259), AircraftState(9851.84, 9184.26, 234.728, 1.0361), 41.0), EncounterState(AircraftState(10009.0, 9169.61, 237.876, -3.8921), AircraftState(10086.6, 9185.57, 234.822, 1.5944), 42.0), EncounterState(AircraftState(10247.0, 9165.3, 238.015, -4.75799), AircraftState(10321.4, 9187.44, 234.739, 2.11809), 43.0), EncounterState(AircraftState(10485.0, 9160.05, 237.919, -5.77535), AircraftState(10556.1, 9189.78, 234.695, 2.56287), 44.0), EncounterState(AircraftState(10722.9, 9153.71, 237.938, -6.91113), AircraftState(10790.8, 9192.56, 234.653, 2.98019), 45.0), EncounterState(AircraftState(10960.8, 9146.23, 237.901, -8.03569), AircraftState(11025.5, 9195.74, 234.727, 3.38562), 46.0), EncounterState(AircraftState(11198.7, 9137.66, 237.927, -9.0817), AircraftState(11260.3, 9199.33, 234.822, 3.80205), 47.0), EncounterState(AircraftState(11436.6, 9128.1, 237.754, -10.017), AircraftState(11495.1, 9203.37, 234.922, 4.29086), 48.0), EncounterState(AircraftState(11674.4, 9117.63, 237.836, -10.9321), AircraftState(11730.1, 9207.92, 234.983, 4.78846), 49.0), EncounterState(AircraftState(11912.1, 9106.24, 237.722, -11.84), AircraftState(11965.1, 9212.93, 235.051, 5.24357), 50.0)]                           \n",
       " [EncounterState(AircraftState(0.0, 10091.7, 237.968, -4.32927), AircraftState(305.302, 9799.78, 227.48, 4.39976), 0.0), EncounterState(AircraftState(238.035, 10087.3, 238.101, -4.42301), AircraftState(532.724, 9804.17, 227.363, 4.37419), 1.0), EncounterState(AircraftState(476.22, 10082.8, 238.269, -4.53367), AircraftState(760.106, 9808.52, 227.401, 4.32086), 2.0), EncounterState(AircraftState(714.565, 10078.2, 238.42, -4.71553), AircraftState(987.622, 9812.79, 227.631, 4.19671), 3.0), EncounterState(AircraftState(953.014, 10073.4, 238.477, -4.94201), AircraftState(1215.24, 9816.91, 227.613, 4.06377), 4.0), EncounterState(AircraftState(1191.44, 10068.3, 238.376, -5.09399), AircraftState(1442.89, 9820.91, 227.678, 3.91451), 5.0), EncounterState(AircraftState(1429.76, 10063.2, 238.257, -5.18709), AircraftState(1670.41, 9824.7, 227.37, 3.65073), 6.0), EncounterState(AircraftState(1668.06, 10057.9, 238.356, -5.34272), AircraftState(1897.71, 9828.17, 227.224, 3.26894), 7.0), EncounterState(AircraftState(1906.42, 10052.5, 238.35, -5.47949), AircraftState(2124.87, 9831.25, 227.089, 2.91244), 8.0), EncounterState(AircraftState(2144.72, 10047.0, 238.264, -5.60425), AircraftState(2351.92, 9834.03, 227.007, 2.65353), 9.0)  …  EncounterState(AircraftState(9781.7, 9787.55, 238.284, -14.1834), AircraftState(9643.17, 9777.19, 228.164, -7.5537), 41.0), EncounterState(AircraftState(10020.1, 9772.97, 238.494, -14.9818), AircraftState(9871.35, 9769.35, 228.207, -8.14108), 42.0), EncounterState(AircraftState(10258.6, 9757.59, 238.498, -15.7645), AircraftState(10099.6, 9760.88, 228.236, -8.79299), 43.0), EncounterState(AircraftState(10497.1, 9741.43, 238.465, -16.5604), AircraftState(10327.8, 9751.78, 228.178, -9.38139), 44.0), EncounterState(AircraftState(10735.5, 9724.46, 238.366, -17.393), AircraftState(10556.0, 9742.15, 228.198, -9.88734), 45.0), EncounterState(AircraftState(10973.8, 9706.68, 238.318, -18.1279), AircraftState(10784.2, 9732.02, 228.31, -10.3634), 46.0), EncounterState(AircraftState(11212.1, 9688.2, 238.319, -18.8581), AircraftState(11012.4, 9721.45, 228.132, -10.7502), 47.0), EncounterState(AircraftState(11450.5, 9668.94, 238.428, -19.6631), AircraftState(11240.5, 9710.56, 227.976, -10.9967), 48.0), EncounterState(AircraftState(11689.1, 9648.89, 238.661, -20.4325), AircraftState(11468.5, 9699.49, 227.953, -11.1499), 49.0), EncounterState(AircraftState(11927.6, 9628.05, 238.512, -21.2704), AircraftState(11696.4, 9688.28, 228.013, -11.2669), 50.0)]                          \n",
       " [EncounterState(AircraftState(0.0, 8266.01, 208.004, 0.0544027), AircraftState(-915.906, 8866.72, 230.705, -0.26885), 0.0), EncounterState(AircraftState(208.046, 8266.06, 208.087, 0.0510603), AircraftState(-685.174, 8866.42, 230.759, -0.332485), 1.0), EncounterState(AircraftState(416.127, 8266.16, 208.074, 0.200003), AircraftState(-454.497, 8866.02, 230.594, -0.495184), 2.0), EncounterState(AircraftState(624.116, 8266.47, 207.904, 0.399936), AircraftState(-223.946, 8865.42, 230.509, -0.709136), 3.0), EncounterState(AircraftState(832.001, 8266.96, 207.867, 0.59414), AircraftState(6.62527, 8864.61, 230.633, -0.903825), 4.0), EncounterState(AircraftState(1039.96, 8267.67, 208.052, 0.82098), AircraftState(237.332, 8863.59, 230.781, -1.14021), 5.0), EncounterState(AircraftState(1248.03, 8268.58, 208.088, 0.971088), AircraftState(468.099, 8862.32, 230.753, -1.41358), 6.0), EncounterState(AircraftState(1456.17, 8269.6, 208.189, 1.07363), AircraftState(698.9, 8860.77, 230.847, -1.69105), 7.0), EncounterState(AircraftState(1664.37, 8270.73, 208.22, 1.18348), AircraftState(929.696, 8858.91, 230.745, -2.03637), 8.0), EncounterState(AircraftState(1872.52, 8271.95, 208.079, 1.25738), AircraftState(1160.43, 8856.67, 230.724, -2.44858), 9.0)  …  EncounterState(AircraftState(8541.48, 8380.34, 208.713, 5.50194), AircraftState(8545.54, 8338.46, 230.901, -35.0109), 41.0), EncounterState(AircraftState(8750.2, 8385.97, 208.729, 5.77489), AircraftState(8776.4, 8302.76, 230.825, -36.3739), 42.0), EncounterState(AircraftState(8959.01, 8391.91, 208.892, 6.11), AircraftState(9007.16, 8265.69, 230.702, -37.8043), 43.0), EncounterState(AircraftState(9167.83, 8398.24, 208.743, 6.56714), AircraftState(9237.86, 8227.13, 230.681, -39.2971), 44.0), EncounterState(AircraftState(9376.51, 8405.08, 208.628, 7.14483), AircraftState(9468.54, 8187.1, 230.698, -40.758), 45.0), EncounterState(AircraftState(9585.11, 8412.56, 208.565, 7.8366), AircraftState(9699.19, 8145.61, 230.597, -42.2232), 46.0), EncounterState(AircraftState(9793.76, 8420.8, 208.729, 8.65592), AircraftState(9929.76, 8102.63, 230.539, -43.755), 47.0), EncounterState(AircraftState(10002.5, 8429.89, 208.698, 9.52187), AircraftState(10160.2, 8058.08, 230.41, -45.3586), 48.0), EncounterState(AircraftState(10211.2, 8439.82, 208.702, 10.3276), AircraftState(10390.7, 8011.92, 230.449, -46.9381), 49.0), EncounterState(AircraftState(10419.8, 8450.5, 208.488, 10.9867), AircraftState(10621.1, 7964.25, 230.46, -48.392), 50.0)]                            \n",
       " [EncounterState(AircraftState(0.0, 10933.7, 237.69, -4.58911), AircraftState(920.184, 10141.5, 212.238, -0.152883), 0.0), EncounterState(AircraftState(237.647, 10929.0, 237.604, -4.70906), AircraftState(1132.38, 10141.4, 212.151, -0.134708), 1.0), EncounterState(AircraftState(475.235, 10924.3, 237.574, -4.72985), AircraftState(1344.48, 10141.3, 212.05, -0.0559318), 2.0), EncounterState(AircraftState(712.794, 10919.6, 237.544, -4.6627), AircraftState(1556.54, 10141.3, 212.067, 0.176289), 3.0), EncounterState(AircraftState(950.312, 10915.0, 237.491, -4.58632), AircraftState(1768.53, 10141.6, 211.917, 0.520936), 4.0), EncounterState(AircraftState(1187.83, 10910.5, 237.541, -4.45503), AircraftState(1980.49, 10142.4, 212.011, 0.950095), 5.0), EncounterState(AircraftState(1425.43, 10906.1, 237.654, -4.38655), AircraftState(2192.53, 10143.6, 212.069, 1.45765), 6.0), EncounterState(AircraftState(1663.15, 10901.6, 237.793, -4.45754), AircraftState(2404.63, 10145.3, 212.118, 1.92236), 7.0), EncounterState(AircraftState(1900.92, 10897.1, 237.747, -4.58949), AircraftState(2616.76, 10147.4, 212.141, 2.37734), 8.0), EncounterState(AircraftState(2138.61, 10892.5, 237.638, -4.66593), AircraftState(2828.91, 10150.1, 212.169, 2.89608), 9.0)  …  EncounterState(AircraftState(9742.02, 10623.1, 237.237, -13.8857), AircraftState(9620.95, 10691.6, 212.349, 31.1563), 41.0), EncounterState(AircraftState(9979.33, 10608.9, 237.371, -14.3989), AircraftState(9833.31, 10723.1, 212.368, 31.7497), 42.0), EncounterState(AircraftState(10216.7, 10594.2, 237.458, -14.9983), AircraftState(10045.7, 10755.1, 212.381, 32.311), 43.0), EncounterState(AircraftState(10454.2, 10578.9, 237.383, -15.6606), AircraftState(10258.1, 10787.7, 212.451, 32.8686), 44.0), EncounterState(AircraftState(10691.5, 10562.9, 237.353, -16.4198), AircraftState(10470.6, 10820.9, 212.479, 33.5618), 45.0), EncounterState(AircraftState(10928.8, 10546.0, 237.205, -17.2449), AircraftState(10683.1, 10854.8, 212.602, 34.2316), 46.0), EncounterState(AircraftState(11166.0, 10528.4, 237.197, -18.1328), AircraftState(10895.7, 10889.3, 212.587, 34.7027), 47.0), EncounterState(AircraftState(11403.2, 10509.8, 237.2, -19.0925), AircraftState(11108.2, 10924.2, 212.427, 35.0974), 48.0), EncounterState(AircraftState(11640.4, 10490.2, 237.225, -20.0729), AircraftState(11320.6, 10959.5, 212.35, 35.5256), 49.0), EncounterState(AircraftState(11877.7, 10469.6, 237.251, -21.0903), AircraftState(11533.0, 10995.3, 212.54, 35.9307), 50.0)]                       \n",
       " [EncounterState(AircraftState(0.0, 9804.53, 221.184, -0.468234), AircraftState(615.626, 10323.1, 207.913, 0.315803), 0.0), EncounterState(AircraftState(221.118, 9804.1, 221.052, -0.378374), AircraftState(823.637, 10323.4, 208.109, 0.143875), 1.0), EncounterState(AircraftState(442.162, 9803.79, 221.037, -0.248679), AircraftState(1031.85, 10323.4, 208.319, -0.0626465), 2.0), EncounterState(AircraftState(663.193, 9803.63, 221.025, -0.045723), AircraftState(1240.21, 10323.2, 208.404, -0.239314), 3.0), EncounterState(AircraftState(884.174, 9803.74, 220.937, 0.282604), AircraftState(1448.63, 10322.9, 208.432, -0.450671), 4.0), EncounterState(AircraftState(1105.11, 9804.2, 220.941, 0.636271), AircraftState(1657.02, 10322.3, 208.357, -0.686029), 5.0), EncounterState(AircraftState(1326.05, 9805.01, 220.93, 0.99429), AircraftState(1865.45, 10321.5, 208.493, -0.957617), 6.0), EncounterState(AircraftState(1546.95, 9806.21, 220.882, 1.40855), AircraftState(2073.97, 10320.4, 208.544, -1.20829), 7.0), EncounterState(AircraftState(1767.78, 9807.81, 220.77, 1.7809), AircraftState(2282.61, 10319.1, 208.749, -1.39995), 8.0), EncounterState(AircraftState(1988.61, 9809.77, 220.884, 2.15245), AircraftState(2491.32, 10317.6, 208.662, -1.58359), 9.0)  …  EncounterState(AircraftState(9037.53, 10222.0, 219.759, 27.5078), AircraftState(9167.07, 10176.5, 209.006, -8.64913), 41.0), EncounterState(AircraftState(9257.42, 10250.0, 220.028, 28.4609), AircraftState(9376.08, 10167.7, 209.011, -9.05218), 42.0), EncounterState(AircraftState(9477.44, 10278.9, 219.999, 29.4652), AircraftState(9585.18, 10158.5, 209.19, -9.3995), 43.0), EncounterState(AircraftState(9697.45, 10308.9, 220.03, 30.5367), AircraftState(9794.37, 10148.9, 209.194, -9.81353), 44.0), EncounterState(AircraftState(9917.48, 10340.0, 220.026, 31.6602), AircraftState(10003.6, 10138.8, 209.267, -10.3715), 45.0), EncounterState(AircraftState(10137.4, 10372.3, 219.838, 32.8379), AircraftState(10212.8, 10128.1, 209.224, -11.0414), 46.0), EncounterState(AircraftState(10357.3, 10405.7, 219.923, 34.1247), AircraftState(10422.1, 10116.7, 209.305, -11.6901), 47.0), EncounterState(AircraftState(10577.2, 10440.5, 219.837, 35.4902), AircraftState(10631.4, 10104.7, 209.306, -12.2901), 48.0), EncounterState(AircraftState(10797.1, 10476.7, 219.949, 36.9141), AircraftState(10840.7, 10092.1, 209.35, -12.9856), 49.0), EncounterState(AircraftState(11016.9, 10514.4, 219.79, 38.3942), AircraftState(11050.1, 10078.7, 209.257, -13.7739), 50.0)]                   \n",
       " [EncounterState(AircraftState(0.0, 11979.8, 257.104, -3.6146), AircraftState(1322.19, 11638.7, 226.676, -0.134634), 0.0), EncounterState(AircraftState(257.089, 11976.2, 257.075, -3.54191), AircraftState(1548.86, 11638.5, 226.649, -0.211901), 1.0), EncounterState(AircraftState(514.273, 11972.7, 257.293, -3.43265), AircraftState(1775.58, 11638.3, 226.792, -0.207583), 2.0), EncounterState(AircraftState(771.581, 11969.3, 257.321, -3.35697), AircraftState(2002.46, 11638.2, 226.968, -0.0826125), 3.0), EncounterState(AircraftState(1028.9, 11966.0, 257.312, -3.34912), AircraftState(2229.38, 11638.2, 226.878, 0.0817246), 4.0), EncounterState(AircraftState(1286.16, 11962.7, 257.218, -3.32195), AircraftState(2456.25, 11638.4, 226.86, 0.332342), 5.0), EncounterState(AircraftState(1543.36, 11959.4, 257.184, -3.22349), AircraftState(2683.14, 11638.9, 226.923, 0.675378), 6.0), EncounterState(AircraftState(1800.46, 11956.2, 257.018, -3.10098), AircraftState(2910.05, 11639.7, 226.9, 0.959129), 7.0), EncounterState(AircraftState(2057.59, 11953.2, 257.235, -3.03683), AircraftState(3137.0, 11640.8, 226.992, 1.15534), 8.0), EncounterState(AircraftState(2314.84, 11950.1, 257.256, -2.97315), AircraftState(3363.99, 11642.0, 226.991, 1.30781), 9.0)  …  EncounterState(AircraftState(10549.1, 11728.1, 257.682, -11.8776), AircraftState(10622.5, 11731.0, 226.458, 3.76408), 41.0), EncounterState(AircraftState(10806.9, 11716.2, 257.779, -11.7927), AircraftState(10849.0, 11734.8, 226.456, 3.85106), 42.0), EncounterState(AircraftState(11064.7, 11704.5, 257.796, -11.6533), AircraftState(11075.5, 11738.8, 226.667, 4.01052), 43.0), EncounterState(AircraftState(11322.4, 11692.9, 257.723, -11.5457), AircraftState(11302.3, 11742.9, 226.846, 4.22813), 44.0), EncounterState(AircraftState(11580.1, 11681.4, 257.695, -11.5251), AircraftState(11529.1, 11747.2, 226.858, 4.46548), 45.0), EncounterState(AircraftState(11837.9, 11669.8, 257.845, -11.7045), AircraftState(11755.9, 11751.8, 226.726, 4.69287), 46.0), EncounterState(AircraftState(12095.6, 11657.9, 257.619, -12.0346), AircraftState(11982.6, 11756.6, 226.72, 4.95133), 47.0), EncounterState(AircraftState(12353.2, 11645.8, 257.589, -12.296), AircraftState(12209.3, 11761.7, 226.617, 5.21649), 48.0), EncounterState(AircraftState(12610.8, 11633.3, 257.607, -12.5343), AircraftState(12435.9, 11767.0, 226.615, 5.4146), 49.0), EncounterState(AircraftState(12868.5, 11620.7, 257.658, -12.8107), AircraftState(12662.5, 11772.5, 226.589, 5.53958), 50.0)]                    \n",
       " [EncounterState(AircraftState(0.0, 8586.8, 204.123, 4.58016), AircraftState(-1539.41, 8817.95, 246.856, -0.1032), 0.0), EncounterState(AircraftState(204.122, 8591.43, 204.12, 4.66733), AircraftState(-1292.55, 8817.74, 246.876, -0.319478), 1.0), EncounterState(AircraftState(408.235, 8596.08, 204.106, 4.58097), AircraftState(-1045.6, 8817.32, 247.023, -0.511846), 2.0), EncounterState(AircraftState(612.307, 8600.54, 204.038, 4.34242), AircraftState(-798.569, 8816.74, 247.036, -0.632831), 3.0), EncounterState(AircraftState(816.327, 8604.75, 204.001, 4.06209), AircraftState(-551.653, 8816.04, 246.797, -0.791816), 4.0), EncounterState(AircraftState(1020.32, 8608.64, 203.983, 3.7066), AircraftState(-304.905, 8815.12, 246.699, -1.06652), 5.0), EncounterState(AircraftState(1224.33, 8612.15, 204.037, 3.29411), AircraftState(-58.2063, 8813.85, 246.697, -1.506), 6.0), EncounterState(AircraftState(1428.27, 8615.21, 203.842, 2.83975), AircraftState(188.414, 8812.09, 246.544, -2.00952), 7.0), EncounterState(AircraftState(1632.18, 8617.84, 203.984, 2.43697), AircraftState(434.978, 8809.84, 246.584, -2.49267), 8.0), EncounterState(AircraftState(1836.17, 8620.11, 203.989, 2.10756), AircraftState(681.542, 8807.07, 246.544, -3.06032), 9.0)  …  EncounterState(AircraftState(8374.89, 8282.32, 204.246, -25.8935), AircraftState(8565.55, 8281.74, 246.114, -36.6216), 41.0), EncounterState(AircraftState(8579.14, 8255.88, 204.257, -26.967), AircraftState(8811.64, 8244.44, 246.08, -38.0111), 42.0), EncounterState(AircraftState(8783.33, 8228.41, 204.124, -27.9709), AircraftState(9057.71, 8205.73, 246.048, -39.3778), 43.0), EncounterState(AircraftState(8987.4, 8199.92, 204.008, -29.0172), AircraftState(9303.74, 8165.71, 246.006, -40.6642), 44.0), EncounterState(AircraftState(9191.48, 8170.41, 204.161, -29.9671), AircraftState(9549.71, 8124.39, 245.933, -41.9848), 45.0), EncounterState(AircraftState(9395.63, 8140.05, 204.13, -30.7314), AircraftState(9795.69, 8081.7, 246.046, -43.413), 46.0), EncounterState(AircraftState(9599.77, 8108.99, 204.147, -31.3521), AircraftState(10041.7, 8037.53, 245.871, -44.9433), 47.0), EncounterState(AircraftState(9803.88, 8077.4, 204.077, -31.8107), AircraftState(10287.6, 7991.81, 246.044, -46.4907), 48.0), EncounterState(AircraftState(10007.9, 8045.39, 203.96, -32.2273), AircraftState(10533.6, 7944.55, 246.008, -48.0198), 49.0), EncounterState(AircraftState(10211.9, 8012.93, 204.019, -32.6807), AircraftState(10779.6, 7895.77, 246.019, -49.5536), 50.0)]                   \n",
       " [EncounterState(AircraftState(0.0, 11102.8, 238.218, 0.142503), AircraftState(669.0, 11217.6, 221.884, -0.237904), 0.0), EncounterState(AircraftState(238.219, 11103.0, 238.22, 0.332266), AircraftState(890.85, 11217.3, 221.817, -0.36716), 1.0), EncounterState(AircraftState(476.415, 11103.4, 238.172, 0.533904), AircraftState(1112.65, 11216.9, 221.782, -0.537348), 2.0), EncounterState(AircraftState(714.566, 11104.1, 238.13, 0.762844), AircraftState(1334.42, 11216.2, 221.754, -0.734369), 3.0), EncounterState(AircraftState(952.743, 11104.9, 238.224, 0.984719), AircraftState(1556.2, 11215.4, 221.811, -0.887888), 4.0), EncounterState(AircraftState(1190.93, 11106.0, 238.158, 1.07085), AircraftState(1777.98, 11214.5, 221.753, -1.01297), 5.0), EncounterState(AircraftState(1429.1, 11107.0, 238.179, 1.00982), AircraftState(1999.77, 11213.3, 221.817, -1.20509), 6.0), EncounterState(AircraftState(1667.22, 11108.0, 238.05, 0.858826), AircraftState(2221.6, 11212.0, 221.838, -1.44501), 7.0), EncounterState(AircraftState(1905.26, 11108.8, 238.038, 0.756901), AircraftState(2443.38, 11210.5, 221.728, -1.70464), 8.0), EncounterState(AircraftState(2143.2, 11109.5, 237.842, 0.707954), AircraftState(2665.08, 11208.6, 221.676, -1.97469), 9.0)  …  EncounterState(AircraftState(9758.52, 11066.6, 237.115, -3.48588), AircraftState(9764.52, 11087.4, 221.653, -4.39633), 41.0), EncounterState(AircraftState(9995.6, 11063.1, 237.044, -3.55548), AircraftState(9986.23, 11083.1, 221.762, -4.09923), 42.0), EncounterState(AircraftState(10232.6, 11059.4, 237.052, -3.76983), AircraftState(10208.0, 11079.2, 221.78, -3.8142), 43.0), EncounterState(AircraftState(10469.7, 11055.5, 237.001, -4.14856), AircraftState(10429.7, 11075.5, 221.693, -3.57238), 44.0), EncounterState(AircraftState(10706.7, 11051.1, 236.988, -4.61567), AircraftState(10651.4, 11072.0, 221.566, -3.37183), 45.0), EncounterState(AircraftState(10943.7, 11046.3, 237.037, -5.03282), AircraftState(10872.9, 11068.7, 221.538, -3.17234), 46.0), EncounterState(AircraftState(11180.7, 11041.1, 237.057, -5.40723), AircraftState(11094.4, 11065.7, 221.356, -2.95222), 47.0), EncounterState(AircraftState(11417.8, 11035.4, 237.002, -5.82052), AircraftState(11315.7, 11062.8, 221.279, -2.79466), 48.0), EncounterState(AircraftState(11654.8, 11029.4, 237.069, -6.18515), AircraftState(11536.9, 11060.1, 221.231, -2.68287), 49.0), EncounterState(AircraftState(11891.8, 11023.1, 236.98, -6.52341), AircraftState(11758.2, 11057.5, 221.378, -2.44019), 50.0)]                 \n",
       " [EncounterState(AircraftState(0.0, 10018.7, 218.571, 0.141659), AircraftState(-838.502, 10372.7, 241.724, -0.153111), 0.0), EncounterState(AircraftState(218.546, 10018.9, 218.521, 0.0892405), AircraftState(-596.677, 10372.5, 241.926, -0.195122), 1.0), EncounterState(AircraftState(437.016, 10018.9, 218.418, 0.00639055), AircraftState(-354.686, 10372.3, 242.058, -0.36161), 2.0), EncounterState(AircraftState(655.436, 10018.9, 218.422, -0.121532), AircraftState(-112.495, 10371.8, 242.323, -0.590201), 3.0), EncounterState(AircraftState(873.878, 10018.7, 218.463, -0.165668), AircraftState(129.895, 10371.1, 242.457, -0.827871), 4.0), EncounterState(AircraftState(1092.29, 10018.6, 218.352, -0.0487419), AircraftState(372.314, 10370.1, 242.381, -1.06651), 5.0), EncounterState(AircraftState(1310.59, 10018.6, 218.253, 0.175961), AircraftState(614.708, 10369.0, 242.407, -1.24925), 6.0), EncounterState(AircraftState(1528.82, 10019.0, 218.202, 0.450011), AircraftState(857.112, 10367.6, 242.4, -1.39212), 7.0), EncounterState(AircraftState(1746.91, 10019.6, 217.991, 0.793614), AircraftState(1099.53, 10366.2, 242.443, -1.4907), 8.0), EncounterState(AircraftState(1964.97, 10020.5, 218.133, 1.16382), AircraftState(1342.0, 10364.7, 242.48, -1.52587), 9.0)  …  EncounterState(AircraftState(8948.59, 10291.4, 217.923, 15.4083), AircraftState(9092.0, 10272.4, 241.692, -5.7608), 41.0), EncounterState(AircraftState(9166.55, 10307.1, 218.005, 15.9414), AircraftState(9333.55, 10266.4, 241.408, -6.24563), 42.0), EncounterState(AircraftState(9384.54, 10323.3, 217.978, 16.392), AircraftState(9574.91, 10259.9, 241.306, -6.7537), 43.0), EncounterState(AircraftState(9602.5, 10339.9, 217.945, 16.7471), AircraftState(9816.24, 10252.9, 241.345, -7.20618), 44.0), EncounterState(AircraftState(9820.42, 10356.8, 217.879, 17.0625), AircraftState(10057.5, 10245.5, 241.229, -7.6959), 45.0), EncounterState(AircraftState(10038.3, 10374.0, 217.845, 17.335), AircraftState(10298.7, 10237.5, 241.205, -8.24996), 46.0), EncounterState(AircraftState(10256.1, 10391.4, 217.699, 17.5254), AircraftState(10540.0, 10228.9, 241.265, -8.87522), 47.0), EncounterState(AircraftState(10473.8, 10409.0, 217.812, 17.6573), AircraftState(10781.2, 10219.7, 241.141, -9.60741), 48.0), EncounterState(AircraftState(10691.7, 10426.7, 217.893, 17.7352), AircraftState(11022.3, 10209.7, 241.141, -10.4372), 49.0), EncounterState(AircraftState(10909.5, 10444.5, 217.852, 17.7469), AircraftState(11263.4, 10198.8, 241.073, -11.4269), 50.0)]             \n",
       " ⋮                                                                                                                                                                                                                                                                                                                                                                                                                                                                                                                                                                                                                                                                                                                                                                                                                                                                                                                                                                                                                                                                                                                                                                                                                                                                                                                                                                                                                                                                                                                                                                                                                                                                                                                                                                                                                                                                                                                                                                                                                                                                                                                                                                                                                                                                                                                                                                                                                                                                                                                                                                                                                 \n",
       " [EncounterState(AircraftState(0.0, 8847.27, 208.315, -0.135076), AircraftState(-1119.78, 8411.22, 238.27, 4.00718), 0.0), EncounterState(AircraftState(208.296, 8847.11, 208.277, -0.156573), AircraftState(-881.485, 8415.27, 238.317, 4.08815), 1.0), EncounterState(AircraftState(416.566, 8847.03, 208.264, 0.0438877), AircraftState(-643.166, 8419.39, 238.323, 4.1566), 2.0), EncounterState(AircraftState(624.846, 8847.21, 208.295, 0.30575), AircraftState(-404.9, 8423.59, 238.209, 4.24681), 3.0), EncounterState(AircraftState(833.097, 8847.59, 208.207, 0.426843), AircraftState(-166.727, 8427.9, 238.136, 4.37417), 4.0), EncounterState(AircraftState(1041.29, 8848.05, 208.176, 0.504113), AircraftState(71.4083, 8432.34, 238.135, 4.51733), 5.0), EncounterState(AircraftState(1249.38, 8848.59, 208.004, 0.564896), AircraftState(309.579, 8436.93, 238.207, 4.64645), 6.0), EncounterState(AircraftState(1457.39, 8849.17, 208.01, 0.601765), AircraftState(547.75, 8441.64, 238.134, 4.78887), 7.0), EncounterState(AircraftState(1665.39, 8849.8, 207.993, 0.640523), AircraftState(785.927, 8446.51, 238.221, 4.94775), 8.0), EncounterState(AircraftState(1873.36, 8850.45, 207.95, 0.660299), AircraftState(1024.15, 8451.56, 238.219, 5.17783), 9.0)  …  EncounterState(AircraftState(8544.3, 8946.4, 208.748, 2.33228), AircraftState(8664.19, 8974.99, 239.437, 29.4384), 41.0), EncounterState(AircraftState(8753.01, 8948.66, 208.67, 2.22911), AircraftState(8903.62, 9004.83, 239.432, 30.2538), 42.0), EncounterState(AircraftState(8961.63, 8950.88, 208.569, 2.20547), AircraftState(9143.03, 9035.48, 239.388, 31.0401), 43.0), EncounterState(AircraftState(9170.25, 8953.05, 208.665, 2.1286), AircraftState(9382.39, 9066.89, 239.335, 31.7532), 44.0), EncounterState(AircraftState(9378.89, 8955.15, 208.615, 2.07938), AircraftState(9621.66, 9099.0, 239.189, 32.4856), 45.0), EncounterState(AircraftState(9587.57, 8957.21, 208.746, 2.04065), AircraftState(9860.9, 9131.9, 239.298, 33.3185), 46.0), EncounterState(AircraftState(9796.29, 8959.23, 208.695, 2.01543), AircraftState(10100.2, 9165.63, 239.337, 34.1315), 47.0), EncounterState(AircraftState(10005.0, 8961.26, 208.633, 2.03015), AircraftState(10339.6, 9200.14, 239.459, 34.8871), 48.0), EncounterState(AircraftState(10213.6, 8963.3, 208.629, 2.05263), AircraftState(10579.1, 9235.41, 239.436, 35.6584), 49.0), EncounterState(AircraftState(10422.2, 8965.37, 208.682, 2.09124), AircraftState(10818.5, 9271.47, 239.512, 36.4748), 50.0)]                                             \n",
       " [EncounterState(AircraftState(0.0, 8780.62, 210.993, 3.12762), AircraftState(-540.061, 8840.17, 224.814, -0.256916), 0.0), EncounterState(AircraftState(210.911, 8783.8, 210.829, 3.25758), AircraftState(-315.27, 8839.94, 224.767, -0.209585), 1.0), EncounterState(AircraftState(421.76, 8787.2, 210.869, 3.55514), AircraftState(-90.5061, 8839.79, 224.762, -0.064163), 2.0), EncounterState(AircraftState(632.645, 8790.94, 210.901, 3.95922), AircraftState(134.24, 8839.87, 224.729, 0.260213), 3.0), EncounterState(AircraftState(843.464, 8795.15, 210.738, 4.46542), AircraftState(358.948, 8840.33, 224.688, 0.66221), 4.0), EncounterState(AircraftState(1054.18, 8799.91, 210.689, 5.0691), AircraftState(583.609, 8841.19, 224.633, 1.05166), 5.0), EncounterState(AircraftState(1264.85, 8805.27, 210.663, 5.61184), AircraftState(808.239, 8842.41, 224.627, 1.37892), 6.0), EncounterState(AircraftState(1475.5, 8811.09, 210.638, 6.02837), AircraftState(1032.84, 8843.95, 224.578, 1.71651), 7.0), EncounterState(AircraftState(1686.14, 8817.29, 210.633, 6.33359), AircraftState(1257.42, 8845.87, 224.577, 2.1122), 8.0), EncounterState(AircraftState(1896.75, 8823.73, 210.589, 6.55485), AircraftState(1482.04, 8848.17, 224.657, 2.48369), 9.0)  …  EncounterState(AircraftState(8647.29, 9195.76, 210.822, 21.0784), AircraftState(8675.1, 9200.82, 224.838, 20.3174), 41.0), EncounterState(AircraftState(8858.02, 9217.2, 210.644, 21.8054), AircraftState(8899.97, 9221.35, 224.89, 20.7575), 42.0), EncounterState(AircraftState(9068.65, 9239.39, 210.612, 22.5825), AircraftState(9124.84, 9242.32, 224.85, 21.1647), 43.0), EncounterState(AircraftState(9279.37, 9262.39, 210.823, 23.4424), AircraftState(9349.74, 9263.67, 224.95, 21.5504), 44.0), EncounterState(AircraftState(9490.16, 9286.29, 210.763, 24.3544), AircraftState(9574.74, 9285.42, 225.052, 21.9351), 45.0), EncounterState(AircraftState(9700.93, 9311.11, 210.772, 25.3058), AircraftState(9799.8, 9307.52, 225.077, 22.2592), 46.0), EncounterState(AircraftState(9911.67, 9336.95, 210.718, 26.3918), AircraftState(10024.9, 9329.94, 225.167, 22.5814), 47.0), EncounterState(AircraftState(10122.3, 9363.91, 210.609, 27.5335), AircraftState(10250.0, 9352.69, 224.994, 22.9181), 48.0), EncounterState(AircraftState(10332.9, 9392.04, 210.602, 28.7581), AircraftState(10475.0, 9375.77, 225.012, 23.2229), 49.0), EncounterState(AircraftState(10543.5, 9421.46, 210.589, 30.0687), AircraftState(10700.0, 9399.11, 225.029, 23.4512), 50.0)]                                                 \n",
       " [EncounterState(AircraftState(0.0, 11022.0, 230.822, -4.03894), AircraftState(917.327, 10661.8, 209.594, -3.67779), 0.0), EncounterState(AircraftState(230.819, 11018.0, 230.817, -3.97561), AircraftState(1126.85, 10658.2, 209.449, -3.47323), 1.0), EncounterState(AircraftState(461.672, 11014.0, 230.889, -4.01729), AircraftState(1336.36, 10654.8, 209.574, -3.22817), 2.0), EncounterState(AircraftState(692.51, 11009.9, 230.786, -4.17508), AircraftState(1546.0, 10651.7, 209.715, -2.97439), 3.0), EncounterState(AircraftState(923.295, 11005.6, 230.785, -4.39288), AircraftState(1755.65, 10648.9, 209.588, -2.73711), 4.0), EncounterState(AircraftState(1154.07, 11001.1, 230.758, -4.70364), AircraftState(1965.21, 10646.2, 209.521, -2.54935), 5.0), EncounterState(AircraftState(1384.8, 10996.2, 230.708, -5.12717), AircraftState(2174.83, 10643.7, 209.721, -2.51408), 6.0), EncounterState(AircraftState(1615.57, 10990.8, 230.842, -5.60245), AircraftState(2384.57, 10641.2, 209.764, -2.57796), 7.0), EncounterState(AircraftState(1846.35, 10985.0, 230.717, -6.11079), AircraftState(2594.29, 10638.6, 209.671, -2.58321), 8.0), EncounterState(AircraftState(2077.09, 10978.6, 230.763, -6.6033), AircraftState(2804.04, 10636.0, 209.823, -2.54588), 9.0)  …  EncounterState(AircraftState(9464.5, 10579.1, 230.979, -22.4303), AircraftState(9522.74, 10602.6, 210.329, -0.702853), 41.0), EncounterState(AircraftState(9695.51, 10556.3, 231.036, -23.2562), AircraftState(9733.13, 10601.9, 210.461, -0.655196), 42.0), EncounterState(AircraftState(9926.54, 10532.6, 231.023, -24.199), AircraftState(9943.65, 10601.3, 210.573, -0.570685), 43.0), EncounterState(AircraftState(10157.6, 10507.9, 231.058, -25.1577), AircraftState(10154.2, 10600.8, 210.539, -0.458378), 44.0), EncounterState(AircraftState(10388.6, 10482.3, 231.025, -26.057), AircraftState(10364.7, 10600.4, 210.525, -0.344596), 45.0), EncounterState(AircraftState(10619.6, 10455.8, 230.929, -26.9449), AircraftState(10575.3, 10600.1, 210.68, -0.208643), 46.0), EncounterState(AircraftState(10850.6, 10428.4, 231.001, -27.8731), AircraftState(10786.0, 10600.0, 210.577, 0.00036519), 47.0), EncounterState(AircraftState(11081.6, 10400.0, 231.143, -28.9792), AircraftState(10996.6, 10600.1, 210.742, 0.272718), 48.0), EncounterState(AircraftState(11312.8, 10370.3, 231.099, -30.2338), AircraftState(11207.3, 10600.5, 210.614, 0.547969), 49.0), EncounterState(AircraftState(11543.8, 10339.5, 231.02, -31.5181), AircraftState(11417.9, 10601.2, 210.537, 0.883022), 50.0)]      \n",
       " [EncounterState(AircraftState(0.0, 8071.62, 214.819, 4.16057), AircraftState(-254.199, 8211.09, 224.636, -0.010684), 0.0), EncounterState(AircraftState(214.831, 8075.65, 214.843, 3.88852), AircraftState(-29.5895, 8211.02, 224.582, -0.136155), 1.0), EncounterState(AircraftState(429.737, 8079.38, 214.969, 3.56704), AircraftState(194.999, 8210.79, 224.595, -0.320258), 2.0), EncounterState(AircraftState(644.744, 8082.79, 215.044, 3.25711), AircraftState(419.508, 8210.39, 224.422, -0.478579), 3.0), EncounterState(AircraftState(859.795, 8085.89, 215.058, 2.92729), AircraftState(643.898, 8209.88, 224.36, -0.508828), 4.0), EncounterState(AircraftState(1074.85, 8088.62, 215.047, 2.53551), AircraftState(868.219, 8209.38, 224.28, -0.512469), 5.0), EncounterState(AircraftState(1289.96, 8090.96, 215.178, 2.15071), AircraftState(1092.48, 8208.82, 224.241, -0.606048), 6.0), EncounterState(AircraftState(1505.1, 8092.92, 215.104, 1.74397), AircraftState(1316.74, 8208.14, 224.271, -0.76709), 7.0), EncounterState(AircraftState(1720.19, 8094.46, 215.066, 1.3927), AircraftState(1540.88, 8207.28, 224.028, -0.952735), 8.0), EncounterState(AircraftState(1935.32, 8095.74, 215.211, 1.16282), AircraftState(1764.91, 8206.24, 224.017, -1.131), 9.0)  …  EncounterState(AircraftState(8839.29, 8009.85, 216.134, -5.48581), AircraftState(8930.38, 8010.07, 223.859, -10.4076), 41.0), EncounterState(AircraftState(9055.42, 8004.36, 216.117, -5.48297), AircraftState(9154.25, 7999.62, 223.89, -10.5051), 42.0), EncounterState(AircraftState(9271.53, 7998.87, 216.103, -5.49411), AircraftState(9378.14, 7989.02, 223.897, -10.7139), 43.0), EncounterState(AircraftState(9487.63, 7993.37, 216.107, -5.52389), AircraftState(9602.05, 7978.15, 223.919, -11.0464), 44.0), EncounterState(AircraftState(9703.77, 7987.83, 216.17, -5.53367), AircraftState(9825.96, 7966.91, 223.9, -11.4466), 45.0), EncounterState(AircraftState(9919.87, 7982.31, 216.036, -5.52593), AircraftState(10049.8, 7955.22, 223.78, -11.9615), 46.0), EncounterState(AircraftState(10135.9, 7976.77, 216.029, -5.56175), AircraftState(10273.6, 7942.95, 223.781, -12.5781), 47.0), EncounterState(AircraftState(10352.0, 7971.17, 216.122, -5.64939), AircraftState(10497.3, 7930.06, 223.716, -13.2001), 48.0), EncounterState(AircraftState(10568.2, 7965.46, 216.298, -5.75998), AircraftState(10721.0, 7916.54, 223.643, -13.855), 49.0), EncounterState(AircraftState(10784.4, 7959.64, 216.121, -5.88174), AircraftState(10944.6, 7902.36, 223.543, -14.4922), 50.0)]                 \n",
       " [EncounterState(AircraftState(0.0, 11711.7, 241.988, -0.0224143), AircraftState(49.7577, 11019.3, 238.269, -0.491519), 0.0), EncounterState(AircraftState(241.977, 11711.7, 241.966, -0.024867), AircraftState(288.017, 11019.0, 238.25, -0.2466), 1.0), EncounterState(AircraftState(483.928, 11711.7, 241.936, 0.0746497), AircraftState(526.358, 11018.9, 238.431, 0.122297), 2.0), EncounterState(AircraftState(725.962, 11711.9, 242.131, 0.280234), AircraftState(764.749, 11019.2, 238.351, 0.647382), 3.0), EncounterState(AircraftState(968.098, 11712.3, 242.142, 0.508489), AircraftState(1003.09, 11020.2, 238.333, 1.23143), 4.0), EncounterState(AircraftState(1210.21, 11712.9, 242.082, 0.737575), AircraftState(1241.45, 11021.7, 238.383, 1.78244), 5.0), EncounterState(AircraftState(1452.29, 11713.7, 242.078, 0.950434), AircraftState(1479.87, 11023.8, 238.466, 2.3735), 6.0), EncounterState(AircraftState(1694.44, 11714.8, 242.227, 1.1306), AircraftState(1718.41, 11026.5, 238.612, 3.03451), 7.0), EncounterState(AircraftState(1936.73, 11716.0, 242.351, 1.30136), AircraftState(1957.01, 11029.8, 238.583, 3.66145), 8.0), EncounterState(AircraftState(2179.07, 11717.3, 242.334, 1.40162), AircraftState(2195.54, 11033.8, 238.477, 4.29481), 9.0)  …  EncounterState(AircraftState(9929.95, 11493.1, 242.035, -17.1165), AircraftState(9821.02, 11529.8, 238.314, 24.5866), 41.0), EncounterState(AircraftState(10172.1, 11476.0, 242.196, -17.1205), AircraftState(10059.4, 11554.5, 238.35, 24.7871), 42.0), EncounterState(AircraftState(10414.3, 11458.9, 242.259, -17.0308), AircraftState(10297.7, 11579.4, 238.27, 25.0004), 43.0), EncounterState(AircraftState(10656.5, 11441.9, 242.185, -17.0174), AircraftState(10535.9, 11604.5, 238.225, 25.2681), 44.0), EncounterState(AircraftState(10898.6, 11424.8, 242.07, -17.1146), AircraftState(10774.1, 11629.9, 238.235, 25.5622), 45.0), EncounterState(AircraftState(11140.7, 11407.7, 242.098, -17.2561), AircraftState(11012.4, 11655.7, 238.184, 25.8877), 46.0), EncounterState(AircraftState(11382.8, 11390.3, 242.064, -17.3726), AircraftState(11250.6, 11681.7, 238.223, 26.2263), 47.0), EncounterState(AircraftState(11624.8, 11372.9, 241.994, -17.4536), AircraftState(11488.8, 11708.1, 238.248, 26.5886), 48.0), EncounterState(AircraftState(11866.8, 11355.5, 241.859, -17.4886), AircraftState(11726.9, 11734.9, 238.015, 26.9363), 49.0), EncounterState(AircraftState(12108.6, 11337.9, 241.736, -17.5531), AircraftState(11965.0, 11762.0, 238.104, 27.2017), 50.0)]                          \n",
       " [EncounterState(AircraftState(0.0, 8483.2, 231.818, -0.512255), AircraftState(982.197, 8715.83, 206.896, 0.269444), 0.0), EncounterState(AircraftState(231.804, 8482.79, 231.789, -0.322485), AircraftState(1189.13, 8716.15, 206.967, 0.385365), 1.0), EncounterState(AircraftState(463.641, 8482.55, 231.885, -0.174819), AircraftState(1396.05, 8716.59, 206.879, 0.480534), 2.0), EncounterState(AircraftState(695.553, 8482.42, 231.94, -0.0857818), AircraftState(1603.0, 8717.1, 207.008, 0.526771), 3.0), EncounterState(AircraftState(927.498, 8482.35, 231.95, -0.0530975), AircraftState(1810.11, 8717.64, 207.22, 0.550596), 4.0), EncounterState(AircraftState(1159.56, 8482.31, 232.172, -0.0362576), AircraftState(2017.27, 8718.16, 207.102, 0.463679), 5.0), EncounterState(AircraftState(1391.78, 8482.28, 232.264, -0.0124465), AircraftState(2224.39, 8718.54, 207.142, 0.31328), 6.0), EncounterState(AircraftState(1624.02, 8482.29, 232.23, 0.0425238), AircraftState(2431.63, 8718.79, 207.335, 0.177475), 7.0), EncounterState(AircraftState(1856.29, 8482.37, 232.295, 0.103814), AircraftState(2638.97, 8718.92, 207.353, 0.111915), 8.0), EncounterState(AircraftState(2088.57, 8482.5, 232.277, 0.163164), AircraftState(2846.32, 8719.05, 207.344, 0.145219), 9.0)  …  EncounterState(AircraftState(9518.57, 8499.35, 232.033, -1.56466), AircraftState(9482.79, 8503.28, 207.845, -21.3991), 41.0), EncounterState(AircraftState(9750.55, 8497.64, 231.932, -1.88393), AircraftState(9690.64, 8481.19, 207.838, -22.7756), 42.0), EncounterState(AircraftState(9982.44, 8495.56, 231.85, -2.29075), AircraftState(9898.49, 8457.77, 207.866, -24.0485), 43.0), EncounterState(AircraftState(10214.2, 8493.03, 231.714, -2.77848), AircraftState(10106.3, 8433.12, 207.811, -25.2453), 44.0), EncounterState(AircraftState(10445.9, 8490.01, 231.704, -3.22112), AircraftState(10314.2, 8407.27, 207.858, -26.4678), 45.0), EncounterState(AircraftState(10677.6, 8486.62, 231.628, -3.55284), AircraftState(10521.9, 8380.16, 207.691, -27.7799), 46.0), EncounterState(AircraftState(10909.2, 8482.91, 231.53, -3.88538), AircraftState(10729.7, 8351.7, 207.912, -29.1273), 47.0), EncounterState(AircraftState(11140.7, 8478.83, 231.508, -4.2736), AircraftState(10937.6, 8321.93, 207.841, -30.395), 48.0), EncounterState(AircraftState(11372.2, 8474.34, 231.459, -4.71856), AircraftState(11145.5, 8290.9, 207.854, -31.6741), 49.0), EncounterState(AircraftState(11603.6, 8469.37, 231.329, -5.23247), AircraftState(11353.3, 8258.57, 207.844, -32.9796), 50.0)]        \n",
       " [EncounterState(AircraftState(0.0, 11750.9, 238.033, 0.409309), AircraftState(28.3946, 12111.1, 235.979, -4.0041), 0.0), EncounterState(AircraftState(237.882, 11751.3, 237.732, 0.392154), AircraftState(264.315, 12107.1, 235.862, -3.99426), 1.0), EncounterState(AircraftState(475.693, 11751.7, 237.89, 0.410848), AircraftState(500.084, 12103.1, 235.674, -4.02321), 2.0), EncounterState(AircraftState(713.528, 11752.1, 237.779, 0.402955), AircraftState(735.789, 12099.1, 235.737, -4.06485), 3.0), EncounterState(AircraftState(951.324, 11752.5, 237.812, 0.376173), AircraftState(971.545, 12095.0, 235.775, -4.07324), 4.0), EncounterState(AircraftState(1189.12, 11752.8, 237.774, 0.395975), AircraftState(1207.39, 12090.9, 235.91, -4.05708), 5.0), EncounterState(AircraftState(1426.89, 11753.2, 237.774, 0.411397), AircraftState(1443.35, 12086.9, 236.007, -4.13313), 6.0), EncounterState(AircraftState(1664.66, 11753.7, 237.766, 0.452735), AircraftState(1679.44, 12082.6, 236.176, -4.35868), 7.0), EncounterState(AircraftState(1902.36, 11754.2, 237.639, 0.567031), AircraftState(1915.57, 12078.1, 236.098, -4.64922), 8.0), EncounterState(AircraftState(2140.03, 11754.8, 237.685, 0.76035), AircraftState(2151.66, 12073.3, 236.068, -4.8987), 9.0)  …  EncounterState(AircraftState(9756.77, 11744.5, 237.988, -2.67203), AircraftState(9703.52, 11738.7, 235.784, -20.4147), 41.0), EncounterState(AircraftState(9994.79, 11742.0, 238.053, -2.46068), AircraftState(9939.33, 11717.8, 235.834, -21.2508), 42.0), EncounterState(AircraftState(10232.8, 11739.6, 238.045, -2.27124), AircraftState(10175.3, 11696.2, 236.139, -22.0374), 43.0), EncounterState(AircraftState(10471.0, 11737.4, 238.19, -2.111), AircraftState(10411.5, 11673.8, 236.131, -22.7512), 44.0), EncounterState(AircraftState(10709.2, 11735.4, 238.288, -1.92419), AircraftState(10647.6, 11650.6, 236.143, -23.5831), 45.0), EncounterState(AircraftState(10947.4, 11733.6, 238.209, -1.75816), AircraftState(10883.7, 11626.6, 235.988, -24.4646), 46.0), EncounterState(AircraftState(11185.7, 11731.9, 238.213, -1.62584), AircraftState(11119.6, 11601.7, 235.943, -25.2934), 47.0), EncounterState(AircraftState(11423.8, 11730.3, 238.097, -1.51788), AircraftState(11355.5, 11576.0, 235.766, -26.1234), 48.0), EncounterState(AircraftState(11661.8, 11728.9, 237.931, -1.32876), AircraftState(11591.2, 11549.5, 235.785, -26.9251), 49.0), EncounterState(AircraftState(11899.8, 11727.7, 237.939, -1.06036), AircraftState(11827.0, 11522.2, 235.683, -27.6913), 50.0)]             \n",
       " [EncounterState(AircraftState(0.0, 9649.05, 216.761, 4.22091), AircraftState(-475.426, 9939.93, 227.732, 0.225919), 0.0), EncounterState(AircraftState(216.717, 9653.31, 216.673, 4.28879), AircraftState(-247.62, 9940.15, 227.879, 0.201802), 1.0), EncounterState(AircraftState(433.402, 9657.64, 216.697, 4.3935), AircraftState(-19.7879, 9940.34, 227.785, 0.175696), 2.0), EncounterState(AircraftState(650.11, 9662.08, 216.719, 4.46312), AircraftState(207.985, 9940.52, 227.761, 0.205043), 3.0), EncounterState(AircraftState(866.824, 9666.54, 216.708, 4.44194), AircraftState(435.756, 9940.74, 227.781, 0.204461), 4.0), EncounterState(AircraftState(1083.47, 9670.96, 216.589, 4.41079), AircraftState(663.539, 9940.9, 227.785, 0.118344), 5.0), EncounterState(AircraftState(1300.07, 9675.35, 216.606, 4.3517), AircraftState(891.273, 9940.98, 227.683, 0.0503539), 6.0), EncounterState(AircraftState(1516.65, 9679.69, 216.561, 4.35512), AircraftState(1118.97, 9940.99, 227.717, -0.0318393), 7.0), EncounterState(AircraftState(1733.25, 9684.08, 216.64, 4.42521), AircraftState(1346.65, 9940.9, 227.629, -0.150286), 8.0), EncounterState(AircraftState(1949.85, 9688.57, 216.557, 4.57979), AircraftState(1574.29, 9940.69, 227.658, -0.283297), 9.0)  …  EncounterState(AircraftState(8873.65, 9976.32, 216.286, 13.7751), AircraftState(8858.95, 9955.98, 227.991, -0.0193588), 41.0), EncounterState(AircraftState(9089.9, 9990.25, 216.209, 14.0811), AircraftState(9086.94, 9955.86, 227.974, -0.202126), 42.0), EncounterState(AircraftState(9306.02, 10004.5, 216.037, 14.3624), AircraftState(9314.86, 9955.58, 227.883, -0.370427), 43.0), EncounterState(AircraftState(9522.09, 10018.9, 216.11, 14.5786), AircraftState(9542.76, 9955.15, 227.898, -0.45822), 44.0), EncounterState(AircraftState(9738.26, 10033.6, 216.225, 14.7085), AircraftState(9770.57, 9954.67, 227.733, -0.515785), 45.0), EncounterState(AircraftState(9954.53, 10048.3, 216.313, 14.7853), AircraftState(9998.29, 9954.1, 227.697, -0.616028), 46.0), EncounterState(AircraftState(10170.9, 10063.2, 216.458, 14.8432), AircraftState(10226.1, 9953.45, 227.835, -0.690848), 47.0), EncounterState(AircraftState(10387.3, 10078.0, 216.38, 14.7984), AircraftState(10453.9, 9952.69, 227.803, -0.85832), 48.0), EncounterState(AircraftState(10603.8, 10092.8, 216.64, 14.8153), AircraftState(10681.6, 9951.69, 227.704, -1.16581), 49.0), EncounterState(AircraftState(10820.5, 10107.7, 216.61, 14.9277), AircraftState(10909.4, 9950.35, 227.755, -1.49591), 50.0)]                       \n",
       " [EncounterState(AircraftState(0.0, 10288.0, 234.224, 0.0249453), AircraftState(785.856, 10416.5, 217.235, -0.105945), 0.0), EncounterState(AircraftState(234.279, 10288.0, 234.334, -0.0376656), AircraftState(1003.11, 10416.4, 217.277, -0.0555702), 1.0), EncounterState(AircraftState(468.65, 10287.9, 234.408, -0.10136), AircraftState(1220.44, 10416.3, 217.371, -0.0426544), 2.0), EncounterState(AircraftState(703.013, 10287.8, 234.318, -0.127206), AircraftState(1437.85, 10416.2, 217.457, -0.165999), 3.0), EncounterState(AircraftState(937.401, 10287.7, 234.458, -0.132704), AircraftState(1655.38, 10416.0, 217.6, -0.371097), 4.0), EncounterState(AircraftState(1171.93, 10287.6, 234.591, -0.037002), AircraftState(1873.05, 10415.5, 217.751, -0.533911), 5.0), EncounterState(AircraftState(1406.55, 10287.6, 234.662, 0.149255), AircraftState(2090.84, 10414.9, 217.826, -0.620334), 6.0), EncounterState(AircraftState(1641.21, 10287.9, 234.645, 0.339504), AircraftState(2308.6, 10414.3, 217.685, -0.621425), 7.0), EncounterState(AircraftState(1875.76, 10288.3, 234.465, 0.521945), AircraftState(2526.31, 10413.7, 217.748, -0.605656), 8.0), EncounterState(AircraftState(2110.22, 10288.9, 234.463, 0.729727), AircraftState(2744.16, 10413.1, 217.936, -0.616052), 9.0)  …  EncounterState(AircraftState(9593.15, 10433.5, 234.118, 10.6821), AircraftState(9718.4, 10416.0, 218.169, 0.900998), 41.0), EncounterState(AircraftState(9827.25, 10444.4, 234.068, 11.1263), AircraftState(9936.57, 10416.9, 218.168, 0.889485), 42.0), EncounterState(AircraftState(10061.4, 10455.7, 234.196, 11.568), AircraftState(10154.7, 10417.7, 218.171, 0.854231), 43.0), EncounterState(AircraftState(10295.6, 10467.5, 234.219, 12.1144), AircraftState(10372.9, 10418.6, 218.166, 0.760885), 44.0), EncounterState(AircraftState(10529.8, 10480.0, 234.167, 12.7703), AircraftState(10591.1, 10419.2, 218.204, 0.525571), 45.0), EncounterState(AircraftState(10763.9, 10493.1, 234.167, 13.3761), AircraftState(10809.2, 10419.6, 218.104, 0.237962), 46.0), EncounterState(AircraftState(10998.1, 10506.7, 234.16, 13.7666), AircraftState(11027.4, 10419.7, 218.259, 0.00855952), 47.0), EncounterState(AircraftState(11232.3, 10520.6, 234.198, 14.0364), AircraftState(11245.7, 10419.6, 218.321, -0.183178), 48.0), EncounterState(AircraftState(11466.5, 10534.7, 234.167, 14.2516), AircraftState(11464.0, 10419.3, 218.183, -0.362756), 49.0), EncounterState(AircraftState(11700.7, 10549.0, 234.302, 14.4038), AircraftState(11682.1, 10418.9, 218.01, -0.535032), 50.0)]\n",
       " [EncounterState(AircraftState(0.0, 9430.44, 216.206, -0.0330578), AircraftState(-52.8673, 8813.91, 217.712, 4.09195), 0.0), EncounterState(AircraftState(216.139, 9430.37, 216.072, -0.0895442), AircraftState(164.852, 8817.96, 217.726, 4.02388), 1.0), EncounterState(AircraftState(432.278, 9430.27, 216.206, -0.0957814), AircraftState(382.592, 8821.98, 217.753, 4.02135), 2.0), EncounterState(AircraftState(648.38, 9430.21, 215.997, -0.0113896), AircraftState(600.37, 8826.04, 217.802, 4.12075), 3.0), EncounterState(AircraftState(864.339, 9430.25, 215.921, 0.0832907), AircraftState(818.227, 8830.26, 217.911, 4.34315), 4.0), EncounterState(AircraftState(1080.29, 9430.39, 215.977, 0.22306), AircraftState(1036.11, 8834.74, 217.853, 4.61947), 5.0), EncounterState(AircraftState(1296.15, 9430.71, 215.737, 0.402863), AircraftState(1253.93, 8839.51, 217.796, 4.91994), 6.0), EncounterState(AircraftState(1511.87, 9431.18, 215.712, 0.529584), AircraftState(1471.72, 8844.57, 217.773, 5.1889), 7.0), EncounterState(AircraftState(1727.58, 9431.75, 215.707, 0.592955), AircraftState(1689.57, 8849.87, 217.923, 5.41609), 8.0), EncounterState(AircraftState(1943.25, 9432.34, 215.636, 0.582729), AircraftState(1907.56, 8855.4, 218.057, 5.63352), 9.0)  …  EncounterState(AircraftState(8855.33, 9188.9, 216.426, -22.7821), AircraftState(8896.45, 9197.52, 218.696, 14.1426), 41.0), EncounterState(AircraftState(9071.75, 9165.51, 216.423, -24.0013), AircraftState(9115.25, 9211.75, 218.903, 14.3386), 42.0), EncounterState(AircraftState(9288.2, 9140.88, 216.471, -25.2736), AircraftState(9334.13, 9226.19, 218.853, 14.5223), 43.0), EncounterState(AircraftState(9504.71, 9114.97, 216.554, -26.5128), AircraftState(9553.06, 9240.77, 219.01, 14.629), 44.0), EncounterState(AircraftState(9721.29, 9087.88, 216.593, -27.6742), AircraftState(9771.99, 9255.43, 218.847, 14.6899), 45.0), EncounterState(AircraftState(9937.84, 9059.63, 216.52, -28.8066), AircraftState(9990.84, 9270.12, 218.867, 14.6566), 46.0), EncounterState(AircraftState(10154.3, 9030.28, 216.48, -29.8934), AircraftState(10209.7, 9284.73, 218.868, 14.5739), 47.0), EncounterState(AircraftState(10370.8, 8999.85, 216.403, -30.9656), AircraftState(10428.5, 9299.27, 218.628, 14.5128), 48.0), EncounterState(AircraftState(10587.2, 8968.36, 216.336, -31.9911), AircraftState(10647.2, 9313.75, 218.926, 14.4509), 49.0), EncounterState(AircraftState(10803.5, 8935.9, 216.323, -32.9073), AircraftState(10866.2, 9328.18, 218.903, 14.4029), 50.0)]                           \n",
       " [EncounterState(AircraftState(0.0, 11054.2, 237.002, -0.00320667), AircraftState(-379.935, 11829.4, 245.604, 0.119293), 0.0), EncounterState(AircraftState(236.952, 11054.3, 236.901, 0.0978396), AircraftState(-134.412, 11829.4, 245.441, -0.00396875), 1.0), EncounterState(AircraftState(473.907, 11054.4, 237.01, 0.205771), AircraftState(111.011, 11829.4, 245.405, -0.167411), 2.0), EncounterState(AircraftState(710.966, 11054.7, 237.106, 0.437537), AircraftState(356.453, 11829.1, 245.478, -0.388586), 3.0), EncounterState(AircraftState(948.044, 11055.3, 237.05, 0.773745), AircraftState(601.986, 11828.6, 245.589, -0.66985), 4.0), EncounterState(AircraftState(1185.12, 11056.3, 237.112, 1.14255), AircraftState(847.536, 11827.8, 245.51, -0.91011), 5.0), EncounterState(AircraftState(1422.24, 11057.6, 237.119, 1.38561), AircraftState(1093.03, 11826.7, 245.478, -1.14817), 6.0), EncounterState(AircraftState(1659.35, 11059.0, 237.094, 1.50766), AircraftState(1338.49, 11825.4, 245.442, -1.47026), 7.0), EncounterState(AircraftState(1896.5, 11060.6, 237.221, 1.67497), AircraftState(1583.97, 11823.8, 245.511, -1.85523), 8.0), EncounterState(AircraftState(2133.79, 11062.3, 237.344, 1.85939), AircraftState(1829.53, 11821.7, 245.624, -2.28289), 9.0)  …  EncounterState(AircraftState(9731.15, 11231.8, 237.526, 2.92356), AircraftState(9672.41, 11195.9, 245.329, -39.6588), 41.0), EncounterState(AircraftState(9968.67, 11234.5, 237.52, 2.52348), AircraftState(9917.79, 11155.7, 245.431, -40.6162), 42.0), EncounterState(AircraftState(10206.2, 11236.9, 237.442, 2.25668), AircraftState(10163.2, 11114.7, 245.401, -41.477), 43.0), EncounterState(AircraftState(10443.6, 11239.1, 237.464, 2.12828), AircraftState(10408.6, 11072.8, 245.35, -42.2528), 44.0), EncounterState(AircraftState(10681.2, 11241.1, 237.64, 1.97612), AircraftState(10653.9, 11030.2, 245.354, -42.9829), 45.0), EncounterState(AircraftState(10918.8, 11243.0, 237.707, 1.78832), AircraftState(10899.2, 10986.8, 245.267, -43.6935), 46.0), EncounterState(AircraftState(11156.6, 11244.7, 237.925, 1.67412), AircraftState(11144.5, 10942.8, 245.294, -44.3858), 47.0), EncounterState(AircraftState(11394.6, 11246.4, 237.903, 1.67206), AircraftState(11389.8, 10898.1, 245.332, -45.0008), 48.0), EncounterState(AircraftState(11632.6, 11248.1, 238.092, 1.76004), AircraftState(11635.2, 10852.8, 245.304, -45.565), 49.0), EncounterState(AircraftState(11870.6, 11249.9, 238.075, 1.82244), AircraftState(11880.5, 10806.9, 245.376, -46.1563), 50.0)]                  \n",
       " [EncounterState(AircraftState(0.0, 9808.12, 223.65, -0.178838), AircraftState(614.04, 10207.6, 212.023, -0.274734), 0.0), EncounterState(AircraftState(223.682, 9807.93, 223.714, -0.206885), AircraftState(825.996, 10207.4, 211.889, -0.113325), 1.0), EncounterState(AircraftState(447.335, 9807.7, 223.593, -0.276397), AircraftState(1037.83, 10207.4, 211.788, 0.0947739), 2.0), EncounterState(AircraftState(670.991, 9807.39, 223.719, -0.3231), AircraftState(1249.61, 10207.6, 211.763, 0.253991), 3.0), EncounterState(AircraftState(894.717, 9807.11, 223.731, -0.182118), AircraftState(1461.4, 10207.9, 211.819, 0.281848), 4.0), EncounterState(AircraftState(1118.48, 9807.07, 223.791, 0.10074), AircraftState(1673.25, 10208.1, 211.883, 0.214751), 5.0), EncounterState(AircraftState(1342.33, 9807.33, 223.913, 0.42197), AircraftState(1885.15, 10208.3, 211.918, 0.125049), 6.0), EncounterState(AircraftState(1566.25, 9807.95, 223.923, 0.84152), AircraftState(2097.1, 10208.4, 211.987, 0.0235811), 7.0), EncounterState(AircraftState(1790.18, 9809.02, 223.937, 1.28464), AircraftState(2309.05, 10208.3, 211.897, -0.121752), 8.0), EncounterState(AircraftState(2014.08, 9810.51, 223.874, 1.71232), AircraftState(2521.02, 10208.1, 212.049, -0.37628), 9.0)  …  EncounterState(AircraftState(9177.04, 9920.01, 223.63, 0.533543), AircraftState(9308.31, 9931.01, 212.452, -11.4769), 41.0), EncounterState(AircraftState(9400.63, 9920.43, 223.544, 0.290472), AircraftState(9520.73, 9919.66, 212.389, -11.2126), 42.0), EncounterState(AircraftState(9624.16, 9920.56, 223.519, -0.0350357), AircraftState(9733.12, 9908.58, 212.387, -10.9424), 43.0), EncounterState(AircraftState(9847.68, 9920.36, 223.517, -0.362168), AircraftState(9945.47, 9897.82, 212.31, -10.5564), 44.0), EncounterState(AircraftState(10071.2, 9919.83, 223.617, -0.717285), AircraftState(10157.8, 9887.49, 212.306, -10.0948), 45.0), EncounterState(AircraftState(10294.9, 9918.92, 223.771, -1.09926), AircraftState(10370.1, 9877.6, 212.27, -9.70741), 46.0), EncounterState(AircraftState(10518.7, 9917.64, 223.67, -1.4298), AircraftState(10582.3, 9868.05, 212.279, -9.41286), 47.0), EncounterState(AircraftState(10742.4, 9916.05, 223.761, -1.76374), AircraftState(10794.6, 9858.75, 212.202, -9.20918), 48.0), EncounterState(AircraftState(10966.2, 9914.13, 223.879, -2.06317), AircraftState(11006.8, 9849.62, 212.338, -9.05063), 49.0), EncounterState(AircraftState(11190.1, 9911.94, 223.891, -2.31854), AircraftState(11219.2, 9840.66, 212.35, -8.84844), 50.0)]          "
      ]
     },
     "execution_count": 2,
     "metadata": {},
     "output_type": "execute_result"
    }
   ],
   "source": [
    "flights = CSV.read(joinpath(@__DIR__, \"..\", \"data\", \"flights.csv\"))\n",
    "trajectories = pull_trajectories(flights, 500)"
   ]
  },
  {
   "cell_type": "code",
   "execution_count": 3,
   "metadata": {},
   "outputs": [
    {
     "data": {
      "image/svg+xml": [
       "<?xml version=\"1.0\" encoding=\"utf-8\"?>\n",
       "<svg xmlns=\"http://www.w3.org/2000/svg\" xmlns:xlink=\"http://www.w3.org/1999/xlink\" width=\"800\" height=\"400\" viewBox=\"0 0 3200 1600\">\n",
       "<defs>\n",
       "  <clipPath id=\"clip1700\">\n",
       "    <rect x=\"0\" y=\"0\" width=\"2000\" height=\"2000\"/>\n",
       "  </clipPath>\n",
       "</defs>\n",
       "<defs>\n",
       "  <clipPath id=\"clip1701\">\n",
       "    <rect x=\"0\" y=\"0\" width=\"3200\" height=\"1600\"/>\n",
       "  </clipPath>\n",
       "</defs>\n",
       "<polygon clip-path=\"url(#clip1701)\" points=\"\n",
       "0,1600 3200,1600 3200,0 0,0 \n",
       "  \" fill=\"#ffffff\" fill-rule=\"evenodd\" fill-opacity=\"1\"/>\n",
       "<defs>\n",
       "  <clipPath id=\"clip1702\">\n",
       "    <rect x=\"640\" y=\"0\" width=\"2241\" height=\"1600\"/>\n",
       "  </clipPath>\n",
       "</defs>\n",
       "<polygon clip-path=\"url(#clip1701)\" points=\"\n",
       "291.292,1440.48 3121.26,1440.48 3121.26,47.2441 291.292,47.2441 \n",
       "  \" fill=\"#ffffff\" fill-rule=\"evenodd\" fill-opacity=\"1\"/>\n",
       "<defs>\n",
       "  <clipPath id=\"clip1703\">\n",
       "    <rect x=\"291\" y=\"47\" width=\"2831\" height=\"1394\"/>\n",
       "  </clipPath>\n",
       "</defs>\n",
       "<polyline clip-path=\"url(#clip1703)\" style=\"stroke:#000000; stroke-width:2; stroke-opacity:0.1; fill:none\" points=\"\n",
       "  568.022,1440.48 568.022,47.2441 \n",
       "  \"/>\n",
       "<polyline clip-path=\"url(#clip1703)\" style=\"stroke:#000000; stroke-width:2; stroke-opacity:0.1; fill:none\" points=\"\n",
       "  1115.62,1440.48 1115.62,47.2441 \n",
       "  \"/>\n",
       "<polyline clip-path=\"url(#clip1703)\" style=\"stroke:#000000; stroke-width:2; stroke-opacity:0.1; fill:none\" points=\"\n",
       "  1663.21,1440.48 1663.21,47.2441 \n",
       "  \"/>\n",
       "<polyline clip-path=\"url(#clip1703)\" style=\"stroke:#000000; stroke-width:2; stroke-opacity:0.1; fill:none\" points=\"\n",
       "  2210.81,1440.48 2210.81,47.2441 \n",
       "  \"/>\n",
       "<polyline clip-path=\"url(#clip1703)\" style=\"stroke:#000000; stroke-width:2; stroke-opacity:0.1; fill:none\" points=\"\n",
       "  2758.4,1440.48 2758.4,47.2441 \n",
       "  \"/>\n",
       "<polyline clip-path=\"url(#clip1703)\" style=\"stroke:#000000; stroke-width:2; stroke-opacity:0.1; fill:none\" points=\"\n",
       "  291.292,1152.88 3121.26,1152.88 \n",
       "  \"/>\n",
       "<polyline clip-path=\"url(#clip1703)\" style=\"stroke:#000000; stroke-width:2; stroke-opacity:0.1; fill:none\" points=\"\n",
       "  291.292,825.9 3121.26,825.9 \n",
       "  \"/>\n",
       "<polyline clip-path=\"url(#clip1703)\" style=\"stroke:#000000; stroke-width:2; stroke-opacity:0.1; fill:none\" points=\"\n",
       "  291.292,498.924 3121.26,498.924 \n",
       "  \"/>\n",
       "<polyline clip-path=\"url(#clip1703)\" style=\"stroke:#000000; stroke-width:2; stroke-opacity:0.1; fill:none\" points=\"\n",
       "  291.292,171.948 3121.26,171.948 \n",
       "  \"/>\n",
       "<polyline clip-path=\"url(#clip1701)\" style=\"stroke:#000000; stroke-width:4; stroke-opacity:1; fill:none\" points=\"\n",
       "  291.292,1440.48 3121.26,1440.48 \n",
       "  \"/>\n",
       "<polyline clip-path=\"url(#clip1701)\" style=\"stroke:#000000; stroke-width:4; stroke-opacity:1; fill:none\" points=\"\n",
       "  291.292,1440.48 291.292,47.2441 \n",
       "  \"/>\n",
       "<polyline clip-path=\"url(#clip1701)\" style=\"stroke:#000000; stroke-width:4; stroke-opacity:1; fill:none\" points=\"\n",
       "  568.022,1440.48 568.022,1419.58 \n",
       "  \"/>\n",
       "<polyline clip-path=\"url(#clip1701)\" style=\"stroke:#000000; stroke-width:4; stroke-opacity:1; fill:none\" points=\"\n",
       "  1115.62,1440.48 1115.62,1419.58 \n",
       "  \"/>\n",
       "<polyline clip-path=\"url(#clip1701)\" style=\"stroke:#000000; stroke-width:4; stroke-opacity:1; fill:none\" points=\"\n",
       "  1663.21,1440.48 1663.21,1419.58 \n",
       "  \"/>\n",
       "<polyline clip-path=\"url(#clip1701)\" style=\"stroke:#000000; stroke-width:4; stroke-opacity:1; fill:none\" points=\"\n",
       "  2210.81,1440.48 2210.81,1419.58 \n",
       "  \"/>\n",
       "<polyline clip-path=\"url(#clip1701)\" style=\"stroke:#000000; stroke-width:4; stroke-opacity:1; fill:none\" points=\"\n",
       "  2758.4,1440.48 2758.4,1419.58 \n",
       "  \"/>\n",
       "<polyline clip-path=\"url(#clip1701)\" style=\"stroke:#000000; stroke-width:4; stroke-opacity:1; fill:none\" points=\"\n",
       "  291.292,1152.88 333.742,1152.88 \n",
       "  \"/>\n",
       "<polyline clip-path=\"url(#clip1701)\" style=\"stroke:#000000; stroke-width:4; stroke-opacity:1; fill:none\" points=\"\n",
       "  291.292,825.9 333.742,825.9 \n",
       "  \"/>\n",
       "<polyline clip-path=\"url(#clip1701)\" style=\"stroke:#000000; stroke-width:4; stroke-opacity:1; fill:none\" points=\"\n",
       "  291.292,498.924 333.742,498.924 \n",
       "  \"/>\n",
       "<polyline clip-path=\"url(#clip1701)\" style=\"stroke:#000000; stroke-width:4; stroke-opacity:1; fill:none\" points=\"\n",
       "  291.292,171.948 333.742,171.948 \n",
       "  \"/>\n",
       "<g clip-path=\"url(#clip1701)\">\n",
       "<text style=\"fill:#000000; fill-opacity:1; font-family:Arial,Helvetica Neue,Helvetica,sans-serif; font-size:48px; text-anchor:middle;\" transform=\"rotate(0, 568.022, 1498.48)\" x=\"568.022\" y=\"1498.48\">0</text>\n",
       "</g>\n",
       "<g clip-path=\"url(#clip1701)\">\n",
       "<text style=\"fill:#000000; fill-opacity:1; font-family:Arial,Helvetica Neue,Helvetica,sans-serif; font-size:48px; text-anchor:middle;\" transform=\"rotate(0, 1115.62, 1498.48)\" x=\"1115.62\" y=\"1498.48\">2500</text>\n",
       "</g>\n",
       "<g clip-path=\"url(#clip1701)\">\n",
       "<text style=\"fill:#000000; fill-opacity:1; font-family:Arial,Helvetica Neue,Helvetica,sans-serif; font-size:48px; text-anchor:middle;\" transform=\"rotate(0, 1663.21, 1498.48)\" x=\"1663.21\" y=\"1498.48\">5000</text>\n",
       "</g>\n",
       "<g clip-path=\"url(#clip1701)\">\n",
       "<text style=\"fill:#000000; fill-opacity:1; font-family:Arial,Helvetica Neue,Helvetica,sans-serif; font-size:48px; text-anchor:middle;\" transform=\"rotate(0, 2210.81, 1498.48)\" x=\"2210.81\" y=\"1498.48\">7500</text>\n",
       "</g>\n",
       "<g clip-path=\"url(#clip1701)\">\n",
       "<text style=\"fill:#000000; fill-opacity:1; font-family:Arial,Helvetica Neue,Helvetica,sans-serif; font-size:48px; text-anchor:middle;\" transform=\"rotate(0, 2758.4, 1498.48)\" x=\"2758.4\" y=\"1498.48\">10000</text>\n",
       "</g>\n",
       "<g clip-path=\"url(#clip1701)\">\n",
       "<text style=\"fill:#000000; fill-opacity:1; font-family:Arial,Helvetica Neue,Helvetica,sans-serif; font-size:48px; text-anchor:end;\" transform=\"rotate(0, 259.292, 1170.38)\" x=\"259.292\" y=\"1170.38\">10150</text>\n",
       "</g>\n",
       "<g clip-path=\"url(#clip1701)\">\n",
       "<text style=\"fill:#000000; fill-opacity:1; font-family:Arial,Helvetica Neue,Helvetica,sans-serif; font-size:48px; text-anchor:end;\" transform=\"rotate(0, 259.292, 843.4)\" x=\"259.292\" y=\"843.4\">10200</text>\n",
       "</g>\n",
       "<g clip-path=\"url(#clip1701)\">\n",
       "<text style=\"fill:#000000; fill-opacity:1; font-family:Arial,Helvetica Neue,Helvetica,sans-serif; font-size:48px; text-anchor:end;\" transform=\"rotate(0, 259.292, 516.424)\" x=\"259.292\" y=\"516.424\">10250</text>\n",
       "</g>\n",
       "<g clip-path=\"url(#clip1701)\">\n",
       "<text style=\"fill:#000000; fill-opacity:1; font-family:Arial,Helvetica Neue,Helvetica,sans-serif; font-size:48px; text-anchor:end;\" transform=\"rotate(0, 259.292, 189.448)\" x=\"259.292\" y=\"189.448\">10300</text>\n",
       "</g>\n",
       "<g clip-path=\"url(#clip1701)\">\n",
       "<text style=\"fill:#000000; fill-opacity:1; font-family:Arial,Helvetica Neue,Helvetica,sans-serif; font-size:66px; text-anchor:middle;\" transform=\"rotate(0, 1706.28, 1590.4)\" x=\"1706.28\" y=\"1590.4\">x [m]</text>\n",
       "</g>\n",
       "<g clip-path=\"url(#clip1701)\">\n",
       "<text style=\"fill:#000000; fill-opacity:1; font-family:Arial,Helvetica Neue,Helvetica,sans-serif; font-size:66px; text-anchor:middle;\" transform=\"rotate(-90, 57.6, 743.863)\" x=\"57.6\" y=\"743.863\">y [m]</text>\n",
       "</g>\n",
       "<polyline clip-path=\"url(#clip1703)\" style=\"stroke:#51e3f6; stroke-width:16; stroke-opacity:1; fill:none\" points=\"\n",
       "  568.022,86.6754 617.227,86.9628 666.442,87.8365 715.65,89.2971 764.85,90.852 814.043,92.6612 863.224,94.9876 912.42,97.3493 961.643,99.3844 1010.88,100.432 \n",
       "  1060.1,100.872 1109.31,101.773 1158.5,104.167 1207.67,108.506 1256.87,114.559 1306.07,122.054 1355.26,131.349 1404.48,142.721 1453.71,156.781 1502.94,173.365 \n",
       "  1552.17,192.909 1601.4,215.417 1650.61,240.468 1699.82,267.856 1749.05,298.202 1798.3,331.274 1847.54,366.449 1896.75,403.353 1945.95,441.438 1995.16,480.698 \n",
       "  2044.37,521.525 2093.59,564.409 2142.83,609.21 2192.09,656.046 2241.37,703.756 2290.68,751.047 2340.01,797.474 2389.34,842.552 2438.65,885.236 2487.93,925.725 \n",
       "  2537.21,963.899 2586.51,1000.46 2635.82,1035.65 2685.11,1069.71 2734.41,1103 2783.7,1135.2 2832.99,1165.95 2882.25,1194.39 2931.5,1220.55 2980.75,1245.07 \n",
       "  3029.98,1268.91 \n",
       "  \"/>\n",
       "<polyline clip-path=\"url(#clip1703)\" style=\"stroke:#79abff; stroke-width:16; stroke-opacity:1; fill:none\" points=\"\n",
       "  371.385,1401.05 424.63,1398.05 477.889,1395.03 531.153,1392.24 584.429,1389.59 637.711,1387.35 690.996,1386.26 744.297,1386.39 797.601,1386.68 850.904,1385.69 \n",
       "  904.223,1382.64 957.554,1377.71 1010.89,1371.48 1064.22,1363.93 1117.55,1355.14 1170.9,1345.49 1224.29,1335.87 1277.71,1326.4 1331.16,1317.46 1384.6,1309.24 \n",
       "  1438,1300.97 1491.39,1291.8 1544.78,1281.22 1598.17,1268.67 1651.58,1253.98 1704.98,1237.15 1758.4,1218.06 1811.83,1196.99 1865.25,1174.19 1918.67,1149.51 \n",
       "  1972.1,1123.25 2025.55,1095.2 2079.02,1065.8 2132.51,1035.23 2185.99,1004.01 2239.48,972.452 2292.98,940.458 2346.46,908.314 2399.9,876.101 2453.32,844.161 \n",
       "  2506.76,812.706 2560.22,781.382 2613.68,748.993 2667.13,715.107 2720.55,679.564 2773.97,642.669 2827.39,604.498 2880.82,565.81 2934.27,526.636 2987.72,486.935 \n",
       "  3041.17,445.661 \n",
       "  \"/>\n",
       "<polyline clip-path=\"url(#clip1703)\" style=\"stroke:#ff007f; stroke-width:16; stroke-opacity:1; fill:none\" points=\"\n",
       "  2783.7,1135.2 2773.97,642.669 \n",
       "  \"/>\n",
       "<circle clip-path=\"url(#clip1703)\" style=\"fill:#000000; stroke:none; fill-opacity:1\" cx=\"568.022\" cy=\"86.6754\" r=\"18\"/>\n",
       "<circle clip-path=\"url(#clip1703)\" style=\"fill:#51e3f6; stroke:none; fill-opacity:1\" cx=\"568.022\" cy=\"86.6754\" r=\"14\"/>\n",
       "<circle clip-path=\"url(#clip1703)\" style=\"fill:#000000; stroke:none; fill-opacity:1\" cx=\"371.385\" cy=\"1401.05\" r=\"18\"/>\n",
       "<circle clip-path=\"url(#clip1703)\" style=\"fill:#79abff; stroke:none; fill-opacity:1\" cx=\"371.385\" cy=\"1401.05\" r=\"14\"/>\n",
       "<polygon clip-path=\"url(#clip1701)\" points=\"\n",
       "2381.56,541.644 3025.26,541.644 3025.26,178.764 2381.56,178.764 \n",
       "  \" fill=\"#ffffff\" fill-rule=\"evenodd\" fill-opacity=\"1\"/>\n",
       "<polyline clip-path=\"url(#clip1701)\" style=\"stroke:#000000; stroke-width:4; stroke-opacity:1; fill:none\" points=\"\n",
       "  2381.56,541.644 3025.26,541.644 3025.26,178.764 2381.56,178.764 2381.56,541.644 \n",
       "  \"/>\n",
       "<polyline clip-path=\"url(#clip1701)\" style=\"stroke:#51e3f6; stroke-width:16; stroke-opacity:1; fill:none\" points=\"\n",
       "  2413.56,239.244 2605.56,239.244 \n",
       "  \"/>\n",
       "<g clip-path=\"url(#clip1701)\">\n",
       "<text style=\"fill:#000000; fill-opacity:1; font-family:Arial,Helvetica Neue,Helvetica,sans-serif; font-size:48px; text-anchor:start;\" transform=\"rotate(0, 2637.56, 256.744)\" x=\"2637.56\" y=\"256.744\">Plane1</text>\n",
       "</g>\n",
       "<polyline clip-path=\"url(#clip1701)\" style=\"stroke:#79abff; stroke-width:16; stroke-opacity:1; fill:none\" points=\"\n",
       "  2413.56,299.724 2605.56,299.724 \n",
       "  \"/>\n",
       "<g clip-path=\"url(#clip1701)\">\n",
       "<text style=\"fill:#000000; fill-opacity:1; font-family:Arial,Helvetica Neue,Helvetica,sans-serif; font-size:48px; text-anchor:start;\" transform=\"rotate(0, 2637.56, 317.224)\" x=\"2637.56\" y=\"317.224\">Plane2</text>\n",
       "</g>\n",
       "<polyline clip-path=\"url(#clip1701)\" style=\"stroke:#ff007f; stroke-width:16; stroke-opacity:1; fill:none\" points=\"\n",
       "  2413.56,360.204 2605.56,360.204 \n",
       "  \"/>\n",
       "<g clip-path=\"url(#clip1701)\">\n",
       "<text style=\"fill:#000000; fill-opacity:1; font-family:Arial,Helvetica Neue,Helvetica,sans-serif; font-size:48px; text-anchor:start;\" transform=\"rotate(0, 2637.56, 377.704)\" x=\"2637.56\" y=\"377.704\">Min Separation</text>\n",
       "</g>\n",
       "<circle clip-path=\"url(#clip1701)\" style=\"fill:#000000; stroke:none; fill-opacity:1\" cx=\"2525.56\" cy=\"420.684\" r=\"25\"/>\n",
       "<circle clip-path=\"url(#clip1701)\" style=\"fill:#51e3f6; stroke:none; fill-opacity:1\" cx=\"2525.56\" cy=\"420.684\" r=\"21\"/>\n",
       "<g clip-path=\"url(#clip1701)\">\n",
       "<text style=\"fill:#000000; fill-opacity:1; font-family:Arial,Helvetica Neue,Helvetica,sans-serif; font-size:48px; text-anchor:start;\" transform=\"rotate(0, 2637.56, 438.184)\" x=\"2637.56\" y=\"438.184\">Plane1 Initial</text>\n",
       "</g>\n",
       "<circle clip-path=\"url(#clip1701)\" style=\"fill:#000000; stroke:none; fill-opacity:1\" cx=\"2525.56\" cy=\"481.164\" r=\"25\"/>\n",
       "<circle clip-path=\"url(#clip1701)\" style=\"fill:#79abff; stroke:none; fill-opacity:1\" cx=\"2525.56\" cy=\"481.164\" r=\"21\"/>\n",
       "<g clip-path=\"url(#clip1701)\">\n",
       "<text style=\"fill:#000000; fill-opacity:1; font-family:Arial,Helvetica Neue,Helvetica,sans-serif; font-size:48px; text-anchor:start;\" transform=\"rotate(0, 2637.56, 498.664)\" x=\"2637.56\" y=\"498.664\">Plane2 Initial</text>\n",
       "</g>\n",
       "</svg>\n"
      ]
     },
     "execution_count": 3,
     "metadata": {},
     "output_type": "execute_result"
    }
   ],
   "source": [
    "plot_trajectory(trajectories[1],1)   # Sample Plot"
   ]
  },
  {
   "cell_type": "markdown",
   "metadata": {},
   "source": [
    "Here we're simulating trajectories using the [provided] traffic and collision avoidance system (TCAS). You will then design your own CAS (see below), and then compare the two results, to see if your model gets similar results as the standard model."
   ]
  },
  {
   "cell_type": "code",
   "execution_count": 4,
   "metadata": {},
   "outputs": [
    {
     "data": {
      "image/svg+xml": [
       "<?xml version=\"1.0\" encoding=\"utf-8\"?>\n",
       "<svg xmlns=\"http://www.w3.org/2000/svg\" xmlns:xlink=\"http://www.w3.org/1999/xlink\" width=\"950\" height=\"400\" viewBox=\"0 0 3800 1600\">\n",
       "<defs>\n",
       "  <clipPath id=\"clip1900\">\n",
       "    <rect x=\"0\" y=\"0\" width=\"2000\" height=\"2000\"/>\n",
       "  </clipPath>\n",
       "</defs>\n",
       "<defs>\n",
       "  <clipPath id=\"clip1901\">\n",
       "    <rect x=\"0\" y=\"0\" width=\"3800\" height=\"1600\"/>\n",
       "  </clipPath>\n",
       "</defs>\n",
       "<polygon clip-path=\"url(#clip1901)\" points=\"\n",
       "0,1600 3800,1600 3800,0 0,0 \n",
       "  \" fill=\"#ffffff\" fill-rule=\"evenodd\" fill-opacity=\"1\"/>\n",
       "<defs>\n",
       "  <clipPath id=\"clip1902\">\n",
       "    <rect x=\"760\" y=\"0\" width=\"2661\" height=\"1600\"/>\n",
       "  </clipPath>\n",
       "</defs>\n",
       "<polygon clip-path=\"url(#clip1901)\" points=\"\n",
       "291.292,1448.87 3721.26,1448.87 3721.26,47.2441 291.292,47.2441 \n",
       "  \" fill=\"#ffffff\" fill-rule=\"evenodd\" fill-opacity=\"1\"/>\n",
       "<defs>\n",
       "  <clipPath id=\"clip1903\">\n",
       "    <rect x=\"291\" y=\"47\" width=\"3431\" height=\"1403\"/>\n",
       "  </clipPath>\n",
       "</defs>\n",
       "<polyline clip-path=\"url(#clip1903)\" style=\"stroke:#000000; stroke-width:2; stroke-opacity:0.1; fill:none\" points=\"\n",
       "  626.694,1448.87 626.694,47.2441 \n",
       "  \"/>\n",
       "<polyline clip-path=\"url(#clip1903)\" style=\"stroke:#000000; stroke-width:2; stroke-opacity:0.1; fill:none\" points=\"\n",
       "  1290.39,1448.87 1290.39,47.2441 \n",
       "  \"/>\n",
       "<polyline clip-path=\"url(#clip1903)\" style=\"stroke:#000000; stroke-width:2; stroke-opacity:0.1; fill:none\" points=\"\n",
       "  1954.08,1448.87 1954.08,47.2441 \n",
       "  \"/>\n",
       "<polyline clip-path=\"url(#clip1903)\" style=\"stroke:#000000; stroke-width:2; stroke-opacity:0.1; fill:none\" points=\"\n",
       "  2617.77,1448.87 2617.77,47.2441 \n",
       "  \"/>\n",
       "<polyline clip-path=\"url(#clip1903)\" style=\"stroke:#000000; stroke-width:2; stroke-opacity:0.1; fill:none\" points=\"\n",
       "  3281.47,1448.87 3281.47,47.2441 \n",
       "  \"/>\n",
       "<polyline clip-path=\"url(#clip1903)\" style=\"stroke:#000000; stroke-width:2; stroke-opacity:0.1; fill:none\" points=\"\n",
       "  291.292,1159.56 3721.26,1159.56 \n",
       "  \"/>\n",
       "<polyline clip-path=\"url(#clip1903)\" style=\"stroke:#000000; stroke-width:2; stroke-opacity:0.1; fill:none\" points=\"\n",
       "  291.292,830.647 3721.26,830.647 \n",
       "  \"/>\n",
       "<polyline clip-path=\"url(#clip1903)\" style=\"stroke:#000000; stroke-width:2; stroke-opacity:0.1; fill:none\" points=\"\n",
       "  291.292,501.739 3721.26,501.739 \n",
       "  \"/>\n",
       "<polyline clip-path=\"url(#clip1903)\" style=\"stroke:#000000; stroke-width:2; stroke-opacity:0.1; fill:none\" points=\"\n",
       "  291.292,172.83 3721.26,172.83 \n",
       "  \"/>\n",
       "<polyline clip-path=\"url(#clip1901)\" style=\"stroke:#000000; stroke-width:4; stroke-opacity:1; fill:none\" points=\"\n",
       "  291.292,1448.87 3721.26,1448.87 \n",
       "  \"/>\n",
       "<polyline clip-path=\"url(#clip1901)\" style=\"stroke:#000000; stroke-width:4; stroke-opacity:1; fill:none\" points=\"\n",
       "  291.292,1448.87 291.292,47.2441 \n",
       "  \"/>\n",
       "<polyline clip-path=\"url(#clip1901)\" style=\"stroke:#000000; stroke-width:4; stroke-opacity:1; fill:none\" points=\"\n",
       "  626.694,1448.87 626.694,1427.84 \n",
       "  \"/>\n",
       "<polyline clip-path=\"url(#clip1901)\" style=\"stroke:#000000; stroke-width:4; stroke-opacity:1; fill:none\" points=\"\n",
       "  1290.39,1448.87 1290.39,1427.84 \n",
       "  \"/>\n",
       "<polyline clip-path=\"url(#clip1901)\" style=\"stroke:#000000; stroke-width:4; stroke-opacity:1; fill:none\" points=\"\n",
       "  1954.08,1448.87 1954.08,1427.84 \n",
       "  \"/>\n",
       "<polyline clip-path=\"url(#clip1901)\" style=\"stroke:#000000; stroke-width:4; stroke-opacity:1; fill:none\" points=\"\n",
       "  2617.77,1448.87 2617.77,1427.84 \n",
       "  \"/>\n",
       "<polyline clip-path=\"url(#clip1901)\" style=\"stroke:#000000; stroke-width:4; stroke-opacity:1; fill:none\" points=\"\n",
       "  3281.47,1448.87 3281.47,1427.84 \n",
       "  \"/>\n",
       "<polyline clip-path=\"url(#clip1901)\" style=\"stroke:#000000; stroke-width:4; stroke-opacity:1; fill:none\" points=\"\n",
       "  291.292,1159.56 342.742,1159.56 \n",
       "  \"/>\n",
       "<polyline clip-path=\"url(#clip1901)\" style=\"stroke:#000000; stroke-width:4; stroke-opacity:1; fill:none\" points=\"\n",
       "  291.292,830.647 342.742,830.647 \n",
       "  \"/>\n",
       "<polyline clip-path=\"url(#clip1901)\" style=\"stroke:#000000; stroke-width:4; stroke-opacity:1; fill:none\" points=\"\n",
       "  291.292,501.739 342.742,501.739 \n",
       "  \"/>\n",
       "<polyline clip-path=\"url(#clip1901)\" style=\"stroke:#000000; stroke-width:4; stroke-opacity:1; fill:none\" points=\"\n",
       "  291.292,172.83 342.742,172.83 \n",
       "  \"/>\n",
       "<g clip-path=\"url(#clip1901)\">\n",
       "<text style=\"fill:#000000; fill-opacity:1; font-family:Arial,Helvetica Neue,Helvetica,sans-serif; font-size:48px; text-anchor:middle;\" transform=\"rotate(0, 626.694, 1509.87)\" x=\"626.694\" y=\"1509.87\">0</text>\n",
       "</g>\n",
       "<g clip-path=\"url(#clip1901)\">\n",
       "<text style=\"fill:#000000; fill-opacity:1; font-family:Arial,Helvetica Neue,Helvetica,sans-serif; font-size:48px; text-anchor:middle;\" transform=\"rotate(0, 1290.39, 1509.87)\" x=\"1290.39\" y=\"1509.87\">2500</text>\n",
       "</g>\n",
       "<g clip-path=\"url(#clip1901)\">\n",
       "<text style=\"fill:#000000; fill-opacity:1; font-family:Arial,Helvetica Neue,Helvetica,sans-serif; font-size:48px; text-anchor:middle;\" transform=\"rotate(0, 1954.08, 1509.87)\" x=\"1954.08\" y=\"1509.87\">5000</text>\n",
       "</g>\n",
       "<g clip-path=\"url(#clip1901)\">\n",
       "<text style=\"fill:#000000; fill-opacity:1; font-family:Arial,Helvetica Neue,Helvetica,sans-serif; font-size:48px; text-anchor:middle;\" transform=\"rotate(0, 2617.77, 1509.87)\" x=\"2617.77\" y=\"1509.87\">7500</text>\n",
       "</g>\n",
       "<g clip-path=\"url(#clip1901)\">\n",
       "<text style=\"fill:#000000; fill-opacity:1; font-family:Arial,Helvetica Neue,Helvetica,sans-serif; font-size:48px; text-anchor:middle;\" transform=\"rotate(0, 3281.47, 1509.87)\" x=\"3281.47\" y=\"1509.87\">10000</text>\n",
       "</g>\n",
       "<g clip-path=\"url(#clip1901)\">\n",
       "<text style=\"fill:#000000; fill-opacity:1; font-family:Arial,Helvetica Neue,Helvetica,sans-serif; font-size:48px; text-anchor:end;\" transform=\"rotate(0, 253.292, 1177.06)\" x=\"253.292\" y=\"1177.06\">10150</text>\n",
       "</g>\n",
       "<g clip-path=\"url(#clip1901)\">\n",
       "<text style=\"fill:#000000; fill-opacity:1; font-family:Arial,Helvetica Neue,Helvetica,sans-serif; font-size:48px; text-anchor:end;\" transform=\"rotate(0, 253.292, 848.147)\" x=\"253.292\" y=\"848.147\">10200</text>\n",
       "</g>\n",
       "<g clip-path=\"url(#clip1901)\">\n",
       "<text style=\"fill:#000000; fill-opacity:1; font-family:Arial,Helvetica Neue,Helvetica,sans-serif; font-size:48px; text-anchor:end;\" transform=\"rotate(0, 253.292, 519.239)\" x=\"253.292\" y=\"519.239\">10250</text>\n",
       "</g>\n",
       "<g clip-path=\"url(#clip1901)\">\n",
       "<text style=\"fill:#000000; fill-opacity:1; font-family:Arial,Helvetica Neue,Helvetica,sans-serif; font-size:48px; text-anchor:end;\" transform=\"rotate(0, 253.292, 190.33)\" x=\"253.292\" y=\"190.33\">10300</text>\n",
       "</g>\n",
       "<g clip-path=\"url(#clip1901)\">\n",
       "<text style=\"fill:#000000; fill-opacity:1; font-family:Arial,Helvetica Neue,Helvetica,sans-serif; font-size:66px; text-anchor:middle;\" transform=\"rotate(0, 2006.28, 1590.4)\" x=\"2006.28\" y=\"1590.4\">x [m]</text>\n",
       "</g>\n",
       "<g clip-path=\"url(#clip1901)\">\n",
       "<text style=\"fill:#000000; fill-opacity:1; font-family:Arial,Helvetica Neue,Helvetica,sans-serif; font-size:66px; text-anchor:middle;\" transform=\"rotate(-90, 57.6, 748.055)\" x=\"57.6\" y=\"748.055\">y [m]</text>\n",
       "</g>\n",
       "<polyline clip-path=\"url(#clip1903)\" style=\"stroke:#51e3f6; stroke-width:16; stroke-opacity:1; fill:none\" points=\"\n",
       "  626.694,87.0532 686.321,86.9126 745.975,87.949 805.634,89.4393 865.249,91.256 924.885,92.8743 984.487,95.1813 1044.08,97.8474 1103.76,100.1 1163.43,101.435 \n",
       "  1223.12,101.494 1282.76,101.815 1342.36,103.762 1401.96,108.023 1461.56,114.31 1521.22,121.9 1580.84,131.032 1640.48,142.295 1700.16,156.191 1759.82,172.976 \n",
       "  1819.5,192.361 1879.17,215.113 1938.82,240.557 1998.44,268.072 2058.08,298.282 2117.81,331.829 2177.49,367.501 2237.17,404.814 2296.75,443.378 2356.41,482.775 \n",
       "  2416.05,523.587 2475.68,566.56 2535.4,611.702 2595.06,658.835 2654.8,707.595 2714.56,755.707 2774.36,802.527 2834.17,848.241 2893.92,891.606 2953.68,932.15 \n",
       "  3013.37,970.584 3073.12,1006.94 3132.89,1042.3 3192.64,1076.39 3252.38,1109.78 3312.14,1142.38 3371.88,1173.54 3431.58,1202.57 3491.26,1228.71 3550.95,1252.97 \n",
       "  3610.65,1276.5 \n",
       "  \"/>\n",
       "<polyline clip-path=\"url(#clip1903)\" style=\"stroke:#79abff; stroke-width:16; stroke-opacity:1; fill:none\" points=\"\n",
       "  388.367,1409.2 452.888,1406.04 517.446,1403.17 582.005,1400.19 646.566,1397.6 711.161,1395.1 775.733,1393.64 840.327,1393.92 904.955,1394.89 969.544,1394.6 \n",
       "  1034.16,1391.77 1098.81,1386.57 1163.45,1380.06 1228.1,1372.53 1292.73,1363.61 1357.36,1353.61 1422.08,1343.52 1486.83,1334.01 1551.62,1324.76 1616.41,1316.54 \n",
       "  1681.15,1308.72 1745.81,1299.87 1810.55,1289.46 1875.23,1277.09 1939.98,1262.33 2004.7,1245.42 2069.43,1226.25 2134.22,1204.86 2198.96,1181.88 2263.7,1157.09 \n",
       "  2328.44,1130.54 2393.22,1102.43 2458.03,1072.59 2522.87,1041.75 2587.7,1010.04 2652.5,978.237 2717.38,946.086 2782.21,913.588 2846.98,881.15 2911.69,848.817 \n",
       "  2976.45,817.124 3041.27,785.958 3106.06,753.976 3170.86,719.993 3235.59,684.256 3300.34,646.99 3365.09,608.498 3429.84,569.201 3494.59,529.856 3559.42,490.037 \n",
       "  3624.19,449.127 \n",
       "  \"/>\n",
       "<polyline clip-path=\"url(#clip1903)\" style=\"stroke:#ff007f; stroke-width:16; stroke-opacity:1; fill:none\" points=\"\n",
       "  3312.14,1142.38 3300.34,646.99 \n",
       "  \"/>\n",
       "<circle clip-path=\"url(#clip1903)\" style=\"fill:#000000; stroke:none; fill-opacity:1\" cx=\"626.694\" cy=\"87.0532\" r=\"17\"/>\n",
       "<circle clip-path=\"url(#clip1903)\" style=\"fill:#51e3f6; stroke:none; fill-opacity:1\" cx=\"626.694\" cy=\"87.0532\" r=\"14\"/>\n",
       "<circle clip-path=\"url(#clip1903)\" style=\"fill:#000000; stroke:none; fill-opacity:1\" cx=\"388.367\" cy=\"1409.2\" r=\"17\"/>\n",
       "<circle clip-path=\"url(#clip1903)\" style=\"fill:#79abff; stroke:none; fill-opacity:1\" cx=\"388.367\" cy=\"1409.2\" r=\"14\"/>\n",
       "<polygon clip-path=\"url(#clip1901)\" points=\"\n",
       "2903.56,577.644 3607.26,577.644 3607.26,214.764 2903.56,214.764 \n",
       "  \" fill=\"#ffffff\" fill-rule=\"evenodd\" fill-opacity=\"1\"/>\n",
       "<polyline clip-path=\"url(#clip1901)\" style=\"stroke:#000000; stroke-width:4; stroke-opacity:1; fill:none\" points=\"\n",
       "  2903.56,577.644 3607.26,577.644 3607.26,214.764 2903.56,214.764 2903.56,577.644 \n",
       "  \"/>\n",
       "<polyline clip-path=\"url(#clip1901)\" style=\"stroke:#51e3f6; stroke-width:16; stroke-opacity:1; fill:none\" points=\"\n",
       "  2941.56,275.244 3169.56,275.244 \n",
       "  \"/>\n",
       "<g clip-path=\"url(#clip1901)\">\n",
       "<text style=\"fill:#000000; fill-opacity:1; font-family:Arial,Helvetica Neue,Helvetica,sans-serif; font-size:48px; text-anchor:start;\" transform=\"rotate(0, 3207.56, 292.744)\" x=\"3207.56\" y=\"292.744\">Plane1</text>\n",
       "</g>\n",
       "<polyline clip-path=\"url(#clip1901)\" style=\"stroke:#79abff; stroke-width:16; stroke-opacity:1; fill:none\" points=\"\n",
       "  2941.56,335.724 3169.56,335.724 \n",
       "  \"/>\n",
       "<g clip-path=\"url(#clip1901)\">\n",
       "<text style=\"fill:#000000; fill-opacity:1; font-family:Arial,Helvetica Neue,Helvetica,sans-serif; font-size:48px; text-anchor:start;\" transform=\"rotate(0, 3207.56, 353.224)\" x=\"3207.56\" y=\"353.224\">Plane2</text>\n",
       "</g>\n",
       "<polyline clip-path=\"url(#clip1901)\" style=\"stroke:#ff007f; stroke-width:16; stroke-opacity:1; fill:none\" points=\"\n",
       "  2941.56,396.204 3169.56,396.204 \n",
       "  \"/>\n",
       "<g clip-path=\"url(#clip1901)\">\n",
       "<text style=\"fill:#000000; fill-opacity:1; font-family:Arial,Helvetica Neue,Helvetica,sans-serif; font-size:48px; text-anchor:start;\" transform=\"rotate(0, 3207.56, 413.704)\" x=\"3207.56\" y=\"413.704\">Min Separation</text>\n",
       "</g>\n",
       "<circle clip-path=\"url(#clip1901)\" style=\"fill:#000000; stroke:none; fill-opacity:1\" cx=\"3074.56\" cy=\"456.684\" r=\"25\"/>\n",
       "<circle clip-path=\"url(#clip1901)\" style=\"fill:#51e3f6; stroke:none; fill-opacity:1\" cx=\"3074.56\" cy=\"456.684\" r=\"21\"/>\n",
       "<g clip-path=\"url(#clip1901)\">\n",
       "<text style=\"fill:#000000; fill-opacity:1; font-family:Arial,Helvetica Neue,Helvetica,sans-serif; font-size:48px; text-anchor:start;\" transform=\"rotate(0, 3207.56, 474.184)\" x=\"3207.56\" y=\"474.184\">Plane1 Initial</text>\n",
       "</g>\n",
       "<circle clip-path=\"url(#clip1901)\" style=\"fill:#000000; stroke:none; fill-opacity:1\" cx=\"3074.56\" cy=\"517.164\" r=\"25\"/>\n",
       "<circle clip-path=\"url(#clip1901)\" style=\"fill:#79abff; stroke:none; fill-opacity:1\" cx=\"3074.56\" cy=\"517.164\" r=\"21\"/>\n",
       "<g clip-path=\"url(#clip1901)\">\n",
       "<text style=\"fill:#000000; fill-opacity:1; font-family:Arial,Helvetica Neue,Helvetica,sans-serif; font-size:48px; text-anchor:start;\" transform=\"rotate(0, 3207.56, 534.664)\" x=\"3207.56\" y=\"534.664\">Plane2 Initial</text>\n",
       "</g>\n",
       "</svg>\n"
      ]
     },
     "execution_count": 4,
     "metadata": {},
     "output_type": "execute_result"
    }
   ],
   "source": [
    "using Random\n",
    "Random.seed!(0)\n",
    "traj = rand(trajectories[1], TCAS())\n",
    "plot_trajectory(traj)"
   ]
  },
  {
   "cell_type": "markdown",
   "metadata": {},
   "source": [
    "## Milestone One: Improving the DCAS"
   ]
  },
  {
   "cell_type": "markdown",
   "metadata": {},
   "source": [
    "In this milestone, we will take you through the steps of improving a collision avoidance system (CAS), by having you first implement a simple method of alerting a pilot of what to do in the event of a collision and then implementing a more sophisticated algorithm. The model will issue an Advisory (or none) at each timestep. Issuing ADVISORY_NONE or your previous advisory is equivalent to issuing no advisory."
   ]
  },
  {
   "cell_type": "markdown",
   "metadata": {},
   "source": [
    "## 1. Pull Away\n",
    "First, we just want you to alert the pilot to pull away. "
   ]
  },
  {
   "cell_type": "markdown",
   "metadata": {},
   "source": [
    "This struct will contain the latest advisory warning you give. The range_threshold tells you the minimum distance that is allowed between the two aircraft. "
   ]
  },
  {
   "cell_type": "code",
   "execution_count": 5,
   "metadata": {},
   "outputs": [],
   "source": [
    "mutable struct DemoCAS <: FullyObservableCollisionAvoidanceSystem\n",
    "    range_threshold::Float64\n",
    "    last_advisory::Advisory\n",
    "    DemoCAS(range_threshold::Float64, last_advisory::Advisory=ADVISORY_NONE) = new(range_threshold, last_advisory)\n",
    "end"
   ]
  },
  {
   "cell_type": "markdown",
   "metadata": {},
   "source": [
    "The reset function resets the warnings so that you start out with no advisories."
   ]
  },
  {
   "cell_type": "code",
   "execution_count": 6,
   "metadata": {},
   "outputs": [],
   "source": [
    "function AA120Q.reset!(dcas::DemoCAS)\n",
    "    dcas.last_advisory = ADVISORY_NONE\n",
    "    dcas\n",
    "end"
   ]
  },
  {
   "cell_type": "markdown",
   "metadata": {},
   "source": [
    "The update function issues an advisory and this is the part that we would like you to fill in. we have already provided some starter code and would just like you to issue a warning that pulls the aircraft upwards and away from the incoming second aircraft. "
   ]
  },
  {
   "cell_type": "code",
   "execution_count": 7,
   "metadata": {},
   "outputs": [],
   "source": [
    "using LinearAlgebra\n",
    "function AA120Q.update!(dcas::DemoCAS, s1::AircraftState, s2::AircraftState, params::EncounterSimParams)\n",
    "\n",
    "    # pull TCAS observations (get current state of both aircrafts)\n",
    "\n",
    "    # determine distance of ego (first aircraft) from intruder (second aircraft)\n",
    "    \n",
    "    # STUDENT CODE START\n",
    "    # STUDENT CODE END\n",
    "\n",
    "    # test for activation\n",
    "    if is_no_advisory(dcas.last_advisory) && range < dcas.range_threshold\n",
    "        dcas.last_advisory = Advisory(CLIMB_RATE_MAX) # climb!\n",
    "    end\n",
    "        \n",
    "    dcas.last_advisory\n",
    "end"
   ]
  },
  {
   "cell_type": "markdown",
   "metadata": {},
   "source": [
    "You can now simulate trajectories with your custom CAS..."
   ]
  },
  {
   "cell_type": "code",
   "execution_count": 8,
   "metadata": {},
   "outputs": [
    {
     "data": {
      "image/svg+xml": [
       "<?xml version=\"1.0\" encoding=\"utf-8\"?>\n",
       "<svg xmlns=\"http://www.w3.org/2000/svg\" xmlns:xlink=\"http://www.w3.org/1999/xlink\" width=\"950\" height=\"400\" viewBox=\"0 0 3800 1600\">\n",
       "<defs>\n",
       "  <clipPath id=\"clip2100\">\n",
       "    <rect x=\"0\" y=\"0\" width=\"2000\" height=\"2000\"/>\n",
       "  </clipPath>\n",
       "</defs>\n",
       "<defs>\n",
       "  <clipPath id=\"clip2101\">\n",
       "    <rect x=\"0\" y=\"0\" width=\"3800\" height=\"1600\"/>\n",
       "  </clipPath>\n",
       "</defs>\n",
       "<polygon clip-path=\"url(#clip2101)\" points=\"\n",
       "0,1600 3800,1600 3800,0 0,0 \n",
       "  \" fill=\"#ffffff\" fill-rule=\"evenodd\" fill-opacity=\"1\"/>\n",
       "<defs>\n",
       "  <clipPath id=\"clip2102\">\n",
       "    <rect x=\"760\" y=\"0\" width=\"2661\" height=\"1600\"/>\n",
       "  </clipPath>\n",
       "</defs>\n",
       "<polygon clip-path=\"url(#clip2101)\" points=\"\n",
       "291.292,1452.84 3721.26,1452.84 3721.26,47.2441 291.292,47.2441 \n",
       "  \" fill=\"#ffffff\" fill-rule=\"evenodd\" fill-opacity=\"1\"/>\n",
       "<defs>\n",
       "  <clipPath id=\"clip2103\">\n",
       "    <rect x=\"291\" y=\"47\" width=\"3431\" height=\"1407\"/>\n",
       "  </clipPath>\n",
       "</defs>\n",
       "<polyline clip-path=\"url(#clip2103)\" style=\"stroke:#000000; stroke-width:2; stroke-opacity:0.1; fill:none\" points=\"\n",
       "  626.694,1452.84 626.694,47.2441 \n",
       "  \"/>\n",
       "<polyline clip-path=\"url(#clip2103)\" style=\"stroke:#000000; stroke-width:2; stroke-opacity:0.1; fill:none\" points=\"\n",
       "  1290.39,1452.84 1290.39,47.2441 \n",
       "  \"/>\n",
       "<polyline clip-path=\"url(#clip2103)\" style=\"stroke:#000000; stroke-width:2; stroke-opacity:0.1; fill:none\" points=\"\n",
       "  1954.08,1452.84 1954.08,47.2441 \n",
       "  \"/>\n",
       "<polyline clip-path=\"url(#clip2103)\" style=\"stroke:#000000; stroke-width:2; stroke-opacity:0.1; fill:none\" points=\"\n",
       "  2617.77,1452.84 2617.77,47.2441 \n",
       "  \"/>\n",
       "<polyline clip-path=\"url(#clip2103)\" style=\"stroke:#000000; stroke-width:2; stroke-opacity:0.1; fill:none\" points=\"\n",
       "  3281.47,1452.84 3281.47,47.2441 \n",
       "  \"/>\n",
       "<polyline clip-path=\"url(#clip2103)\" style=\"stroke:#000000; stroke-width:2; stroke-opacity:0.1; fill:none\" points=\"\n",
       "  291.292,1162.71 3721.26,1162.71 \n",
       "  \"/>\n",
       "<polyline clip-path=\"url(#clip2103)\" style=\"stroke:#000000; stroke-width:2; stroke-opacity:0.1; fill:none\" points=\"\n",
       "  291.292,832.867 3721.26,832.867 \n",
       "  \"/>\n",
       "<polyline clip-path=\"url(#clip2103)\" style=\"stroke:#000000; stroke-width:2; stroke-opacity:0.1; fill:none\" points=\"\n",
       "  291.292,503.026 3721.26,503.026 \n",
       "  \"/>\n",
       "<polyline clip-path=\"url(#clip2103)\" style=\"stroke:#000000; stroke-width:2; stroke-opacity:0.1; fill:none\" points=\"\n",
       "  291.292,173.186 3721.26,173.186 \n",
       "  \"/>\n",
       "<polyline clip-path=\"url(#clip2101)\" style=\"stroke:#000000; stroke-width:4; stroke-opacity:1; fill:none\" points=\"\n",
       "  291.292,1452.84 3721.26,1452.84 \n",
       "  \"/>\n",
       "<polyline clip-path=\"url(#clip2101)\" style=\"stroke:#000000; stroke-width:4; stroke-opacity:1; fill:none\" points=\"\n",
       "  291.292,1452.84 291.292,47.2441 \n",
       "  \"/>\n",
       "<polyline clip-path=\"url(#clip2101)\" style=\"stroke:#000000; stroke-width:4; stroke-opacity:1; fill:none\" points=\"\n",
       "  626.694,1452.84 626.694,1431.75 \n",
       "  \"/>\n",
       "<polyline clip-path=\"url(#clip2101)\" style=\"stroke:#000000; stroke-width:4; stroke-opacity:1; fill:none\" points=\"\n",
       "  1290.39,1452.84 1290.39,1431.75 \n",
       "  \"/>\n",
       "<polyline clip-path=\"url(#clip2101)\" style=\"stroke:#000000; stroke-width:4; stroke-opacity:1; fill:none\" points=\"\n",
       "  1954.08,1452.84 1954.08,1431.75 \n",
       "  \"/>\n",
       "<polyline clip-path=\"url(#clip2101)\" style=\"stroke:#000000; stroke-width:4; stroke-opacity:1; fill:none\" points=\"\n",
       "  2617.77,1452.84 2617.77,1431.75 \n",
       "  \"/>\n",
       "<polyline clip-path=\"url(#clip2101)\" style=\"stroke:#000000; stroke-width:4; stroke-opacity:1; fill:none\" points=\"\n",
       "  3281.47,1452.84 3281.47,1431.75 \n",
       "  \"/>\n",
       "<polyline clip-path=\"url(#clip2101)\" style=\"stroke:#000000; stroke-width:4; stroke-opacity:1; fill:none\" points=\"\n",
       "  291.292,1162.71 342.742,1162.71 \n",
       "  \"/>\n",
       "<polyline clip-path=\"url(#clip2101)\" style=\"stroke:#000000; stroke-width:4; stroke-opacity:1; fill:none\" points=\"\n",
       "  291.292,832.867 342.742,832.867 \n",
       "  \"/>\n",
       "<polyline clip-path=\"url(#clip2101)\" style=\"stroke:#000000; stroke-width:4; stroke-opacity:1; fill:none\" points=\"\n",
       "  291.292,503.026 342.742,503.026 \n",
       "  \"/>\n",
       "<polyline clip-path=\"url(#clip2101)\" style=\"stroke:#000000; stroke-width:4; stroke-opacity:1; fill:none\" points=\"\n",
       "  291.292,173.186 342.742,173.186 \n",
       "  \"/>\n",
       "<g clip-path=\"url(#clip2101)\">\n",
       "<text style=\"fill:#000000; fill-opacity:1; font-family:Arial,Helvetica Neue,Helvetica,sans-serif; font-size:48px; text-anchor:middle;\" transform=\"rotate(0, 626.694, 1513.84)\" x=\"626.694\" y=\"1513.84\">0</text>\n",
       "</g>\n",
       "<g clip-path=\"url(#clip2101)\">\n",
       "<text style=\"fill:#000000; fill-opacity:1; font-family:Arial,Helvetica Neue,Helvetica,sans-serif; font-size:48px; text-anchor:middle;\" transform=\"rotate(0, 1290.39, 1513.84)\" x=\"1290.39\" y=\"1513.84\">2500</text>\n",
       "</g>\n",
       "<g clip-path=\"url(#clip2101)\">\n",
       "<text style=\"fill:#000000; fill-opacity:1; font-family:Arial,Helvetica Neue,Helvetica,sans-serif; font-size:48px; text-anchor:middle;\" transform=\"rotate(0, 1954.08, 1513.84)\" x=\"1954.08\" y=\"1513.84\">5000</text>\n",
       "</g>\n",
       "<g clip-path=\"url(#clip2101)\">\n",
       "<text style=\"fill:#000000; fill-opacity:1; font-family:Arial,Helvetica Neue,Helvetica,sans-serif; font-size:48px; text-anchor:middle;\" transform=\"rotate(0, 2617.77, 1513.84)\" x=\"2617.77\" y=\"1513.84\">7500</text>\n",
       "</g>\n",
       "<g clip-path=\"url(#clip2101)\">\n",
       "<text style=\"fill:#000000; fill-opacity:1; font-family:Arial,Helvetica Neue,Helvetica,sans-serif; font-size:48px; text-anchor:middle;\" transform=\"rotate(0, 3281.47, 1513.84)\" x=\"3281.47\" y=\"1513.84\">10000</text>\n",
       "</g>\n",
       "<g clip-path=\"url(#clip2101)\">\n",
       "<text style=\"fill:#000000; fill-opacity:1; font-family:Arial,Helvetica Neue,Helvetica,sans-serif; font-size:48px; text-anchor:end;\" transform=\"rotate(0, 253.292, 1180.21)\" x=\"253.292\" y=\"1180.21\">10150</text>\n",
       "</g>\n",
       "<g clip-path=\"url(#clip2101)\">\n",
       "<text style=\"fill:#000000; fill-opacity:1; font-family:Arial,Helvetica Neue,Helvetica,sans-serif; font-size:48px; text-anchor:end;\" transform=\"rotate(0, 253.292, 850.367)\" x=\"253.292\" y=\"850.367\">10200</text>\n",
       "</g>\n",
       "<g clip-path=\"url(#clip2101)\">\n",
       "<text style=\"fill:#000000; fill-opacity:1; font-family:Arial,Helvetica Neue,Helvetica,sans-serif; font-size:48px; text-anchor:end;\" transform=\"rotate(0, 253.292, 520.526)\" x=\"253.292\" y=\"520.526\">10250</text>\n",
       "</g>\n",
       "<g clip-path=\"url(#clip2101)\">\n",
       "<text style=\"fill:#000000; fill-opacity:1; font-family:Arial,Helvetica Neue,Helvetica,sans-serif; font-size:48px; text-anchor:end;\" transform=\"rotate(0, 253.292, 190.686)\" x=\"253.292\" y=\"190.686\">10300</text>\n",
       "</g>\n",
       "<g clip-path=\"url(#clip2101)\">\n",
       "<text style=\"fill:#000000; fill-opacity:1; font-family:Arial,Helvetica Neue,Helvetica,sans-serif; font-size:66px; text-anchor:middle;\" transform=\"rotate(0, 2006.28, 1590.4)\" x=\"2006.28\" y=\"1590.4\">x [m]</text>\n",
       "</g>\n",
       "<g clip-path=\"url(#clip2101)\">\n",
       "<text style=\"fill:#000000; fill-opacity:1; font-family:Arial,Helvetica Neue,Helvetica,sans-serif; font-size:66px; text-anchor:middle;\" transform=\"rotate(-90, 57.6, 750.041)\" x=\"57.6\" y=\"750.041\">y [m]</text>\n",
       "</g>\n",
       "<polyline clip-path=\"url(#clip2103)\" style=\"stroke:#51e3f6; stroke-width:16; stroke-opacity:1; fill:none\" points=\"\n",
       "  626.694,87.166 686.321,87.025 745.975,88.0643 805.634,89.5588 865.249,91.3807 924.885,93.0036 984.487,95.3171 1044.08,97.9908 1103.76,100.249 1163.43,101.588 \n",
       "  1223.12,101.647 1282.76,101.97 1342.36,103.922 1401.96,108.195 1461.56,114.5 1521.22,122.111 1580.84,131.269 1640.48,142.564 1700.16,156.499 1759.82,173.332 \n",
       "  1819.5,192.772 1879.17,215.589 1938.82,241.105 1998.44,268.698 2058.08,298.993 2117.81,332.636 2177.49,368.408 2237.17,405.827 2296.75,444.5 2356.41,484.009 \n",
       "  2416.05,524.937 2475.68,568.031 2535.4,613.301 2595.06,660.568 2654.8,709.466 2714.56,757.714 2774.36,804.667 2834.17,850.51 2893.92,893.999 2953.68,934.657 \n",
       "  3013.37,973.2 3073.12,1009.66 3132.89,1045.12 3192.64,1079.31 3252.38,1112.79 3312.14,1145.48 3371.88,1176.73 3431.58,1205.84 3491.26,1232.06 3550.95,1256.38 \n",
       "  3610.65,1279.98 \n",
       "  \"/>\n",
       "<polyline clip-path=\"url(#clip2103)\" style=\"stroke:#79abff; stroke-width:16; stroke-opacity:1; fill:none\" points=\"\n",
       "  388.367,1413.06 452.888,1409.89 517.446,1407.01 582.005,1404.03 646.566,1401.43 711.161,1398.92 775.733,1397.46 840.327,1397.74 904.955,1398.71 969.544,1398.42 \n",
       "  1034.16,1395.58 1098.81,1390.36 1163.45,1383.84 1228.1,1376.29 1292.73,1367.34 1357.36,1357.31 1422.08,1347.2 1486.83,1337.66 1551.62,1328.38 1616.41,1320.13 \n",
       "  1681.15,1312.29 1745.81,1303.41 1810.55,1292.98 1875.23,1280.57 1939.98,1265.77 2004.7,1248.82 2069.43,1229.59 2134.22,1208.14 2198.96,1185.09 2263.7,1160.23 \n",
       "  2328.44,1133.61 2393.22,1105.42 2458.03,1075.49 2522.87,1044.57 2587.7,1012.77 2652.5,980.875 2717.38,948.632 2782.21,916.043 2846.98,883.513 2911.69,851.088 \n",
       "  2976.45,819.305 3041.27,788.051 3106.06,755.978 3170.86,721.899 3235.59,686.06 3300.34,648.69 3365.09,610.089 3429.84,570.68 3494.59,531.223 3559.42,491.291 \n",
       "  3624.19,450.265 \n",
       "  \"/>\n",
       "<polyline clip-path=\"url(#clip2103)\" style=\"stroke:#ff007f; stroke-width:16; stroke-opacity:1; fill:none\" points=\"\n",
       "  3312.14,1145.48 3300.34,648.69 \n",
       "  \"/>\n",
       "<circle clip-path=\"url(#clip2103)\" style=\"fill:#000000; stroke:none; fill-opacity:1\" cx=\"626.694\" cy=\"87.166\" r=\"17\"/>\n",
       "<circle clip-path=\"url(#clip2103)\" style=\"fill:#51e3f6; stroke:none; fill-opacity:1\" cx=\"626.694\" cy=\"87.166\" r=\"14\"/>\n",
       "<circle clip-path=\"url(#clip2103)\" style=\"fill:#000000; stroke:none; fill-opacity:1\" cx=\"388.367\" cy=\"1413.06\" r=\"17\"/>\n",
       "<circle clip-path=\"url(#clip2103)\" style=\"fill:#79abff; stroke:none; fill-opacity:1\" cx=\"388.367\" cy=\"1413.06\" r=\"14\"/>\n",
       "<polygon clip-path=\"url(#clip2101)\" points=\"\n",
       "2903.56,577.644 3607.26,577.644 3607.26,214.764 2903.56,214.764 \n",
       "  \" fill=\"#ffffff\" fill-rule=\"evenodd\" fill-opacity=\"1\"/>\n",
       "<polyline clip-path=\"url(#clip2101)\" style=\"stroke:#000000; stroke-width:4; stroke-opacity:1; fill:none\" points=\"\n",
       "  2903.56,577.644 3607.26,577.644 3607.26,214.764 2903.56,214.764 2903.56,577.644 \n",
       "  \"/>\n",
       "<polyline clip-path=\"url(#clip2101)\" style=\"stroke:#51e3f6; stroke-width:16; stroke-opacity:1; fill:none\" points=\"\n",
       "  2941.56,275.244 3169.56,275.244 \n",
       "  \"/>\n",
       "<g clip-path=\"url(#clip2101)\">\n",
       "<text style=\"fill:#000000; fill-opacity:1; font-family:Arial,Helvetica Neue,Helvetica,sans-serif; font-size:48px; text-anchor:start;\" transform=\"rotate(0, 3207.56, 292.744)\" x=\"3207.56\" y=\"292.744\">Plane1</text>\n",
       "</g>\n",
       "<polyline clip-path=\"url(#clip2101)\" style=\"stroke:#79abff; stroke-width:16; stroke-opacity:1; fill:none\" points=\"\n",
       "  2941.56,335.724 3169.56,335.724 \n",
       "  \"/>\n",
       "<g clip-path=\"url(#clip2101)\">\n",
       "<text style=\"fill:#000000; fill-opacity:1; font-family:Arial,Helvetica Neue,Helvetica,sans-serif; font-size:48px; text-anchor:start;\" transform=\"rotate(0, 3207.56, 353.224)\" x=\"3207.56\" y=\"353.224\">Plane2</text>\n",
       "</g>\n",
       "<polyline clip-path=\"url(#clip2101)\" style=\"stroke:#ff007f; stroke-width:16; stroke-opacity:1; fill:none\" points=\"\n",
       "  2941.56,396.204 3169.56,396.204 \n",
       "  \"/>\n",
       "<g clip-path=\"url(#clip2101)\">\n",
       "<text style=\"fill:#000000; fill-opacity:1; font-family:Arial,Helvetica Neue,Helvetica,sans-serif; font-size:48px; text-anchor:start;\" transform=\"rotate(0, 3207.56, 413.704)\" x=\"3207.56\" y=\"413.704\">Min Separation</text>\n",
       "</g>\n",
       "<circle clip-path=\"url(#clip2101)\" style=\"fill:#000000; stroke:none; fill-opacity:1\" cx=\"3074.56\" cy=\"456.684\" r=\"25\"/>\n",
       "<circle clip-path=\"url(#clip2101)\" style=\"fill:#51e3f6; stroke:none; fill-opacity:1\" cx=\"3074.56\" cy=\"456.684\" r=\"21\"/>\n",
       "<g clip-path=\"url(#clip2101)\">\n",
       "<text style=\"fill:#000000; fill-opacity:1; font-family:Arial,Helvetica Neue,Helvetica,sans-serif; font-size:48px; text-anchor:start;\" transform=\"rotate(0, 3207.56, 474.184)\" x=\"3207.56\" y=\"474.184\">Plane1 Initial</text>\n",
       "</g>\n",
       "<circle clip-path=\"url(#clip2101)\" style=\"fill:#000000; stroke:none; fill-opacity:1\" cx=\"3074.56\" cy=\"517.164\" r=\"25\"/>\n",
       "<circle clip-path=\"url(#clip2101)\" style=\"fill:#79abff; stroke:none; fill-opacity:1\" cx=\"3074.56\" cy=\"517.164\" r=\"21\"/>\n",
       "<g clip-path=\"url(#clip2101)\">\n",
       "<text style=\"fill:#000000; fill-opacity:1; font-family:Arial,Helvetica Neue,Helvetica,sans-serif; font-size:48px; text-anchor:start;\" transform=\"rotate(0, 3207.56, 534.664)\" x=\"3207.56\" y=\"534.664\">Plane2 Initial</text>\n",
       "</g>\n",
       "</svg>\n"
      ]
     },
     "execution_count": 8,
     "metadata": {},
     "output_type": "execute_result"
    }
   ],
   "source": [
    "Random.seed!(0)\n",
    "traj = rand(trajectories[1], DemoCAS(1000.0))\n",
    "plot_trajectory(traj)"
   ]
  },
  {
   "cell_type": "markdown",
   "metadata": {},
   "source": [
    "## 2. Predicted Minimum Separation"
   ]
  },
  {
   "cell_type": "markdown",
   "metadata": {},
   "source": [
    "We can simply pull away from the first aircraft by flying up. However, there are more sophisticated ways of deciding what to tell the aircraft to do in the event of a warning. Now that you are familiar with the DCAS and just simply pulling away from the other aircraft, we want you to try to take into account the climb rate. \n",
    "\n",
    "To do so, take into account the climb rate of both aircraft, calculating whether or not you'll pass over them or below them. You then want to used this expected trajectory of both aircraft to see whether or not you should climb up or down.\n",
    "\n",
    "Update this function:"
   ]
  },
  {
   "cell_type": "code",
   "execution_count": 9,
   "metadata": {},
   "outputs": [],
   "source": [
    "function AA120Q.update!(dcas::DemoCAS, s1::AircraftState, s2::AircraftState, params::EncounterSimParams)\n",
    "    \n",
    "    # pull TCAS observations (get current state of both aircrafts)\n",
    "\n",
    "    # determine distance of ego (first aircraft) from intruder (second aircraft)\n",
    "    \n",
    "    # determine whether the ego is above or below the intruder\n",
    "    \n",
    "    # STUDENT CODE START\n",
    "    # STUDENT CODE END\n",
    "        \n",
    "    dcas.last_advisory\n",
    "end"
   ]
  },
  {
   "cell_type": "markdown",
   "metadata": {
    "collapsed": true
   },
   "source": [
    "## Milestone Two: Make Your Own!"
   ]
  },
  {
   "cell_type": "markdown",
   "metadata": {},
   "source": [
    "Now that you have implemented a simple CAS by just having the aircraft pull away and a more complex one that takes into account the distance from the second aircraft and distance above or below to determine which way to pull, we would like you to create a CAS that takes into account more variables than the previous two. You can use the first two as reference for the one you make. You can use factors such as velocity and acceleration.\n",
    "\n",
    "For those of you who would like more of a challenge, you can also use apredictive model to estimate what the other plane will do. This will entail modeling the problem as a Markov Decision Process. You can use POMDPs.jl to solve it. You may want to go to office hours as well if you're interesting in implementing this solution."
   ]
  },
  {
   "cell_type": "code",
   "execution_count": 10,
   "metadata": {},
   "outputs": [],
   "source": [
    "function AA120Q.update!(dcas::DemoCAS, s1::AircraftState, s2::AircraftState, params::EncounterSimParams)\n",
    "    # Your checks here\n",
    "    \n",
    "    # STUDENT CODE START\n",
    "    # STUDENT CODE END\n",
    "\n",
    "    dcas.last_advisory\n",
    "end"
   ]
  },
  {
   "cell_type": "markdown",
   "metadata": {},
   "source": [
    "## Milestone Three: Pull Evaluation Metrics"
   ]
  },
  {
   "cell_type": "markdown",
   "metadata": {},
   "source": [
    "Use `evaluate` to report the number of advisories and near midair collisions (NMACs). Remember that a good safety system will minimize both the number of collisions and the number of alerts. We will measure performance based on the average cost per trajectory, `CASEval.normalized`. Try to minimize it!"
   ]
  },
  {
   "cell_type": "code",
   "execution_count": 11,
   "metadata": {},
   "outputs": [
    {
     "data": {
      "text/plain": [
       "CASEval(n_encounters: 500, n_advisories: 495, n_NMACs: 28, penalty: 2840837.50, normalized: 5681.68)"
      ]
     },
     "execution_count": 11,
     "metadata": {},
     "output_type": "execute_result"
    }
   ],
   "source": [
    "# Run every encounter once\n",
    "evaluate(DemoCAS(1000.0), trajectories)"
   ]
  },
  {
   "cell_type": "code",
   "execution_count": 12,
   "metadata": {},
   "outputs": [
    {
     "data": {
      "text/plain": [
       "CASEval(n_encounters: 50, n_advisories: 50, n_NMACs: 4, penalty: 404125.00, normalized: 8082.50)"
      ]
     },
     "execution_count": 12,
     "metadata": {},
     "output_type": "execute_result"
    }
   ],
   "source": [
    "# randomly sample 50 encounters from `encounters`\n",
    "evaluate(DemoCAS(1000.0), trajectories, 50)"
   ]
  }
 ],
 "metadata": {
  "anaconda-cloud": {},
  "kernelspec": {
   "display_name": "Julia 1.0.3",
   "language": "julia",
   "name": "julia-1.0"
  },
  "language_info": {
   "file_extension": ".jl",
   "mimetype": "application/julia",
   "name": "julia",
   "version": "1.0.3"
  },
  "widgets": {
   "state": {
    "1cc8a035-0e8b-4c6f-950a-5dd05e93e0e7": {
     "views": [
      {
       "cell_index": 25
      }
     ]
    },
    "312df1de-a0c4-448d-8a19-948a9f3c2305": {
     "views": [
      {
       "cell_index": 29
      }
     ]
    },
    "5aa7cba0-6260-459e-a600-6fa10a7bbcdc": {
     "views": [
      {
       "cell_index": 25
      }
     ]
    },
    "64df1364-e14d-44fe-9791-ce380502aa84": {
     "views": [
      {
       "cell_index": 25
      }
     ]
    },
    "6894acf4-a441-4ef3-8b3d-f3a5399ed73b": {
     "views": [
      {
       "cell_index": 25
      }
     ]
    },
    "789c5733-0218-4582-bc6c-3d25e1483877": {
     "views": [
      {
       "cell_index": 25
      }
     ]
    },
    "8db3a00a-f84d-4243-b8ff-2a3a3f476a6b": {
     "views": [
      {
       "cell_index": 29
      }
     ]
    },
    "991c59ab-72bc-48eb-b4e9-ef656638902c": {
     "views": [
      {
       "cell_index": 25
      }
     ]
    },
    "9a419198-2ab8-4c49-b3b5-77520fcf9dc2": {
     "views": [
      {
       "cell_index": 25
      }
     ]
    },
    "9aea58ee-b62a-48ed-a6fe-c28dc0f7d6ac": {
     "views": [
      {
       "cell_index": 29
      }
     ]
    },
    "b2dc9568-6a82-47b7-a317-fdbf22d13849": {
     "views": [
      {
       "cell_index": 25
      }
     ]
    },
    "bdd3534d-c7ac-4425-b0b8-cd11c2a6e71d": {
     "views": [
      {
       "cell_index": 25
      }
     ]
    },
    "bf0b5edc-97f3-4bdd-9e20-18ab71e62d98": {
     "views": [
      {
       "cell_index": 25
      }
     ]
    }
   },
   "version": "1.2.0"
  }
 },
 "nbformat": 4,
 "nbformat_minor": 1
}
