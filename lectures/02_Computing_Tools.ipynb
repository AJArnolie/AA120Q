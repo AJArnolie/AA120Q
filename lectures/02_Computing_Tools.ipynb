{
 "cells": [
  {
   "cell_type": "markdown",
   "metadata": {},
   "source": [
    "# Scientific Computing Tools and Visualization\n",
    "## Lecture 2"
   ]
  },
  {
   "cell_type": "markdown",
   "metadata": {},
   "source": [
    "We will discuss how the Julia programming language is used for scientific computing and data visualization.\n",
    "\n",
    "Readings:\n",
    "* [Julia tutorial](https://learnxinyminutes.com/docs/julia/)\n",
    "* [Plots.jl tutorial (with PlotlyJS backed)](https://juliaplots.github.io/examples/plotlyjs/)"
   ]
  },
  {
   "cell_type": "markdown",
   "metadata": {},
   "source": [
    "# Scientific Computing\n",
    "\n",
    "Scientific computing is the process of using \"advanced computing capabilities to understand and solve complex problems\" [[1](https://en.wikipedia.org/wiki/Computational_science)].\n",
    "\n",
    "Scientific computing includes:\n",
    "\n",
    "* Algorithm and data structure design\n",
    "* Numerical simulation\n",
    "* Model fitting\n",
    "* Data analysis\n",
    "* Optimization"
   ]
  },
  {
   "cell_type": "markdown",
   "metadata": {},
   "source": [
    "# Julia\n",
    "\n",
    "<img src=\"figures/julia.png\" alt=\"Julia\" width=\"400\" align=\"middle\">\n",
    "\n",
    "Julia is a high-level dynamic programming language [[2](https://en.wikipedia.org/wiki/Julia_(programming_language))] that was designed to solve the two-language problem.\n",
    "\n",
    "__Two language problem__: One typically uses a high-level language like Matlab to do scientific computing and create prototypes, but a low-level language like C to implement resulting solutions.\n",
    "\n",
    "Julia is both fast and easy to prototype in, and supports a wide range of features such as a built in package manager (so reproducing someone's exact development environment can be done for verification purposes), distributed computing, C and Python interfaces, a powerful REPL, and an elegant type system."
   ]
  },
  {
   "cell_type": "markdown",
   "metadata": {},
   "source": [
    "## Installing Packages\n",
    "\n",
    "Julia makes it easy to install packages. (And specific versions of packages)"
   ]
  },
  {
   "cell_type": "code",
   "execution_count": null,
   "metadata": {
    "collapsed": true
   },
   "outputs": [],
   "source": [
    "Pkg.add(\"Plots\")"
   ]
  },
  {
   "cell_type": "code",
   "execution_count": null,
   "metadata": {
    "collapsed": true
   },
   "outputs": [],
   "source": [
    "Pkg.update()"
   ]
  },
  {
   "cell_type": "markdown",
   "metadata": {},
   "source": [
    "Julia makes it easy to obtain packages from GitHub"
   ]
  },
  {
   "cell_type": "code",
   "execution_count": null,
   "metadata": {
    "collapsed": true
   },
   "outputs": [],
   "source": [
    "Pkg.clone(\"https://github.com/sisl/AA120Q.git\")"
   ]
  },
  {
   "cell_type": "markdown",
   "metadata": {},
   "source": [
    "## Scientific Computing Packages\n",
    "\n",
    "Julia offers a wide range of [official packages](http://pkg.julialang.org/). There are many custom packages that are not in the official listing as well.\n",
    "\n",
    "You can go to a package's documentation, typically from GitHub, to view all of its features.\n",
    "\n",
    "Some of the packages we will be using are:"
   ]
  },
  {
   "cell_type": "markdown",
   "metadata": {},
   "source": [
    "### DataFrames\n",
    "This package provides an Excel-table-like type for data processing."
   ]
  },
  {
   "cell_type": "code",
   "execution_count": 2,
   "metadata": {
    "collapsed": false
   },
   "outputs": [
    {
     "data": {
      "text/html": [
       "<table class=\"data-frame\"><tr><th></th><th>animal</th><th>legs</th><th>weight</th></tr><tr><th>1</th><td>Dog</td><td>4</td><td>100.0</td></tr><tr><th>2</th><td>Cat</td><td>4</td><td>10.0</td></tr><tr><th>3</th><td>Mouse</td><td>4</td><td>0.68</td></tr><tr><th>4</th><td>Snake</td><td>0</td><td>2.0</td></tr><tr><th>5</th><td>Sparrow</td><td>2</td><td>0.2</td></tr></table>"
      ],
      "text/plain": [
       "5×3 DataFrames.DataFrame\n",
       "│ Row │ animal    │ legs │ weight │\n",
       "├─────┼───────────┼──────┼────────┤\n",
       "│ 1   │ \"Dog\"     │ 4    │ 100.0  │\n",
       "│ 2   │ \"Cat\"     │ 4    │ 10.0   │\n",
       "│ 3   │ \"Mouse\"   │ 4    │ 0.68   │\n",
       "│ 4   │ \"Snake\"   │ 0    │ 2.0    │\n",
       "│ 5   │ \"Sparrow\" │ 2    │ 0.2    │"
      ]
     },
     "execution_count": 2,
     "metadata": {},
     "output_type": "execute_result"
    }
   ],
   "source": [
    "using DataFrames\n",
    "df = DataFrame(animal=[\"Dog\", \"Cat\", \"Mouse\", \"Snake\", \"Sparrow\"], legs=[4,4,4,0,2], weight=[100.0, 10.0, 0.68, 2.0, 0.2])"
   ]
  },
  {
   "cell_type": "code",
   "execution_count": 3,
   "metadata": {
    "collapsed": false
   },
   "outputs": [
    {
     "data": {
      "text/plain": [
       "\"Cat\""
      ]
     },
     "execution_count": 3,
     "metadata": {},
     "output_type": "execute_result"
    }
   ],
   "source": [
    "df[2, :animal]"
   ]
  },
  {
   "cell_type": "code",
   "execution_count": 4,
   "metadata": {
    "collapsed": false
   },
   "outputs": [
    {
     "data": {
      "text/plain": [
       "\"Cat\""
      ]
     },
     "execution_count": 4,
     "metadata": {},
     "output_type": "execute_result"
    }
   ],
   "source": [
    "df[2, 1]"
   ]
  },
  {
   "cell_type": "code",
   "execution_count": 5,
   "metadata": {
    "collapsed": false
   },
   "outputs": [
    {
     "data": {
      "text/plain": [
       "5-element DataArrays.DataArray{Int64,1}:\n",
       " 4\n",
       " 4\n",
       " 4\n",
       " 0\n",
       " 2"
      ]
     },
     "execution_count": 5,
     "metadata": {},
     "output_type": "execute_result"
    }
   ],
   "source": [
    "df[:legs]"
   ]
  },
  {
   "cell_type": "markdown",
   "metadata": {},
   "source": [
    "### Distributions\n",
    "This package provides all sorts of probability distributions and methods for sampling from them and inferring them from data."
   ]
  },
  {
   "cell_type": "code",
   "execution_count": 7,
   "metadata": {
    "collapsed": false
   },
   "outputs": [
    {
     "data": {
      "text/plain": [
       "Distributions.Normal{Float64}(μ=1.0, σ=2.0)"
      ]
     },
     "execution_count": 7,
     "metadata": {},
     "output_type": "execute_result"
    }
   ],
   "source": [
    "using Distributions\n",
    "srand(0)\n",
    "N = Normal(1.0, 2.0)"
   ]
  },
  {
   "cell_type": "code",
   "execution_count": 8,
   "metadata": {
    "collapsed": false
   },
   "outputs": [
    {
     "data": {
      "text/plain": [
       "2.3582148520715553"
      ]
     },
     "execution_count": 8,
     "metadata": {},
     "output_type": "execute_result"
    }
   ],
   "source": [
    "rand(N)"
   ]
  },
  {
   "cell_type": "code",
   "execution_count": 9,
   "metadata": {
    "collapsed": false
   },
   "outputs": [
    {
     "data": {
      "text/plain": [
       "10-element Array{Float64,1}:\n",
       "  2.65683  \n",
       "  0.293985 \n",
       "  0.730292 \n",
       "  2.17323  \n",
       "  1.59467  \n",
       "  1.1299   \n",
       "  0.781965 \n",
       " -0.0284208\n",
       "  4.14866  \n",
       " -0.377814 "
      ]
     },
     "execution_count": 9,
     "metadata": {},
     "output_type": "execute_result"
    }
   ],
   "source": [
    "data = rand(N, 10)"
   ]
  },
  {
   "cell_type": "code",
   "execution_count": 10,
   "metadata": {
    "collapsed": false
   },
   "outputs": [
    {
     "data": {
      "text/plain": [
       "Distributions.Normal{Float64}(μ=1.3103295966192077, σ=1.3045243823987742)"
      ]
     },
     "execution_count": 10,
     "metadata": {},
     "output_type": "execute_result"
    }
   ],
   "source": [
    "fit(Normal, data)"
   ]
  },
  {
   "cell_type": "markdown",
   "metadata": {},
   "source": [
    "### Discretizers\n",
    "This package provides an easy way to discretize data or map between labels and integer values."
   ]
  },
  {
   "cell_type": "code",
   "execution_count": 12,
   "metadata": {
    "collapsed": false
   },
   "outputs": [],
   "source": [
    "using Discretizers\n",
    "data = [\"cat\", \"dog\", \"dog\", \"cat\", \"cat\", \"elephant\"]\n",
    "catdisc = CategoricalDiscretizer(data);"
   ]
  },
  {
   "cell_type": "code",
   "execution_count": 13,
   "metadata": {
    "collapsed": false
   },
   "outputs": [
    {
     "name": "stdout",
     "output_type": "stream",
     "text": [
      "cat becomes:  1\n",
      "dog becomes:  2\n",
      "data becomes: [1,2,2,1,1,3]\n"
     ]
    }
   ],
   "source": [
    "println(\"cat becomes:  \", encode(catdisc, \"cat\"))\n",
    "println(\"dog becomes:  \", encode(catdisc, \"dog\"))\n",
    "println(\"data becomes: \", encode(catdisc, data))"
   ]
  },
  {
   "cell_type": "code",
   "execution_count": 14,
   "metadata": {
    "collapsed": false
   },
   "outputs": [
    {
     "name": "stdout",
     "output_type": "stream",
     "text": [
      "1 becomes: cat\n",
      "2 becomes: dog\n",
      "[1,2,3] becomes: ASCIIString[\"cat\",\"dog\",\"elephant\"]\n"
     ]
    }
   ],
   "source": [
    "println(\"1 becomes: \", decode(catdisc, 1))\n",
    "println(\"2 becomes: \", decode(catdisc, 2))\n",
    "println(\"[1,2,3] becomes: \", decode(catdisc, [1,2,3]))"
   ]
  },
  {
   "cell_type": "markdown",
   "metadata": {},
   "source": [
    "Here we construct a linear discretizer that maps $[0,0.5)\\rightarrow 1$ and $[0.5,1]\\rightarrow2$"
   ]
  },
  {
   "cell_type": "code",
   "execution_count": 15,
   "metadata": {
    "collapsed": true
   },
   "outputs": [],
   "source": [
    "bin_edges = [0.0,0.5,1.0]\n",
    "lindisc = LinearDiscretizer(bin_edges);"
   ]
  },
  {
   "cell_type": "code",
   "execution_count": 16,
   "metadata": {
    "collapsed": false
   },
   "outputs": [
    {
     "name": "stdout",
     "output_type": "stream",
     "text": [
      "0.2 becomes: 1\n",
      "0.7 becomes: 2\n",
      "0.5 becomes: 2\n",
      "it works on arrays: [1,2,1]\n"
     ]
    }
   ],
   "source": [
    "println(\"0.2 becomes: \", encode(lindisc, 0.2))\n",
    "println(\"0.7 becomes: \", encode(lindisc, 0.7))\n",
    "println(\"0.5 becomes: \", encode(lindisc, 0.5))\n",
    "println(\"it works on arrays: \", encode(lindisc, [0.0,0.8,0.2]))"
   ]
  },
  {
   "cell_type": "code",
   "execution_count": 17,
   "metadata": {
    "collapsed": false
   },
   "outputs": [
    {
     "name": "stdout",
     "output_type": "stream",
     "text": [
      "1 becomes: 0.2696446420713091\n",
      "2 becomes: 0.6300179251345239\n",
      "it works on arrays: [0.9550232706755055,0.08351809722107484,0.8277242063499562]\n"
     ]
    }
   ],
   "source": [
    "println(\"1 becomes: \", decode(lindisc, 1))\n",
    "println(\"2 becomes: \", decode(lindisc, 2))\n",
    "println(\"it works on arrays: \", decode(lindisc, [2,1,2]))"
   ]
  },
  {
   "cell_type": "markdown",
   "metadata": {},
   "source": [
    "### BayesNets\n",
    "This package provides a Bayesian Network type and associated algorithms to Julia."
   ]
  },
  {
   "cell_type": "code",
   "execution_count": 19,
   "metadata": {
    "collapsed": false
   },
   "outputs": [
    {
     "data": {
      "image/svg+xml": [
       "<?xml version=\"1.0\" encoding=\"UTF-8\"?>\n",
       "<svg xmlns=\"http://www.w3.org/2000/svg\" xmlns:xlink=\"http://www.w3.org/1999/xlink\" width=\"12.18pt\" height=\"40.786pt\" viewBox=\"0 0 12.18 40.786\" version=\"1.1\">\n",
       "<defs>\n",
       "<g>\n",
       "<symbol overflow=\"visible\" id=\"glyph-1473629995280282-0-0\">\n",
       "<path style=\"stroke:none;\" d=\"\"/>\n",
       "</symbol>\n",
       "<symbol overflow=\"visible\" id=\"glyph-1473629995280282-0-1\">\n",
       "<path style=\"stroke:none;\" d=\"M 5.015625 -1.015625 L 5.015625 -1.71875 L 4.359375 -1.71875 L 4.359375 -1.015625 C 4.359375 -0.4375 4.3125 -0.515625 4.203125 -0.515625 C 3.875 -0.515625 4.03125 -0.828125 4.03125 -0.875 L 4.03125 -2.875 C 4.03125 -3.296875 3.984375 -3.78125 3.625 -4.140625 C 3.234375 -4.53125 2.59375 -4.734375 2.109375 -4.734375 C 1.296875 -4.734375 0.40625 -4.125 0.40625 -3.46875 C 0.40625 -3.171875 0.8125 -2.875 1.0625 -2.875 C 1.34375 -2.875 1.71875 -3.203125 1.71875 -3.453125 C 1.71875 -3.578125 1.46875 -4.046875 1.328125 -4.046875 C 1.421875 -4.171875 1.78125 -4.25 2.09375 -4.25 C 2.578125 -4.25 2.953125 -3.984375 2.953125 -3.09375 L 2.953125 -2.859375 C 2.640625 -2.84375 1.9375 -2.8125 1.3125 -2.515625 C 0.5625 -2.171875 0.125 -1.515625 0.125 -1.078125 C 0.125 -0.265625 1.28125 0.109375 1.90625 0.109375 C 2.578125 0.109375 3.234375 -0.421875 3.421875 -0.890625 L 3.015625 -0.890625 C 3.0625 -0.484375 3.53125 0.0625 4 0.0625 C 4.203125 0.0625 5.015625 -0.203125 5.015625 -1.015625 Z M 2.953125 -1.53125 C 2.953125 -0.578125 2.4375 -0.375 1.984375 -0.375 C 1.5 -0.375 1.28125 -0.59375 1.28125 -1.09375 C 1.28125 -1.640625 1.5 -2.328125 2.953125 -2.375 Z M 2.953125 -1.53125 \"/>\n",
       "</symbol>\n",
       "<symbol overflow=\"visible\" id=\"glyph-1473629995280282-0-2\">\n",
       "<path style=\"stroke:none;\" d=\"M 5.390625 -2.28125 C 5.390625 -3.546875 4.21875 -4.671875 3.078125 -4.671875 C 2.296875 -4.671875 1.734375 -4.171875 1.578125 -3.984375 L 1.90625 -3.890625 L 1.90625 -7.203125 L 0.078125 -7.0625 L 0.078125 -6.5 C 0.984375 -6.5 0.859375 -6.5625 0.859375 -6.078125 L 0.859375 0 L 1.421875 0 L 1.671875 -0.421875 C 1.671875 -0.421875 2.234375 0.109375 2.96875 0.109375 C 4.15625 0.109375 5.390625 -1 5.390625 -2.28125 Z M 4.171875 -2.296875 C 4.171875 -1.921875 4.203125 -1.421875 3.921875 -0.984375 C 3.703125 -0.671875 3.46875 -0.375 2.9375 -0.375 C 2.484375 -0.375 2.265625 -0.578125 2.03125 -0.953125 C 1.890625 -1.15625 1.9375 -1.09375 1.9375 -1.265625 L 1.9375 -3.3125 C 1.9375 -3.515625 1.890625 -3.421875 2 -3.59375 C 2.375 -4.140625 2.796875 -4.1875 3.03125 -4.1875 C 3.484375 -4.1875 3.703125 -3.96875 3.9375 -3.59375 C 4.203125 -3.1875 4.171875 -2.703125 4.171875 -2.296875 Z M 4.171875 -2.296875 \"/>\n",
       "</symbol>\n",
       "</g>\n",
       "</defs>\n",
       "<g id=\"surface1\">\n",
       "<path style=\"fill:none;stroke-width:0.3985;stroke-linecap:butt;stroke-linejoin:miter;stroke:rgb(0%,0%,0%);stroke-opacity:1;stroke-miterlimit:10;\" d=\"M -0.00015625 -5.807063 L -0.00015625 -20.857844 \" transform=\"matrix(1,0,0,-1,6.09,5.607)\"/>\n",
       "<path style=\"fill:none;stroke-width:0.31879;stroke-linecap:round;stroke-linejoin:round;stroke:rgb(0%,0%,0%);stroke-opacity:1;stroke-miterlimit:10;\" d=\"M -1.194299 1.593594 C -1.096643 0.995938 0.00101375 0.101406 0.297889 -0.00015625 C 0.00101375 -0.0978125 -1.096643 -0.99625 -1.194299 -1.593906 \" transform=\"matrix(0,1,1,0,6.09,26.46383)\"/>\n",
       "<g style=\"fill:rgb(0%,0%,0%);fill-opacity:1;\">\n",
       "  <use xlink:href=\"#glyph-1473629995280282-0-1\" x=\"3.599\" y=\"7.784\"/>\n",
       "</g>\n",
       "<g style=\"fill:rgb(0%,0%,0%);fill-opacity:1;\">\n",
       "  <use xlink:href=\"#glyph-1473629995280282-0-2\" x=\"3.321\" y=\"37.356\"/>\n",
       "</g>\n",
       "</g>\n",
       "</svg>\n",
       "\n"
      ],
      "text/plain": [
       "BayesNets.BayesNet{BayesNets.CPDs.CPD{D<:Distributions.Distribution{F<:Distributions.VariateForm,S<:Distributions.ValueSupport}}}({2, 1} directed graph,BayesNets.CPDs.CPD[BayesNets.CPDs.StaticCPD{Distributions.Normal{Float64}}(:a,Symbol[],Distributions.Normal{Float64}(μ=1.0, σ=1.0)),BayesNets.CPDs.LinearGaussianCPD(:b,[:a],[2.0],3.0,1.0)],Dict(:a=>1,:b=>2))"
      ]
     },
     "execution_count": 19,
     "metadata": {},
     "output_type": "execute_result"
    }
   ],
   "source": [
    "using BayesNets\n",
    "\n",
    "bn = BayesNet()\n",
    "push!(bn, StaticCPD(:a, Normal(1.0)))\n",
    "push!(bn, LinearGaussianCPD(:b, [:a], [2.0], 3.0, 1.0))"
   ]
  },
  {
   "cell_type": "code",
   "execution_count": 20,
   "metadata": {
    "collapsed": false
   },
   "outputs": [
    {
     "data": {
      "text/plain": [
       "0.01900834726778591"
      ]
     },
     "execution_count": 20,
     "metadata": {},
     "output_type": "execute_result"
    }
   ],
   "source": [
    "pdf(bn, :a=>0.5, :b=>2.0) # evaluate the probability density"
   ]
  },
  {
   "cell_type": "code",
   "execution_count": 21,
   "metadata": {
    "collapsed": false
   },
   "outputs": [
    {
     "data": {
      "text/plain": [
       "Dict{Symbol,Any} with 2 entries:\n",
       "  :a => -0.6072563241277753\n",
       "  :b => -0.6953053789154908"
      ]
     },
     "execution_count": 21,
     "metadata": {},
     "output_type": "execute_result"
    }
   ],
   "source": [
    "rand(bn)"
   ]
  },
  {
   "cell_type": "code",
   "execution_count": 22,
   "metadata": {
    "collapsed": false
   },
   "outputs": [
    {
     "data": {
      "text/html": [
       "<table class=\"data-frame\"><tr><th></th><th>a</th><th>b</th></tr><tr><th>1</th><td>0.8828624692670648</td><td>4.164471344348746</td></tr><tr><th>2</th><td>2.1422764389413196</td><td>7.195936559682166</td></tr><tr><th>3</th><td>1.2794662520898985</td><td>5.670354182271314</td></tr><tr><th>4</th><td>0.6421164853296757</td><td>4.757947292808683</td></tr><tr><th>5</th><td>1.3002339290239697</td><td>4.8377907983805155</td></tr></table>"
      ],
      "text/plain": [
       "5×2 DataFrames.DataFrame\n",
       "│ Row │ a        │ b       │\n",
       "├─────┼──────────┼─────────┤\n",
       "│ 1   │ 0.882862 │ 4.16447 │\n",
       "│ 2   │ 2.14228  │ 7.19594 │\n",
       "│ 3   │ 1.27947  │ 5.67035 │\n",
       "│ 4   │ 0.642116 │ 4.75795 │\n",
       "│ 5   │ 1.30023  │ 4.83779 │"
      ]
     },
     "execution_count": 22,
     "metadata": {},
     "output_type": "execute_result"
    }
   ],
   "source": [
    "rand(bn, 5) # produces a DataFrame"
   ]
  },
  {
   "cell_type": "code",
   "execution_count": 23,
   "metadata": {
    "collapsed": false
   },
   "outputs": [
    {
     "data": {
      "image/svg+xml": [
       "<?xml version=\"1.0\" encoding=\"UTF-8\"?>\n",
       "<svg xmlns=\"http://www.w3.org/2000/svg\" xmlns:xlink=\"http://www.w3.org/1999/xlink\" width=\"40.248pt\" height=\"67.907pt\" viewBox=\"0 0 40.248 67.907\" version=\"1.1\">\n",
       "<defs>\n",
       "<g>\n",
       "<symbol overflow=\"visible\" id=\"glyph-1473629995280283-0-0\">\n",
       "<path style=\"stroke:none;\" d=\"\"/>\n",
       "</symbol>\n",
       "<symbol overflow=\"visible\" id=\"glyph-1473629995280283-0-1\">\n",
       "<path style=\"stroke:none;\" d=\"M 5.015625 -1.015625 L 5.015625 -1.71875 L 4.359375 -1.71875 L 4.359375 -1.015625 C 4.359375 -0.4375 4.3125 -0.515625 4.203125 -0.515625 C 3.875 -0.515625 4.03125 -0.828125 4.03125 -0.875 L 4.03125 -2.875 C 4.03125 -3.296875 3.984375 -3.78125 3.625 -4.140625 C 3.234375 -4.53125 2.59375 -4.734375 2.109375 -4.734375 C 1.296875 -4.734375 0.40625 -4.125 0.40625 -3.46875 C 0.40625 -3.171875 0.8125 -2.875 1.0625 -2.875 C 1.34375 -2.875 1.71875 -3.203125 1.71875 -3.453125 C 1.71875 -3.578125 1.46875 -4.046875 1.328125 -4.046875 C 1.421875 -4.171875 1.78125 -4.25 2.09375 -4.25 C 2.578125 -4.25 2.953125 -3.984375 2.953125 -3.09375 L 2.953125 -2.859375 C 2.640625 -2.84375 1.9375 -2.8125 1.3125 -2.515625 C 0.5625 -2.171875 0.125 -1.515625 0.125 -1.078125 C 0.125 -0.265625 1.28125 0.109375 1.90625 0.109375 C 2.578125 0.109375 3.234375 -0.421875 3.421875 -0.890625 L 3.015625 -0.890625 C 3.0625 -0.484375 3.53125 0.0625 4 0.0625 C 4.203125 0.0625 5.015625 -0.203125 5.015625 -1.015625 Z M 2.953125 -1.53125 C 2.953125 -0.578125 2.4375 -0.375 1.984375 -0.375 C 1.5 -0.375 1.28125 -0.59375 1.28125 -1.09375 C 1.28125 -1.640625 1.5 -2.328125 2.953125 -2.375 Z M 2.953125 -1.53125 \"/>\n",
       "</symbol>\n",
       "<symbol overflow=\"visible\" id=\"glyph-1473629995280283-0-2\">\n",
       "<path style=\"stroke:none;\" d=\"M 5.390625 -2.28125 C 5.390625 -3.546875 4.21875 -4.671875 3.078125 -4.671875 C 2.296875 -4.671875 1.734375 -4.171875 1.578125 -3.984375 L 1.90625 -3.890625 L 1.90625 -7.203125 L 0.078125 -7.0625 L 0.078125 -6.5 C 0.984375 -6.5 0.859375 -6.5625 0.859375 -6.078125 L 0.859375 0 L 1.421875 0 L 1.671875 -0.421875 C 1.671875 -0.421875 2.234375 0.109375 2.96875 0.109375 C 4.15625 0.109375 5.390625 -1 5.390625 -2.28125 Z M 4.171875 -2.296875 C 4.171875 -1.921875 4.203125 -1.421875 3.921875 -0.984375 C 3.703125 -0.671875 3.46875 -0.375 2.9375 -0.375 C 2.484375 -0.375 2.265625 -0.578125 2.03125 -0.953125 C 1.890625 -1.15625 1.9375 -1.09375 1.9375 -1.265625 L 1.9375 -3.3125 C 1.9375 -3.515625 1.890625 -3.421875 2 -3.59375 C 2.375 -4.140625 2.796875 -4.1875 3.03125 -4.1875 C 3.484375 -4.1875 3.703125 -3.96875 3.9375 -3.59375 C 4.203125 -3.1875 4.171875 -2.703125 4.171875 -2.296875 Z M 4.171875 -2.296875 \"/>\n",
       "</symbol>\n",
       "<symbol overflow=\"visible\" id=\"glyph-1473629995280283-0-3\">\n",
       "<path style=\"stroke:none;\" d=\"M 4.34375 -1.3125 C 4.34375 -1.421875 4.03125 -1.5625 4 -1.5625 C 3.921875 -1.5625 3.703125 -1.453125 3.671875 -1.390625 C 3.390625 -0.453125 2.9375 -0.40625 2.578125 -0.40625 C 2.046875 -0.40625 1.359375 -0.703125 1.359375 -2.296875 C 1.359375 -3.921875 1.984375 -4.21875 2.515625 -4.21875 C 2.609375 -4.21875 3.09375 -4.25 3.234375 -4.09375 C 3.171875 -4.09375 2.90625 -3.65625 2.90625 -3.515625 C 2.90625 -3.265625 3.296875 -2.9375 3.5625 -2.9375 C 3.828125 -2.9375 4.234375 -3.234375 4.234375 -3.53125 C 4.234375 -4.203125 3.265625 -4.734375 2.5 -4.734375 C 1.25 -4.734375 0.140625 -3.515625 0.140625 -2.28125 C 0.140625 -1 1.328125 0.109375 2.484375 0.109375 C 3.8125 0.109375 4.34375 -1.21875 4.34375 -1.3125 Z M 4.34375 -1.3125 \"/>\n",
       "</symbol>\n",
       "</g>\n",
       "</defs>\n",
       "<g id=\"surface1\">\n",
       "<path style=\"fill:none;stroke-width:0.3985;stroke-linecap:butt;stroke-linejoin:miter;stroke:rgb(0%,0%,0%);stroke-opacity:1;stroke-miterlimit:10;\" d=\"M -5.808094 -5.807062 L -21.733875 -21.732844 \" transform=\"matrix(1,0,0,-1,34.437,5.607)\"/>\n",
       "<path style=\"fill:none;stroke-width:0.31879;stroke-linecap:round;stroke-linejoin:round;stroke:rgb(0%,0%,0%);stroke-opacity:1;stroke-miterlimit:10;\" d=\"M -1.195908 1.592938 C -1.096456 0.996331 0.000116531 0.0986846 0.298424 -0.000741962 C 0.000122156 -0.100185 -1.0964 -0.997894 -1.195818 -1.594507 \" transform=\"matrix(-0.70714,0.7071,0.7071,0.70714,12.70374,27.34029)\"/>\n",
       "<path style=\"fill:none;stroke-width:0.3985;stroke-linecap:butt;stroke-linejoin:miter;stroke:rgb(0%,0%,0%);stroke-opacity:1;stroke-miterlimit:10;\" d=\"M 0.0005 -5.807062 L 0.0005 -50.428156 \" transform=\"matrix(1,0,0,-1,34.437,5.607)\"/>\n",
       "<path style=\"fill:none;stroke-width:0.31879;stroke-linecap:round;stroke-linejoin:round;stroke:rgb(0%,0%,0%);stroke-opacity:1;stroke-miterlimit:10;\" d=\"M -1.196216 1.59425 C -1.094654 0.996594 -0.00090375 0.0981563 0.299877 0.0005 C -0.00090375 -0.101062 -1.094654 -0.995594 -1.196216 -1.59325 \" transform=\"matrix(0,1,1,0,34.437,56.03606)\"/>\n",
       "<path style=\"fill:none;stroke-width:0.3985;stroke-linecap:butt;stroke-linejoin:miter;stroke:rgb(0%,0%,0%);stroke-opacity:1;stroke-miterlimit:10;\" d=\"M -22.058094 -34.635187 L -6.054187 -50.639094 \" transform=\"matrix(1,0,0,-1,34.437,5.607)\"/>\n",
       "<path style=\"fill:none;stroke-width:0.31879;stroke-linecap:round;stroke-linejoin:round;stroke:rgb(0%,0%,0%);stroke-opacity:1;stroke-miterlimit:10;\" d=\"M -1.194248 1.594006 C -1.094814 0.997374 0.00176585 0.0996569 0.300081 0.000216201 C 0.00176444 -0.0992202 -1.094828 -0.996922 -1.194271 -1.593552 \" transform=\"matrix(0.7071,0.70709,0.70709,-0.7071,28.38141,56.245)\"/>\n",
       "<g style=\"fill:rgb(0%,0%,0%);fill-opacity:1;\">\n",
       "  <use xlink:href=\"#glyph-1473629995280283-0-1\" x=\"31.946\" y=\"7.784\"/>\n",
       "</g>\n",
       "<g style=\"fill:rgb(0%,0%,0%);fill-opacity:1;\">\n",
       "  <use xlink:href=\"#glyph-1473629995280283-0-2\" x=\"3.321\" y=\"37.356\"/>\n",
       "</g>\n",
       "<g style=\"fill:rgb(0%,0%,0%);fill-opacity:1;\">\n",
       "  <use xlink:href=\"#glyph-1473629995280283-0-3\" x=\"32.225\" y=\"64.477\"/>\n",
       "</g>\n",
       "</g>\n",
       "</svg>\n",
       "\n"
      ],
      "text/plain": [
       "BayesNets.BayesNet{BayesNets.CPDs.CategoricalCPD{Distributions.Categorical}}({3, 3} directed graph,[BayesNets.CPDs.CategoricalCPD{Distributions.Categorical}(:a,Symbol[],Int64[],[Distributions.Categorical(K=2, p=[0.75,0.25])]),BayesNets.CPDs.CategoricalCPD{Distributions.Categorical}(:b,[:a],[2],[Distributions.Categorical(K=2, p=[0.7777777777777778,0.2222222222222222]),Distributions.Categorical(K=2, p=[0.0,1.0])]),BayesNets.CPDs.CategoricalCPD{Distributions.Categorical}(:c,[:b,:a],[2,2],[Distributions.Categorical(K=3, p=[0.42857142857142855,0.14285714285714285,0.42857142857142855]),Distributions.Categorical(K=3, p=[0.0,1.0,0.0]),Distributions.Categorical(K=3, p=[NaN,NaN,NaN]),Distributions.Categorical(K=3, p=[0.3333333333333333,0.3333333333333333,0.3333333333333333])])],Dict(:c=>3,:a=>1,:b=>2))"
      ]
     },
     "execution_count": 23,
     "metadata": {},
     "output_type": "execute_result"
    }
   ],
   "source": [
    "data = DataFrame(c=[1,1,1,1,2,2,2,2,3,3,3,3], \n",
    "                 b=[1,1,1,2,2,2,2,1,1,2,1,1],\n",
    "                 a=[1,1,1,2,1,1,2,1,1,2,1,1])\n",
    "\n",
    "fit(DiscreteBayesNet, data, (:a=>:b, :a=>:c, :b=>:c))"
   ]
  },
  {
   "cell_type": "markdown",
   "metadata": {},
   "source": [
    "# Data Visualization & Plotting\n",
    "\n",
    "Data visualization and plotting are extremely important for the interpretation of scientific results. Julia has many great packages for this."
   ]
  },
  {
   "cell_type": "markdown",
   "metadata": {},
   "source": [
    "## Plots\n",
    "The Plots.jl package is a wrapper for a number of Julia plotting packages, providing one clean interface to all of them."
   ]
  },
  {
   "cell_type": "code",
   "execution_count": 2,
   "metadata": {
    "collapsed": false
   },
   "outputs": [
    {
     "data": {
      "text/html": [
       "<html>\n",
       "<head>\n",
       "     <script src=\"/home/tim/.julia/v0.4/PlotlyJS/deps/plotly-latest.min.js\"></script>\n",
       "</head>\n",
       "<body>\n",
       "     <div id=\"e5ecc58f-b2b0-427f-8460-32c8d33d9ebf\" class=\"plotly-graph-div\"></div>\n",
       "\n",
       "<script>\n",
       "    window.PLOTLYENV=window.PLOTLYENV || {};\n",
       "    window.PLOTLYENV.BASE_URL=\"https://plot.ly\";\n",
       "    Plotly.newPlot('e5ecc58f-b2b0-427f-8460-32c8d33d9ebf', [{\"yaxis\":\"y\",\"y\":[0.0,0.4928766087854672,0.23944215562557825,-0.25976218356661696,0.36619377927397667,-1.972565054490268,-2.2282669045207326,-3.7491551650643227,-2.5646857371861205,-3.291771465638701,-3.55617988585431,-4.194171087727873,-3.2775403875740894,-2.045847532339319,-1.1494674007833234,-0.8513041364530696,1.5037124207857615,1.982355741546487,-0.0116686198530207,-0.7270038774451865,-1.151620016025169,-0.09659658215580169,-2.0533929901546855,-1.3319613819094998,-1.1056275870278234,-1.9416326284351817,-0.4663581131755188,0.039629459034355385,0.008703864771994873,1.3145450273105554,0.9539632204144195,-0.7026698599590155,2.0839721526543853,1.476071703294772,1.6284542253895586,1.9040247926133276,2.0169799676309634,3.2999010360332313,3.775197452632339,2.234456056083598,1.1899042589658773,1.5810878446832817,1.9707661715609455,2.4656020353807913,2.1779194208191366,1.1510017829791672,0.8198561894437988,1.21841265387563,1.371458485918805,0.5103993351620836],\"showlegend\":true,\"name\":\"y1\",\"type\":\"scatter\",\"xaxis\":\"x\",\"line\":{\"width\":3,\"dash\":\"solid\",\"color\":\"rgba(0, 154, 250, 1.000)\",\"shape\":\"linear\"},\"x\":[1,2,3,4,5,6,7,8,9,10,11,12,13,14,15,16,17,18,19,20,21,22,23,24,25,26,27,28,29,30,31,32,33,34,35,36,37,38,39,40,41,42,43,44,45,46,47,48,49,50],\"mode\":\"lines\"},{\"yaxis\":\"y\",\"y\":[0.0,-0.32420433952768524,-2.7159069110043603,-3.8651774543299267,-2.9379654414683536,-4.073353966443718,-3.85751251927553,-3.2353277107010543,-4.428659731746753,-3.6998546958009313,-4.052268118317041,-4.216158528831497,-3.581289775299385,-3.6579381207167385,-1.9621422447876322,-1.0112023547770703,0.2707295608628376,0.2558550499757369,0.8785157618646044,0.4096770132807827,-0.6785277035104658,-0.17969148880382513,0.47344788905099844,1.0210338142078035,0.18349399669516953,0.26925722461234036,1.7182201709064882,1.015363007351128,0.29156217897169623,0.1394830571909835,-0.5779389799393799,0.21065267113335506,-0.15485691422781714,-0.1236044279013716,-1.0662547219271228,0.2298279233807834,-0.5714413293681914,-1.0929724363512197,-1.136839195497589,0.9369874458955709,2.853740041101837,0.5868300691520134,-1.6615938152467775,-2.2069233260273613,0.9590610943128826,0.9338434347924589,0.4404479218833103,0.9126173950606575,1.5352958747325745,0.09408795242059687],\"showlegend\":true,\"name\":\"y2\",\"type\":\"scatter\",\"xaxis\":\"x\",\"line\":{\"width\":3,\"dash\":\"solid\",\"color\":\"rgba(227, 111, 71, 1.000)\",\"shape\":\"linear\"},\"x\":[1,2,3,4,5,6,7,8,9,10,11,12,13,14,15,16,17,18,19,20,21,22,23,24,25,26,27,28,29,30,31,32,33,34,35,36,37,38,39,40,41,42,43,44,45,46,47,48,49,50],\"mode\":\"lines\"},{\"yaxis\":\"y\",\"y\":[0.0,-0.48942226136416994,-1.0828151332476643,-0.754311828678143,0.07643995188712382,-0.9154912672828548,-0.32638112877824266,-0.5044807174436523,0.947001487466534,-0.5749468898704816,-0.20633523944917076,-2.0572164344965573,-2.424481228983473,-0.6340041910017751,-1.6923903144639154,-1.7902990190767087,-0.662992291067263,-2.937573804841792,-2.659563489372772,-1.977734801258614,0.31253426420081887,-0.17424159141636908,0.9875282220510349,1.887599822044581,-0.2761763360601779,-0.9160564935941544,0.3350986693949978,-1.4982622547033313,-2.5569796484568883,-5.122346211195245,-4.510054503156249,-2.460838693201584,-2.408689553228279,-1.373345553355337,-2.599332032500416,-3.3816091492707856,-1.1856240817810124,0.03847543873631709,0.21495605523155503,-0.01645322436594676,0.26404045490562345,0.49324131584178343,0.7672104552446071,1.5618970568783046,0.978222001718707,0.8217002824313622,2.1862333050075233,2.271356839139476,1.1366302655606169,0.8643411654331269],\"showlegend\":true,\"name\":\"y3\",\"type\":\"scatter\",\"xaxis\":\"x\",\"line\":{\"width\":3,\"dash\":\"solid\",\"color\":\"rgba(62, 164, 78, 1.000)\",\"shape\":\"linear\"},\"x\":[1,2,3,4,5,6,7,8,9,10,11,12,13,14,15,16,17,18,19,20,21,22,23,24,25,26,27,28,29,30,31,32,33,34,35,36,37,38,39,40,41,42,43,44,45,46,47,48,49,50],\"mode\":\"lines\"},{\"yaxis\":\"y\",\"y\":[0.0,-0.14243892033528832,0.19672306296867603,-1.5004290124327795,-1.684044018779595,-1.7195441944328704,-1.0034423062106141,-1.9017568499996855,-2.226905377488059,-1.5470077551436128,-0.9496251722076918,-2.1086658391266515,-0.8233134306397702,0.6219234325288472,0.5707835243789665,0.8783017001814218,0.7204272110049621,-0.7449892805760325,-0.6802180946654822,0.25332601233142693,-0.07921178465137763,1.592383054127156,0.15065593289985224,-0.26173593460767053,-1.1087207426595889,-0.29130916373091775,-1.2036609587378775,-0.271727290021924,-0.5551609672161588,-0.05599806788077866,-1.1697674639669258,-0.3358974422921738,1.5468094216456727,1.5520342135111518,3.8511733783636295,5.489146770259105,4.958580064678423,5.33824464125969,6.209555256182144,6.56054682312563,6.857184117425621,7.689009369062097,6.280246843083239,7.013560845869844,8.586291252931165,9.242047842588521,9.012276000639337,8.684489729420566,8.436864068488012,9.173359720164282],\"showlegend\":true,\"name\":\"y4\",\"type\":\"scatter\",\"xaxis\":\"x\",\"line\":{\"width\":3,\"dash\":\"solid\",\"color\":\"rgba(195, 113, 210, 1.000)\",\"shape\":\"linear\"},\"x\":[1,2,3,4,5,6,7,8,9,10,11,12,13,14,15,16,17,18,19,20,21,22,23,24,25,26,27,28,29,30,31,32,33,34,35,36,37,38,39,40,41,42,43,44,45,46,47,48,49,50],\"mode\":\"lines\"},{\"yaxis\":\"y\",\"y\":[0.0,-1.371956026692567,-2.170000010121749,-2.0330657839023143,-2.889493592403507,-2.082107986398871,-0.8508764281930263,-0.3291386243038575,-0.242062450392611,1.0544816798058108,1.9199104609605233,1.9045643777391588,3.436574173298787,2.2705582939575053,1.3820924885912853,0.4257550344855531,-1.3502241931168115,-1.4993032084170972,-0.6248581552024605,-0.2651011562046875,-1.4943688646552644,-1.5218911859108928,0.5283574771358632,-0.24721224336431769,-0.433783897924372,-1.7204209888902522,-0.7667017051613687,1.0688073265461182,0.46041304398930094,1.0199681190301852,1.8860543026197703,3.4284811736701784,2.4387719818476756,1.6891787801154838,0.5047238295901433,0.799644622089313,1.1795296246334919,0.7274497996276945,1.3854426597431,2.868557300171616,3.456220293540188,4.262754348515769,4.819981567227843,5.833088604692352,5.82493308177135,5.14896192682325,6.515932766194797,5.558439527564444,4.402248716024704,3.6877497772534045],\"showlegend\":true,\"name\":\"y5\",\"type\":\"scatter\",\"xaxis\":\"x\",\"line\":{\"width\":3,\"dash\":\"solid\",\"color\":\"rgba(172, 142, 24, 1.000)\",\"shape\":\"linear\"},\"x\":[1,2,3,4,5,6,7,8,9,10,11,12,13,14,15,16,17,18,19,20,21,22,23,24,25,26,27,28,29,30,31,32,33,34,35,36,37,38,39,40,41,42,43,44,45,46,47,48,49,50],\"mode\":\"lines\"}],\n",
       "               {\"yaxis\":{\"type\":\"-\",\"titlefont\":{\"size\":15,\"color\":\"rgba(0, 0, 0, 1.000)\",\"family\":\"Helvetica\"},\"title\":\"\",\"tickfont\":{\"size\":11,\"color\":\"rgba(0, 0, 0, 1.000)\",\"family\":\"Helvetica\"},\"tickmode\":\"array\",\"showgrid\":true,\"tickvals\":[-5.0,0.0,5.0],\"domain\":[0.057305336832895896,0.9901574803149605],\"ticktext\":[\"-5\",\"0\",\"5\"],\"zeroline\":false,\"linecolor\":\"rgba(0, 0, 0, 1.000)\",\"tickcolor\":\"rgba(0, 0, 0, 1.000)\",\"anchor\":\"x\"},\"annotations\":[],\"width\":600,\"plot_bgcolor\":\"rgba(255, 255, 255, 1.000)\",\"showlegend\":true,\"legend\":{\"bgcolor\":\"rgba(255, 255, 255, 1.000)\",\"font\":{\"size\":11,\"color\":\"rgba(0, 0, 0, 1.000)\",\"family\":\"Helvetica\"},\"bordercolor\":\"rgba(0, 0, 0, 1.000)\"},\"xaxis\":{\"type\":\"-\",\"titlefont\":{\"size\":15,\"color\":\"rgba(0, 0, 0, 1.000)\",\"family\":\"Helvetica\"},\"title\":\"\",\"tickfont\":{\"size\":11,\"color\":\"rgba(0, 0, 0, 1.000)\",\"family\":\"Helvetica\"},\"tickmode\":\"array\",\"showgrid\":true,\"tickvals\":[10.0,20.0,30.0,40.0,50.0],\"domain\":[0.05905511811023622,0.9934383202099738],\"ticktext\":[\"10\",\"20\",\"30\",\"40\",\"50\"],\"zeroline\":false,\"linecolor\":\"rgba(0, 0, 0, 1.000)\",\"tickcolor\":\"rgba(0, 0, 0, 1.000)\",\"anchor\":\"y\"},\"paper_bgcolor\":\"rgba(255, 255, 255, 1.000)\",\"margin\":{\"r\":0,\"l\":0,\"b\":0,\"t\":20},\"height\":400}, {showLink: false});\n",
       "\n",
       " </script>\n",
       "\n",
       "</body>\n",
       "</html>\n"
      ]
     },
     "execution_count": 2,
     "metadata": {},
     "output_type": "execute_result"
    }
   ],
   "source": [
    "using Plots\n",
    "plotlyjs() # the plotlyjs backend is great for use in Julia notebooks (PGFPlots is great for papers)\n",
    "plot(Plots.fakedata(50,5),w=3)"
   ]
  },
  {
   "cell_type": "markdown",
   "metadata": {},
   "source": [
    "Plotting $f(x)$"
   ]
  },
  {
   "cell_type": "code",
   "execution_count": 3,
   "metadata": {
    "collapsed": false
   },
   "outputs": [
    {
     "data": {
      "text/html": [
       "<html>\n",
       "<head>\n",
       "     <script src=\"/home/tim/.julia/v0.4/PlotlyJS/deps/plotly-latest.min.js\"></script>\n",
       "</head>\n",
       "<body>\n",
       "     <div id=\"136472d3-e93d-4b21-ba7e-b309e14fcbe5\" class=\"plotly-graph-div\"></div>\n",
       "\n",
       "<script>\n",
       "    window.PLOTLYENV=window.PLOTLYENV || {};\n",
       "    window.PLOTLYENV.BASE_URL=\"https://plot.ly\";\n",
       "    Plotly.newPlot('136472d3-e93d-4b21-ba7e-b309e14fcbe5', [{\"yaxis\":\"y\",\"y\":[0.0,0.06310563131267365,0.12595970506771756,0.18831166648971787,0.24991296237030836,0.3105180318741688,0.3698852854165468,0.4277780677102096,0.48396560114283876,0.5382239057242885,0.5903366919365284,0.6400962229271071,0.6873041426091843,0.7317722663670768,0.773323331215339,0.8117917024210207,0.8470240337722988,0.8788798788614604,0.9072322509454813,0.9319681291524348,0.9529889090158392,0.9702107955409863,0.9835651372363698,0.9929986997786696,0.9984738782203788,0.9999688468941563,0.9974776464163387,0.9910102074427921,0.9805923110824041,0.9662654861260218,0.9480868435005095,0.9261288486078413,0.9004790324567516,0.8712396427384597,0.8385272362373773,0.802472214201578,0.7632183025251686,0.7209219788147163,0.6757518486236088,0.6278879733408587,0.5775211524135886,0.5248521627644684,0.47009095843600296,0.4134558336521342,0.3551725526334286,0.29547344963467004,0.23459650279236888,0.17278438547409944,0.11028349891127508,0.047342989971558204,-0.015786242013637018,-0.07885254540747635,-0.14160451942495178,-0.20379201629015212,-0.2651671383986785,-0.32548522651021183,-0.38450583503201075,-0.4419936905055789,-0.49771962947568316,-0.5514615120031073,-0.6030051071796143,-0.6521449471151866,-0.6986851459933063,-0.7424401809292832,-0.7832356315188904,-0.8209088751292625,-0.8553097351604116,-0.8863010796932084,-0.9137593681374367,-0.9375751437008251,-0.9576534697159295,-0.9739143080855377,-0.9862928383380026,-0.9947397160206569,-0.9992212694012756,-0.9997196336934779,-0.9962328222710067,-0.9887747345870026,-0.9773751007667073,-0.9620793630944628,-0.942948494867437,-0.9200587573381745,-0.8935013957148743,-0.8633822754312233,-0.8298214601357258,-0.7929527330827786,-0.7529230638333771,-0.7098920223913332,-0.6640311431104317,-0.615523240908179,-0.5645616825119181,-0.5113496156423268,-0.45609915920701627,-0.3990305577323414,-0.34037130340411265,-0.28035522921701433,-0.21922157684769145,-0.15721404296725106,-0.09457980779484539,-0.031568549764810244,0.03156854976481064,0.09457980779484489,0.15721404296725056,0.21922157684769095,0.2803552292170147,0.340371303404113,0.399030557732341,0.4560991592070158,0.5113496156423264,0.5645616825119176,0.6155232409081793,0.6640311431104313,0.7098920223913328,0.7529230638333768,0.7929527330827784,0.829821460135726,0.8633822754312235,0.8935013957148741,0.9200587573381744,0.9429484948674369,0.9620793630944627,0.9773751007667073,0.9887747345870026,0.9962328222710067,0.9997196336934779,0.9992212694012756,0.9947397160206569,0.9862928383380029,0.9739143080855378,0.9576534697159299,0.9375751437008252,0.9137593681374366,0.886301079693209,0.8553097351604119,0.8209088751292632,0.7832356315188906,0.7424401809292829,0.698685145993307,0.6521449471151867,0.6030051071796154,0.5514615120031078,0.4977196294756843,0.44199369050557974,0.3845058350320108,0.32548522651021267,0.265167138398679,0.20379201629015345,0.14160451942495228,0.07885254540747641,0.015786242013637954,-0.04734298997155772,-0.1102834989112737,-0.17278438547409894,-0.23459650279236882,-0.29547344963466915,-0.3551725526334282,-0.4134558336521329,-0.4700909584360025,-0.5248521627644684,-0.5775211524135879,-0.6278879733408582,-0.6757518486236078,-0.7209219788147161,-0.7632183025251675,-0.8024722142015774,-0.8385272362373763,-0.8712396427384599,-0.9004790324567514,-0.9261288486078413,-0.9480868435005093,-0.9662654861260218,-0.9805923110824039,-0.9910102074427921,-0.9974776464163386,-0.9999688468941563,-0.9984738782203789,-0.9929986997786697,-0.98356513723637,-0.9702107955409862,-0.9529889090158394,-0.9319681291524349,-0.9072322509454818,-0.8788798788614605,-0.8470240337722996,-0.8117917024210212,-0.7733233312153401,-0.7317722663670775,-0.6873041426091845,-0.6400962229271069,-0.5903366919365288,-0.5382239057242885,-0.48396560114283954,-0.42777806771020976,-0.369885285416548,-0.3105180318741693,-0.2499129623703099,-0.18831166648971873,-0.12595970506771947,-0.06310563131267308,-4.898587196589413e-16],\"showlegend\":true,\"name\":\"y1\",\"type\":\"scatter\",\"xaxis\":\"x\",\"line\":{\"width\":4,\"dash\":\"solid\",\"color\":\"rgba(0, 154, 250, 1.000)\",\"shape\":\"linear\"},\"x\":[0.0,0.03156854976481053,0.06310563131267365,0.09457980779484494,0.12595970506771756,0.15721404296725078,0.18831166648971787,0.21922157684769134,0.24991296237030836,0.2803552292170144,0.3105180318741688,0.3403713034041128,0.3698852854165468,0.399030557732341,0.4277780677102096,0.45609915920701594,0.48396560114283876,0.5113496156423267,0.5382239057242885,0.5645616825119181,0.5903366919365284,0.6155232409081792,0.6400962229271071,0.6640311431104312,0.6873041426091843,0.7098920223913329,0.7317722663670768,0.752923063833377,0.773323331215339,0.7929527330827786,0.8117917024210207,0.8298214601357258,0.8470240337722988,0.8633822754312233,0.8788798788614604,0.8935013957148741,0.9072322509454813,0.9200587573381745,0.9319681291524348,0.942948494867437,0.9529889090158392,0.9620793630944628,0.9702107955409863,0.9773751007667072,0.9835651372363698,0.9887747345870026,0.9929986997786696,0.9962328222710067,0.9984738782203788,0.9997196336934779,0.9999688468941563,0.9992212694012756,0.9974776464163387,0.9947397160206569,0.9910102074427921,0.9862928383380027,0.9805923110824041,0.9739143080855378,0.9662654861260218,0.9576534697159296,0.9480868435005095,0.9375751437008251,0.9261288486078413,0.9137593681374366,0.9004790324567516,0.8863010796932087,0.8712396427384597,0.855309735160412,0.8385272362373773,0.8209088751292626,0.802472214201578,0.7832356315188905,0.7632183025251686,0.7424401809292833,0.7209219788147163,0.6986851459933066,0.6757518486236088,0.6521449471151868,0.6278879733408587,0.6030051071796145,0.5775211524135886,0.5514615120031076,0.5248521627644684,0.497719629475683,0.47009095843600296,0.44199369050557913,0.4134558336521342,0.384505835032011,0.3551725526334286,0.3254852265102116,0.29547344963467004,0.2651671383986787,0.23459650279236888,0.20379201629015234,0.17278438547409944,0.14160451942495159,0.11028349891127508,0.0788525454074766,0.047342989971558204,0.01578624201363682,-0.015786242013637018,-0.04734298997155796,-0.07885254540747635,-0.11028349891127483,-0.14160451942495178,-0.17278438547409963,-0.20379201629015212,-0.23459650279236863,-0.2651671383986785,-0.2954734496346698,-0.32548522651021183,-0.3551725526334284,-0.38450583503201075,-0.41345583365213395,-0.4419936905055789,-0.4700909584360031,-0.49771962947568316,-0.5248521627644683,-0.5514615120031073,-0.5775211524135885,-0.6030051071796143,-0.6278879733408584,-0.6521449471151866,-0.6757518486236087,-0.6986851459933063,-0.7209219788147162,-0.7424401809292832,-0.7632183025251682,-0.7832356315188904,-0.8024722142015775,-0.8209088751292625,-0.8385272362373775,-0.8553097351604116,-0.8712396427384596,-0.8863010796932084,-0.9004790324567515,-0.9137593681374367,-0.9261288486078411,-0.9375751437008251,-0.9480868435005093,-0.9576534697159295,-0.9662654861260217,-0.9739143080855377,-0.9805923110824041,-0.9862928383380026,-0.9910102074427921,-0.9947397160206569,-0.9974776464163387,-0.9992212694012756,-0.9999688468941563,-0.9997196336934779,-0.9984738782203789,-0.9962328222710067,-0.9929986997786696,-0.9887747345870026,-0.98356513723637,-0.9773751007667073,-0.9702107955409863,-0.9620793630944628,-0.9529889090158394,-0.942948494867437,-0.9319681291524351,-0.9200587573381745,-0.9072322509454817,-0.8935013957148743,-0.8788798788614608,-0.8633822754312233,-0.847024033772299,-0.8298214601357258,-0.8117917024210209,-0.7929527330827786,-0.7733233312153395,-0.7529230638333771,-0.7317722663670773,-0.7098920223913332,-0.6873041426091849,-0.6640311431104317,-0.6400962229271073,-0.615523240908179,-0.5903366919365287,-0.5645616825119181,-0.538223905724289,-0.5113496156423268,-0.4839656011428393,-0.45609915920701627,-0.4277780677102104,-0.3990305577323414,-0.36988528541654697,-0.34037130340411265,-0.3105180318741691,-0.28035522921701433,-0.2499129623703088,-0.21922157684769145,-0.18831166648971848,-0.15721404296725106,-0.12595970506771834,-0.09457980779484539,-0.0631056313126746,-0.031568549764810244,-2.4492935982947064e-16],\"mode\":\"lines\"}],\n",
       "               {\"yaxis\":{\"type\":\"-\",\"titlefont\":{\"size\":15,\"color\":\"rgba(0, 0, 0, 1.000)\",\"family\":\"Helvetica\"},\"title\":\"\",\"tickfont\":{\"size\":11,\"color\":\"rgba(0, 0, 0, 1.000)\",\"family\":\"Helvetica\"},\"tickmode\":\"array\",\"showgrid\":true,\"tickvals\":[-0.5,0.0,0.5],\"domain\":[0.057305336832895896,0.9901574803149605],\"ticktext\":[\"-0.5\",\"0.0\",\"0.5\"],\"zeroline\":false,\"linecolor\":\"rgba(0, 0, 0, 1.000)\",\"tickcolor\":\"rgba(0, 0, 0, 1.000)\",\"anchor\":\"x\"},\"annotations\":[],\"width\":600,\"plot_bgcolor\":\"rgba(255, 255, 255, 1.000)\",\"showlegend\":false,\"xaxis\":{\"type\":\"-\",\"titlefont\":{\"size\":15,\"color\":\"rgba(0, 0, 0, 1.000)\",\"family\":\"Helvetica\"},\"title\":\"\",\"tickfont\":{\"size\":11,\"color\":\"rgba(0, 0, 0, 1.000)\",\"family\":\"Helvetica\"},\"tickmode\":\"array\",\"showgrid\":true,\"tickvals\":[-0.5,0.0,0.5],\"domain\":[0.05905511811023622,0.9934383202099738],\"ticktext\":[\"-0.5\",\"0.0\",\"0.5\"],\"zeroline\":false,\"linecolor\":\"rgba(0, 0, 0, 1.000)\",\"tickcolor\":\"rgba(0, 0, 0, 1.000)\",\"anchor\":\"y\"},\"paper_bgcolor\":\"rgba(255, 255, 255, 1.000)\",\"margin\":{\"r\":0,\"l\":0,\"b\":0,\"t\":20},\"height\":400}, {showLink: false});\n",
       "\n",
       " </script>\n",
       "\n",
       "</body>\n",
       "</html>\n"
      ]
     },
     "execution_count": 3,
     "metadata": {},
     "output_type": "execute_result"
    }
   ],
   "source": [
    "plot(sin,(x->sin(2x)), 0, 2π, line=4, leg=false)"
   ]
  },
  {
   "cell_type": "markdown",
   "metadata": {},
   "source": [
    "Plotting x and y arrays"
   ]
  },
  {
   "cell_type": "code",
   "execution_count": 4,
   "metadata": {
    "collapsed": false
   },
   "outputs": [
    {
     "data": {
      "text/html": [
       "<html>\n",
       "<head>\n",
       "     <script src=\"/home/tim/.julia/v0.4/PlotlyJS/deps/plotly-latest.min.js\"></script>\n",
       "</head>\n",
       "<body>\n",
       "     <div id=\"01172be7-0fd0-4c14-a336-9e96c5ea1480\" class=\"plotly-graph-div\"></div>\n",
       "\n",
       "<script>\n",
       "    window.PLOTLYENV=window.PLOTLYENV || {};\n",
       "    window.PLOTLYENV.BASE_URL=\"https://plot.ly\";\n",
       "    Plotly.newPlot('01172be7-0fd0-4c14-a336-9e96c5ea1480', [{\"yaxis\":\"y\",\"y\":[0.5,0.4,0.8,1.2,-0.5,1.1,0.0],\"showlegend\":true,\"name\":\"line label\",\"type\":\"scatter\",\"xaxis\":\"x\",\"line\":{\"width\":1,\"dash\":\"solid\",\"color\":\"rgba(0, 154, 250, 1.000)\",\"shape\":\"linear\"},\"x\":[1,2,3,4,5,8,10],\"mode\":\"lines\"}],\n",
       "               {\"yaxis\":{\"type\":\"-\",\"titlefont\":{\"size\":15,\"color\":\"rgba(0, 0, 0, 1.000)\",\"family\":\"Helvetica\"},\"title\":\"vertical axis label\",\"tickfont\":{\"size\":11,\"color\":\"rgba(0, 0, 0, 1.000)\",\"family\":\"Helvetica\"},\"tickmode\":\"array\",\"showgrid\":true,\"tickvals\":[-0.5,0.0,0.5,1.0],\"domain\":[0.09549978127734039,0.9415463692038496],\"ticktext\":[\"-0.5\",\"0.0\",\"0.5\",\"1.0\"],\"zeroline\":false,\"linecolor\":\"rgba(0, 0, 0, 1.000)\",\"tickcolor\":\"rgba(0, 0, 0, 1.000)\",\"anchor\":\"x\"},\"annotations\":[{\"text\":\"the title\",\"y\":1.0,\"xref\":\"paper\",\"font\":{\"size\":20,\"color\":\"rgba(0, 0, 0, 1.000)\",\"family\":\"Helvetica\"},\"xanchor\":\"center\",\"x\":0.5389782006415865,\"yref\":\"paper\",\"showarrow\":false,\"yanchor\":\"top\",\"rotation\":0.0}],\"width\":600,\"plot_bgcolor\":\"rgba(255, 255, 255, 1.000)\",\"showlegend\":true,\"legend\":{\"bgcolor\":\"rgba(255, 255, 255, 1.000)\",\"font\":{\"size\":11,\"color\":\"rgba(0, 0, 0, 1.000)\",\"family\":\"Helvetica\"},\"bordercolor\":\"rgba(0, 0, 0, 1.000)\"},\"xaxis\":{\"type\":\"-\",\"titlefont\":{\"size\":15,\"color\":\"rgba(0, 0, 0, 1.000)\",\"family\":\"Helvetica\"},\"title\":\"horizontal axis label\",\"tickfont\":{\"size\":11,\"color\":\"rgba(0, 0, 0, 1.000)\",\"family\":\"Helvetica\"},\"tickmode\":\"array\",\"showgrid\":true,\"tickvals\":[2.5,5.0,7.5,10.0],\"domain\":[0.08451808107319918,0.9934383202099737],\"ticktext\":[\"2.5\",\"5.0\",\"7.5\",\"10.0\"],\"zeroline\":false,\"linecolor\":\"rgba(0, 0, 0, 1.000)\",\"tickcolor\":\"rgba(0, 0, 0, 1.000)\",\"anchor\":\"y\"},\"paper_bgcolor\":\"rgba(255, 255, 255, 1.000)\",\"margin\":{\"r\":0,\"l\":0,\"b\":0,\"t\":20},\"height\":400}, {showLink: false});\n",
       "\n",
       " </script>\n",
       "\n",
       "</body>\n",
       "</html>\n"
      ]
     },
     "execution_count": 4,
     "metadata": {},
     "output_type": "execute_result"
    }
   ],
   "source": [
    "x = [1,2,3,4,5,8,10]\n",
    "y = [0.5,0.4,0.8,1.2,-0.5,1.1,0.0]\n",
    "plot(x,y, xlab=\"horizontal axis label\", ylab=\"vertical axis label\", lab=\"line label\", title=\"the title\")"
   ]
  },
  {
   "cell_type": "markdown",
   "metadata": {},
   "source": [
    "Layer plots on top of one another"
   ]
  },
  {
   "cell_type": "code",
   "execution_count": 5,
   "metadata": {
    "collapsed": false
   },
   "outputs": [
    {
     "data": {
      "text/html": [
       "<html>\n",
       "<head>\n",
       "     <script src=\"/home/tim/.julia/v0.4/PlotlyJS/deps/plotly-latest.min.js\"></script>\n",
       "</head>\n",
       "<body>\n",
       "     <div id=\"da5a5f7d-7e37-4ac9-bed9-1581fd75fe48\" class=\"plotly-graph-div\"></div>\n",
       "\n",
       "<script>\n",
       "    window.PLOTLYENV=window.PLOTLYENV || {};\n",
       "    window.PLOTLYENV.BASE_URL=\"https://plot.ly\";\n",
       "    Plotly.newPlot('da5a5f7d-7e37-4ac9-bed9-1581fd75fe48', [{\"yaxis\":\"y\",\"y\":[0.0,0.0010069995646410138,0.004027988047107494,0.009062873544694226,0.0161112986636596,0.025172334219297984,0.036244050540241365,0.04932296663266342,0.0644033777208279,0.08147656208171271,0.10052986866399807,0.12154568775572476,0.14450030796972355,0.1693626640794672,0.19609298178637105,0.22464132735618728,0.25494607224689736,0.2869322853787169,0.3205100685779702,0.35557285396293986,0.3919956856248075,0.4296335118733833,0.46831951853596476,0.5078635382744358,0.548050575560194,0.5886394917397639,0.6293618994364737,0.6699213202435147,0.7099926641251544,0.7492220929847897,0.7872273342839845,0.8235985131828293,0.857899573171145,0.8896703553014791,0.9184294046279157,0.9436775689938062,0.9649024495822455,0.9815837543305577,0.9931995941091812,0.9992337471931781,0.9991838997651187,0.9925708487888295,0.9789486284646308,0.9579154925917547,0.9291256526119196,0.8923016351178212,0.8472470835725149,0.7938597874768201,0.7321446790254137,0.6622264934165418,0.5843617456725021,0.4989496355812248,0.4065414549216034,0.3078480394588694,0.20374478447395278,0.09527372917838521,-0.016357785260906536,-0.12978236468113635,-0.24348216598986155,-0.35580325186724543,-0.46497501686765524,-0.5691349071168965,-0.6663585323903535,-0.7546951208144156,-0.8322080934029914,-0.8970203398733719,-0.9473635617014299,-0.9816308176077664,-0.9984311665663437,-0.9966450615292715,-0.9754789124804136,-0.9345170207854158,-0.8737689000534249,-0.7937098548915098,-0.695312601728287,-0.5800676992054072,-0.4499906229450645,-0.30761348308727526,-0.15595965313048768,0.0015000373449734652,0.1609103920785359,0.3181144482829127,0.4687550900018864,0.6083943559159322,0.7326482275588542,0.8373337430839585,0.9186243314570193,0.9732083455414129,0.9984449395483076,0.9925107411664837,0.9545302686007826,0.8846827951906306,0.784278423760269,0.6557965472911017,0.5028806792347357,0.33028485836016835,0.14376847309486906,-0.05006161020727489,-0.24396033675021217,-0.43030121700009333],\"showlegend\":true,\"name\":\"sin(x^2)\",\"type\":\"scatter\",\"xaxis\":\"x\",\"line\":{\"width\":2,\"dash\":\"solid\",\"color\":\"rgba(0, 154, 250, 1.000)\",\"shape\":\"linear\"},\"x\":[0.0,0.03173325912716963,0.06346651825433926,0.09519977738150888,0.12693303650867852,0.15866629563584814,0.19039955476301776,0.22213281389018738,0.25386607301735703,0.28559933214452665,0.3173325912716963,0.34906585039886584,0.3807991095260355,0.4125323686532052,0.44426562778037476,0.4759988869075444,0.5077321460347141,0.5394654051618837,0.5711986642890533,0.6029319234162229,0.6346651825433925,0.6663984416705622,0.6981317007977317,0.7298649599249014,0.761598219052071,0.7933314781792408,0.8250647373064104,0.8567979964335799,0.8885312555607495,0.9202645146879193,0.9519977738150888,0.9837310329422584,1.0154642920694281,1.0471975511965976,1.0789308103237674,1.1106640694509369,1.1423973285781066,1.1741305877052763,1.2058638468324459,1.2375971059596154,1.269330365086785,1.3010636242139546,1.3327968833411243,1.3645301424682938,1.3962634015954634,1.4279966607226333,1.4597299198498028,1.4914631789769726,1.523196438104142,1.5549296972313116,1.5866629563584815,1.618396215485651,1.6501294746128208,1.6818627337399903,1.7135959928671598,1.7453292519943295,1.777062511121499,1.8087957702486686,1.8405290293758385,1.872262288503008,1.9039955476301775,1.9357288067573473,1.9674620658845168,1.9991953250116867,2.0309285841388562,2.0626618432660258,2.0943951023931953,2.126128361520365,2.1578616206475347,2.1895948797747042,2.2213281389018737,2.2530613980290437,2.284794657156213,2.3165279162833827,2.3482611754105527,2.379994434537722,2.4117276936648917,2.443460952792061,2.4751942119192307,2.5069274710464007,2.53866073017357,2.5703939893007397,2.602127248427909,2.633860507555079,2.6655937666822487,2.697327025809418,2.7290602849365877,2.760793544063757,2.7925268031909267,2.824260062318097,2.8559933214452666,2.887726580572436,2.9194598396996057,2.951193098826775,2.982926357953945,3.0146596170811146,3.046392876208284,3.0781261353354537,3.109859394462623,3.1415926535897936],\"mode\":\"lines\"},{\"yaxis\":\"y\",\"y\":[0.0,0.0010066617640578032,0.00402259358460235,0.009035651368646648,0.016025649301821862,0.024964441129527306,0.03581603349196369,0.048536730856689386,0.06307531146510753,0.0793732335844094,0.09736487123447067,0.11697777844051092,0.13813298094746493,0.16074529422143394,0.18472366645773874,0.20997154521440087,0.2363872661947488,0.2638644626136586,0.2922924934990568,0.3215568892040641,0.3515398123358625,0.3821205322452863,0.41317591116653474,0.4445809000494945,0.47620904208812875,0.507932981917404,0.5396249784283943,0.5711574191366425,0.6024033340325954,0.6332369068450174,0.6635339816587107,0.6931725628465641,0.7220333063028871,0.7499999999999999,0.7769600319330552,0.8028048435688333,0.8274303669726425,0.8507374438531607,0.8726322248378773,0.8930265473713936,0.9118382907149164,0.9289917066174884,0.9444177243274616,0.9580542287160349,0.9698463103929541,0.9797464868072486,0.9877148934427035,0.9937194443381973,0.9977359612865423,0.9997482711915926,0.9997482711915926,0.9977359612865423,0.9937194443381973,0.9877148934427035,0.9797464868072489,0.9698463103929541,0.9580542287160349,0.9444177243274618,0.9289917066174884,0.9118382907149164,0.8930265473713939,0.8726322248378774,0.8507374438531607,0.8274303669726425,0.8028048435688333,0.7769600319330552,0.7500000000000001,0.7220333063028869,0.6931725628465644,0.6635339816587108,0.6332369068450178,0.6024033340325952,0.5711574191366425,0.5396249784283945,0.5079329819174038,0.47620904208812875,0.4445809000494945,0.413175911166535,0.38212053224528675,0.3515398123358625,0.3215568892040642,0.292292493499057,0.2638644626136589,0.2363872661947488,0.20997154521440103,0.1847236664577389,0.16074529422143416,0.13813298094746526,0.11697777844051138,0.0973648712344706,0.0793732335844094,0.06307531146510756,0.04853673085668947,0.03581603349196381,0.024964441129527306,0.01602564930182189,0.009035651368646692,0.004022593584602392,0.0010066617640578318,1.0344233825612026e-31],\"showlegend\":true,\"name\":\"sin(x)^2\",\"type\":\"scatter\",\"xaxis\":\"x\",\"line\":{\"width\":2,\"dash\":\"solid\",\"color\":\"rgba(227, 111, 71, 1.000)\",\"shape\":\"linear\"},\"x\":[0.0,0.03173325912716963,0.06346651825433926,0.09519977738150888,0.12693303650867852,0.15866629563584814,0.19039955476301776,0.22213281389018738,0.25386607301735703,0.28559933214452665,0.3173325912716963,0.34906585039886584,0.3807991095260355,0.4125323686532052,0.44426562778037476,0.4759988869075444,0.5077321460347141,0.5394654051618837,0.5711986642890533,0.6029319234162229,0.6346651825433925,0.6663984416705622,0.6981317007977317,0.7298649599249014,0.761598219052071,0.7933314781792408,0.8250647373064104,0.8567979964335799,0.8885312555607495,0.9202645146879193,0.9519977738150888,0.9837310329422584,1.0154642920694281,1.0471975511965976,1.0789308103237674,1.1106640694509369,1.1423973285781066,1.1741305877052763,1.2058638468324459,1.2375971059596154,1.269330365086785,1.3010636242139546,1.3327968833411243,1.3645301424682938,1.3962634015954634,1.4279966607226333,1.4597299198498028,1.4914631789769726,1.523196438104142,1.5549296972313116,1.5866629563584815,1.618396215485651,1.6501294746128208,1.6818627337399903,1.7135959928671598,1.7453292519943295,1.777062511121499,1.8087957702486686,1.8405290293758385,1.872262288503008,1.9039955476301775,1.9357288067573473,1.9674620658845168,1.9991953250116867,2.0309285841388562,2.0626618432660258,2.0943951023931953,2.126128361520365,2.1578616206475347,2.1895948797747042,2.2213281389018737,2.2530613980290437,2.284794657156213,2.3165279162833827,2.3482611754105527,2.379994434537722,2.4117276936648917,2.443460952792061,2.4751942119192307,2.5069274710464007,2.53866073017357,2.5703939893007397,2.602127248427909,2.633860507555079,2.6655937666822487,2.697327025809418,2.7290602849365877,2.760793544063757,2.7925268031909267,2.824260062318097,2.8559933214452666,2.887726580572436,2.9194598396996057,2.951193098826775,2.982926357953945,3.0146596170811146,3.046392876208284,3.0781261353354537,3.109859394462623,3.1415926535897936],\"mode\":\"lines\"},{\"yaxis\":\"y\",\"y\":[0.5,0.0,-0.5,0.0],\"showlegend\":true,\"name\":\"scatter\",\"type\":\"scatter\",\"xaxis\":\"x\",\"x\":[0.0,1.0,2.0,3.0],\"mode\":\"markers\",\"marker\":{\"symbol\":\"circle\",\"line\":{\"width\":1,\"color\":\"rgba(0, 0, 0, 1.000)\"},\"size\":12,\"color\":\"rgba(62, 164, 78, 1.000)\"}}],\n",
       "               {\"yaxis\":{\"type\":\"-\",\"titlefont\":{\"size\":15,\"color\":\"rgba(0, 0, 0, 1.000)\",\"family\":\"Helvetica\"},\"title\":\"\",\"tickfont\":{\"size\":11,\"color\":\"rgba(0, 0, 0, 1.000)\",\"family\":\"Helvetica\"},\"tickmode\":\"array\",\"showgrid\":true,\"tickvals\":[-1.0,0.0,1.0],\"domain\":[0.057305336832895896,0.9901574803149605],\"ticktext\":[\"-1\",\"0\",\"1\"],\"zeroline\":false,\"linecolor\":\"rgba(0, 0, 0, 1.000)\",\"tickcolor\":\"rgba(0, 0, 0, 1.000)\",\"anchor\":\"x\"},\"annotations\":[],\"width\":600,\"plot_bgcolor\":\"rgba(255, 255, 255, 1.000)\",\"showlegend\":true,\"legend\":{\"bgcolor\":\"rgba(255, 255, 255, 1.000)\",\"font\":{\"size\":11,\"color\":\"rgba(0, 0, 0, 1.000)\",\"family\":\"Helvetica\"},\"bordercolor\":\"rgba(0, 0, 0, 1.000)\"},\"xaxis\":{\"type\":\"-\",\"titlefont\":{\"size\":15,\"color\":\"rgba(0, 0, 0, 1.000)\",\"family\":\"Helvetica\"},\"title\":\"\",\"tickfont\":{\"size\":11,\"color\":\"rgba(0, 0, 0, 1.000)\",\"family\":\"Helvetica\"},\"tickmode\":\"array\",\"showgrid\":true,\"tickvals\":[0.0,1.0,2.0,3.0],\"domain\":[0.05905511811023622,0.9934383202099738],\"ticktext\":[\"0\",\"1\",\"2\",\"3\"],\"zeroline\":false,\"linecolor\":\"rgba(0, 0, 0, 1.000)\",\"tickcolor\":\"rgba(0, 0, 0, 1.000)\",\"anchor\":\"y\"},\"paper_bgcolor\":\"rgba(255, 255, 255, 1.000)\",\"margin\":{\"r\":0,\"l\":0,\"b\":0,\"t\":20},\"height\":400}, {showLink: false});\n",
       "\n",
       " </script>\n",
       "\n",
       "</body>\n",
       "</html>\n"
      ]
     },
     "execution_count": 5,
     "metadata": {},
     "output_type": "execute_result"
    }
   ],
   "source": [
    "p = plot(x->sin(x^2), 0, π, line=2, lab=\"sin(x^2)\")\n",
    "plot!(p, x->sin(x)^2, 0, π, line=2, lab=\"sin(x)^2\")\n",
    "scatter!(p, [0.0, 1.0, 2.0, 3.0], [0.5, 0.0, -0.5, 0.0], lab=\"scatter\")"
   ]
  },
  {
   "cell_type": "code",
   "execution_count": 6,
   "metadata": {
    "collapsed": false
   },
   "outputs": [
    {
     "name": "stderr",
     "output_type": "stream",
     "text": [
      "WARNING: Keyword argument bar_width not supported with Plots.PlotlyJSBackend().  Choose from: [:annotations,:background_color_legend,:background_color_inside,:background_color_outside,:foreground_color_legend,:foreground_color_guide,:foreground_color_text,:foreground_color_border,:foreground_color_title,:label,:seriescolor,:seriesalpha,:linecolor,:linestyle,:linewidth,:linealpha,:markershape,:markercolor,:markersize,:markeralpha,:markerstrokewidth,:markerstrokecolor,:markerstrokealpha,:markerstrokestyle,:fillrange,:fillcolor,:fillalpha,:bins,:title,:title_location,:titlefont,:window_title,:guide,:lims,:ticks,:scale,:flip,:rotation,:tickfont,:guidefont,:legendfont,:grid,:legend,:colorbar,:marker_z,:levels,:ribbon,:quiver,:orientation,:polar,:normalize,:weights,:hover,:inset_subplots,:color_palette,:background_color,:background_color_subplot,:foreground_color,:foreground_color_subplot,:group,:seriestype,:seriescolor,:seriesalpha,:smooth,:xerror,:yerror,:subplot,:x,:y,:z,:show,:size,:margin,:left_margin,:right_margin,:top_margin,:bottom_margin,:html_output_format,:layout,:link,:primary,:series_annotations,:subplot_index,:discrete_values,:projection,:xforeground_color_guide,:yforeground_color_guide,:zforeground_color_guide,:xforeground_color_text,:yforeground_color_text,:zforeground_color_text,:xforeground_color_border,:yforeground_color_border,:zforeground_color_border,:xguide,:yguide,:zguide,:xlims,:ylims,:zlims,:xticks,:yticks,:zticks,:xscale,:yscale,:zscale,:xflip,:yflip,:zflip,:xrotation,:yrotation,:zrotation,:xtickfont,:ytickfont,:ztickfont,:xguidefont,:yguidefont,:zguidefont,:xlink,:ylink,:zlink,:xdiscrete_values,:ydiscrete_values,:zdiscrete_values]\n"
     ]
    },
    {
     "data": {
      "text/html": [
       "<html>\n",
       "<head>\n",
       "     <script src=\"/home/tim/.julia/v0.4/PlotlyJS/deps/plotly-latest.min.js\"></script>\n",
       "</head>\n",
       "<body>\n",
       "     <div id=\"24bb57c9-b3ee-4fb1-9228-8818c8d23883\" class=\"plotly-graph-div\"></div>\n",
       "\n",
       "<script>\n",
       "    window.PLOTLYENV=window.PLOTLYENV || {};\n",
       "    window.PLOTLYENV.BASE_URL=\"https://plot.ly\";\n",
       "    Plotly.newPlot('24bb57c9-b3ee-4fb1-9228-8818c8d23883', [{\"yaxis\":\"y\",\"y\":[5.0,3.0,9.0,14.0,25.0,47.0,77.0,102.0,114.0,120.0,114.0,111.0,89.0,71.0,46.0,27.0,16.0,3.0,5.0,2.0],\"showlegend\":true,\"name\":\"y1\",\"type\":\"bar\",\"xaxis\":\"x\",\"orientation\":\"v\",\"x\":[-3.2725904518864097,-2.9463715980670475,-2.620152744247685,-2.293933890428322,-1.9677150366089595,-1.6414961827895973,-1.3152773289702346,-0.9890584751508715,-0.6628396213315091,-0.33662076751214653,-0.010401913692783538,0.3158169401265791,0.6420357939459415,0.9682546477653041,1.294473501584667,1.6206923554040293,1.946911209223392,2.2731300630427547,2.5993489168621173,2.92556777068148,3.2517866245008427]}],\n",
       "               {\"yaxis\":{\"type\":\"-\",\"titlefont\":{\"size\":15,\"color\":\"rgba(0, 0, 0, 1.000)\",\"family\":\"Helvetica\"},\"title\":\"\",\"tickfont\":{\"size\":11,\"color\":\"rgba(0, 0, 0, 1.000)\",\"family\":\"Helvetica\"},\"tickmode\":\"array\",\"showgrid\":true,\"tickvals\":[0.0,20.0,40.0,60.0,80.0,100.0,120.0],\"domain\":[0.057305336832895896,0.9901574803149605],\"ticktext\":[\"0\",\"20\",\"40\",\"60\",\"80\",\"100\",\"120\"],\"zeroline\":false,\"linecolor\":\"rgba(0, 0, 0, 1.000)\",\"tickcolor\":\"rgba(0, 0, 0, 1.000)\",\"anchor\":\"x\"},\"annotations\":[],\"width\":600,\"plot_bgcolor\":\"rgba(255, 255, 255, 1.000)\",\"showlegend\":true,\"legend\":{\"bgcolor\":\"rgba(255, 255, 255, 1.000)\",\"font\":{\"size\":11,\"color\":\"rgba(0, 0, 0, 1.000)\",\"family\":\"Helvetica\"},\"bordercolor\":\"rgba(0, 0, 0, 1.000)\"},\"xaxis\":{\"type\":\"-\",\"titlefont\":{\"size\":15,\"color\":\"rgba(0, 0, 0, 1.000)\",\"family\":\"Helvetica\"},\"title\":\"\",\"tickfont\":{\"size\":11,\"color\":\"rgba(0, 0, 0, 1.000)\",\"family\":\"Helvetica\"},\"tickmode\":\"array\",\"showgrid\":true,\"tickvals\":[-2.0,0.0,2.0],\"domain\":[0.05905511811023622,0.9934383202099738],\"ticktext\":[\"-2\",\"0\",\"2\"],\"zeroline\":false,\"linecolor\":\"rgba(0, 0, 0, 1.000)\",\"tickcolor\":\"rgba(0, 0, 0, 1.000)\",\"anchor\":\"y\"},\"paper_bgcolor\":\"rgba(255, 255, 255, 1.000)\",\"margin\":{\"r\":0,\"l\":0,\"b\":0,\"t\":20},\"height\":400}, {showLink: false});\n",
       "\n",
       " </script>\n",
       "\n",
       "</body>\n",
       "</html>\n"
      ]
     },
     "execution_count": 6,
     "metadata": {},
     "output_type": "execute_result"
    }
   ],
   "source": [
    "histogram(randn(1000),nbins=20)"
   ]
  },
  {
   "cell_type": "code",
   "execution_count": 7,
   "metadata": {
    "collapsed": false
   },
   "outputs": [
    {
     "data": {
      "text/html": [
       "<html>\n",
       "<head>\n",
       "     <script src=\"/home/tim/.julia/v0.4/PlotlyJS/deps/plotly-latest.min.js\"></script>\n",
       "</head>\n",
       "<body>\n",
       "     <div id=\"3a2f55a0-e210-4c94-9f5e-3a600de574fb\" class=\"plotly-graph-div\"></div>\n",
       "\n",
       "<script>\n",
       "    window.PLOTLYENV=window.PLOTLYENV || {};\n",
       "    window.PLOTLYENV.BASE_URL=\"https://plot.ly\";\n",
       "    Plotly.newPlot('3a2f55a0-e210-4c94-9f5e-3a600de574fb', [{\"yaxis\":\"y\",\"y\":[-3.8724023101227765,-3.496333115768844,-3.1202639214149115,-2.7441947270609797,-2.3681255327070474,-1.992056338353115,-1.6159871439991829,-1.2399179496452506,-0.8638487552913185,-0.487779560937386,-0.11171036658345389,0.26435882777047803,0.6404280221244104,1.0164972164783428,1.3925664108322746,1.7686356051862067,2.1447047995401394,2.520773993894071,2.896843188248004,3.2729123826019357],\"colorscale\":[[0.0,\"rgb(0, 0, 4)\"],[0.034482758620689655,\"rgb(4, 3, 20)\"],[0.06896551724137931,\"rgb(13, 8, 41)\"],[0.10344827586206896,\"rgb(24, 12, 60)\"],[0.13793103448275862,\"rgb(38, 12, 81)\"],[0.1724137931034483,\"rgb(54, 9, 97)\"],[0.20689655172413793,\"rgb(69, 10, 105)\"],[0.2413793103448276,\"rgb(84, 15, 109)\"],[0.27586206896551724,\"rgb(97, 19, 110)\"],[0.3103448275862069,\"rgb(111, 25, 110)\"],[0.3448275862068966,\"rgb(125, 30, 109)\"],[0.3793103448275862,\"rgb(140, 35, 105)\"],[0.41379310344827586,\"rgb(154, 40, 101)\"],[0.4482758620689655,\"rgb(166, 45, 96)\"],[0.4827586206896552,\"rgb(180, 51, 89)\"],[0.5172413793103449,\"rgb(193, 58, 80)\"],[0.5517241379310345,\"rgb(206, 67, 71)\"],[0.5862068965517241,\"rgb(216, 76, 62)\"],[0.6206896551724138,\"rgb(226, 87, 52)\"],[0.6551724137931034,\"rgb(235, 100, 41)\"],[0.6896551724137931,\"rgb(241, 115, 29)\"],[0.7241379310344828,\"rgb(247, 130, 18)\"],[0.7586206896551724,\"rgb(250, 144, 8)\"],[0.7931034482758621,\"rgb(252, 161, 8)\"],[0.8275862068965517,\"rgb(252, 178, 22)\"],[0.8620689655172413,\"rgb(250, 196, 42)\"],[0.896551724137931,\"rgb(246, 213, 67)\"],[0.9310344827586207,\"rgb(243, 229, 93)\"],[0.9655172413793104,\"rgb(242, 244, 130)\"],[1.0,\"rgb(252, 255, 164)\"]],\"showlegend\":false,\"name\":\"y1\",\"type\":\"heatmap\",\"xaxis\":\"x\",\"z\":[[0.0,0.0,0.0,0.0,0.0,0.0,0.0,0.0,0.0,0.0,1.0,0.0,0.0,0.0,0.0,0.0,0.0,0.0,0.0,0.0],[0.0,0.0,0.0,0.0,0.0,0.0,1.0,0.0,0.0,1.0,1.0,0.0,0.0,0.0,0.0,0.0,0.0,0.0,0.0,0.0],[0.0,0.0,0.0,0.0,0.0,1.0,1.0,2.0,0.0,3.0,1.0,1.0,1.0,0.0,1.0,0.0,0.0,0.0,0.0,0.0],[0.0,0.0,0.0,0.0,0.0,0.0,5.0,5.0,5.0,9.0,1.0,4.0,2.0,0.0,1.0,0.0,0.0,0.0,0.0,0.0],[0.0,0.0,0.0,0.0,5.0,2.0,5.0,9.0,14.0,12.0,19.0,6.0,4.0,5.0,1.0,1.0,0.0,0.0,0.0,0.0],[0.0,1.0,0.0,0.0,3.0,8.0,14.0,20.0,28.0,31.0,50.0,30.0,17.0,9.0,3.0,3.0,0.0,0.0,0.0,0.0],[1.0,0.0,3.0,3.0,10.0,17.0,38.0,38.0,66.0,69.0,46.0,43.0,50.0,18.0,9.0,5.0,0.0,0.0,0.0,0.0],[0.0,0.0,2.0,6.0,9.0,24.0,51.0,79.0,98.0,131.0,119.0,97.0,62.0,36.0,12.0,8.0,2.0,1.0,0.0,0.0],[0.0,3.0,1.0,9.0,19.0,32.0,65.0,109.0,146.0,169.0,144.0,138.0,76.0,51.0,29.0,13.0,4.0,0.0,1.0,0.0],[1.0,2.0,2.0,4.0,17.0,49.0,79.0,155.0,200.0,239.0,222.0,136.0,106.0,75.0,38.0,13.0,6.0,1.0,0.0,1.0],[0.0,0.0,3.0,6.0,32.0,63.0,91.0,153.0,224.0,224.0,215.0,173.0,115.0,75.0,41.0,21.0,4.0,2.0,0.0,0.0],[0.0,2.0,1.0,14.0,22.0,58.0,109.0,153.0,214.0,226.0,216.0,172.0,113.0,65.0,33.0,14.0,1.0,0.0,0.0,1.0],[0.0,1.0,5.0,7.0,19.0,49.0,89.0,145.0,166.0,201.0,169.0,146.0,108.0,72.0,30.0,13.0,4.0,3.0,1.0,0.0],[1.0,1.0,3.0,5.0,13.0,14.0,58.0,99.0,121.0,155.0,138.0,122.0,68.0,43.0,15.0,2.0,2.0,0.0,2.0,0.0],[1.0,2.0,2.0,2.0,15.0,21.0,46.0,66.0,97.0,101.0,88.0,75.0,51.0,24.0,17.0,5.0,0.0,0.0,0.0,0.0],[0.0,0.0,3.0,2.0,7.0,18.0,17.0,47.0,47.0,58.0,54.0,39.0,43.0,18.0,5.0,6.0,0.0,1.0,0.0,0.0],[0.0,0.0,0.0,2.0,2.0,7.0,5.0,15.0,18.0,20.0,28.0,21.0,8.0,4.0,2.0,0.0,0.0,0.0,1.0,0.0],[0.0,0.0,1.0,0.0,1.0,1.0,5.0,7.0,12.0,5.0,5.0,13.0,6.0,3.0,0.0,0.0,0.0,0.0,0.0,0.0],[0.0,0.0,0.0,0.0,1.0,3.0,2.0,2.0,4.0,2.0,1.0,8.0,0.0,0.0,0.0,0.0,0.0,0.0,0.0,0.0],[0.0,0.0,0.0,0.0,0.0,0.0,0.0,1.0,2.0,3.0,0.0,0.0,0.0,0.0,0.0,0.0,0.0,0.0,0.0,0.0]],\"x\":[-3.7134216112123157,-3.3093563265780874,-2.9052910419438587,-2.50122575730963,-2.0971604726754016,-1.6930951880411735,-1.2890299034069446,-0.8849646187727164,-0.4808993341384877,-0.07683404950425916,0.32723123512996916,0.7312965197641978,1.1353618043984264,1.539427089032655,1.9434923736668834,2.347557658301112,2.7516229429353403,3.1556882275695686,3.5597535122037973,3.9638187968380256]}],\n",
       "               {\"yaxis\":{\"type\":\"-\",\"titlefont\":{\"size\":15,\"color\":\"rgba(0, 0, 0, 1.000)\",\"family\":\"Helvetica\"},\"title\":\"\",\"tickfont\":{\"size\":11,\"color\":\"rgba(0, 0, 0, 1.000)\",\"family\":\"Helvetica\"},\"tickmode\":\"array\",\"showgrid\":true,\"tickvals\":[-2.0,0.0,2.0],\"domain\":[0.057305336832895896,0.9901574803149605],\"ticktext\":[\"-2\",\"0\",\"2\"],\"zeroline\":false,\"linecolor\":\"rgba(0, 0, 0, 1.000)\",\"tickcolor\":\"rgba(0, 0, 0, 1.000)\",\"anchor\":\"x\"},\"annotations\":[],\"width\":600,\"plot_bgcolor\":\"rgba(255, 255, 255, 1.000)\",\"showlegend\":true,\"legend\":{\"bgcolor\":\"rgba(255, 255, 255, 1.000)\",\"font\":{\"size\":11,\"color\":\"rgba(0, 0, 0, 1.000)\",\"family\":\"Helvetica\"},\"bordercolor\":\"rgba(0, 0, 0, 1.000)\"},\"xaxis\":{\"type\":\"-\",\"titlefont\":{\"size\":15,\"color\":\"rgba(0, 0, 0, 1.000)\",\"family\":\"Helvetica\"},\"title\":\"\",\"tickfont\":{\"size\":11,\"color\":\"rgba(0, 0, 0, 1.000)\",\"family\":\"Helvetica\"},\"tickmode\":\"array\",\"showgrid\":true,\"tickvals\":[-2.0,0.0,2.0],\"domain\":[0.05905511811023622,0.9934383202099738],\"ticktext\":[\"-2\",\"0\",\"2\"],\"zeroline\":false,\"linecolor\":\"rgba(0, 0, 0, 1.000)\",\"tickcolor\":\"rgba(0, 0, 0, 1.000)\",\"anchor\":\"y\"},\"paper_bgcolor\":\"rgba(255, 255, 255, 1.000)\",\"margin\":{\"r\":0,\"l\":0,\"b\":0,\"t\":20},\"height\":400}, {showLink: false});\n",
       "\n",
       " </script>\n",
       "\n",
       "</body>\n",
       "</html>\n"
      ]
     },
     "execution_count": 7,
     "metadata": {},
     "output_type": "execute_result"
    }
   ],
   "source": [
    "histogram2d(randn(10000),randn(10000),nbins=20)"
   ]
  },
  {
   "cell_type": "markdown",
   "metadata": {},
   "source": [
    "Use layouts to put multiple plots in the same figure"
   ]
  },
  {
   "cell_type": "code",
   "execution_count": 8,
   "metadata": {
    "collapsed": false
   },
   "outputs": [
    {
     "data": {
      "text/html": [
       "<html>\n",
       "<head>\n",
       "     <script src=\"/home/tim/.julia/v0.4/PlotlyJS/deps/plotly-latest.min.js\"></script>\n",
       "</head>\n",
       "<body>\n",
       "     <div id=\"d0d8b685-9e95-44d3-80c7-cc15cd532291\" class=\"plotly-graph-div\"></div>\n",
       "\n",
       "<script>\n",
       "    window.PLOTLYENV=window.PLOTLYENV || {};\n",
       "    window.PLOTLYENV.BASE_URL=\"https://plot.ly\";\n",
       "    Plotly.newPlot('d0d8b685-9e95-44d3-80c7-cc15cd532291', [{\"yaxis\":\"y\",\"y\":[4.0,5.0,26.0,46.0,51.0,92.0,108.0,121.0,124.0,136.0,121.0,61.0,55.0,26.0,9.0,9.0,3.0,1.0,1.0,1.0],\"showlegend\":true,\"name\":\"y1\",\"type\":\"bar\",\"xaxis\":\"x\",\"orientation\":\"v\",\"x\":[-2.838071734229943,-2.499472770721714,-2.1608738072134854,-1.822274843705257,-1.4836758801970285,-1.1450769166887997,-0.8064779531805712,-0.46787898967234265,-0.12928002616411405,0.20931893734411472,0.5479179008523435,0.8865168643605721,1.2251158278688006,1.5637147913770293,1.9023137548852578,2.2409127183934863,2.579511681901715,2.9181106454099437,3.2567096089181726,3.5953085724264016,3.9339075359346296]},{\"yaxis\":\"y2\",\"y\":[0.0,0.0010069995646410138,0.004027988047107494,0.009062873544694226,0.0161112986636596,0.025172334219297984,0.036244050540241365,0.04932296663266342,0.0644033777208279,0.08147656208171271,0.10052986866399807,0.12154568775572476,0.14450030796972355,0.1693626640794672,0.19609298178637105,0.22464132735618728,0.25494607224689736,0.2869322853787169,0.3205100685779702,0.35557285396293986,0.3919956856248075,0.4296335118733833,0.46831951853596476,0.5078635382744358,0.548050575560194,0.5886394917397639,0.6293618994364737,0.6699213202435147,0.7099926641251544,0.7492220929847897,0.7872273342839845,0.8235985131828293,0.857899573171145,0.8896703553014791,0.9184294046279157,0.9436775689938062,0.9649024495822455,0.9815837543305577,0.9931995941091812,0.9992337471931781,0.9991838997651187,0.9925708487888295,0.9789486284646308,0.9579154925917547,0.9291256526119196,0.8923016351178212,0.8472470835725149,0.7938597874768201,0.7321446790254137,0.6622264934165418,0.5843617456725021,0.4989496355812248,0.4065414549216034,0.3078480394588694,0.20374478447395278,0.09527372917838521,-0.016357785260906536,-0.12978236468113635,-0.24348216598986155,-0.35580325186724543,-0.46497501686765524,-0.5691349071168965,-0.6663585323903535,-0.7546951208144156,-0.8322080934029914,-0.8970203398733719,-0.9473635617014299,-0.9816308176077664,-0.9984311665663437,-0.9966450615292715,-0.9754789124804136,-0.9345170207854158,-0.8737689000534249,-0.7937098548915098,-0.695312601728287,-0.5800676992054072,-0.4499906229450645,-0.30761348308727526,-0.15595965313048768,0.0015000373449734652,0.1609103920785359,0.3181144482829127,0.4687550900018864,0.6083943559159322,0.7326482275588542,0.8373337430839585,0.9186243314570193,0.9732083455414129,0.9984449395483076,0.9925107411664837,0.9545302686007826,0.8846827951906306,0.784278423760269,0.6557965472911017,0.5028806792347357,0.33028485836016835,0.14376847309486906,-0.05006161020727489,-0.24396033675021217,-0.43030121700009333],\"showlegend\":true,\"name\":\"sin(x^2)\",\"type\":\"scatter\",\"xaxis\":\"x2\",\"line\":{\"width\":2,\"dash\":\"solid\",\"color\":\"rgba(0, 154, 250, 1.000)\",\"shape\":\"linear\"},\"x\":[0.0,0.03173325912716963,0.06346651825433926,0.09519977738150888,0.12693303650867852,0.15866629563584814,0.19039955476301776,0.22213281389018738,0.25386607301735703,0.28559933214452665,0.3173325912716963,0.34906585039886584,0.3807991095260355,0.4125323686532052,0.44426562778037476,0.4759988869075444,0.5077321460347141,0.5394654051618837,0.5711986642890533,0.6029319234162229,0.6346651825433925,0.6663984416705622,0.6981317007977317,0.7298649599249014,0.761598219052071,0.7933314781792408,0.8250647373064104,0.8567979964335799,0.8885312555607495,0.9202645146879193,0.9519977738150888,0.9837310329422584,1.0154642920694281,1.0471975511965976,1.0789308103237674,1.1106640694509369,1.1423973285781066,1.1741305877052763,1.2058638468324459,1.2375971059596154,1.269330365086785,1.3010636242139546,1.3327968833411243,1.3645301424682938,1.3962634015954634,1.4279966607226333,1.4597299198498028,1.4914631789769726,1.523196438104142,1.5549296972313116,1.5866629563584815,1.618396215485651,1.6501294746128208,1.6818627337399903,1.7135959928671598,1.7453292519943295,1.777062511121499,1.8087957702486686,1.8405290293758385,1.872262288503008,1.9039955476301775,1.9357288067573473,1.9674620658845168,1.9991953250116867,2.0309285841388562,2.0626618432660258,2.0943951023931953,2.126128361520365,2.1578616206475347,2.1895948797747042,2.2213281389018737,2.2530613980290437,2.284794657156213,2.3165279162833827,2.3482611754105527,2.379994434537722,2.4117276936648917,2.443460952792061,2.4751942119192307,2.5069274710464007,2.53866073017357,2.5703939893007397,2.602127248427909,2.633860507555079,2.6655937666822487,2.697327025809418,2.7290602849365877,2.760793544063757,2.7925268031909267,2.824260062318097,2.8559933214452666,2.887726580572436,2.9194598396996057,2.951193098826775,2.982926357953945,3.0146596170811146,3.046392876208284,3.0781261353354537,3.109859394462623,3.1415926535897936],\"mode\":\"lines\"}],\n",
       "               {\"yaxis\":{\"type\":\"-\",\"titlefont\":{\"size\":15,\"color\":\"rgba(0, 0, 0, 1.000)\",\"family\":\"Helvetica\"},\"title\":\"\",\"tickfont\":{\"size\":11,\"color\":\"rgba(0, 0, 0, 1.000)\",\"family\":\"Helvetica\"},\"tickmode\":\"array\",\"showgrid\":true,\"tickvals\":[0.0,50.0,100.0],\"domain\":[0.057305336832895896,0.9901574803149605],\"ticktext\":[\"0\",\"50\",\"100\"],\"zeroline\":false,\"linecolor\":\"rgba(0, 0, 0, 1.000)\",\"tickcolor\":\"rgba(0, 0, 0, 1.000)\",\"anchor\":\"x\"},\"annotations\":[],\"width\":950,\"showlegend\":true,\"legend\":{\"bgcolor\":\"rgba(255, 255, 255, 1.000)\",\"font\":{\"size\":11,\"color\":\"rgba(0, 0, 0, 1.000)\",\"family\":\"Helvetica\"},\"bordercolor\":\"rgba(0, 0, 0, 1.000)\"},\"xaxis\":{\"type\":\"-\",\"titlefont\":{\"size\":15,\"color\":\"rgba(0, 0, 0, 1.000)\",\"family\":\"Helvetica\"},\"title\":\"\",\"tickfont\":{\"size\":11,\"color\":\"rgba(0, 0, 0, 1.000)\",\"family\":\"Helvetica\"},\"tickmode\":\"array\",\"showgrid\":true,\"tickvals\":[-2.5,0.0,2.5],\"domain\":[0.03729796933278077,0.4958557811852466],\"ticktext\":[\"-2.5\",\"0.0\",\"2.5\"],\"zeroline\":false,\"linecolor\":\"rgba(0, 0, 0, 1.000)\",\"tickcolor\":\"rgba(0, 0, 0, 1.000)\",\"anchor\":\"y\"},\"yaxis2\":{\"type\":\"-\",\"titlefont\":{\"size\":15,\"color\":\"rgba(0, 0, 0, 1.000)\",\"family\":\"Helvetica\"},\"title\":\"\",\"tickfont\":{\"size\":11,\"color\":\"rgba(0, 0, 0, 1.000)\",\"family\":\"Helvetica\"},\"tickmode\":\"array\",\"showgrid\":true,\"tickvals\":[-0.5,0.0,0.5],\"domain\":[0.057305336832895896,0.9901574803149605],\"ticktext\":[\"-0.5\",\"0.0\",\"0.5\"],\"zeroline\":false,\"linecolor\":\"rgba(0, 0, 0, 1.000)\",\"tickcolor\":\"rgba(0, 0, 0, 1.000)\",\"anchor\":\"x2\"},\"xaxis2\":{\"type\":\"-\",\"titlefont\":{\"size\":15,\"color\":\"rgba(0, 0, 0, 1.000)\",\"family\":\"Helvetica\"},\"title\":\"\",\"tickfont\":{\"size\":11,\"color\":\"rgba(0, 0, 0, 1.000)\",\"family\":\"Helvetica\"},\"tickmode\":\"array\",\"showgrid\":true,\"tickvals\":[0.0,1.0,2.0,3.0],\"domain\":[0.5372979693327807,0.9958557811852465],\"ticktext\":[\"0\",\"1\",\"2\",\"3\"],\"zeroline\":false,\"linecolor\":\"rgba(0, 0, 0, 1.000)\",\"tickcolor\":\"rgba(0, 0, 0, 1.000)\",\"anchor\":\"y2\"},\"margin\":{\"r\":0,\"l\":0,\"b\":0,\"t\":20},\"height\":400,\"plot_bgcolor\":\"rgba(255, 255, 255, 1.000)\",\"paper_bgcolor\":\"rgba(255, 255, 255, 1.000)\"}, {showLink: false});\n",
       "\n",
       " </script>\n",
       "\n",
       "</body>\n",
       "</html>\n"
      ]
     },
     "execution_count": 8,
     "metadata": {},
     "output_type": "execute_result"
    }
   ],
   "source": [
    "p1 = histogram(randn(1000),nbins=20)\n",
    "p2 = plot(x->sin(x^2), 0, π, line=2, lab=\"sin(x^2)\")\n",
    "plot(p1, p2, layout=2, size=(950, 400))"
   ]
  },
  {
   "cell_type": "markdown",
   "metadata": {},
   "source": [
    "### Data Visualization\n",
    "\n",
    "Data visualization is more general than plotting, and often involves interaction and more general graphics libraries.\n",
    "\n",
    "This class uses Reactive, Interact, and Cairo behind the scenes."
   ]
  },
  {
   "cell_type": "code",
   "execution_count": 10,
   "metadata": {
    "collapsed": false
   },
   "outputs": [
    {
     "data": {
      "text/html": [],
      "text/plain": [
       "Interact.Slider{Float64}(Signal{Float64}(0.4897959183673469, nactions=0),\"r\",0.4897959183673469,linspace(0.0,1.0,50),\".3f\",true)"
      ]
     },
     "metadata": {},
     "output_type": "display_data"
    },
    {
     "data": {
      "text/html": [],
      "text/plain": [
       "Interact.Slider{Float64}(Signal{Float64}(0.4897959183673469, nactions=0),\"g\",0.4897959183673469,linspace(0.0,1.0,50),\".3f\",true)"
      ]
     },
     "metadata": {},
     "output_type": "display_data"
    },
    {
     "data": {
      "text/html": [],
      "text/plain": [
       "Interact.Slider{Float64}(Signal{Float64}(0.4897959183673469, nactions=0),\"b\",0.4897959183673469,linspace(0.0,1.0,50),\".3f\",true)"
      ]
     },
     "metadata": {},
     "output_type": "display_data"
    },
    {
     "data": {
      "image/svg+xml": [
       "<?xml version\"1.0\" encoding=\"UTF-8\"?>\n",
       "<!DOCTYPE svg PUBLIC \"-//W3C//DTD SVG 1.1//EN\"\n",
       " \"http://www.w3.org/Graphics/SVG/1.1/DTD/svg11.dtd\">\n",
       "<svg xmlns=\"http://www.w3.org/2000/svg\" version=\"1.1\"\n",
       "     width=\"25mm\" height=\"25mm\" viewBox=\"0 0 1 1\">\n",
       "     <rect width=\"1\" height=\"1\"\n",
       "           fill=\"#7D7D7D\" stroke=\"none\"/>\n",
       "</svg>\n"
      ],
      "text/plain": [
       "RGB{Float64}(0.4897959183673469,0.4897959183673469,0.4897959183673469)"
      ]
     },
     "execution_count": 10,
     "metadata": {
      "comm_id": "ed9115c9-078a-4f9a-870d-f2f24006149b",
      "reactive": true
     },
     "output_type": "execute_result"
    }
   ],
   "source": [
    "using Interact\n",
    "using Colors\n",
    "\n",
    "@manipulate for r in linspace(0,1), g in linspace(0,1), b in linspace(0,1)\n",
    "    RGB(r, g, b)\n",
    "end"
   ]
  },
  {
   "cell_type": "code",
   "execution_count": 12,
   "metadata": {
    "collapsed": false
   },
   "outputs": [
    {
     "data": {
      "text/html": [],
      "text/plain": [
       "Interact.Slider{Float64}(Signal{Float64}(176.3265306122449, nactions=0),\"h\",176.3265306122449,linspace(0.0,360.0,50),\".3f\",true)"
      ]
     },
     "metadata": {},
     "output_type": "display_data"
    },
    {
     "data": {
      "text/html": [],
      "text/plain": [
       "Interact.Slider{Float64}(Signal{Float64}(0.4897959183673469, nactions=0),\"s\",0.4897959183673469,linspace(0.0,1.0,50),\".3f\",true)"
      ]
     },
     "metadata": {},
     "output_type": "display_data"
    },
    {
     "data": {
      "text/html": [],
      "text/plain": [
       "Interact.Slider{Float64}(Signal{Float64}(0.4897959183673469, nactions=0),\"v\",0.4897959183673469,linspace(0.0,1.0,50),\".3f\",true)"
      ]
     },
     "metadata": {},
     "output_type": "display_data"
    },
    {
     "data": {
      "image/svg+xml": [
       "<?xml version\"1.0\" encoding=\"UTF-8\"?>\n",
       "<!DOCTYPE svg PUBLIC \"-//W3C//DTD SVG 1.1//EN\"\n",
       " \"http://www.w3.org/Graphics/SVG/1.1/DTD/svg11.dtd\">\n",
       "<svg xmlns=\"http://www.w3.org/2000/svg\" version=\"1.1\"\n",
       "     width=\"25mm\" height=\"25mm\" viewBox=\"0 0 1 1\">\n",
       "     <rect width=\"1\" height=\"1\"\n",
       "           fill=\"#407D79\" stroke=\"none\"/>\n",
       "</svg>\n"
      ],
      "text/plain": [
       "HSV{Float64}(176.3265306122449,0.4897959183673469,0.4897959183673469)"
      ]
     },
     "execution_count": 12,
     "metadata": {
      "comm_id": "7225eb2f-0a2e-46fa-90a6-b932ea6c3f1c",
      "reactive": true
     },
     "output_type": "execute_result"
    }
   ],
   "source": [
    "@manipulate for h in linspace(0,360), s in linspace(0,1), v in linspace(0,1)\n",
    "    HSV(h, s, v)\n",
    "end"
   ]
  },
  {
   "cell_type": "code",
   "execution_count": 14,
   "metadata": {
    "collapsed": false
   },
   "outputs": [
    {
     "data": {
      "text/html": [
       "<html>\n",
       "<head>\n",
       "     <script src=\"/home/tim/.julia/v0.4/PlotlyJS/deps/plotly-latest.min.js\"></script>\n",
       "</head>\n",
       "<body>\n",
       "     <div id=\"ea482448-80cb-48de-91a1-d80204195699\" class=\"plotly-graph-div\"></div>\n",
       "\n",
       "<script>\n",
       "    window.PLOTLYENV=window.PLOTLYENV || {};\n",
       "    window.PLOTLYENV.BASE_URL=\"https://plot.ly\";\n",
       "    Plotly.newPlot('ea482448-80cb-48de-91a1-d80204195699', [{\"yaxis\":\"y\",\"y\":[0.0,0.0010069995646410138,0.004027988047107494,0.009062873544694226,0.0161112986636596,0.025172334219297984,0.036244050540241365,0.04932296663266342,0.0644033777208279,0.08147656208171271,0.10052986866399807,0.12154568775572476,0.14450030796972355,0.1693626640794672,0.19609298178637105,0.22464132735618728,0.25494607224689736,0.2869322853787169,0.3205100685779702,0.35557285396293986,0.3919956856248075,0.4296335118733833,0.46831951853596476,0.5078635382744358,0.548050575560194,0.5886394917397639,0.6293618994364737,0.6699213202435147,0.7099926641251544,0.7492220929847897,0.7872273342839845,0.8235985131828293,0.857899573171145,0.8896703553014791,0.9184294046279157,0.9436775689938062,0.9649024495822455,0.9815837543305577,0.9931995941091812,0.9992337471931781,0.9991838997651187,0.9925708487888295,0.9789486284646308,0.9579154925917547,0.9291256526119196,0.8923016351178212,0.8472470835725149,0.7938597874768201,0.7321446790254137,0.6622264934165418,0.5843617456725021,0.4989496355812248,0.4065414549216034,0.3078480394588694,0.20374478447395278,0.09527372917838521,-0.016357785260906536,-0.12978236468113635,-0.24348216598986155,-0.35580325186724543,-0.46497501686765524,-0.5691349071168965,-0.6663585323903535,-0.7546951208144156,-0.8322080934029914,-0.8970203398733719,-0.9473635617014299,-0.9816308176077664,-0.9984311665663437,-0.9966450615292715,-0.9754789124804136,-0.9345170207854158,-0.8737689000534249,-0.7937098548915098,-0.695312601728287,-0.5800676992054072,-0.4499906229450645,-0.30761348308727526,-0.15595965313048768,0.0015000373449734652,0.1609103920785359,0.3181144482829127,0.4687550900018864,0.6083943559159322,0.7326482275588542,0.8373337430839585,0.9186243314570193,0.9732083455414129,0.9984449395483076,0.9925107411664837,0.9545302686007826,0.8846827951906306,0.784278423760269,0.6557965472911017,0.5028806792347357,0.33028485836016835,0.14376847309486906,-0.05006161020727489,-0.24396033675021217,-0.43030121700009333],\"showlegend\":true,\"name\":\"y1\",\"type\":\"scatter\",\"xaxis\":\"x\",\"line\":{\"width\":2,\"dash\":\"solid\",\"color\":\"rgba(191, 0, 128, 1.000)\",\"shape\":\"linear\"},\"x\":[0.0,0.03173325912716963,0.06346651825433926,0.09519977738150888,0.12693303650867852,0.15866629563584814,0.19039955476301776,0.22213281389018738,0.25386607301735703,0.28559933214452665,0.3173325912716963,0.34906585039886584,0.3807991095260355,0.4125323686532052,0.44426562778037476,0.4759988869075444,0.5077321460347141,0.5394654051618837,0.5711986642890533,0.6029319234162229,0.6346651825433925,0.6663984416705622,0.6981317007977317,0.7298649599249014,0.761598219052071,0.7933314781792408,0.8250647373064104,0.8567979964335799,0.8885312555607495,0.9202645146879193,0.9519977738150888,0.9837310329422584,1.0154642920694281,1.0471975511965976,1.0789308103237674,1.1106640694509369,1.1423973285781066,1.1741305877052763,1.2058638468324459,1.2375971059596154,1.269330365086785,1.3010636242139546,1.3327968833411243,1.3645301424682938,1.3962634015954634,1.4279966607226333,1.4597299198498028,1.4914631789769726,1.523196438104142,1.5549296972313116,1.5866629563584815,1.618396215485651,1.6501294746128208,1.6818627337399903,1.7135959928671598,1.7453292519943295,1.777062511121499,1.8087957702486686,1.8405290293758385,1.872262288503008,1.9039955476301775,1.9357288067573473,1.9674620658845168,1.9991953250116867,2.0309285841388562,2.0626618432660258,2.0943951023931953,2.126128361520365,2.1578616206475347,2.1895948797747042,2.2213281389018737,2.2530613980290437,2.284794657156213,2.3165279162833827,2.3482611754105527,2.379994434537722,2.4117276936648917,2.443460952792061,2.4751942119192307,2.5069274710464007,2.53866073017357,2.5703939893007397,2.602127248427909,2.633860507555079,2.6655937666822487,2.697327025809418,2.7290602849365877,2.760793544063757,2.7925268031909267,2.824260062318097,2.8559933214452666,2.887726580572436,2.9194598396996057,2.951193098826775,2.982926357953945,3.0146596170811146,3.046392876208284,3.0781261353354537,3.109859394462623,3.1415926535897936],\"mode\":\"lines\"}],\n",
       "               {\"yaxis\":{\"type\":\"-\",\"titlefont\":{\"size\":15,\"color\":\"rgba(0, 0, 0, 1.000)\",\"family\":\"Helvetica\"},\"title\":\"\",\"tickfont\":{\"size\":11,\"color\":\"rgba(0, 0, 0, 1.000)\",\"family\":\"Helvetica\"},\"tickmode\":\"array\",\"showgrid\":true,\"tickvals\":[-0.5,0.0,0.5],\"domain\":[0.057305336832895896,0.9901574803149605],\"ticktext\":[\"-0.5\",\"0.0\",\"0.5\"],\"zeroline\":false,\"linecolor\":\"rgba(0, 0, 0, 1.000)\",\"tickcolor\":\"rgba(0, 0, 0, 1.000)\",\"anchor\":\"x\"},\"annotations\":[],\"width\":600,\"plot_bgcolor\":\"rgba(255, 255, 255, 1.000)\",\"showlegend\":true,\"legend\":{\"bgcolor\":\"rgba(255, 255, 255, 1.000)\",\"font\":{\"size\":11,\"color\":\"rgba(0, 0, 0, 1.000)\",\"family\":\"Helvetica\"},\"bordercolor\":\"rgba(0, 0, 0, 1.000)\"},\"xaxis\":{\"type\":\"-\",\"titlefont\":{\"size\":15,\"color\":\"rgba(0, 0, 0, 1.000)\",\"family\":\"Helvetica\"},\"title\":\"\",\"tickfont\":{\"size\":11,\"color\":\"rgba(0, 0, 0, 1.000)\",\"family\":\"Helvetica\"},\"tickmode\":\"array\",\"showgrid\":true,\"tickvals\":[0.0,1.0,2.0,3.0],\"domain\":[0.05905511811023622,0.9934383202099738],\"ticktext\":[\"0\",\"1\",\"2\",\"3\"],\"zeroline\":false,\"linecolor\":\"rgba(0, 0, 0, 1.000)\",\"tickcolor\":\"rgba(0, 0, 0, 1.000)\",\"anchor\":\"y\"},\"paper_bgcolor\":\"rgba(255, 255, 255, 1.000)\",\"margin\":{\"r\":0,\"l\":0,\"b\":0,\"t\":20},\"height\":400}, {showLink: false});\n",
       "\n",
       " </script>\n",
       "\n",
       "</body>\n",
       "</html>\n"
      ]
     },
     "execution_count": 14,
     "metadata": {},
     "output_type": "execute_result"
    }
   ],
   "source": [
    "plot(x->sin(x^2), 0, π, line=2, color=RGB(0.75, 0.0, 0.5))"
   ]
  },
  {
   "cell_type": "markdown",
   "metadata": {},
   "source": [
    "We will see examples of Reactive later in the class. Feel free to dig into the class source code to see how Cairo works.\n",
    "\n",
    "The CrossfilterCharts module gives you interactive filtered charts for DataFrames."
   ]
  },
  {
   "cell_type": "code",
   "execution_count": 18,
   "metadata": {
    "collapsed": false
   },
   "outputs": [
    {
     "data": {
      "text/html": [
       "<table class=\"data-frame\"><tr><th></th><th>SepalLength</th><th>SepalWidth</th><th>PetalLength</th><th>PetalWidth</th><th>Species</th></tr><tr><th>1</th><td>5.1</td><td>3.5</td><td>1.4</td><td>0.2</td><td>setosa</td></tr><tr><th>2</th><td>4.9</td><td>3.0</td><td>1.4</td><td>0.2</td><td>setosa</td></tr><tr><th>3</th><td>4.7</td><td>3.2</td><td>1.3</td><td>0.2</td><td>setosa</td></tr><tr><th>4</th><td>4.6</td><td>3.1</td><td>1.5</td><td>0.2</td><td>setosa</td></tr><tr><th>5</th><td>5.0</td><td>3.6</td><td>1.4</td><td>0.2</td><td>setosa</td></tr></table>"
      ],
      "text/plain": [
       "5×5 DataFrames.DataFrame\n",
       "│ Row │ SepalLength │ SepalWidth │ PetalLength │ PetalWidth │ Species  │\n",
       "├─────┼─────────────┼────────────┼─────────────┼────────────┼──────────┤\n",
       "│ 1   │ 5.1         │ 3.5        │ 1.4         │ 0.2        │ \"setosa\" │\n",
       "│ 2   │ 4.9         │ 3.0        │ 1.4         │ 0.2        │ \"setosa\" │\n",
       "│ 3   │ 4.7         │ 3.2        │ 1.3         │ 0.2        │ \"setosa\" │\n",
       "│ 4   │ 4.6         │ 3.1        │ 1.5         │ 0.2        │ \"setosa\" │\n",
       "│ 5   │ 5.0         │ 3.6        │ 1.4         │ 0.2        │ \"setosa\" │"
      ]
     },
     "execution_count": 18,
     "metadata": {},
     "output_type": "execute_result"
    }
   ],
   "source": [
    "using CrossfilterCharts\n",
    "using RDatasets\n",
    "iris = dataset(\"datasets\", \"iris\")\n",
    "iris[1:5, :]"
   ]
  },
  {
   "cell_type": "code",
   "execution_count": 19,
   "metadata": {
    "collapsed": false
   },
   "outputs": [
    {
     "data": {
      "text/html": [
       "<div style=\"width:975px; height: 565px; overflow-y: auto;\">\t<link href=\"https://cdnjs.cloudflare.com/ajax/libs/dc/1.7.5/dc.css\" rel=\"stylesheet\">\n",
       "\t<style>\n",
       "    .fake-link {\n",
       "      color: #337ab7;\n",
       "      text-decoration: underline;\n",
       "      cursor: pointer;\n",
       "      font-size: 12px;\n",
       "    }\n",
       "    .button-label {\n",
       "      color: #337ab7;\n",
       "      text-decoration: underline;\n",
       "      cursor: pointer;\n",
       "      margin-right: 20px;\n",
       "    }\n",
       "  \t</style>\n",
       "\t<body>\n",
       "  <div id=\"reset_all_well_193071\"style=\"width: 100%; text-align: right;\">&nbsp</div>\n",
       "    <div style=\"float:left;\">\n",
       "    <h3 id=\"heading_chart_958860\">Chart for SepalLength </h3>\n",
       "    <div id=\"chart_958860\"></div>\n",
       "  </div>\n",
       "  <div style=\"float:left;\">\n",
       "    <h3 id=\"heading_chart_477077\">Chart for SepalWidth </h3>\n",
       "    <div id=\"chart_477077\"></div>\n",
       "  </div>\n",
       "  <div style=\"float:left;\">\n",
       "    <h3 id=\"heading_chart_484410\">Chart for PetalLength </h3>\n",
       "    <div id=\"chart_484410\"></div>\n",
       "  </div>\n",
       "  <div style=\"float:left;\">\n",
       "    <h3 id=\"heading_chart_644654\">Chart for PetalWidth </h3>\n",
       "    <div id=\"chart_644654\"></div>\n",
       "  </div>\n",
       "  <div style=\"float:left;\">\n",
       "    <h3 id=\"heading_chart_237182\">Chart for Species </h3>\n",
       "    <div id=\"chart_237182\"></div>\n",
       "  </div>\n",
       "\t<div style=\"clear:both; height: 1px\"></div>\n",
       "  </body>\n",
       "<script type=\"text/javascript\">\n",
       "require.config({paths: { \"d3\": \"https://cdnjs.cloudflare.com/ajax/libs/d3/3.5.17/d3.min\" ,\n",
       " \"crossfilter\": \"https://cdnjs.cloudflare.com/ajax/libs/crossfilter/1.3.7/crossfilter\" ,\n",
       " \"dc\": \"https://cdnjs.cloudflare.com/ajax/libs/dc/1.7.1/dc\" }});\n",
       "require([\"d3\", \"crossfilter\", \"dc\"], function(d3, unused1, dc) {\n",
       "data = [{\"SepalLength\": 5.1, \"SepalWidth\": 3.5, \"PetalLength\": 1.4, \"PetalWidth\": 0.2, \"Species\": \"setosa\"},{\"SepalLength\": 4.9, \"SepalWidth\": 3.0, \"PetalLength\": 1.4, \"PetalWidth\": 0.2, \"Species\": \"setosa\"},{\"SepalLength\": 4.7, \"SepalWidth\": 3.2, \"PetalLength\": 1.3, \"PetalWidth\": 0.2, \"Species\": \"setosa\"},{\"SepalLength\": 4.6, \"SepalWidth\": 3.1, \"PetalLength\": 1.5, \"PetalWidth\": 0.2, \"Species\": \"setosa\"},{\"SepalLength\": 5.0, \"SepalWidth\": 3.6, \"PetalLength\": 1.4, \"PetalWidth\": 0.2, \"Species\": \"setosa\"},{\"SepalLength\": 5.4, \"SepalWidth\": 3.9, \"PetalLength\": 1.7, \"PetalWidth\": 0.4, \"Species\": \"setosa\"},{\"SepalLength\": 4.6, \"SepalWidth\": 3.4, \"PetalLength\": 1.4, \"PetalWidth\": 0.3, \"Species\": \"setosa\"},{\"SepalLength\": 5.0, \"SepalWidth\": 3.4, \"PetalLength\": 1.5, \"PetalWidth\": 0.2, \"Species\": \"setosa\"},{\"SepalLength\": 4.4, \"SepalWidth\": 2.9, \"PetalLength\": 1.4, \"PetalWidth\": 0.2, \"Species\": \"setosa\"},{\"SepalLength\": 4.9, \"SepalWidth\": 3.1, \"PetalLength\": 1.5, \"PetalWidth\": 0.1, \"Species\": \"setosa\"},{\"SepalLength\": 5.4, \"SepalWidth\": 3.7, \"PetalLength\": 1.5, \"PetalWidth\": 0.2, \"Species\": \"setosa\"},{\"SepalLength\": 4.8, \"SepalWidth\": 3.4, \"PetalLength\": 1.6, \"PetalWidth\": 0.2, \"Species\": \"setosa\"},{\"SepalLength\": 4.8, \"SepalWidth\": 3.0, \"PetalLength\": 1.4, \"PetalWidth\": 0.1, \"Species\": \"setosa\"},{\"SepalLength\": 4.3, \"SepalWidth\": 3.0, \"PetalLength\": 1.1, \"PetalWidth\": 0.1, \"Species\": \"setosa\"},{\"SepalLength\": 5.8, \"SepalWidth\": 4.0, \"PetalLength\": 1.2, \"PetalWidth\": 0.2, \"Species\": \"setosa\"},{\"SepalLength\": 5.7, \"SepalWidth\": 4.4, \"PetalLength\": 1.5, \"PetalWidth\": 0.4, \"Species\": \"setosa\"},{\"SepalLength\": 5.4, \"SepalWidth\": 3.9, \"PetalLength\": 1.3, \"PetalWidth\": 0.4, \"Species\": \"setosa\"},{\"SepalLength\": 5.1, \"SepalWidth\": 3.5, \"PetalLength\": 1.4, \"PetalWidth\": 0.3, \"Species\": \"setosa\"},{\"SepalLength\": 5.7, \"SepalWidth\": 3.8, \"PetalLength\": 1.7, \"PetalWidth\": 0.3, \"Species\": \"setosa\"},{\"SepalLength\": 5.1, \"SepalWidth\": 3.8, \"PetalLength\": 1.5, \"PetalWidth\": 0.3, \"Species\": \"setosa\"},{\"SepalLength\": 5.4, \"SepalWidth\": 3.4, \"PetalLength\": 1.7, \"PetalWidth\": 0.2, \"Species\": \"setosa\"},{\"SepalLength\": 5.1, \"SepalWidth\": 3.7, \"PetalLength\": 1.5, \"PetalWidth\": 0.4, \"Species\": \"setosa\"},{\"SepalLength\": 4.6, \"SepalWidth\": 3.6, \"PetalLength\": 1.0, \"PetalWidth\": 0.2, \"Species\": \"setosa\"},{\"SepalLength\": 5.1, \"SepalWidth\": 3.3, \"PetalLength\": 1.7, \"PetalWidth\": 0.5, \"Species\": \"setosa\"},{\"SepalLength\": 4.8, \"SepalWidth\": 3.4, \"PetalLength\": 1.9, \"PetalWidth\": 0.2, \"Species\": \"setosa\"},{\"SepalLength\": 5.0, \"SepalWidth\": 3.0, \"PetalLength\": 1.6, \"PetalWidth\": 0.2, \"Species\": \"setosa\"},{\"SepalLength\": 5.0, \"SepalWidth\": 3.4, \"PetalLength\": 1.6, \"PetalWidth\": 0.4, \"Species\": \"setosa\"},{\"SepalLength\": 5.2, \"SepalWidth\": 3.5, \"PetalLength\": 1.5, \"PetalWidth\": 0.2, \"Species\": \"setosa\"},{\"SepalLength\": 5.2, \"SepalWidth\": 3.4, \"PetalLength\": 1.4, \"PetalWidth\": 0.2, \"Species\": \"setosa\"},{\"SepalLength\": 4.7, \"SepalWidth\": 3.2, \"PetalLength\": 1.6, \"PetalWidth\": 0.2, \"Species\": \"setosa\"},{\"SepalLength\": 4.8, \"SepalWidth\": 3.1, \"PetalLength\": 1.6, \"PetalWidth\": 0.2, \"Species\": \"setosa\"},{\"SepalLength\": 5.4, \"SepalWidth\": 3.4, \"PetalLength\": 1.5, \"PetalWidth\": 0.4, \"Species\": \"setosa\"},{\"SepalLength\": 5.2, \"SepalWidth\": 4.1, \"PetalLength\": 1.5, \"PetalWidth\": 0.1, \"Species\": \"setosa\"},{\"SepalLength\": 5.5, \"SepalWidth\": 4.2, \"PetalLength\": 1.4, \"PetalWidth\": 0.2, \"Species\": \"setosa\"},{\"SepalLength\": 4.9, \"SepalWidth\": 3.1, \"PetalLength\": 1.5, \"PetalWidth\": 0.2, \"Species\": \"setosa\"},{\"SepalLength\": 5.0, \"SepalWidth\": 3.2, \"PetalLength\": 1.2, \"PetalWidth\": 0.2, \"Species\": \"setosa\"},{\"SepalLength\": 5.5, \"SepalWidth\": 3.5, \"PetalLength\": 1.3, \"PetalWidth\": 0.2, \"Species\": \"setosa\"},{\"SepalLength\": 4.9, \"SepalWidth\": 3.6, \"PetalLength\": 1.4, \"PetalWidth\": 0.1, \"Species\": \"setosa\"},{\"SepalLength\": 4.4, \"SepalWidth\": 3.0, \"PetalLength\": 1.3, \"PetalWidth\": 0.2, \"Species\": \"setosa\"},{\"SepalLength\": 5.1, \"SepalWidth\": 3.4, \"PetalLength\": 1.5, \"PetalWidth\": 0.2, \"Species\": \"setosa\"},{\"SepalLength\": 5.0, \"SepalWidth\": 3.5, \"PetalLength\": 1.3, \"PetalWidth\": 0.3, \"Species\": \"setosa\"},{\"SepalLength\": 4.5, \"SepalWidth\": 2.3, \"PetalLength\": 1.3, \"PetalWidth\": 0.3, \"Species\": \"setosa\"},{\"SepalLength\": 4.4, \"SepalWidth\": 3.2, \"PetalLength\": 1.3, \"PetalWidth\": 0.2, \"Species\": \"setosa\"},{\"SepalLength\": 5.0, \"SepalWidth\": 3.5, \"PetalLength\": 1.6, \"PetalWidth\": 0.6, \"Species\": \"setosa\"},{\"SepalLength\": 5.1, \"SepalWidth\": 3.8, \"PetalLength\": 1.9, \"PetalWidth\": 0.4, \"Species\": \"setosa\"},{\"SepalLength\": 4.8, \"SepalWidth\": 3.0, \"PetalLength\": 1.4, \"PetalWidth\": 0.3, \"Species\": \"setosa\"},{\"SepalLength\": 5.1, \"SepalWidth\": 3.8, \"PetalLength\": 1.6, \"PetalWidth\": 0.2, \"Species\": \"setosa\"},{\"SepalLength\": 4.6, \"SepalWidth\": 3.2, \"PetalLength\": 1.4, \"PetalWidth\": 0.2, \"Species\": \"setosa\"},{\"SepalLength\": 5.3, \"SepalWidth\": 3.7, \"PetalLength\": 1.5, \"PetalWidth\": 0.2, \"Species\": \"setosa\"},{\"SepalLength\": 5.0, \"SepalWidth\": 3.3, \"PetalLength\": 1.4, \"PetalWidth\": 0.2, \"Species\": \"setosa\"},{\"SepalLength\": 7.0, \"SepalWidth\": 3.2, \"PetalLength\": 4.7, \"PetalWidth\": 1.4, \"Species\": \"versicolor\"},{\"SepalLength\": 6.4, \"SepalWidth\": 3.2, \"PetalLength\": 4.5, \"PetalWidth\": 1.5, \"Species\": \"versicolor\"},{\"SepalLength\": 6.9, \"SepalWidth\": 3.1, \"PetalLength\": 4.9, \"PetalWidth\": 1.5, \"Species\": \"versicolor\"},{\"SepalLength\": 5.5, \"SepalWidth\": 2.3, \"PetalLength\": 4.0, \"PetalWidth\": 1.3, \"Species\": \"versicolor\"},{\"SepalLength\": 6.5, \"SepalWidth\": 2.8, \"PetalLength\": 4.6, \"PetalWidth\": 1.5, \"Species\": \"versicolor\"},{\"SepalLength\": 5.7, \"SepalWidth\": 2.8, \"PetalLength\": 4.5, \"PetalWidth\": 1.3, \"Species\": \"versicolor\"},{\"SepalLength\": 6.3, \"SepalWidth\": 3.3, \"PetalLength\": 4.7, \"PetalWidth\": 1.6, \"Species\": \"versicolor\"},{\"SepalLength\": 4.9, \"SepalWidth\": 2.4, \"PetalLength\": 3.3, \"PetalWidth\": 1.0, \"Species\": \"versicolor\"},{\"SepalLength\": 6.6, \"SepalWidth\": 2.9, \"PetalLength\": 4.6, \"PetalWidth\": 1.3, \"Species\": \"versicolor\"},{\"SepalLength\": 5.2, \"SepalWidth\": 2.7, \"PetalLength\": 3.9, \"PetalWidth\": 1.4, \"Species\": \"versicolor\"},{\"SepalLength\": 5.0, \"SepalWidth\": 2.0, \"PetalLength\": 3.5, \"PetalWidth\": 1.0, \"Species\": \"versicolor\"},{\"SepalLength\": 5.9, \"SepalWidth\": 3.0, \"PetalLength\": 4.2, \"PetalWidth\": 1.5, \"Species\": \"versicolor\"},{\"SepalLength\": 6.0, \"SepalWidth\": 2.2, \"PetalLength\": 4.0, \"PetalWidth\": 1.0, \"Species\": \"versicolor\"},{\"SepalLength\": 6.1, \"SepalWidth\": 2.9, \"PetalLength\": 4.7, \"PetalWidth\": 1.4, \"Species\": \"versicolor\"},{\"SepalLength\": 5.6, \"SepalWidth\": 2.9, \"PetalLength\": 3.6, \"PetalWidth\": 1.3, \"Species\": \"versicolor\"},{\"SepalLength\": 6.7, \"SepalWidth\": 3.1, \"PetalLength\": 4.4, \"PetalWidth\": 1.4, \"Species\": \"versicolor\"},{\"SepalLength\": 5.6, \"SepalWidth\": 3.0, \"PetalLength\": 4.5, \"PetalWidth\": 1.5, \"Species\": \"versicolor\"},{\"SepalLength\": 5.8, \"SepalWidth\": 2.7, \"PetalLength\": 4.1, \"PetalWidth\": 1.0, \"Species\": \"versicolor\"},{\"SepalLength\": 6.2, \"SepalWidth\": 2.2, \"PetalLength\": 4.5, \"PetalWidth\": 1.5, \"Species\": \"versicolor\"},{\"SepalLength\": 5.6, \"SepalWidth\": 2.5, \"PetalLength\": 3.9, \"PetalWidth\": 1.1, \"Species\": \"versicolor\"},{\"SepalLength\": 5.9, \"SepalWidth\": 3.2, \"PetalLength\": 4.8, \"PetalWidth\": 1.8, \"Species\": \"versicolor\"},{\"SepalLength\": 6.1, \"SepalWidth\": 2.8, \"PetalLength\": 4.0, \"PetalWidth\": 1.3, \"Species\": \"versicolor\"},{\"SepalLength\": 6.3, \"SepalWidth\": 2.5, \"PetalLength\": 4.9, \"PetalWidth\": 1.5, \"Species\": \"versicolor\"},{\"SepalLength\": 6.1, \"SepalWidth\": 2.8, \"PetalLength\": 4.7, \"PetalWidth\": 1.2, \"Species\": \"versicolor\"},{\"SepalLength\": 6.4, \"SepalWidth\": 2.9, \"PetalLength\": 4.3, \"PetalWidth\": 1.3, \"Species\": \"versicolor\"},{\"SepalLength\": 6.6, \"SepalWidth\": 3.0, \"PetalLength\": 4.4, \"PetalWidth\": 1.4, \"Species\": \"versicolor\"},{\"SepalLength\": 6.8, \"SepalWidth\": 2.8, \"PetalLength\": 4.8, \"PetalWidth\": 1.4, \"Species\": \"versicolor\"},{\"SepalLength\": 6.7, \"SepalWidth\": 3.0, \"PetalLength\": 5.0, \"PetalWidth\": 1.7, \"Species\": \"versicolor\"},{\"SepalLength\": 6.0, \"SepalWidth\": 2.9, \"PetalLength\": 4.5, \"PetalWidth\": 1.5, \"Species\": \"versicolor\"},{\"SepalLength\": 5.7, \"SepalWidth\": 2.6, \"PetalLength\": 3.5, \"PetalWidth\": 1.0, \"Species\": \"versicolor\"},{\"SepalLength\": 5.5, \"SepalWidth\": 2.4, \"PetalLength\": 3.8, \"PetalWidth\": 1.1, \"Species\": \"versicolor\"},{\"SepalLength\": 5.5, \"SepalWidth\": 2.4, \"PetalLength\": 3.7, \"PetalWidth\": 1.0, \"Species\": \"versicolor\"},{\"SepalLength\": 5.8, \"SepalWidth\": 2.7, \"PetalLength\": 3.9, \"PetalWidth\": 1.2, \"Species\": \"versicolor\"},{\"SepalLength\": 6.0, \"SepalWidth\": 2.7, \"PetalLength\": 5.1, \"PetalWidth\": 1.6, \"Species\": \"versicolor\"},{\"SepalLength\": 5.4, \"SepalWidth\": 3.0, \"PetalLength\": 4.5, \"PetalWidth\": 1.5, \"Species\": \"versicolor\"},{\"SepalLength\": 6.0, \"SepalWidth\": 3.4, \"PetalLength\": 4.5, \"PetalWidth\": 1.6, \"Species\": \"versicolor\"},{\"SepalLength\": 6.7, \"SepalWidth\": 3.1, \"PetalLength\": 4.7, \"PetalWidth\": 1.5, \"Species\": \"versicolor\"},{\"SepalLength\": 6.3, \"SepalWidth\": 2.3, \"PetalLength\": 4.4, \"PetalWidth\": 1.3, \"Species\": \"versicolor\"},{\"SepalLength\": 5.6, \"SepalWidth\": 3.0, \"PetalLength\": 4.1, \"PetalWidth\": 1.3, \"Species\": \"versicolor\"},{\"SepalLength\": 5.5, \"SepalWidth\": 2.5, \"PetalLength\": 4.0, \"PetalWidth\": 1.3, \"Species\": \"versicolor\"},{\"SepalLength\": 5.5, \"SepalWidth\": 2.6, \"PetalLength\": 4.4, \"PetalWidth\": 1.2, \"Species\": \"versicolor\"},{\"SepalLength\": 6.1, \"SepalWidth\": 3.0, \"PetalLength\": 4.6, \"PetalWidth\": 1.4, \"Species\": \"versicolor\"},{\"SepalLength\": 5.8, \"SepalWidth\": 2.6, \"PetalLength\": 4.0, \"PetalWidth\": 1.2, \"Species\": \"versicolor\"},{\"SepalLength\": 5.0, \"SepalWidth\": 2.3, \"PetalLength\": 3.3, \"PetalWidth\": 1.0, \"Species\": \"versicolor\"},{\"SepalLength\": 5.6, \"SepalWidth\": 2.7, \"PetalLength\": 4.2, \"PetalWidth\": 1.3, \"Species\": \"versicolor\"},{\"SepalLength\": 5.7, \"SepalWidth\": 3.0, \"PetalLength\": 4.2, \"PetalWidth\": 1.2, \"Species\": \"versicolor\"},{\"SepalLength\": 5.7, \"SepalWidth\": 2.9, \"PetalLength\": 4.2, \"PetalWidth\": 1.3, \"Species\": \"versicolor\"},{\"SepalLength\": 6.2, \"SepalWidth\": 2.9, \"PetalLength\": 4.3, \"PetalWidth\": 1.3, \"Species\": \"versicolor\"},{\"SepalLength\": 5.1, \"SepalWidth\": 2.5, \"PetalLength\": 3.0, \"PetalWidth\": 1.1, \"Species\": \"versicolor\"},{\"SepalLength\": 5.7, \"SepalWidth\": 2.8, \"PetalLength\": 4.1, \"PetalWidth\": 1.3, \"Species\": \"versicolor\"},{\"SepalLength\": 6.3, \"SepalWidth\": 3.3, \"PetalLength\": 6.0, \"PetalWidth\": 2.5, \"Species\": \"virginica\"},{\"SepalLength\": 5.8, \"SepalWidth\": 2.7, \"PetalLength\": 5.1, \"PetalWidth\": 1.9, \"Species\": \"virginica\"},{\"SepalLength\": 7.1, \"SepalWidth\": 3.0, \"PetalLength\": 5.9, \"PetalWidth\": 2.1, \"Species\": \"virginica\"},{\"SepalLength\": 6.3, \"SepalWidth\": 2.9, \"PetalLength\": 5.6, \"PetalWidth\": 1.8, \"Species\": \"virginica\"},{\"SepalLength\": 6.5, \"SepalWidth\": 3.0, \"PetalLength\": 5.8, \"PetalWidth\": 2.2, \"Species\": \"virginica\"},{\"SepalLength\": 7.6, \"SepalWidth\": 3.0, \"PetalLength\": 6.6, \"PetalWidth\": 2.1, \"Species\": \"virginica\"},{\"SepalLength\": 4.9, \"SepalWidth\": 2.5, \"PetalLength\": 4.5, \"PetalWidth\": 1.7, \"Species\": \"virginica\"},{\"SepalLength\": 7.3, \"SepalWidth\": 2.9, \"PetalLength\": 6.3, \"PetalWidth\": 1.8, \"Species\": \"virginica\"},{\"SepalLength\": 6.7, \"SepalWidth\": 2.5, \"PetalLength\": 5.8, \"PetalWidth\": 1.8, \"Species\": \"virginica\"},{\"SepalLength\": 7.2, \"SepalWidth\": 3.6, \"PetalLength\": 6.1, \"PetalWidth\": 2.5, \"Species\": \"virginica\"},{\"SepalLength\": 6.5, \"SepalWidth\": 3.2, \"PetalLength\": 5.1, \"PetalWidth\": 2.0, \"Species\": \"virginica\"},{\"SepalLength\": 6.4, \"SepalWidth\": 2.7, \"PetalLength\": 5.3, \"PetalWidth\": 1.9, \"Species\": \"virginica\"},{\"SepalLength\": 6.8, \"SepalWidth\": 3.0, \"PetalLength\": 5.5, \"PetalWidth\": 2.1, \"Species\": \"virginica\"},{\"SepalLength\": 5.7, \"SepalWidth\": 2.5, \"PetalLength\": 5.0, \"PetalWidth\": 2.0, \"Species\": \"virginica\"},{\"SepalLength\": 5.8, \"SepalWidth\": 2.8, \"PetalLength\": 5.1, \"PetalWidth\": 2.4, \"Species\": \"virginica\"},{\"SepalLength\": 6.4, \"SepalWidth\": 3.2, \"PetalLength\": 5.3, \"PetalWidth\": 2.3, \"Species\": \"virginica\"},{\"SepalLength\": 6.5, \"SepalWidth\": 3.0, \"PetalLength\": 5.5, \"PetalWidth\": 1.8, \"Species\": \"virginica\"},{\"SepalLength\": 7.7, \"SepalWidth\": 3.8, \"PetalLength\": 6.7, \"PetalWidth\": 2.2, \"Species\": \"virginica\"},{\"SepalLength\": 7.7, \"SepalWidth\": 2.6, \"PetalLength\": 6.9, \"PetalWidth\": 2.3, \"Species\": \"virginica\"},{\"SepalLength\": 6.0, \"SepalWidth\": 2.2, \"PetalLength\": 5.0, \"PetalWidth\": 1.5, \"Species\": \"virginica\"},{\"SepalLength\": 6.9, \"SepalWidth\": 3.2, \"PetalLength\": 5.7, \"PetalWidth\": 2.3, \"Species\": \"virginica\"},{\"SepalLength\": 5.6, \"SepalWidth\": 2.8, \"PetalLength\": 4.9, \"PetalWidth\": 2.0, \"Species\": \"virginica\"},{\"SepalLength\": 7.7, \"SepalWidth\": 2.8, \"PetalLength\": 6.7, \"PetalWidth\": 2.0, \"Species\": \"virginica\"},{\"SepalLength\": 6.3, \"SepalWidth\": 2.7, \"PetalLength\": 4.9, \"PetalWidth\": 1.8, \"Species\": \"virginica\"},{\"SepalLength\": 6.7, \"SepalWidth\": 3.3, \"PetalLength\": 5.7, \"PetalWidth\": 2.1, \"Species\": \"virginica\"},{\"SepalLength\": 7.2, \"SepalWidth\": 3.2, \"PetalLength\": 6.0, \"PetalWidth\": 1.8, \"Species\": \"virginica\"},{\"SepalLength\": 6.2, \"SepalWidth\": 2.8, \"PetalLength\": 4.8, \"PetalWidth\": 1.8, \"Species\": \"virginica\"},{\"SepalLength\": 6.1, \"SepalWidth\": 3.0, \"PetalLength\": 4.9, \"PetalWidth\": 1.8, \"Species\": \"virginica\"},{\"SepalLength\": 6.4, \"SepalWidth\": 2.8, \"PetalLength\": 5.6, \"PetalWidth\": 2.1, \"Species\": \"virginica\"},{\"SepalLength\": 7.2, \"SepalWidth\": 3.0, \"PetalLength\": 5.8, \"PetalWidth\": 1.6, \"Species\": \"virginica\"},{\"SepalLength\": 7.4, \"SepalWidth\": 2.8, \"PetalLength\": 6.1, \"PetalWidth\": 1.9, \"Species\": \"virginica\"},{\"SepalLength\": 7.9, \"SepalWidth\": 3.8, \"PetalLength\": 6.4, \"PetalWidth\": 2.0, \"Species\": \"virginica\"},{\"SepalLength\": 6.4, \"SepalWidth\": 2.8, \"PetalLength\": 5.6, \"PetalWidth\": 2.2, \"Species\": \"virginica\"},{\"SepalLength\": 6.3, \"SepalWidth\": 2.8, \"PetalLength\": 5.1, \"PetalWidth\": 1.5, \"Species\": \"virginica\"},{\"SepalLength\": 6.1, \"SepalWidth\": 2.6, \"PetalLength\": 5.6, \"PetalWidth\": 1.4, \"Species\": \"virginica\"},{\"SepalLength\": 7.7, \"SepalWidth\": 3.0, \"PetalLength\": 6.1, \"PetalWidth\": 2.3, \"Species\": \"virginica\"},{\"SepalLength\": 6.3, \"SepalWidth\": 3.4, \"PetalLength\": 5.6, \"PetalWidth\": 2.4, \"Species\": \"virginica\"},{\"SepalLength\": 6.4, \"SepalWidth\": 3.1, \"PetalLength\": 5.5, \"PetalWidth\": 1.8, \"Species\": \"virginica\"},{\"SepalLength\": 6.0, \"SepalWidth\": 3.0, \"PetalLength\": 4.8, \"PetalWidth\": 1.8, \"Species\": \"virginica\"},{\"SepalLength\": 6.9, \"SepalWidth\": 3.1, \"PetalLength\": 5.4, \"PetalWidth\": 2.1, \"Species\": \"virginica\"},{\"SepalLength\": 6.7, \"SepalWidth\": 3.1, \"PetalLength\": 5.6, \"PetalWidth\": 2.4, \"Species\": \"virginica\"},{\"SepalLength\": 6.9, \"SepalWidth\": 3.1, \"PetalLength\": 5.1, \"PetalWidth\": 2.3, \"Species\": \"virginica\"},{\"SepalLength\": 5.8, \"SepalWidth\": 2.7, \"PetalLength\": 5.1, \"PetalWidth\": 1.9, \"Species\": \"virginica\"},{\"SepalLength\": 6.8, \"SepalWidth\": 3.2, \"PetalLength\": 5.9, \"PetalWidth\": 2.3, \"Species\": \"virginica\"},{\"SepalLength\": 6.7, \"SepalWidth\": 3.3, \"PetalLength\": 5.7, \"PetalWidth\": 2.5, \"Species\": \"virginica\"},{\"SepalLength\": 6.7, \"SepalWidth\": 3.0, \"PetalLength\": 5.2, \"PetalWidth\": 2.3, \"Species\": \"virginica\"},{\"SepalLength\": 6.3, \"SepalWidth\": 2.5, \"PetalLength\": 5.0, \"PetalWidth\": 1.9, \"Species\": \"virginica\"},{\"SepalLength\": 6.5, \"SepalWidth\": 3.0, \"PetalLength\": 5.2, \"PetalWidth\": 2.0, \"Species\": \"virginica\"},{\"SepalLength\": 6.2, \"SepalWidth\": 3.4, \"PetalLength\": 5.4, \"PetalWidth\": 2.3, \"Species\": \"virginica\"},{\"SepalLength\": 5.9, \"SepalWidth\": 3.0, \"PetalLength\": 5.1, \"PetalWidth\": 1.8, \"Species\": \"virginica\"}];\n",
       "var cf = crossfilter(data);\n",
       "var all = cf.groupAll();\n",
       "var SepalLength = cf.dimension(function(d){return Math.round(d.SepalLength / 0.500000)*0.500000; });\n",
       "var SepalWidth = cf.dimension(function(d){return Math.round(d.SepalWidth / 0.100000)*0.100000; });\n",
       "var PetalLength = cf.dimension(function(d){return Math.round(d.PetalLength / 0.500000)*0.500000; });\n",
       "var PetalWidth = cf.dimension(function(d){return Math.round(d.PetalWidth / 0.100000)*0.100000; });\n",
       "var Species = cf.dimension(function(d){return d.Species; });\n",
       "var SepalLength_sum = SepalLength.group().reduceSum(function(d){ return d.SepalLength; });\n",
       "var SepalWidth_sum = SepalWidth.group().reduceSum(function(d){ return d.SepalWidth; });\n",
       "var PetalLength_sum = PetalLength.group().reduceSum(function(d){ return d.PetalLength; });\n",
       "var PetalWidth_sum = PetalWidth.group().reduceSum(function(d){ return d.PetalWidth; });\n",
       "var Species_count = Species.group().reduceCount();\n",
       "  var chart_958860 = dc.barChart(\"#chart_958860\")\n",
       "    .dimension(SepalLength)\n",
       "    .group(SepalLength_sum)\n",
       "    .width(300.0)\n",
       "    .height(225.0)\n",
       "    .x(d3.scale.linear().domain([4,8]))\n",
       "    .xUnits(dc.units.fp.precision(0.5))\n",
       "    .centerBar(true);\n",
       "  var chart_477077 = dc.barChart(\"#chart_477077\")\n",
       "    .dimension(SepalWidth)\n",
       "    .group(SepalWidth_sum)\n",
       "    .width(300.0)\n",
       "    .height(225.0)\n",
       "    .x(d3.scale.linear().domain([2,5]))\n",
       "    .xUnits(dc.units.fp.precision(0.1))\n",
       "    .centerBar(true);\n",
       "  var chart_484410 = dc.barChart(\"#chart_484410\")\n",
       "    .dimension(PetalLength)\n",
       "    .group(PetalLength_sum)\n",
       "    .width(300.0)\n",
       "    .height(225.0)\n",
       "    .x(d3.scale.linear().domain([1,7]))\n",
       "    .xUnits(dc.units.fp.precision(0.5))\n",
       "    .centerBar(true);\n",
       "  var chart_644654 = dc.barChart(\"#chart_644654\")\n",
       "    .dimension(PetalWidth)\n",
       "    .group(PetalWidth_sum)\n",
       "    .width(300.0)\n",
       "    .height(225.0)\n",
       "    .x(d3.scale.linear().domain([0,3]))\n",
       "    .xUnits(dc.units.fp.precision(0.1))\n",
       "    .centerBar(true);\n",
       "  var chart_237182 = dc.pieChart(\"#chart_237182\")\n",
       "    .dimension(Species)\n",
       "    .group(Species_count)\n",
       "    .width(300.0)\n",
       "    .height(225.0)\n",
       "    .slicesCap(10)\n",
       "    .radius(90.0);\n",
       "dc.renderAll();\n",
       "var charts = [chart_958860, chart_477077, chart_484410, chart_644654, chart_237182];\n",
       "var chart_names = [\"chart_958860\", \"chart_477077\", \"chart_484410\", \"chart_644654\", \"chart_237182\"];\n",
       "\n",
       "var update_reset_buttons = function(chart) {\n",
       "  var filter_in_use = false;\n",
       "  for (var i = 0; i < charts.length; i++) {\n",
       "    if (charts[i].filters().length > 0) {\n",
       "      filter_in_use = true;\n",
       "      break;\n",
       "    }\n",
       "  }\n",
       "  var idx = charts.indexOf(chart);\n",
       "  d3.select(\"#reset_all_btn_193071\").remove();\n",
       "d3.select(\"#heading_\" + chart_names[idx]).select(\".chart-reset\").remove();\n",
       "\n",
       "if (filter_in_use) {\n",
       "  d3.select(\"#reset_all_well_193071\")\n",
       ".append(\"a\")\n",
       ".attr(\"class\", \"button-label\")\n",
       ".attr(\"id\", \"reset_all_btn_193071\")\n",
       "      .text(function(d) {\n",
       "        return \"Reset All\";\n",
       "      })\n",
       "      .on(\"click\", function() {\n",
       "        for (var i = 0; i < charts.length; i++) {\n",
       "          charts[i].filter(null);\n",
       "        }\n",
       "        dc.redrawAll();\n",
       "      });\n",
       "    \n",
       "    if (chart.filters().length > 0) {\n",
       "      d3.select(\"#heading_\" + chart_names[idx])\n",
       "        .append(\"span\")\n",
       "        .attr(\"class\", \"chart-reset fake-link\")\n",
       "        .text(function(d) {\n",
       "          return \"Reset\";\n",
       "        })\n",
       "        .on(\"click\", function(d) {\n",
       "          chart.filter(null);\n",
       "          dc.redrawAll();\n",
       "        });\n",
       "    }\n",
       "  }\n",
       "};\n",
       "\n",
       "for (var i = 0; i < charts.length; i++) {\n",
       "  charts[i].on('filtered', function(chart) {\n",
       "    update_reset_buttons(chart);\n",
       "  });\n",
       "}\n",
       "\t});\n",
       "</script>\n",
       "</div>"
      ],
      "text/plain": [
       "CrossfilterCharts.DCOut(150×5 DataFrames.DataFrame\n",
       "│ Row │ SepalLength │ SepalWidth │ PetalLength │ PetalWidth │ Species     │\n",
       "├─────┼─────────────┼────────────┼─────────────┼────────────┼─────────────┤\n",
       "│ 1   │ 5.1         │ 3.5        │ 1.4         │ 0.2        │ \"setosa\"    │\n",
       "│ 2   │ 4.9         │ 3.0        │ 1.4         │ 0.2        │ \"setosa\"    │\n",
       "│ 3   │ 4.7         │ 3.2        │ 1.3         │ 0.2        │ \"setosa\"    │\n",
       "│ 4   │ 4.6         │ 3.1        │ 1.5         │ 0.2        │ \"setosa\"    │\n",
       "│ 5   │ 5.0         │ 3.6        │ 1.4         │ 0.2        │ \"setosa\"    │\n",
       "│ 6   │ 5.4         │ 3.9        │ 1.7         │ 0.4        │ \"setosa\"    │\n",
       "│ 7   │ 4.6         │ 3.4        │ 1.4         │ 0.3        │ \"setosa\"    │\n",
       "│ 8   │ 5.0         │ 3.4        │ 1.5         │ 0.2        │ \"setosa\"    │\n",
       "│ 9   │ 4.4         │ 2.9        │ 1.4         │ 0.2        │ \"setosa\"    │\n",
       "│ 10  │ 4.9         │ 3.1        │ 1.5         │ 0.1        │ \"setosa\"    │\n",
       "│ 11  │ 5.4         │ 3.7        │ 1.5         │ 0.2        │ \"setosa\"    │\n",
       "⋮\n",
       "│ 139 │ 6.0         │ 3.0        │ 4.8         │ 1.8        │ \"virginica\" │\n",
       "│ 140 │ 6.9         │ 3.1        │ 5.4         │ 2.1        │ \"virginica\" │\n",
       "│ 141 │ 6.7         │ 3.1        │ 5.6         │ 2.4        │ \"virginica\" │\n",
       "│ 142 │ 6.9         │ 3.1        │ 5.1         │ 2.3        │ \"virginica\" │\n",
       "│ 143 │ 5.8         │ 2.7        │ 5.1         │ 1.9        │ \"virginica\" │\n",
       "│ 144 │ 6.8         │ 3.2        │ 5.9         │ 2.3        │ \"virginica\" │\n",
       "│ 145 │ 6.7         │ 3.3        │ 5.7         │ 2.5        │ \"virginica\" │\n",
       "│ 146 │ 6.7         │ 3.0        │ 5.2         │ 2.3        │ \"virginica\" │\n",
       "│ 147 │ 6.3         │ 2.5        │ 5.0         │ 1.9        │ \"virginica\" │\n",
       "│ 148 │ 6.5         │ 3.0        │ 5.2         │ 2.0        │ \"virginica\" │\n",
       "│ 149 │ 6.2         │ 3.4        │ 5.4         │ 2.3        │ \"virginica\" │\n",
       "│ 150 │ 5.9         │ 3.0        │ 5.1         │ 1.8        │ \"virginica\" │,[CrossfilterCharts.Dimension(:SepalLength,\"function(d){return Math.round(d.SepalLength / 0.500000)*0.500000; }\",0.5),CrossfilterCharts.Dimension(:SepalWidth,\"function(d){return Math.round(d.SepalWidth / 0.100000)*0.100000; }\",0.1),CrossfilterCharts.Dimension(:PetalLength,\"function(d){return Math.round(d.PetalLength / 0.500000)*0.500000; }\",0.5),CrossfilterCharts.Dimension(:PetalWidth,\"function(d){return Math.round(d.PetalWidth / 0.100000)*0.100000; }\",0.1),CrossfilterCharts.Dimension(:Species,\"function(d){return d.Species; }\",NaN)],[CrossfilterCharts.Group(CrossfilterCharts.Dimension(:SepalLength,\"function(d){return Math.round(d.SepalLength / 0.500000)*0.500000; }\",0.5),\"SepalLength_sum\",\"reduceSum(function(d){ return d.SepalLength; })\"),CrossfilterCharts.Group(CrossfilterCharts.Dimension(:SepalWidth,\"function(d){return Math.round(d.SepalWidth / 0.100000)*0.100000; }\",0.1),\"SepalWidth_sum\",\"reduceSum(function(d){ return d.SepalWidth; })\"),CrossfilterCharts.Group(CrossfilterCharts.Dimension(:PetalLength,\"function(d){return Math.round(d.PetalLength / 0.500000)*0.500000; }\",0.5),\"PetalLength_sum\",\"reduceSum(function(d){ return d.PetalLength; })\"),CrossfilterCharts.Group(CrossfilterCharts.Dimension(:PetalWidth,\"function(d){return Math.round(d.PetalWidth / 0.100000)*0.100000; }\",0.1),\"PetalWidth_sum\",\"reduceSum(function(d){ return d.PetalWidth; })\"),CrossfilterCharts.Group(CrossfilterCharts.Dimension(:Species,\"function(d){return d.Species; }\",NaN),\"Species_count\",\"reduceCount()\")],[CrossfilterCharts.DCChart(CrossfilterCharts.Group(CrossfilterCharts.Dimension(:SepalLength,\"function(d){return Math.round(d.SepalLength / 0.500000)*0.500000; }\",0.5),\"SepalLength_sum\",\"reduceSum(function(d){ return d.SepalLength; })\"),CrossfilterCharts.ChartType(\"barChart\",[CrossfilterCharts.Attribute(:centerBar,\"true\"),CrossfilterCharts.Attribute(:gap,\"\")],[CrossfilterCharts.ChartType(\"NONE\",[CrossfilterCharts.Attribute(:zoomScale,\"\"),CrossfilterCharts.Attribute(:zoomOutRestrict,\"\"),CrossfilterCharts.Attribute(:mouseZoomable,\"\"),CrossfilterCharts.Attribute(:x,\"d3.scale.linear().domain([4,8])\"),CrossfilterCharts.Attribute(:xUnits,\"dc.units.fp.precision(0.5)\"),CrossfilterCharts.Attribute(:xAxis,\"\"),CrossfilterCharts.Attribute(:elasticX,\"\"),CrossfilterCharts.Attribute(:xAxisPadding,\"\"),CrossfilterCharts.Attribute(:y,\"\"),CrossfilterCharts.Attribute(:yAxis,\"\"),CrossfilterCharts.Attribute(:elasticY,\"\"),CrossfilterCharts.Attribute(:renderHorizontalGridLines,\"\"),CrossfilterCharts.Attribute(:renderVerticalGridLines,\"\"),CrossfilterCharts.Attribute(:yAxisPadding,\"\"),CrossfilterCharts.Attribute(:round,\"\"),CrossfilterCharts.Attribute(:keyAccessor,\"\"),CrossfilterCharts.Attribute(:valueAccessor,\"\"),CrossfilterCharts.Attribute(:xAxisLabel,\"\"),CrossfilterCharts.Attribute(:yAxisLabel,\"\")],[CrossfilterCharts.ChartType(\"NONE\",[CrossfilterCharts.Attribute(:width,\"300.0\"),CrossfilterCharts.Attribute(:height,\"225.0\")],CrossfilterCharts.ChartType[]),CrossfilterCharts.ChartType(\"NONE\",[CrossfilterCharts.Attribute(:colors,\"\"),CrossfilterCharts.Attribute(:colorAccessor,\"\"),CrossfilterCharts.Attribute(:colorDomain,\"\")],CrossfilterCharts.ChartType[])])]),\"Chart for SepalLength\",\"chart_893123\"),CrossfilterCharts.DCChart(CrossfilterCharts.Group(CrossfilterCharts.Dimension(:SepalWidth,\"function(d){return Math.round(d.SepalWidth / 0.100000)*0.100000; }\",0.1),\"SepalWidth_sum\",\"reduceSum(function(d){ return d.SepalWidth; })\"),CrossfilterCharts.ChartType(\"barChart\",[CrossfilterCharts.Attribute(:centerBar,\"true\"),CrossfilterCharts.Attribute(:gap,\"\")],[CrossfilterCharts.ChartType(\"NONE\",[CrossfilterCharts.Attribute(:zoomScale,\"\"),CrossfilterCharts.Attribute(:zoomOutRestrict,\"\"),CrossfilterCharts.Attribute(:mouseZoomable,\"\"),CrossfilterCharts.Attribute(:x,\"d3.scale.linear().domain([2,5])\"),CrossfilterCharts.Attribute(:xUnits,\"dc.units.fp.precision(0.1)\"),CrossfilterCharts.Attribute(:xAxis,\"\"),CrossfilterCharts.Attribute(:elasticX,\"\"),CrossfilterCharts.Attribute(:xAxisPadding,\"\"),CrossfilterCharts.Attribute(:y,\"\"),CrossfilterCharts.Attribute(:yAxis,\"\"),CrossfilterCharts.Attribute(:elasticY,\"\"),CrossfilterCharts.Attribute(:renderHorizontalGridLines,\"\"),CrossfilterCharts.Attribute(:renderVerticalGridLines,\"\"),CrossfilterCharts.Attribute(:yAxisPadding,\"\"),CrossfilterCharts.Attribute(:round,\"\"),CrossfilterCharts.Attribute(:keyAccessor,\"\"),CrossfilterCharts.Attribute(:valueAccessor,\"\"),CrossfilterCharts.Attribute(:xAxisLabel,\"\"),CrossfilterCharts.Attribute(:yAxisLabel,\"\")],[CrossfilterCharts.ChartType(\"NONE\",[CrossfilterCharts.Attribute(:width,\"300.0\"),CrossfilterCharts.Attribute(:height,\"225.0\")],CrossfilterCharts.ChartType[]),CrossfilterCharts.ChartType(\"NONE\",[CrossfilterCharts.Attribute(:colors,\"\"),CrossfilterCharts.Attribute(:colorAccessor,\"\"),CrossfilterCharts.Attribute(:colorDomain,\"\")],CrossfilterCharts.ChartType[])])]),\"Chart for SepalWidth\",\"chart_365948\"),CrossfilterCharts.DCChart(CrossfilterCharts.Group(CrossfilterCharts.Dimension(:PetalLength,\"function(d){return Math.round(d.PetalLength / 0.500000)*0.500000; }\",0.5),\"PetalLength_sum\",\"reduceSum(function(d){ return d.PetalLength; })\"),CrossfilterCharts.ChartType(\"barChart\",[CrossfilterCharts.Attribute(:centerBar,\"true\"),CrossfilterCharts.Attribute(:gap,\"\")],[CrossfilterCharts.ChartType(\"NONE\",[CrossfilterCharts.Attribute(:zoomScale,\"\"),CrossfilterCharts.Attribute(:zoomOutRestrict,\"\"),CrossfilterCharts.Attribute(:mouseZoomable,\"\"),CrossfilterCharts.Attribute(:x,\"d3.scale.linear().domain([1,7])\"),CrossfilterCharts.Attribute(:xUnits,\"dc.units.fp.precision(0.5)\"),CrossfilterCharts.Attribute(:xAxis,\"\"),CrossfilterCharts.Attribute(:elasticX,\"\"),CrossfilterCharts.Attribute(:xAxisPadding,\"\"),CrossfilterCharts.Attribute(:y,\"\"),CrossfilterCharts.Attribute(:yAxis,\"\"),CrossfilterCharts.Attribute(:elasticY,\"\"),CrossfilterCharts.Attribute(:renderHorizontalGridLines,\"\"),CrossfilterCharts.Attribute(:renderVerticalGridLines,\"\"),CrossfilterCharts.Attribute(:yAxisPadding,\"\"),CrossfilterCharts.Attribute(:round,\"\"),CrossfilterCharts.Attribute(:keyAccessor,\"\"),CrossfilterCharts.Attribute(:valueAccessor,\"\"),CrossfilterCharts.Attribute(:xAxisLabel,\"\"),CrossfilterCharts.Attribute(:yAxisLabel,\"\")],[CrossfilterCharts.ChartType(\"NONE\",[CrossfilterCharts.Attribute(:width,\"300.0\"),CrossfilterCharts.Attribute(:height,\"225.0\")],CrossfilterCharts.ChartType[]),CrossfilterCharts.ChartType(\"NONE\",[CrossfilterCharts.Attribute(:colors,\"\"),CrossfilterCharts.Attribute(:colorAccessor,\"\"),CrossfilterCharts.Attribute(:colorDomain,\"\")],CrossfilterCharts.ChartType[])])]),\"Chart for PetalLength\",\"chart_606751\"),CrossfilterCharts.DCChart(CrossfilterCharts.Group(CrossfilterCharts.Dimension(:PetalWidth,\"function(d){return Math.round(d.PetalWidth / 0.100000)*0.100000; }\",0.1),\"PetalWidth_sum\",\"reduceSum(function(d){ return d.PetalWidth; })\"),CrossfilterCharts.ChartType(\"barChart\",[CrossfilterCharts.Attribute(:centerBar,\"true\"),CrossfilterCharts.Attribute(:gap,\"\")],[CrossfilterCharts.ChartType(\"NONE\",[CrossfilterCharts.Attribute(:zoomScale,\"\"),CrossfilterCharts.Attribute(:zoomOutRestrict,\"\"),CrossfilterCharts.Attribute(:mouseZoomable,\"\"),CrossfilterCharts.Attribute(:x,\"d3.scale.linear().domain([0,3])\"),CrossfilterCharts.Attribute(:xUnits,\"dc.units.fp.precision(0.1)\"),CrossfilterCharts.Attribute(:xAxis,\"\"),CrossfilterCharts.Attribute(:elasticX,\"\"),CrossfilterCharts.Attribute(:xAxisPadding,\"\"),CrossfilterCharts.Attribute(:y,\"\"),CrossfilterCharts.Attribute(:yAxis,\"\"),CrossfilterCharts.Attribute(:elasticY,\"\"),CrossfilterCharts.Attribute(:renderHorizontalGridLines,\"\"),CrossfilterCharts.Attribute(:renderVerticalGridLines,\"\"),CrossfilterCharts.Attribute(:yAxisPadding,\"\"),CrossfilterCharts.Attribute(:round,\"\"),CrossfilterCharts.Attribute(:keyAccessor,\"\"),CrossfilterCharts.Attribute(:valueAccessor,\"\"),CrossfilterCharts.Attribute(:xAxisLabel,\"\"),CrossfilterCharts.Attribute(:yAxisLabel,\"\")],[CrossfilterCharts.ChartType(\"NONE\",[CrossfilterCharts.Attribute(:width,\"300.0\"),CrossfilterCharts.Attribute(:height,\"225.0\")],CrossfilterCharts.ChartType[]),CrossfilterCharts.ChartType(\"NONE\",[CrossfilterCharts.Attribute(:colors,\"\"),CrossfilterCharts.Attribute(:colorAccessor,\"\"),CrossfilterCharts.Attribute(:colorDomain,\"\")],CrossfilterCharts.ChartType[])])]),\"Chart for PetalWidth\",\"chart_024632\"),CrossfilterCharts.DCChart(CrossfilterCharts.Group(CrossfilterCharts.Dimension(:Species,\"function(d){return d.Species; }\",NaN),\"Species_count\",\"reduceCount()\"),CrossfilterCharts.ChartType(\"pieChart\",[CrossfilterCharts.Attribute(:slicesCap,\"10\"),CrossfilterCharts.Attribute(:innerRadius,\"\"),CrossfilterCharts.Attribute(:radius,\"90.0\"),CrossfilterCharts.Attribute(:cx,\"\"),CrossfilterCharts.Attribute(:cy,\"\"),CrossfilterCharts.Attribute(:minAngleForLabel,\"\")],[CrossfilterCharts.ChartType(\"NONE\",[CrossfilterCharts.Attribute(:colors,\"\"),CrossfilterCharts.Attribute(:colorAccessor,\"\"),CrossfilterCharts.Attribute(:colorDomain,\"\")],CrossfilterCharts.ChartType[]),CrossfilterCharts.ChartType(\"NONE\",[CrossfilterCharts.Attribute(:width,\"300.0\"),CrossfilterCharts.Attribute(:height,\"225.0\")],CrossfilterCharts.ChartType[])]),\"Chart for Species\",\"chart_235939\")],CrossfilterCharts.DCWidget[],42550,false,false)"
      ]
     },
     "execution_count": 19,
     "metadata": {},
     "output_type": "execute_result"
    }
   ],
   "source": [
    "using CrossfilterCharts\n",
    "dc(iris)"
   ]
  },
  {
   "cell_type": "markdown",
   "metadata": {},
   "source": [
    "## SymPy\n",
    "\n",
    "Symbolic math in Julia!"
   ]
  },
  {
   "cell_type": "code",
   "execution_count": 21,
   "metadata": {
    "collapsed": false
   },
   "outputs": [
    {
     "data": {
      "text/latex": [
       "$$x$$"
      ],
      "text/plain": [
       "x"
      ]
     },
     "execution_count": 21,
     "metadata": {},
     "output_type": "execute_result"
    }
   ],
   "source": [
    "using SymPy\n",
    "x = symbols(\"x\")"
   ]
  },
  {
   "cell_type": "code",
   "execution_count": 22,
   "metadata": {
    "collapsed": false
   },
   "outputs": [
    {
     "data": {
      "text/latex": [
       "$$\\sin{\\left (\\pi x \\right )}$$"
      ],
      "text/plain": [
       "sin(pi*x)"
      ]
     },
     "execution_count": 22,
     "metadata": {},
     "output_type": "execute_result"
    }
   ],
   "source": [
    "y = sin(pi*x)"
   ]
  },
  {
   "cell_type": "code",
   "execution_count": 23,
   "metadata": {
    "collapsed": false
   },
   "outputs": [
    {
     "data": {
      "text/latex": [
       "$$0$$"
      ],
      "text/plain": [
       "0"
      ]
     },
     "execution_count": 23,
     "metadata": {},
     "output_type": "execute_result"
    }
   ],
   "source": [
    "y(1)"
   ]
  },
  {
   "cell_type": "code",
   "execution_count": 24,
   "metadata": {
    "collapsed": false
   },
   "outputs": [
    {
     "data": {
      "text/latex": [
       "\\begin{bmatrix}- i\\\\i\\end{bmatrix}"
      ],
      "text/plain": [
       "2-element Array{SymPy.Sym,1}\n",
       "[-I]\n",
       "[  ]\n",
       "[I ]"
      ]
     },
     "execution_count": 24,
     "metadata": {},
     "output_type": "execute_result"
    }
   ],
   "source": [
    "solve(x^2 + 1)"
   ]
  },
  {
   "cell_type": "code",
   "execution_count": 25,
   "metadata": {
    "collapsed": false
   },
   "outputs": [
    {
     "data": {
      "text/latex": [
       "\\begin{bmatrix}\\end{bmatrix}"
      ],
      "text/plain": [
       "0-element Array{SymPy.Sym,1}\n",
       "[]"
      ]
     },
     "execution_count": 25,
     "metadata": {},
     "output_type": "execute_result"
    }
   ],
   "source": [
    "x = symbols(\"x\", real=true)\n",
    "solve(x^2 + 1)"
   ]
  },
  {
   "cell_type": "code",
   "execution_count": 26,
   "metadata": {
    "collapsed": false
   },
   "outputs": [
    {
     "data": {
      "text/latex": [
       "\\begin{bmatrix}\\end{bmatrix}"
      ],
      "text/plain": [
       "0-element Array{SymPy.Sym,1}\n",
       "[]"
      ]
     },
     "execution_count": 26,
     "metadata": {},
     "output_type": "execute_result"
    }
   ],
   "source": [
    "y1, y2 = symbols(\"y1, y2\", positive=true)\n",
    "solve(y1 + 1)    # -1 is not positive"
   ]
  },
  {
   "cell_type": "code",
   "execution_count": 27,
   "metadata": {
    "collapsed": false
   },
   "outputs": [
    {
     "data": {
      "text/latex": [
       "$$\\sin^{2}{\\left (\\pi x \\right )} + 2 \\sin{\\left (\\pi x \\right )} + 1$$"
      ],
      "text/plain": [
       "   2                        \n",
       "sin (pi*x) + 2*sin(pi*x) + 1"
      ]
     },
     "execution_count": 27,
     "metadata": {},
     "output_type": "execute_result"
    }
   ],
   "source": [
    "ex = x^2 + 2x + 1\n",
    "subs(ex, x, y)"
   ]
  },
  {
   "cell_type": "code",
   "execution_count": 28,
   "metadata": {
    "collapsed": false
   },
   "outputs": [
    {
     "data": {
      "text/latex": [
       "$$1$$"
      ],
      "text/plain": [
       "1"
      ]
     },
     "execution_count": 28,
     "metadata": {},
     "output_type": "execute_result"
    }
   ],
   "source": [
    "subs(ex, x, 0)"
   ]
  },
  {
   "cell_type": "code",
   "execution_count": 29,
   "metadata": {
    "collapsed": false
   },
   "outputs": [
    {
     "data": {
      "text/latex": [
       "$$\\left(x + 1\\right) \\left(x + 2\\right)$$"
      ],
      "text/plain": [
       "(x + 1)*(x + 2)"
      ]
     },
     "execution_count": 29,
     "metadata": {},
     "output_type": "execute_result"
    }
   ],
   "source": [
    "p = x^2 + 3x + 2\n",
    "factor(p)"
   ]
  },
  {
   "cell_type": "code",
   "execution_count": 30,
   "metadata": {
    "collapsed": false
   },
   "outputs": [
    {
     "data": {
      "text/latex": [
       "\\begin{bmatrix}- \\frac{3 \\pi}{4}\\\\\\frac{\\pi}{4}\\end{bmatrix}"
      ],
      "text/plain": [
       "2-element Array{SymPy.Sym,1}\n",
       "[-3*pi ]\n",
       "[------]\n",
       "[  4   ]\n",
       "[      ]\n",
       "[  pi  ]\n",
       "[  --  ]\n",
       "[  4   ]"
      ]
     },
     "execution_count": 30,
     "metadata": {},
     "output_type": "execute_result"
    }
   ],
   "source": [
    "solve(cos(x) - sin(x))"
   ]
  },
  {
   "cell_type": "code",
   "execution_count": 31,
   "metadata": {
    "collapsed": false
   },
   "outputs": [
    {
     "data": {
      "text/latex": [
       "$$1$$"
      ],
      "text/plain": [
       "1"
      ]
     },
     "execution_count": 31,
     "metadata": {},
     "output_type": "execute_result"
    }
   ],
   "source": [
    "limit(sin(x)/x, x, 0)"
   ]
  },
  {
   "cell_type": "code",
   "execution_count": 32,
   "metadata": {
    "collapsed": false
   },
   "outputs": [
    {
     "data": {
      "text/latex": [
       "$$x^{x} \\left(\\log{\\left (x \\right )} + 1\\right)$$"
      ],
      "text/plain": [
       " x             \n",
       "x *(log(x) + 1)"
      ]
     },
     "execution_count": 32,
     "metadata": {},
     "output_type": "execute_result"
    }
   ],
   "source": [
    "diff(x^x, x)"
   ]
  },
  {
   "cell_type": "code",
   "execution_count": 33,
   "metadata": {
    "collapsed": false
   },
   "outputs": [
    {
     "data": {
      "text/latex": [
       "$$\\frac{x^{4}}{4}$$"
      ],
      "text/plain": [
       " 4\n",
       "x \n",
       "--\n",
       "4 "
      ]
     },
     "execution_count": 33,
     "metadata": {},
     "output_type": "execute_result"
    }
   ],
   "source": [
    "integrate(x^3, x)"
   ]
  },
  {
   "cell_type": "markdown",
   "metadata": {},
   "source": [
    "## AA120Q\n",
    "\n",
    "This is the package we will use for the class."
   ]
  },
  {
   "cell_type": "code",
   "execution_count": null,
   "metadata": {
    "collapsed": true
   },
   "outputs": [],
   "source": [
    "Pkg.clone(\"https://github.com/sisl/AA120Q.git\")"
   ]
  },
  {
   "cell_type": "markdown",
   "metadata": {},
   "source": [
    "# Buffon's Needles Problem\n",
    "\n",
    "<img src=\"figures/buffon.png\" alt=\"Tossing Needles\" width=\"600\" align=\"middle\">\n",
    "\n",
    "Buffon's Needle Problem was first proposed by Georges Buffon in 1737. By randomly throwing needles onto a hard floor marked with equally spaced lines, Buffon was able to derive a mathematial expression which could be used to calculate the value of pi. Specifically, the probability that a needle of $b$ overlaps with a line is $\\frac{2}{\\pi}$. \n",
    "\n",
    "One can estimate pi by dropping a large number of pins and using the ratio of overlaps to non-overlaps to estimate pi.\n",
    "The accuracy of this experimental value of pi increases with an increasing number of random throws. \n",
    "See [Wikipedia](https://en.wikipedia.org/wiki/Buffon%27s_needle) for a detailed problem description and background."
   ]
  },
  {
   "cell_type": "markdown",
   "metadata": {},
   "source": [
    "# Assignment 1"
   ]
  },
  {
   "cell_type": "markdown",
   "metadata": {},
   "source": [
    "<img src=\"figures/buffon.png\" alt=\"Tossing Needles\" width=\"600\" align=\"middle\">\n",
    "\n",
    "Buffon's Needle Problem was first proposed by Georges Buffon in 1737. By randomly throwing needles onto a hard floor marked with equally spaced lines, Buffon was able to derive a mathematial expression which could be used to calculate the value of pi. Specifically, the probability that a needle of $b$ overlaps with a line is $\\frac{2}{\\pi}$. \n",
    "\n",
    "One can estimate pi by dropping a large number of pins and using the ratio of overlaps to non-overlaps to estimate pi.\n",
    "The accuracy of this experimental value of pi increases with an increasing number of random throws. \n",
    "See [Wikipedia](https://en.wikipedia.org/wiki/Buffon%27s_needle) for a detailed problem description and background."
   ]
  },
  {
   "cell_type": "markdown",
   "metadata": {},
   "source": [
    "# Buffon's Needles Problem"
   ]
  },
  {
   "cell_type": "markdown",
   "metadata": {},
   "source": [
    "Your task is to develop an algorithm that estimates pi based on the above description, and write a program to implement this  algorithm.\n",
    "\n",
    "1.\tYour algorithm must be implemented from scratch in Julia.\n",
    "2.\tYour function should have the following signature: `buffon(n::Int)`.\n",
    "3.  Your function should return $\\hat{\\pi}$, your estimate for pi.\n",
    "4.  Plot how your algorithm converges as the sample count is increased using [Plots.jl](https://github.com/tbreloff/Plots.jl)\n",
    "5.\tAlthough you may discuss your algorithm with others, you must not share code."
   ]
  },
  {
   "cell_type": "code",
   "execution_count": 2,
   "metadata": {
    "collapsed": false
   },
   "outputs": [
    {
     "data": {
      "text/plain": [
       "buffon (generic function with 1 method)"
      ]
     },
     "execution_count": 2,
     "metadata": {},
     "output_type": "execute_result"
    }
   ],
   "source": [
    "function buffon(n::Int)\n",
    "\n",
    "    # write algorithm here...\n",
    "    \n",
    "end"
   ]
  },
  {
   "cell_type": "markdown",
   "metadata": {},
   "source": [
    "Create a convergence plot.\n",
    "* the x-axis should be the number of samples, log space, from 1 to 10000 samples\n",
    "* the y-axis should be the estimate of pi\n",
    "* plot the mean estimate for pi out of 100 trials\n",
    "* include error bars with 1-standard deviation."
   ]
  },
  {
   "cell_type": "code",
   "execution_count": 20,
   "metadata": {
    "collapsed": false
   },
   "outputs": [
    {
     "data": {
      "text/html": [
       "<html>\n",
       "<head>\n",
       "     <script src=\"/home/tim/.julia/v0.4/PlotlyJS/deps/plotly-latest.min.js\"></script>\n",
       "</head>\n",
       "<body>\n",
       "     <div id=\"990b3d5b-362f-4fed-ae68-ac0999629608\" class=\"plotly-graph-div\"></div>\n",
       "\n",
       "<script>\n",
       "    window.PLOTLYENV=window.PLOTLYENV || {};\n",
       "    window.PLOTLYENV.BASE_URL=\"https://plot.ly\";\n",
       "   Plotly.newPlot('990b3d5b-362f-4fed-ae68-ac0999629608', [{\"yaxis\":\"y\",\"y\":[3.241592653589793,3.1933874003821052,3.1684196115425904,3.1554876085335244,3.1487895103198045,3.145320247310108,3.1435233513186764,3.142592653589793,3.1421106010577162,3.1418609231693213,3.1417316031392306,3.1416646221570934,3.1416299295269963,3.141611960567082,3.141602653589793],\"showlegend\":true,\"name\":\"y1\",\"type\":\"scatter\",\"xaxis\":\"x\",\"line\":{\"width\":1,\"dash\":\"solid\",\"color\":\"rgba(0, 154, 250, 1.000)\",\"shape\":\"linear\"},\"x\":[10.0,19.306977288832506,37.2759372031494,71.96856730011521,138.94954943731375,268.26957952797244,517.9474679231213,1000.0,1930.6977288832495,3727.593720314942,7196.856730011521,13894.954943731389,26826.957952797275,51794.74679231213,100000.0],\"mode\":\"lines\"},{\"yaxis\":\"y\",\"y\":[null,3.198163205399468,3.285022101780118,null,3.159608940678519,3.2271658600856914,null,3.140782689966929,3.1960565331182518,null,3.132102521046426,3.1788726960206226,null,3.1285224344976528,3.169056586141956,null,3.1274375333493856,3.16320296127083,null,3.127523028301188,3.1595236743361648,null,3.1281161708596845,3.1570691363199015,null,3.1288929429128345,3.155328259202598,null,3.12970067767603,3.1540211686626125,null,3.1304721165713687,3.1529910897070925,null,3.131181651904256,3.1521475924099307,null,3.1318232799356327,3.15143657911836,null,3.1323996533751948,3.1508242677589693,null,3.1329167639517284,3.150288543227858],\"showlegend\":false,\"name\":\"\",\"type\":\"scatter\",\"xaxis\":\"x\",\"line\":{\"width\":1,\"dash\":\"solid\",\"color\":\"rgba(0, 0, 0, 1.000)\",\"shape\":\"linear\"},\"x\":[null,10.0,10.0,null,19.306977288832506,19.306977288832506,null,37.2759372031494,37.2759372031494,null,71.96856730011521,71.96856730011521,null,138.94954943731375,138.94954943731375,null,268.26957952797244,268.26957952797244,null,517.9474679231213,517.9474679231213,null,1000.0,1000.0,null,1930.6977288832495,1930.6977288832495,null,3727.593720314942,3727.593720314942,null,7196.856730011521,7196.856730011521,null,13894.954943731389,13894.954943731389,null,26826.957952797275,26826.957952797275,null,51794.74679231213,51794.74679231213,null,100000.0,100000.0],\"mode\":\"lines+markers\",\"marker\":{\"symbol\":\"line-ew\",\"line\":{\"width\":1,\"color\":\"rgba(0, 0, 0, 1.000)\"},\"size\":12,\"color\":\"rgba(0, 154, 250, 1.000)\"}}],  {\"yaxis\":{\"linecolor\":\"rgba(0, 0, 0, 1.000)\",\"type\":\"-\",\"domain\":[0.09549978127734039,0.9901574803149606],\"titlefont\":{\"size\":15,\"color\":\"rgba(0, 0, 0, 1.000)\",\"family\":\"Helvetica\"},\"tickcolor\":\"rgba(0, 0, 0, 1.000)\",\"title\":\"estimate of pi\",\"showgrid\":true,\"zeroline\":false,\"anchor\":\"x\",\"tickfont\":{\"size\":11,\"color\":\"rgba(0, 0, 0, 1.000)\",\"family\":\"Helvetica\"}},\"annotations\":[],\"width\":600,\"plot_bgcolor\":\"rgba(255, 255, 255, 1.000)\",\"showlegend\":true,\"legend\":{\"bgcolor\":\"rgba(255, 255, 255, 1.000)\",\"font\":{\"size\":11,\"color\":\"rgba(0, 0, 0, 1.000)\",\"family\":\"Helvetica\"},\"bordercolor\":\"rgba(0, 0, 0, 1.000)\"},\"xaxis\":{\"type\":\"log\",\"titlefont\":{\"size\":15,\"color\":\"rgba(0, 0, 0, 1.000)\",\"family\":\"Helvetica\"},\"title\":\"number of samples\",\"tickfont\":{\"size\":11,\"color\":\"rgba(0, 0, 0, 1.000)\",\"family\":\"Helvetica\"},\"tickmode\":\"array\",\"showgrid\":true,\"tickvals\":[10.0,100.0,1000.0,10000.0,100000.0],\"domain\":[0.08451808107319918,0.9934383202099737],\"ticktext\":[\"10^1\",\"10^2\",\"10^3\",\"10^4\",\"10^5\"],\"zeroline\":false,\"linecolor\":\"rgba(0, 0, 0, 1.000)\",\"tickcolor\":\"rgba(0, 0, 0, 1.000)\",\"anchor\":\"y\"},\"paper_bgcolor\":\"rgba(255, 255, 255, 1.000)\",\"margin\":{\"r\":0,\"l\":0,\"b\":0,\"t\":20},\"height\":400}, {showLink: false});\n",
       "\n",
       " </script>\n",
       "\n",
       "</body>\n",
       "</html>\n"
      ]
     },
     "execution_count": 20,
     "metadata": {},
     "output_type": "execute_result"
    }
   ],
   "source": [
    "using Plots\n",
    "plotlyjs()\n",
    "\n",
    "nsamples = round(Int, collect(logspace(1,5,15)))\n",
    "\n",
    "# replace this with your own code\n",
    "fake_mean_y = map(x->pi + 1/x, nsamples)\n",
    "fake_stdev_y = map(x->0.1/log(x), nsamples)\n",
    "\n",
    "plot(nsamples, fake_mean_y, yerror=fake_stdev_y, xaxis=(\"number of samples\", :log), ylabel=\"estimate of pi\")"
   ]
  },
  {
   "cell_type": "code",
   "execution_count": null,
   "metadata": {
    "collapsed": true
   },
   "outputs": [],
   "source": []
  }
 ],
 "metadata": {
  "kernelspec": {
   "display_name": "Julia 0.4.6",
   "language": "julia",
   "name": "julia-0.4"
  },
  "language_info": {
   "file_extension": ".jl",
   "mimetype": "application/julia",
   "name": "julia",
   "version": "0.4.6"
  },
  "widgets": {
   "state": {
    "01450dbd-3586-4fe5-bde0-84737fbd1e67": {
     "views": [
      {
       "cell_index": 49
      }
     ]
    },
    "0b6a160e-c937-4b83-8f11-9cdfe22c7eff": {
     "views": [
      {
       "cell_index": 48
      }
     ]
    },
    "2521ab41-f0f9-458e-9a1c-66576b7d4efd": {
     "views": [
      {
       "cell_index": 48
      }
     ]
    },
    "35beee2c-b606-467c-92a6-2b437b1247cf": {
     "views": [
      {
       "cell_index": 48
      }
     ]
    },
    "4554484d-8df8-4e1d-b35a-ecec435c6201": {
     "views": [
      {
       "cell_index": 49
      }
     ]
    },
    "913864c4-3f0f-4ca1-a5f5-8dcad9721efe": {
     "views": [
      {
       "cell_index": 49
      }
     ]
    },
    "b0c9324c-e553-4f85-97bd-7e08495e037a": {
     "views": [
      {
       "cell_index": 49
      }
     ]
    },
    "bcbe37c7-3c40-4edb-b05e-854661940ff1": {
     "views": [
      {
       "cell_index": 48
      }
     ]
    }
   },
   "version": "1.2.0"
  }
 },
 "nbformat": 4,
 "nbformat_minor": 0
}
